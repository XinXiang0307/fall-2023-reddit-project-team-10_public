{
  "cells": [
    {
      "cell_type": "markdown",
      "source": [
        "# Build ARM model in Reddit and external data"
      ],
      "metadata": {
        "nteract": {
          "transient": {
            "deleting": false
          }
        }
      }
    },
    {
      "cell_type": "code",
      "source": [
        "spark"
      ],
      "outputs": [
        {
          "output_type": "display_data",
          "data": {
            "application/vnd.livy.statement-meta+json": {
              "execution_finish_time": "2023-11-15T21:30:44.6709269Z",
              "execution_start_time": "2023-11-15T21:30:41.7831251Z",
              "livy_statement_state": "available",
              "parent_msg_id": "5d2ba6c9-c47f-4c67-b63c-0fc977d2f920",
              "queued_time": "2023-11-15T21:27:09.8006559Z",
              "session_id": "19",
              "session_start_time": "2023-11-15T21:27:09.8614948Z",
              "spark_jobs": {
                "jobs": [],
                "limit": 20,
                "numbers": {
                  "FAILED": 0,
                  "RUNNING": 0,
                  "SUCCEEDED": 0,
                  "UNKNOWN": 0
                },
                "rule": "ALL_DESC"
              },
              "spark_pool": "80dcc4b2-bc50-4e81-91e5-397b7f13252e",
              "state": "finished",
              "statement_id": 6
            },
            "text/plain": "StatementMeta(80dcc4b2-bc50-4e81-91e5-397b7f13252e, 19, 6, Finished, Available)"
          },
          "metadata": {}
        },
        {
          "output_type": "execute_result",
          "execution_count": 11,
          "data": {
            "text/html": "\n            <div>\n                <p><b>SparkSession - hive</b></p>\n                \n        <div>\n            <p><b>SparkContext</b></p>\n\n            <p><a href=\"http://vm-96170257:34495\">Spark UI</a></p>\n\n            <dl>\n              <dt>Version</dt>\n                <dd><code>v3.2.2.5.1-100879434</code></dd>\n              <dt>Master</dt>\n                <dd><code>yarn</code></dd>\n              <dt>AppName</dt>\n                <dd><code>Azure ML Experiment</code></dd>\n            </dl>\n        </div>\n        \n            </div>\n        ",
            "text/plain": "<pyspark.sql.session.SparkSession at 0x7f27f04998e0>"
          },
          "metadata": {}
        }
      ],
      "execution_count": 1,
      "metadata": {
        "gather": {
          "logged": 1700083844879
        }
      }
    },
    {
      "cell_type": "code",
      "source": [
        "workspace_default_storage_account = \"group10astorage46582e02e\"\n",
        "workspace_default_container = \"azureml-blobstore-e8a18b52-3288-4d1f-9f32-d5a9249c2c0e\"\n",
        "workspace_wasbs_base_url = (f\"wasbs://{workspace_default_container}@{workspace_default_storage_account}.blob.core.windows.net/\")\n",
        "comment_load = spark.read.parquet(f\"{workspace_wasbs_base_url}/mbti_comments.parquet\")\n",
        "comment_load.printSchema()"
      ],
      "outputs": [
        {
          "output_type": "display_data",
          "data": {
            "application/vnd.livy.statement-meta+json": {
              "execution_finish_time": "2023-11-15T21:31:04.4555165Z",
              "execution_start_time": "2023-11-15T21:30:51.5462455Z",
              "livy_statement_state": "available",
              "parent_msg_id": "24629126-7d4c-409a-82bd-734215fbc2d7",
              "queued_time": "2023-11-15T21:30:51.3567333Z",
              "session_id": "19",
              "session_start_time": null,
              "spark_jobs": {
                "jobs": [
                  {
                    "completionTime": "2023-11-15T21:31:02.263GMT",
                    "dataRead": 0,
                    "dataWritten": 0,
                    "description": "Job group for statement 7:\nworkspace_default_storage_account = \"group10astorage46582e02e\"\nworkspace_default_container = \"azureml-blobstore-e8a18b52-3288-4d1f-9f32-d5a9249c2c0e\"\nworkspace_wasbs_base_url = (f\"wasbs://{workspace_default_container}@{workspace_default_storage_account}.blob.core.windows.net/\")\ncomment_load = spark.read.parquet(f\"{workspace_wasbs_base_url}/mbti_comments.parquet\")\ncomment_load.printSchema()",
                    "displayName": "parquet at NativeMethodAccessorImpl.java:0",
                    "jobGroup": "7",
                    "jobId": 0,
                    "killedTasksSummary": {},
                    "name": "parquet at NativeMethodAccessorImpl.java:0",
                    "numActiveStages": 0,
                    "numActiveTasks": 0,
                    "numCompletedIndices": 1,
                    "numCompletedStages": 1,
                    "numCompletedTasks": 1,
                    "numFailedStages": 0,
                    "numFailedTasks": 0,
                    "numKilledTasks": 0,
                    "numSkippedStages": 0,
                    "numSkippedTasks": 0,
                    "numTasks": 1,
                    "rowCount": 0,
                    "stageIds": [
                      0
                    ],
                    "status": "SUCCEEDED",
                    "submissionTime": "2023-11-15T21:30:55.441GMT",
                    "usageDescription": ""
                  }
                ],
                "limit": 20,
                "numbers": {
                  "FAILED": 0,
                  "RUNNING": 0,
                  "SUCCEEDED": 1,
                  "UNKNOWN": 0
                },
                "rule": "ALL_DESC"
              },
              "spark_pool": "80dcc4b2-bc50-4e81-91e5-397b7f13252e",
              "state": "finished",
              "statement_id": 7
            },
            "text/plain": "StatementMeta(80dcc4b2-bc50-4e81-91e5-397b7f13252e, 19, 7, Finished, Available)"
          },
          "metadata": {}
        },
        {
          "output_type": "stream",
          "name": "stdout",
          "text": "root\n |-- sub_id: string (nullable = true)\n |-- comment_author: string (nullable = true)\n |-- comment_text: string (nullable = true)\n |-- link_id: string (nullable = true)\n |-- comment_score: long (nullable = true)\n |-- comment_controversiality: long (nullable = true)\n |-- reply_to: string (nullable = true)\n |-- year: integer (nullable = true)\n |-- month: integer (nullable = true)\n\n"
        }
      ],
      "execution_count": 2,
      "metadata": {
        "gather": {
          "logged": 1700083864618
        },
        "jupyter": {
          "outputs_hidden": false,
          "source_hidden": false
        },
        "nteract": {
          "transient": {
            "deleting": false
          }
        }
      }
    },
    {
      "cell_type": "code",
      "source": [
        "comment_load.cache()"
      ],
      "outputs": [
        {
          "output_type": "display_data",
          "data": {
            "application/vnd.livy.statement-meta+json": {
              "execution_finish_time": "2023-11-15T00:12:20.5408781Z",
              "execution_start_time": "2023-11-15T00:12:19.7236607Z",
              "livy_statement_state": "available",
              "parent_msg_id": "6ce09f3b-69f5-4690-9fe5-6df970f0983b",
              "queued_time": "2023-11-15T00:12:19.5708759Z",
              "session_id": "18",
              "session_start_time": null,
              "spark_jobs": {
                "jobs": [],
                "limit": 20,
                "numbers": {
                  "FAILED": 0,
                  "RUNNING": 0,
                  "SUCCEEDED": 0,
                  "UNKNOWN": 0
                },
                "rule": "ALL_DESC"
              },
              "spark_pool": "80dcc4b2-bc50-4e81-91e5-397b7f13252e",
              "state": "finished",
              "statement_id": 8
            },
            "text/plain": "StatementMeta(80dcc4b2-bc50-4e81-91e5-397b7f13252e, 18, 8, Finished, Available)"
          },
          "metadata": {}
        },
        {
          "output_type": "execute_result",
          "execution_count": 15,
          "data": {
            "text/plain": "DataFrame[sub_id: string, comment_author: string, comment_text: string, link_id: string, comment_score: bigint, comment_controversiality: bigint, reply_to: string, year: int, month: int]"
          },
          "metadata": {}
        }
      ],
      "execution_count": 3,
      "metadata": {
        "gather": {
          "logged": 1700007140694
        },
        "jupyter": {
          "outputs_hidden": false,
          "source_hidden": false
        },
        "nteract": {
          "transient": {
            "deleting": false
          }
        }
      }
    },
    {
      "cell_type": "markdown",
      "source": [
        "## Data preprocessing"
      ],
      "metadata": {
        "nteract": {
          "transient": {
            "deleting": false
          }
        }
      }
    },
    {
      "cell_type": "code",
      "source": [
        "from pyspark.sql.functions import udf, when,col\n",
        "from pyspark.sql.types import StringType\n",
        "import re\n",
        "\n",
        "# List of personality types in uppercase\n",
        "personality_types = [\"ESTJ\", \"ISTJ\", \"INFP\", \"ENFP\", \"INTJ\", \"ENTJ\", \"INTP\", \"ENTP\",\n",
        "                    \"ESFJ\", \"ISFJ\", \"ENFJ\", \"INFJ\", \"ESFP\", \"ISFP\", \"ISTP\", \"ESTP\"]\n",
        "\n",
        "# Convert the list to a regex pattern with case-insensitive flag\n",
        "pattern = \"(?i)\\\\b(\" + \"|\".join(personality_types) + \")\\\\b\"\n",
        "\n",
        "# Define UDF to extract all matches\n",
        "def extract_all_types(title):\n",
        "    matches = re.findall(pattern, title, re.IGNORECASE)\n",
        "    # Convert matches to uppercase\n",
        "    matches_upper = [match.upper() for match in matches]\n",
        "    return ', '.join(matches_upper)\n",
        "\n",
        "extract_all_types_udf = udf(extract_all_types, StringType())\n",
        "\n",
        "# Apply UDF to get all MBTI types\n",
        "comment_load = comment_load.withColumn(\"mbti_type_related_temp\", extract_all_types_udf(col(\"comment_text\")))\n",
        "\n",
        "# Set 'mbti_type_related' to 'general' for empty matches\n",
        "comment_load = comment_load.withColumn(\"mbti_type_related\",\n",
        "                                         when(col(\"mbti_type_related_temp\") == \"\", \"general\")\n",
        "                                         .otherwise(col(\"mbti_type_related_temp\")))\n",
        "\n",
        "# Drop the temporary column\n",
        "comment_load = comment_load.drop(\"mbti_type_related_temp\")"
      ],
      "outputs": [
        {
          "output_type": "display_data",
          "data": {
            "application/vnd.livy.statement-meta+json": {
              "execution_finish_time": "2023-11-15T00:21:14.973833Z",
              "execution_start_time": "2023-11-15T00:21:14.6669283Z",
              "livy_statement_state": "available",
              "parent_msg_id": "2982e70a-be95-456d-b952-17faa5bec633",
              "queued_time": "2023-11-15T00:21:14.2437045Z",
              "session_id": "18",
              "session_start_time": null,
              "spark_jobs": {
                "jobs": [],
                "limit": 20,
                "numbers": {
                  "FAILED": 0,
                  "RUNNING": 0,
                  "SUCCEEDED": 0,
                  "UNKNOWN": 0
                },
                "rule": "ALL_DESC"
              },
              "spark_pool": "80dcc4b2-bc50-4e81-91e5-397b7f13252e",
              "state": "finished",
              "statement_id": 13
            },
            "text/plain": "StatementMeta(80dcc4b2-bc50-4e81-91e5-397b7f13252e, 18, 13, Finished, Available)"
          },
          "metadata": {}
        }
      ],
      "execution_count": 8,
      "metadata": {
        "gather": {
          "logged": 1700007675140
        },
        "jupyter": {
          "outputs_hidden": false,
          "source_hidden": false
        },
        "nteract": {
          "transient": {
            "deleting": false
          }
        }
      }
    },
    {
      "cell_type": "code",
      "source": [
        "comment_load.show()"
      ],
      "outputs": [
        {
          "output_type": "display_data",
          "data": {
            "application/vnd.livy.statement-meta+json": {
              "execution_finish_time": "2023-11-15T00:15:24.9857196Z",
              "execution_start_time": "2023-11-15T00:15:23.4676083Z",
              "livy_statement_state": "available",
              "parent_msg_id": "0d20fcff-0405-41d3-a55c-c95bf96d5990",
              "queued_time": "2023-11-15T00:15:23.3073279Z",
              "session_id": "18",
              "session_start_time": null,
              "spark_jobs": {
                "jobs": [
                  {
                    "completionTime": "2023-11-15T00:15:24.307GMT",
                    "dataRead": 2502440,
                    "dataWritten": 0,
                    "description": "Job group for statement 12:\ncomment_load.show()",
                    "displayName": "showString at NativeMethodAccessorImpl.java:0",
                    "jobGroup": "12",
                    "jobId": 2,
                    "killedTasksSummary": {},
                    "name": "showString at NativeMethodAccessorImpl.java:0",
                    "numActiveStages": 0,
                    "numActiveTasks": 0,
                    "numCompletedIndices": 1,
                    "numCompletedStages": 1,
                    "numCompletedTasks": 1,
                    "numFailedStages": 0,
                    "numFailedTasks": 0,
                    "numKilledTasks": 0,
                    "numSkippedStages": 0,
                    "numSkippedTasks": 0,
                    "numTasks": 1,
                    "rowCount": 2,
                    "stageIds": [
                      2
                    ],
                    "status": "SUCCEEDED",
                    "submissionTime": "2023-11-15T00:15:23.670GMT",
                    "usageDescription": ""
                  }
                ],
                "limit": 20,
                "numbers": {
                  "FAILED": 0,
                  "RUNNING": 0,
                  "SUCCEEDED": 1,
                  "UNKNOWN": 0
                },
                "rule": "ALL_DESC"
              },
              "spark_pool": "80dcc4b2-bc50-4e81-91e5-397b7f13252e",
              "state": "finished",
              "statement_id": 12
            },
            "text/plain": "StatementMeta(80dcc4b2-bc50-4e81-91e5-397b7f13252e, 18, 12, Finished, Available)"
          },
          "metadata": {}
        },
        {
          "output_type": "stream",
          "name": "stdout",
          "text": "+------+--------------------+--------------------+---------+-------------+------------------------+--------+----+-----+-----------------+\n|sub_id|      comment_author|        comment_text|  link_id|comment_score|comment_controversiality|reply_to|year|month|mbti_type_related|\n+------+--------------------+--------------------+---------+-------------+------------------------+--------+----+-----+-----------------+\n|rfzn00|     Master-Elk-5465|yes it feels like...|t3_rfzn00|            7|                       0|      t3|2021|   12|          general|\n|rfuyza|PragmaticGuardian613|   Hahaha! What?????|t3_rfuyza|            1|                       0|      t1|2021|   12|          general|\n|rezbts|           [deleted]|           [deleted]|t3_rezbts|            2|                       0|      t1|2021|   12|          general|\n|rfmj3f|        GiveretLivni|I'd photo my frie...|t3_rfmj3f|            1|                       0|      t3|2021|   12|          general|\n|rfu8rx|        samiaboubaya|I think you may b...|t3_rfu8rx|            1|                       0|      t1|2021|   12|       ENFP, ENFP|\n|rf82iu|              mo_tag|&gt;they're reall...|t3_rf82iu|            2|                       0|      t1|2021|   12|          general|\n|rfw5c9|PragmaticGuardian613|Interesting why d...|t3_rfw5c9|            1|                       0|      t1|2021|   12|          general|\n|rfmj3f|              Mal454|I did some creepy...|t3_rfmj3f|            1|                       0|      t3|2021|   12|          general|\n|rf4eb3|    PerhapsAnEmoINTJ|I see Shrek using...|t3_rf4eb3|            1|                       0|      t1|2021|   12|          general|\n|rfr7qm| granchiofuturistico|                isfp|t3_rfr7qm|            3|                       0|      t3|2021|   12|             ISFP|\n|rfmj3f|          lorienneth|i convinced my co...|t3_rfmj3f|            1|                       0|      t3|2021|   12|          general|\n|rfuyza|      bluejayflutter|I'm not fragile. ...|t3_rfuyza|            2|                       0|      t3|2021|   12|          general|\n|rf1krm|          Kevidiffel|&gt;Kid\\n\\nFar fr...|t3_rf1krm|            0|                       0|      t1|2021|   12|          general|\n|rfmj3f|             marjacu|Haha, lol, I used...|t3_rfmj3f|            1|                       0|      t1|2021|   12|          general|\n|rfr7qm|     frank_castle_13|   Me, but I’m a guy|t3_rfr7qm|            2|                       0|      t3|2021|   12|          general|\n|rfmj3f|             marjacu|       ENTJ, or ESTJ|t3_rfmj3f|            2|                       0|      t1|2021|   12|       ENTJ, ESTJ|\n|rfr7qm|        Nsidious__22|\"Etherium\" is not...|t3_rfr7qm|            5|                       0|      t1|2021|   12|          general|\n|rg2gsj|     bronzilcumtruck|         Full of cum|t3_rg2gsj|            1|                       0|      t3|2021|   12|          general|\n|rficq0|    GC_The_Human-Guy|ENFP. (Sing in Bi...|t3_rficq0|            1|                       0|      t3|2021|   12|             ENFP|\n|rfxc8j|           [deleted]|           [deleted]|t3_rfxc8j|            1|                       0|      t3|2021|   12|          general|\n+------+--------------------+--------------------+---------+-------------+------------------------+--------+----+-----+-----------------+\nonly showing top 20 rows\n\n"
        }
      ],
      "execution_count": 7,
      "metadata": {
        "gather": {
          "logged": 1700007325095
        },
        "jupyter": {
          "outputs_hidden": false,
          "source_hidden": false
        },
        "nteract": {
          "transient": {
            "deleting": false
          }
        }
      }
    },
    {
      "cell_type": "code",
      "source": [
        "# save the comment in head 5 to show in the website\n",
        "comment_load.limit(5).toPandas().to_csv(\"Users/ml2078/fall-2023-reddit-project-team-10/data/csv/comment_with_type_head.csv\",index=False)"
      ],
      "outputs": [
        {
          "output_type": "display_data",
          "data": {
            "application/vnd.livy.statement-meta+json": {
              "execution_finish_time": "2023-11-15T00:24:59.6875466Z",
              "execution_start_time": "2023-11-15T00:23:22.6077934Z",
              "livy_statement_state": "available",
              "parent_msg_id": "a8c2fe67-7337-41d7-9d18-abf5e5e5c420",
              "queued_time": "2023-11-15T00:23:22.3813994Z",
              "session_id": "18",
              "session_start_time": null,
              "spark_jobs": {
                "jobs": [
                  {
                    "completionTime": "2023-11-15T00:24:56.368GMT",
                    "dataRead": 284779954,
                    "dataWritten": 268900,
                    "description": "Job group for statement 14:\n# 我把这个处理完的head存进data了哈 万一你qmd写东西的时候要用 就五行的head给看看长啥样\ncomment_load.limit(5).toPandas().to_csv(\"Users/ml2078/fall-2023-reddit-project-team-10/data/csv/comment_with_type_head.csv\",index=False)",
                    "displayName": "toPandas at /tmp/ipykernel_7222/2814660403.py:2",
                    "jobGroup": "14",
                    "jobId": 3,
                    "killedTasksSummary": {},
                    "name": "toPandas at /tmp/ipykernel_7222/2814660403.py:2",
                    "numActiveStages": 0,
                    "numActiveTasks": 0,
                    "numCompletedIndices": 234,
                    "numCompletedStages": 2,
                    "numCompletedTasks": 234,
                    "numFailedStages": 0,
                    "numFailedTasks": 0,
                    "numKilledTasks": 0,
                    "numSkippedStages": 0,
                    "numSkippedTasks": 0,
                    "numTasks": 234,
                    "rowCount": 1823517,
                    "stageIds": [
                      3,
                      4
                    ],
                    "status": "SUCCEEDED",
                    "submissionTime": "2023-11-15T00:23:27.351GMT",
                    "usageDescription": ""
                  }
                ],
                "limit": 20,
                "numbers": {
                  "FAILED": 0,
                  "RUNNING": 0,
                  "SUCCEEDED": 1,
                  "UNKNOWN": 0
                },
                "rule": "ALL_DESC"
              },
              "spark_pool": "80dcc4b2-bc50-4e81-91e5-397b7f13252e",
              "state": "finished",
              "statement_id": 14
            },
            "text/plain": "StatementMeta(80dcc4b2-bc50-4e81-91e5-397b7f13252e, 18, 14, Finished, Available)"
          },
          "metadata": {}
        }
      ],
      "execution_count": 9,
      "metadata": {
        "gather": {
          "logged": 1700007899838
        },
        "jupyter": {
          "outputs_hidden": false,
          "source_hidden": false
        },
        "nteract": {
          "transient": {
            "deleting": false
          }
        }
      }
    },
    {
      "cell_type": "code",
      "source": [
        "arm_comment = comment_load.select('comment_text','mbti_type_related')\n",
        "arm_comment.show()"
      ],
      "outputs": [
        {
          "output_type": "display_data",
          "data": {
            "application/vnd.livy.statement-meta+json": {
              "execution_finish_time": "2023-11-15T00:42:10.1175352Z",
              "execution_start_time": "2023-11-15T00:42:09.3229389Z",
              "livy_statement_state": "available",
              "parent_msg_id": "e56bf2d5-835d-4b43-95c3-26a55f811e5a",
              "queued_time": "2023-11-15T00:42:09.2061195Z",
              "session_id": "18",
              "session_start_time": null,
              "spark_jobs": {
                "jobs": [
                  {
                    "completionTime": "2023-11-15T00:42:09.837GMT",
                    "dataRead": 2502440,
                    "dataWritten": 0,
                    "description": "Job group for statement 18:\narm_comment = comment_load.select('comment_text','mbti_type_related')\narm_comment.show()",
                    "displayName": "showString at NativeMethodAccessorImpl.java:0",
                    "jobGroup": "18",
                    "jobId": 7,
                    "killedTasksSummary": {},
                    "name": "showString at NativeMethodAccessorImpl.java:0",
                    "numActiveStages": 0,
                    "numActiveTasks": 0,
                    "numCompletedIndices": 1,
                    "numCompletedStages": 1,
                    "numCompletedTasks": 1,
                    "numFailedStages": 0,
                    "numFailedTasks": 0,
                    "numKilledTasks": 0,
                    "numSkippedStages": 0,
                    "numSkippedTasks": 0,
                    "numTasks": 1,
                    "rowCount": 2,
                    "stageIds": [
                      8
                    ],
                    "status": "SUCCEEDED",
                    "submissionTime": "2023-11-15T00:42:09.424GMT",
                    "usageDescription": ""
                  }
                ],
                "limit": 20,
                "numbers": {
                  "FAILED": 0,
                  "RUNNING": 0,
                  "SUCCEEDED": 1,
                  "UNKNOWN": 0
                },
                "rule": "ALL_DESC"
              },
              "spark_pool": "80dcc4b2-bc50-4e81-91e5-397b7f13252e",
              "state": "finished",
              "statement_id": 18
            },
            "text/plain": "StatementMeta(80dcc4b2-bc50-4e81-91e5-397b7f13252e, 18, 18, Finished, Available)"
          },
          "metadata": {}
        },
        {
          "output_type": "stream",
          "name": "stdout",
          "text": "+--------------------+-----------------+\n|        comment_text|mbti_type_related|\n+--------------------+-----------------+\n|yes it feels like...|          general|\n|   Hahaha! What?????|          general|\n|           [deleted]|          general|\n|I'd photo my frie...|          general|\n|I think you may b...|       ENFP, ENFP|\n|&gt;they're reall...|          general|\n|Interesting why d...|          general|\n|I did some creepy...|          general|\n|I see Shrek using...|          general|\n|                isfp|             ISFP|\n|i convinced my co...|          general|\n|I'm not fragile. ...|          general|\n|&gt;Kid\\n\\nFar fr...|          general|\n|Haha, lol, I used...|          general|\n|   Me, but I’m a guy|          general|\n|       ENTJ, or ESTJ|       ENTJ, ESTJ|\n|\"Etherium\" is not...|          general|\n|         Full of cum|          general|\n|ENFP. (Sing in Bi...|             ENFP|\n|           [deleted]|          general|\n+--------------------+-----------------+\nonly showing top 20 rows\n\n"
        }
      ],
      "execution_count": 13,
      "metadata": {
        "gather": {
          "logged": 1700008930301
        },
        "jupyter": {
          "outputs_hidden": false,
          "source_hidden": false
        },
        "nteract": {
          "transient": {
            "deleting": false
          }
        }
      }
    },
    {
      "cell_type": "code",
      "source": [
        "# filter the data further by dropping the \"general\" comment\n",
        "arm_comment = arm_comment[arm_comment['mbti_type_related'] != 'general']\n",
        "arm_comment.show()"
      ],
      "outputs": [
        {
          "output_type": "display_data",
          "data": {
            "application/vnd.livy.statement-meta+json": {
              "execution_finish_time": "2023-11-15T00:42:22.0182792Z",
              "execution_start_time": "2023-11-15T00:42:20.5128942Z",
              "livy_statement_state": "available",
              "parent_msg_id": "6a204735-d14f-4785-b1fa-b0f4307bbda8",
              "queued_time": "2023-11-15T00:42:19.971037Z",
              "session_id": "18",
              "session_start_time": null,
              "spark_jobs": {
                "jobs": [
                  {
                    "completionTime": "2023-11-15T00:42:21.245GMT",
                    "dataRead": 2502440,
                    "dataWritten": 0,
                    "description": "Job group for statement 19:\n# filter the data further by dropping the \"general\" comment\narm_comment = arm_comment[arm_comment['mbti_type_related'] != 'general']\narm_comment.show()",
                    "displayName": "showString at NativeMethodAccessorImpl.java:0",
                    "jobGroup": "19",
                    "jobId": 8,
                    "killedTasksSummary": {},
                    "name": "showString at NativeMethodAccessorImpl.java:0",
                    "numActiveStages": 0,
                    "numActiveTasks": 0,
                    "numCompletedIndices": 1,
                    "numCompletedStages": 1,
                    "numCompletedTasks": 1,
                    "numFailedStages": 0,
                    "numFailedTasks": 0,
                    "numKilledTasks": 0,
                    "numSkippedStages": 0,
                    "numSkippedTasks": 0,
                    "numTasks": 1,
                    "rowCount": 2,
                    "stageIds": [
                      9
                    ],
                    "status": "SUCCEEDED",
                    "submissionTime": "2023-11-15T00:42:20.665GMT",
                    "usageDescription": ""
                  }
                ],
                "limit": 20,
                "numbers": {
                  "FAILED": 0,
                  "RUNNING": 0,
                  "SUCCEEDED": 1,
                  "UNKNOWN": 0
                },
                "rule": "ALL_DESC"
              },
              "spark_pool": "80dcc4b2-bc50-4e81-91e5-397b7f13252e",
              "state": "finished",
              "statement_id": 19
            },
            "text/plain": "StatementMeta(80dcc4b2-bc50-4e81-91e5-397b7f13252e, 18, 19, Finished, Available)"
          },
          "metadata": {}
        },
        {
          "output_type": "stream",
          "name": "stdout",
          "text": "+--------------------+-----------------+\n|        comment_text|mbti_type_related|\n+--------------------+-----------------+\n|I think you may b...|       ENFP, ENFP|\n|                isfp|             ISFP|\n|       ENTJ, or ESTJ|       ENTJ, ESTJ|\n|ENFP. (Sing in Bi...|             ENFP|\n|                Intj|             INTJ|\n|Because we're pre...|             INFJ|\n|                Istp|             ISTP|\n|My part of our be...| ENFP, ESTJ, ENTP|\n|Entp actually, bu...|             ENTP|\n|infp here and it'...|             INFP|\n|               ISFP?|             ISFP|\n|ENFP- I just clic...|       ENFP, ENFP|\n|As a user of both...|       INTJ, ISTP|\n|You are an INTJ w...|       INTJ, INFP|\n|You really made a...|             INTJ|\n|Am I your INFJ 4w...|       INFJ, INTP|\n|hugs you but is s...|             INTJ|\n|Oh please do my f...|             INFJ|\n|Not related to my...|             ISFJ|\n| My INTP brother too|             INTP|\n+--------------------+-----------------+\nonly showing top 20 rows\n\n"
        }
      ],
      "execution_count": 14,
      "metadata": {
        "gather": {
          "logged": 1700008942243
        },
        "jupyter": {
          "outputs_hidden": false,
          "source_hidden": false
        },
        "nteract": {
          "transient": {
            "deleting": false
          }
        }
      }
    },
    {
      "cell_type": "code",
      "source": [
        "#save the result \n",
        "arm_comment.limit(5).toPandas().to_csv(\"Users/ml2078/fall-2023-reddit-project-team-10/data/csv/arm_comment_head.csv\",index=False)"
      ],
      "outputs": [
        {
          "output_type": "display_data",
          "data": {
            "application/vnd.livy.statement-meta+json": {
              "execution_finish_time": "2023-11-15T00:48:50.7205497Z",
              "execution_start_time": "2023-11-15T00:48:27.9690181Z",
              "livy_statement_state": "available",
              "parent_msg_id": "ef63fbfb-d626-4299-91fc-141904395a0d",
              "queued_time": "2023-11-15T00:48:27.7762975Z",
              "session_id": "18",
              "session_start_time": null,
              "spark_jobs": {
                "jobs": [
                  {
                    "completionTime": "2023-11-15T00:48:49.460GMT",
                    "dataRead": 330961567,
                    "dataWritten": 252742,
                    "description": "Job group for statement 20:\n# 这个上面的head我也存了哈 到时候展示你可以直接掉csv 就五行\narm_comment.limit(5).toPandas().to_csv(\"Users/ml2078/fall-2023-reddit-project-team-10/data/csv/arm_comment_head.csv\",index=False)",
                    "displayName": "toPandas at /tmp/ipykernel_7222/2094015210.py:2",
                    "jobGroup": "20",
                    "jobId": 9,
                    "killedTasksSummary": {},
                    "name": "toPandas at /tmp/ipykernel_7222/2094015210.py:2",
                    "numActiveStages": 0,
                    "numActiveTasks": 0,
                    "numCompletedIndices": 234,
                    "numCompletedStages": 2,
                    "numCompletedTasks": 234,
                    "numFailedStages": 0,
                    "numFailedTasks": 0,
                    "numKilledTasks": 0,
                    "numSkippedStages": 0,
                    "numSkippedTasks": 0,
                    "numTasks": 234,
                    "rowCount": 1408,
                    "stageIds": [
                      10,
                      11
                    ],
                    "status": "SUCCEEDED",
                    "submissionTime": "2023-11-15T00:48:28.095GMT",
                    "usageDescription": ""
                  }
                ],
                "limit": 20,
                "numbers": {
                  "FAILED": 0,
                  "RUNNING": 0,
                  "SUCCEEDED": 1,
                  "UNKNOWN": 0
                },
                "rule": "ALL_DESC"
              },
              "spark_pool": "80dcc4b2-bc50-4e81-91e5-397b7f13252e",
              "state": "finished",
              "statement_id": 20
            },
            "text/plain": "StatementMeta(80dcc4b2-bc50-4e81-91e5-397b7f13252e, 18, 20, Finished, Available)"
          },
          "metadata": {}
        }
      ],
      "execution_count": 15,
      "metadata": {
        "gather": {
          "logged": 1700009330820
        },
        "jupyter": {
          "outputs_hidden": false,
          "source_hidden": false
        },
        "nteract": {
          "transient": {
            "deleting": false
          }
        }
      }
    },
    {
      "cell_type": "code",
      "source": [
        "arm_comment.write.mode(\"overwrite\").parquet(f\"{workspace_wasbs_base_url}/arm_comment.parquet\")"
      ],
      "outputs": [
        {
          "output_type": "display_data",
          "data": {
            "application/vnd.livy.statement-meta+json": {
              "execution_finish_time": "2023-11-15T00:50:22.6556035Z",
              "execution_start_time": "2023-11-15T00:49:50.7358168Z",
              "livy_statement_state": "available",
              "parent_msg_id": "b24b0045-c2fe-4a22-8a2c-236d047bd531",
              "queued_time": "2023-11-15T00:49:50.4026526Z",
              "session_id": "18",
              "session_start_time": null,
              "spark_jobs": {
                "jobs": [
                  {
                    "completionTime": "2023-11-15T00:50:19.195GMT",
                    "dataRead": 330794803,
                    "dataWritten": 68710050,
                    "description": "Job group for statement 21:\narm_comment.write.mode(\"overwrite\").parquet(f\"{workspace_wasbs_base_url}/arm_comment.parquet\")",
                    "displayName": "parquet at NativeMethodAccessorImpl.java:0",
                    "jobGroup": "21",
                    "jobId": 10,
                    "killedTasksSummary": {},
                    "name": "parquet at NativeMethodAccessorImpl.java:0",
                    "numActiveStages": 0,
                    "numActiveTasks": 0,
                    "numCompletedIndices": 233,
                    "numCompletedStages": 1,
                    "numCompletedTasks": 233,
                    "numFailedStages": 0,
                    "numFailedTasks": 0,
                    "numKilledTasks": 0,
                    "numSkippedStages": 0,
                    "numSkippedTasks": 0,
                    "numTasks": 233,
                    "rowCount": 460635,
                    "stageIds": [
                      12
                    ],
                    "status": "SUCCEEDED",
                    "submissionTime": "2023-11-15T00:49:51.188GMT",
                    "usageDescription": ""
                  }
                ],
                "limit": 20,
                "numbers": {
                  "FAILED": 0,
                  "RUNNING": 0,
                  "SUCCEEDED": 1,
                  "UNKNOWN": 0
                },
                "rule": "ALL_DESC"
              },
              "spark_pool": "80dcc4b2-bc50-4e81-91e5-397b7f13252e",
              "state": "finished",
              "statement_id": 21
            },
            "text/plain": "StatementMeta(80dcc4b2-bc50-4e81-91e5-397b7f13252e, 18, 21, Finished, Available)"
          },
          "metadata": {}
        }
      ],
      "execution_count": 16,
      "metadata": {
        "gather": {
          "logged": 1700009422772
        },
        "jupyter": {
          "outputs_hidden": false,
          "source_hidden": false
        },
        "nteract": {
          "transient": {
            "deleting": false
          }
        }
      }
    },
    {
      "cell_type": "markdown",
      "source": [
        "### Read the comments data"
      ],
      "metadata": {}
    },
    {
      "cell_type": "code",
      "source": [
        "workspace_default_storage_account = \"group10astorage46582e02e\"\n",
        "workspace_default_container = \"azureml-blobstore-e8a18b52-3288-4d1f-9f32-d5a9249c2c0e\"\n",
        "workspace_wasbs_base_url = (f\"wasbs://{workspace_default_container}@{workspace_default_storage_account}.blob.core.windows.net/\")\n",
        "arm_comment = spark.read.parquet(f\"{workspace_wasbs_base_url}/arm_comment.parquet\")"
      ],
      "outputs": [
        {
          "output_type": "display_data",
          "data": {
            "application/vnd.livy.statement-meta+json": {
              "spark_pool": "80dcc4b2-bc50-4e81-91e5-397b7f13252e",
              "session_id": "26",
              "statement_id": 7,
              "state": "finished",
              "livy_statement_state": "available",
              "queued_time": "2023-11-28T23:49:24.6282029Z",
              "session_start_time": null,
              "execution_start_time": "2023-11-28T23:49:24.8419134Z",
              "execution_finish_time": "2023-11-28T23:49:33.1650084Z",
              "spark_jobs": {
                "numbers": {
                  "FAILED": 0,
                  "UNKNOWN": 0,
                  "SUCCEEDED": 1,
                  "RUNNING": 0
                },
                "jobs": [
                  {
                    "displayName": "parquet at NativeMethodAccessorImpl.java:0",
                    "dataWritten": 0,
                    "dataRead": 0,
                    "rowCount": 0,
                    "usageDescription": "",
                    "jobId": 0,
                    "name": "parquet at NativeMethodAccessorImpl.java:0",
                    "description": "Job group for statement 7:\nworkspace_default_storage_account = \"group10astorage46582e02e\"\nworkspace_default_container = \"azureml-blobstore-e8a18b52-3288-4d1f-9f32-d5a9249c2c0e\"\nworkspace_wasbs_base_url = (f\"wasbs://{workspace_default_container}@{workspace_default_storage_account}.blob.core.windows.net/\")\narm_comment = spark.read.parquet(f\"{workspace_wasbs_base_url}/arm_comment.parquet\")",
                    "submissionTime": "2023-11-28T23:49:25.959GMT",
                    "completionTime": "2023-11-28T23:49:31.714GMT",
                    "stageIds": [
                      0
                    ],
                    "jobGroup": "7",
                    "status": "SUCCEEDED",
                    "numTasks": 1,
                    "numActiveTasks": 0,
                    "numCompletedTasks": 1,
                    "numSkippedTasks": 0,
                    "numFailedTasks": 0,
                    "numKilledTasks": 0,
                    "numCompletedIndices": 1,
                    "numActiveStages": 0,
                    "numCompletedStages": 1,
                    "numSkippedStages": 0,
                    "numFailedStages": 0,
                    "killedTasksSummary": {}
                  }
                ],
                "limit": 20,
                "rule": "ALL_DESC"
              },
              "parent_msg_id": "646f1b69-5732-4889-9e44-4e071fa6688d"
            },
            "text/plain": "StatementMeta(80dcc4b2-bc50-4e81-91e5-397b7f13252e, 26, 7, Finished, Available)"
          },
          "metadata": {}
        }
      ],
      "execution_count": 2,
      "metadata": {
        "gather": {
          "logged": 1701215373282
        },
        "jupyter": {
          "outputs_hidden": false,
          "source_hidden": false
        },
        "nteract": {
          "transient": {
            "deleting": false
          }
        }
      }
    },
    {
      "cell_type": "code",
      "source": [
        "arm_comment.show()"
      ],
      "outputs": [
        {
          "output_type": "display_data",
          "data": {
            "application/vnd.livy.statement-meta+json": {
              "spark_pool": "80dcc4b2-bc50-4e81-91e5-397b7f13252e",
              "session_id": "26",
              "statement_id": 8,
              "state": "finished",
              "livy_statement_state": "available",
              "queued_time": "2023-11-28T23:49:41.3225106Z",
              "session_start_time": null,
              "execution_start_time": "2023-11-28T23:49:42.3405435Z",
              "execution_finish_time": "2023-11-28T23:49:53.1281786Z",
              "spark_jobs": {
                "numbers": {
                  "FAILED": 0,
                  "UNKNOWN": 0,
                  "SUCCEEDED": 1,
                  "RUNNING": 0
                },
                "jobs": [
                  {
                    "displayName": "showString at NativeMethodAccessorImpl.java:0",
                    "dataWritten": 0,
                    "dataRead": 504313,
                    "rowCount": 2956,
                    "usageDescription": "",
                    "jobId": 1,
                    "name": "showString at NativeMethodAccessorImpl.java:0",
                    "description": "Job group for statement 8:\narm_comment.show()",
                    "submissionTime": "2023-11-28T23:49:43.676GMT",
                    "completionTime": "2023-11-28T23:49:51.665GMT",
                    "stageIds": [
                      1
                    ],
                    "jobGroup": "8",
                    "status": "SUCCEEDED",
                    "numTasks": 1,
                    "numActiveTasks": 0,
                    "numCompletedTasks": 1,
                    "numSkippedTasks": 0,
                    "numFailedTasks": 0,
                    "numKilledTasks": 0,
                    "numCompletedIndices": 1,
                    "numActiveStages": 0,
                    "numCompletedStages": 1,
                    "numSkippedStages": 0,
                    "numFailedStages": 0,
                    "killedTasksSummary": {}
                  }
                ],
                "limit": 20,
                "rule": "ALL_DESC"
              },
              "parent_msg_id": "9957dc80-4562-489f-b909-456f2097cef6"
            },
            "text/plain": "StatementMeta(80dcc4b2-bc50-4e81-91e5-397b7f13252e, 26, 8, Finished, Available)"
          },
          "metadata": {}
        },
        {
          "output_type": "stream",
          "name": "stdout",
          "text": "+--------------------+-----------------+\n|        comment_text|mbti_type_related|\n+--------------------+-----------------+\n|I think you may b...|       ENFP, ENFP|\n|                isfp|             ISFP|\n|       ENTJ, or ESTJ|       ENTJ, ESTJ|\n|ENFP. (Sing in Bi...|             ENFP|\n|                Intj|             INTJ|\n|Because we're pre...|             INFJ|\n|                Istp|             ISTP|\n|My part of our be...| ENFP, ESTJ, ENTP|\n|Entp actually, bu...|             ENTP|\n|infp here and it'...|             INFP|\n|               ISFP?|             ISFP|\n|ENFP- I just clic...|       ENFP, ENFP|\n|As a user of both...|       INTJ, ISTP|\n|You are an INTJ w...|       INTJ, INFP|\n|You really made a...|             INTJ|\n|Am I your INFJ 4w...|       INFJ, INTP|\n|hugs you but is s...|             INTJ|\n|Oh please do my f...|             INFJ|\n|Not related to my...|             ISFJ|\n| My INTP brother too|             INTP|\n+--------------------+-----------------+\nonly showing top 20 rows\n\n"
        }
      ],
      "execution_count": 3,
      "metadata": {
        "gather": {
          "logged": 1701215393268
        },
        "jupyter": {
          "outputs_hidden": false,
          "source_hidden": false
        },
        "nteract": {
          "transient": {
            "deleting": false
          }
        }
      }
    },
    {
      "cell_type": "markdown",
      "source": [
        "### Read the external data"
      ],
      "metadata": {
        "nteract": {
          "transient": {
            "deleting": false
          }
        }
      }
    },
    {
      "cell_type": "code",
      "source": [
        "import pandas as pd\n",
        "mbti_in_post_df = pd.read_csv(\"Users/xx123/fall-2023-reddit-project-team-10/data/csv/mbti_in_post.csv\",)\n",
        "print(mbti_in_post_df)"
      ],
      "outputs": [
        {
          "output_type": "display_data",
          "data": {
            "application/vnd.livy.statement-meta+json": {
              "spark_pool": "80dcc4b2-bc50-4e81-91e5-397b7f13252e",
              "session_id": "26",
              "statement_id": 9,
              "state": "finished",
              "livy_statement_state": "available",
              "queued_time": "2023-11-28T23:50:08.9125692Z",
              "session_start_time": null,
              "execution_start_time": "2023-11-28T23:50:09.1441967Z",
              "execution_finish_time": "2023-11-28T23:50:13.9829966Z",
              "spark_jobs": {
                "numbers": {
                  "FAILED": 0,
                  "UNKNOWN": 0,
                  "SUCCEEDED": 0,
                  "RUNNING": 0
                },
                "jobs": [],
                "limit": 20,
                "rule": "ALL_DESC"
              },
              "parent_msg_id": "522e29bc-97e5-4422-a351-e9da20ddfc09"
            },
            "text/plain": "StatementMeta(80dcc4b2-bc50-4e81-91e5-397b7f13252e, 26, 9, Finished, Available)"
          },
          "metadata": {}
        },
        {
          "output_type": "stream",
          "name": "stdout",
          "text": "       type                                               post mbti_in_post\n0      INFJ  enfp and intj moments    sportscenter not top ...   ENFP, INTJ\n1      INFJ  The last thing my INFJ friend posted on his fa...         INFJ\n2      INFJ  Hello ENFJ7. Sorry to hear of your distress. I...         ENFJ\n3      INFJ  Dear ENFP:  What were your favorite video game...         ENFP\n4      INFJ  Yo entp ladies... if you're into a complimenta...         ENTP\n...     ...                                                ...          ...\n80383  INFP  Ok Mr. ENFJ, I have a conundrum for you.  I am...         ENFJ\n80384  INFP  I greatly appreciate your input.  What you and...         ENFJ\n80385  INFP  I don't know for sure that he is an ENFJ but i...         ENFJ\n80386  INFP  I can't honestly see the point in saying which...         INTP\n80387  INFP  Just interested to know what some other INFJs'...         INFJ\n\n[80388 rows x 3 columns]\n"
        }
      ],
      "execution_count": 4,
      "metadata": {
        "gather": {
          "logged": 1701215414183
        },
        "jupyter": {
          "outputs_hidden": false,
          "source_hidden": false
        },
        "nteract": {
          "transient": {
            "deleting": false
          }
        }
      }
    },
    {
      "cell_type": "code",
      "source": [
        "#check the length of mbti post dataset\n",
        "len(mbti_in_post_df)"
      ],
      "outputs": [
        {
          "output_type": "display_data",
          "data": {
            "application/vnd.livy.statement-meta+json": {
              "spark_pool": "80dcc4b2-bc50-4e81-91e5-397b7f13252e",
              "session_id": "26",
              "statement_id": 10,
              "state": "finished",
              "livy_statement_state": "available",
              "queued_time": "2023-11-28T23:50:22.703943Z",
              "session_start_time": null,
              "execution_start_time": "2023-11-28T23:50:22.8049871Z",
              "execution_finish_time": "2023-11-28T23:50:23.1462539Z",
              "spark_jobs": {
                "numbers": {
                  "FAILED": 0,
                  "UNKNOWN": 0,
                  "SUCCEEDED": 0,
                  "RUNNING": 0
                },
                "jobs": [],
                "limit": 20,
                "rule": "ALL_DESC"
              },
              "parent_msg_id": "cb428ef4-b28a-431b-8fe7-caa6b5b4143d"
            },
            "text/plain": "StatementMeta(80dcc4b2-bc50-4e81-91e5-397b7f13252e, 26, 10, Finished, Available)"
          },
          "metadata": {}
        },
        {
          "output_type": "execute_result",
          "execution_count": 19,
          "data": {
            "text/plain": "80388"
          },
          "metadata": {}
        }
      ],
      "execution_count": 5,
      "metadata": {
        "gather": {
          "logged": 1701215423291
        },
        "jupyter": {
          "outputs_hidden": false,
          "source_hidden": false
        },
        "nteract": {
          "transient": {
            "deleting": false
          }
        }
      }
    },
    {
      "cell_type": "code",
      "source": [
        "mbti_in_post_df = mbti_in_post_df[['post','mbti_in_post']]\n",
        "mbti_in_post_df.columns=['comment_text','mbti_type_related']\n",
        "mbti_in_post_df"
      ],
      "outputs": [
        {
          "output_type": "display_data",
          "data": {
            "application/vnd.livy.statement-meta+json": {
              "spark_pool": "80dcc4b2-bc50-4e81-91e5-397b7f13252e",
              "session_id": "26",
              "statement_id": 11,
              "state": "finished",
              "livy_statement_state": "available",
              "queued_time": "2023-11-28T23:50:25.6273116Z",
              "session_start_time": null,
              "execution_start_time": "2023-11-28T23:50:25.7271937Z",
              "execution_finish_time": "2023-11-28T23:50:26.0517808Z",
              "spark_jobs": {
                "numbers": {
                  "FAILED": 0,
                  "UNKNOWN": 0,
                  "SUCCEEDED": 0,
                  "RUNNING": 0
                },
                "jobs": [],
                "limit": 20,
                "rule": "ALL_DESC"
              },
              "parent_msg_id": "8c104c13-1c99-4839-b438-f299d6436808"
            },
            "text/plain": "StatementMeta(80dcc4b2-bc50-4e81-91e5-397b7f13252e, 26, 11, Finished, Available)"
          },
          "metadata": {}
        },
        {
          "output_type": "execute_result",
          "execution_count": 21,
          "data": {
            "text/plain": "                                            comment_text mbti_type_related\n0      enfp and intj moments    sportscenter not top ...        ENFP, INTJ\n1      The last thing my INFJ friend posted on his fa...              INFJ\n2      Hello ENFJ7. Sorry to hear of your distress. I...              ENFJ\n3      Dear ENFP:  What were your favorite video game...              ENFP\n4      Yo entp ladies... if you're into a complimenta...              ENTP\n...                                                  ...               ...\n80383  Ok Mr. ENFJ, I have a conundrum for you.  I am...              ENFJ\n80384  I greatly appreciate your input.  What you and...              ENFJ\n80385  I don't know for sure that he is an ENFJ but i...              ENFJ\n80386  I can't honestly see the point in saying which...              INTP\n80387  Just interested to know what some other INFJs'...              INFJ\n\n[80388 rows x 2 columns]",
            "text/html": "<div>\n<style scoped>\n    .dataframe tbody tr th:only-of-type {\n        vertical-align: middle;\n    }\n\n    .dataframe tbody tr th {\n        vertical-align: top;\n    }\n\n    .dataframe thead th {\n        text-align: right;\n    }\n</style>\n<table border=\"1\" class=\"dataframe\">\n  <thead>\n    <tr style=\"text-align: right;\">\n      <th></th>\n      <th>comment_text</th>\n      <th>mbti_type_related</th>\n    </tr>\n  </thead>\n  <tbody>\n    <tr>\n      <th>0</th>\n      <td>enfp and intj moments    sportscenter not top ...</td>\n      <td>ENFP, INTJ</td>\n    </tr>\n    <tr>\n      <th>1</th>\n      <td>The last thing my INFJ friend posted on his fa...</td>\n      <td>INFJ</td>\n    </tr>\n    <tr>\n      <th>2</th>\n      <td>Hello ENFJ7. Sorry to hear of your distress. I...</td>\n      <td>ENFJ</td>\n    </tr>\n    <tr>\n      <th>3</th>\n      <td>Dear ENFP:  What were your favorite video game...</td>\n      <td>ENFP</td>\n    </tr>\n    <tr>\n      <th>4</th>\n      <td>Yo entp ladies... if you're into a complimenta...</td>\n      <td>ENTP</td>\n    </tr>\n    <tr>\n      <th>...</th>\n      <td>...</td>\n      <td>...</td>\n    </tr>\n    <tr>\n      <th>80383</th>\n      <td>Ok Mr. ENFJ, I have a conundrum for you.  I am...</td>\n      <td>ENFJ</td>\n    </tr>\n    <tr>\n      <th>80384</th>\n      <td>I greatly appreciate your input.  What you and...</td>\n      <td>ENFJ</td>\n    </tr>\n    <tr>\n      <th>80385</th>\n      <td>I don't know for sure that he is an ENFJ but i...</td>\n      <td>ENFJ</td>\n    </tr>\n    <tr>\n      <th>80386</th>\n      <td>I can't honestly see the point in saying which...</td>\n      <td>INTP</td>\n    </tr>\n    <tr>\n      <th>80387</th>\n      <td>Just interested to know what some other INFJs'...</td>\n      <td>INFJ</td>\n    </tr>\n  </tbody>\n</table>\n<p>80388 rows × 2 columns</p>\n</div>"
          },
          "metadata": {}
        }
      ],
      "execution_count": 6,
      "metadata": {
        "gather": {
          "logged": 1701215426238
        },
        "jupyter": {
          "outputs_hidden": false,
          "source_hidden": false
        },
        "nteract": {
          "transient": {
            "deleting": false
          }
        }
      }
    },
    {
      "cell_type": "markdown",
      "source": [
        "### Merge the datasets"
      ],
      "metadata": {
        "nteract": {
          "transient": {
            "deleting": false
          }
        }
      }
    },
    {
      "cell_type": "code",
      "source": [
        "from pyspark.sql import SparkSession\n",
        "\n",
        "# Convert Pandas DataFrame to PySpark DataFrame\n",
        "mbti_in_post_spark = spark.createDataFrame(mbti_in_post_df)\n"
      ],
      "outputs": [
        {
          "output_type": "display_data",
          "data": {
            "application/vnd.livy.statement-meta+json": {
              "spark_pool": "80dcc4b2-bc50-4e81-91e5-397b7f13252e",
              "session_id": "26",
              "statement_id": 12,
              "state": "finished",
              "livy_statement_state": "available",
              "queued_time": "2023-11-28T23:50:47.2386801Z",
              "session_start_time": null,
              "execution_start_time": "2023-11-28T23:50:47.3741385Z",
              "execution_finish_time": "2023-11-28T23:50:48.9027615Z",
              "spark_jobs": {
                "numbers": {
                  "FAILED": 0,
                  "UNKNOWN": 0,
                  "SUCCEEDED": 0,
                  "RUNNING": 0
                },
                "jobs": [],
                "limit": 20,
                "rule": "ALL_DESC"
              },
              "parent_msg_id": "a9f52278-7836-4a4d-b072-d237f40490da"
            },
            "text/plain": "StatementMeta(80dcc4b2-bc50-4e81-91e5-397b7f13252e, 26, 12, Finished, Available)"
          },
          "metadata": {}
        }
      ],
      "execution_count": 7,
      "metadata": {
        "gather": {
          "logged": 1701215448992
        },
        "jupyter": {
          "outputs_hidden": false,
          "source_hidden": false
        },
        "nteract": {
          "transient": {
            "deleting": false
          }
        }
      }
    },
    {
      "cell_type": "code",
      "source": [
        "mbti_in_post_spark.show()"
      ],
      "outputs": [
        {
          "output_type": "display_data",
          "data": {
            "application/vnd.livy.statement-meta+json": {
              "spark_pool": "80dcc4b2-bc50-4e81-91e5-397b7f13252e",
              "session_id": "26",
              "statement_id": 13,
              "state": "finished",
              "livy_statement_state": "available",
              "queued_time": "2023-11-28T23:50:52.1122687Z",
              "session_start_time": null,
              "execution_start_time": "2023-11-28T23:50:52.2246297Z",
              "execution_finish_time": "2023-11-28T23:50:54.8502476Z",
              "spark_jobs": {
                "numbers": {
                  "FAILED": 0,
                  "UNKNOWN": 0,
                  "SUCCEEDED": 1,
                  "RUNNING": 0
                },
                "jobs": [
                  {
                    "displayName": "showString at NativeMethodAccessorImpl.java:0",
                    "dataWritten": 0,
                    "dataRead": 0,
                    "rowCount": 0,
                    "usageDescription": "",
                    "jobId": 2,
                    "name": "showString at NativeMethodAccessorImpl.java:0",
                    "description": "Job group for statement 13:\nmbti_in_post_spark.show()",
                    "submissionTime": "2023-11-28T23:50:52.331GMT",
                    "completionTime": "2023-11-28T23:50:54.294GMT",
                    "stageIds": [
                      2
                    ],
                    "jobGroup": "13",
                    "status": "SUCCEEDED",
                    "numTasks": 1,
                    "numActiveTasks": 0,
                    "numCompletedTasks": 1,
                    "numSkippedTasks": 0,
                    "numFailedTasks": 0,
                    "numKilledTasks": 0,
                    "numCompletedIndices": 1,
                    "numActiveStages": 0,
                    "numCompletedStages": 1,
                    "numSkippedStages": 0,
                    "numFailedStages": 0,
                    "killedTasksSummary": {}
                  }
                ],
                "limit": 20,
                "rule": "ALL_DESC"
              },
              "parent_msg_id": "e3b23371-3459-420f-9ba5-0fa3fbb84af0"
            },
            "text/plain": "StatementMeta(80dcc4b2-bc50-4e81-91e5-397b7f13252e, 26, 13, Finished, Available)"
          },
          "metadata": {}
        },
        {
          "output_type": "stream",
          "name": "stdout",
          "text": "+--------------------+-----------------+\n|        comment_text|mbti_type_related|\n+--------------------+-----------------+\n|enfp and intj mom...|       ENFP, INTJ|\n|The last thing my...|             INFJ|\n|Hello ENFJ7. Sorr...|             ENFJ|\n|Dear ENFP:  What ...|             ENFP|\n|Yo entp ladies......|             ENTP|\n|a pokemon world  ...|             INFJ|\n|I like this perso...|             INTJ|\n|Hello *ENTP Grin*...|             ENTP|\n|You know you're a...|             ENTP|\n|No; The way he co...|             ENTP|\n|Sherlock in the m...|       ENTP, ESTJ|\n|TBH, and biased, ...|       INFP, ESTJ|\n|*Checks list* I'm...|             INFJ|\n|I'm ANTP (Leaning...|       ENTP, INTP|\n|I also imagine EN...|             ENTP|\n|Damn, need to tru...|             INFP|\n|I bow to my entp ...|             ENTP|\n|Personal opinion ...|       INTJ, INTP|\n|This is the most ...|             INTP|\n|INTJ Recently I s...|             INTJ|\n+--------------------+-----------------+\nonly showing top 20 rows\n\n"
        }
      ],
      "execution_count": 8,
      "metadata": {
        "gather": {
          "logged": 1701215454956
        },
        "jupyter": {
          "outputs_hidden": false,
          "source_hidden": false
        },
        "nteract": {
          "transient": {
            "deleting": false
          }
        }
      }
    },
    {
      "cell_type": "code",
      "source": [
        "#merge the data by column name\n",
        "combined_df = arm_comment.unionByName(mbti_in_post_spark)\n",
        "combined_df.printSchema()"
      ],
      "outputs": [
        {
          "output_type": "display_data",
          "data": {
            "application/vnd.livy.statement-meta+json": {
              "spark_pool": "80dcc4b2-bc50-4e81-91e5-397b7f13252e",
              "session_id": "26",
              "statement_id": 21,
              "state": "finished",
              "livy_statement_state": "available",
              "queued_time": "2023-11-28T23:56:31.2411152Z",
              "session_start_time": null,
              "execution_start_time": "2023-11-28T23:56:31.392678Z",
              "execution_finish_time": "2023-11-28T23:56:31.729675Z",
              "spark_jobs": {
                "numbers": {
                  "FAILED": 0,
                  "UNKNOWN": 0,
                  "SUCCEEDED": 0,
                  "RUNNING": 0
                },
                "jobs": [],
                "limit": 20,
                "rule": "ALL_DESC"
              },
              "parent_msg_id": "f61fd36f-6238-4e9e-b52b-a8e774ed0114"
            },
            "text/plain": "StatementMeta(80dcc4b2-bc50-4e81-91e5-397b7f13252e, 26, 21, Finished, Available)"
          },
          "metadata": {}
        },
        {
          "output_type": "stream",
          "name": "stdout",
          "text": "root\n |-- comment_text: string (nullable = true)\n |-- mbti_type_related: string (nullable = true)\n\n"
        }
      ],
      "execution_count": 16,
      "metadata": {
        "gather": {
          "logged": 1701215791883
        },
        "jupyter": {
          "outputs_hidden": false,
          "source_hidden": false
        },
        "nteract": {
          "transient": {
            "deleting": false
          }
        }
      }
    },
    {
      "cell_type": "code",
      "source": [
        "#print the number of the row\n",
        "row_count = combined_df.count()\n",
        "print(\"Number of rows:\", row_count)"
      ],
      "outputs": [
        {
          "output_type": "display_data",
          "data": {
            "application/vnd.livy.statement-meta+json": {
              "spark_pool": "80dcc4b2-bc50-4e81-91e5-397b7f13252e",
              "session_id": "26",
              "statement_id": 23,
              "state": "finished",
              "livy_statement_state": "available",
              "queued_time": "2023-11-28T23:57:50.9245302Z",
              "session_start_time": null,
              "execution_start_time": "2023-11-28T23:57:51.1213788Z",
              "execution_finish_time": "2023-11-28T23:57:53.0418353Z",
              "spark_jobs": {
                "numbers": {
                  "FAILED": 0,
                  "UNKNOWN": 0,
                  "SUCCEEDED": 2,
                  "RUNNING": 0
                },
                "jobs": [
                  {
                    "displayName": "count at NativeMethodAccessorImpl.java:0",
                    "dataWritten": 0,
                    "dataRead": 944,
                    "rowCount": 16,
                    "usageDescription": "",
                    "jobId": 12,
                    "name": "count at NativeMethodAccessorImpl.java:0",
                    "description": "Job group for statement 23:\n#print the number of the row\nrow_count = combined_df.count()\nprint(\"Number of rows:\", row_count)",
                    "submissionTime": "2023-11-28T23:57:52.784GMT",
                    "completionTime": "2023-11-28T23:57:52.838GMT",
                    "stageIds": [
                      15,
                      14
                    ],
                    "jobGroup": "23",
                    "status": "SUCCEEDED",
                    "numTasks": 17,
                    "numActiveTasks": 0,
                    "numCompletedTasks": 1,
                    "numSkippedTasks": 16,
                    "numFailedTasks": 0,
                    "numKilledTasks": 0,
                    "numCompletedIndices": 1,
                    "numActiveStages": 0,
                    "numCompletedStages": 1,
                    "numSkippedStages": 1,
                    "numFailedStages": 0,
                    "killedTasksSummary": {}
                  },
                  {
                    "displayName": "count at NativeMethodAccessorImpl.java:0",
                    "dataWritten": 944,
                    "dataRead": 275582,
                    "rowCount": 460408,
                    "usageDescription": "",
                    "jobId": 11,
                    "name": "count at NativeMethodAccessorImpl.java:0",
                    "description": "Job group for statement 23:\n#print the number of the row\nrow_count = combined_df.count()\nprint(\"Number of rows:\", row_count)",
                    "submissionTime": "2023-11-28T23:57:51.239GMT",
                    "completionTime": "2023-11-28T23:57:52.755GMT",
                    "stageIds": [
                      13
                    ],
                    "jobGroup": "23",
                    "status": "SUCCEEDED",
                    "numTasks": 16,
                    "numActiveTasks": 0,
                    "numCompletedTasks": 16,
                    "numSkippedTasks": 0,
                    "numFailedTasks": 0,
                    "numKilledTasks": 0,
                    "numCompletedIndices": 16,
                    "numActiveStages": 0,
                    "numCompletedStages": 1,
                    "numSkippedStages": 0,
                    "numFailedStages": 0,
                    "killedTasksSummary": {}
                  }
                ],
                "limit": 20,
                "rule": "ALL_DESC"
              },
              "parent_msg_id": "7eae980b-181b-47ea-ae8b-f3ae1cc14412"
            },
            "text/plain": "StatementMeta(80dcc4b2-bc50-4e81-91e5-397b7f13252e, 26, 23, Finished, Available)"
          },
          "metadata": {}
        },
        {
          "output_type": "stream",
          "name": "stdout",
          "text": "Number of rows: 540780\n"
        }
      ],
      "execution_count": 18,
      "metadata": {
        "gather": {
          "logged": 1701215873232
        },
        "jupyter": {
          "outputs_hidden": false,
          "source_hidden": false
        },
        "nteract": {
          "transient": {
            "deleting": false
          }
        }
      }
    },
    {
      "cell_type": "code",
      "source": [
        "combined_df_csv=combined_df.toPandas()\n",
        "combined_df_csv.head(10)"
      ],
      "outputs": [
        {
          "output_type": "display_data",
          "data": {
            "application/vnd.livy.statement-meta+json": {
              "spark_pool": "80dcc4b2-bc50-4e81-91e5-397b7f13252e",
              "session_id": "26",
              "statement_id": 19,
              "state": "finished",
              "livy_statement_state": "available",
              "queued_time": "2023-11-28T23:54:03.3784223Z",
              "session_start_time": null,
              "execution_start_time": "2023-11-28T23:54:03.558184Z",
              "execution_finish_time": "2023-11-28T23:54:07.1359402Z",
              "spark_jobs": {
                "numbers": {
                  "FAILED": 0,
                  "UNKNOWN": 0,
                  "SUCCEEDED": 1,
                  "RUNNING": 0
                },
                "jobs": [
                  {
                    "displayName": "toPandas at /tmp/ipykernel_7226/3060107961.py:1",
                    "dataWritten": 0,
                    "dataRead": 68667935,
                    "rowCount": 460392,
                    "usageDescription": "",
                    "jobId": 8,
                    "name": "toPandas at /tmp/ipykernel_7226/3060107961.py:1",
                    "description": "Job group for statement 19:\ncombined_df_csv=combined_df.toPandas()\ncombined_df_csv.head(10)",
                    "submissionTime": "2023-11-28T23:54:03.654GMT",
                    "completionTime": "2023-11-28T23:54:06.339GMT",
                    "stageIds": [
                      9
                    ],
                    "jobGroup": "19",
                    "status": "SUCCEEDED",
                    "numTasks": 16,
                    "numActiveTasks": 0,
                    "numCompletedTasks": 16,
                    "numSkippedTasks": 0,
                    "numFailedTasks": 0,
                    "numKilledTasks": 0,
                    "numCompletedIndices": 16,
                    "numActiveStages": 0,
                    "numCompletedStages": 1,
                    "numSkippedStages": 0,
                    "numFailedStages": 0,
                    "killedTasksSummary": {}
                  }
                ],
                "limit": 20,
                "rule": "ALL_DESC"
              },
              "parent_msg_id": "9342f50e-40cf-4682-9b97-283d571b7ff9"
            },
            "text/plain": "StatementMeta(80dcc4b2-bc50-4e81-91e5-397b7f13252e, 26, 19, Finished, Available)"
          },
          "metadata": {}
        },
        {
          "output_type": "execute_result",
          "execution_count": 37,
          "data": {
            "text/plain": "                                        comment_text mbti_type_related\n0  I think you may be an ENFP\\n\\nNe: dominant fun...        ENFP, ENFP\n1                                               isfp              ISFP\n2                                      ENTJ, or ESTJ        ENTJ, ESTJ\n3  ENFP. (Sing in Bill Nye the science guy’s them...              ENFP\n4                                               Intj              INTJ\n5  Because we're pretty open minded despite appea...              INFJ\n6                                               Istp              ISTP\n7  My part of our bedroom- Colorful and relativel...  ENFP, ESTJ, ENTP\n8                  Entp actually, but you were close              ENTP\n9  infp here and it's very messy. i can't stand i...              INFP",
            "text/html": "<div>\n<style scoped>\n    .dataframe tbody tr th:only-of-type {\n        vertical-align: middle;\n    }\n\n    .dataframe tbody tr th {\n        vertical-align: top;\n    }\n\n    .dataframe thead th {\n        text-align: right;\n    }\n</style>\n<table border=\"1\" class=\"dataframe\">\n  <thead>\n    <tr style=\"text-align: right;\">\n      <th></th>\n      <th>comment_text</th>\n      <th>mbti_type_related</th>\n    </tr>\n  </thead>\n  <tbody>\n    <tr>\n      <th>0</th>\n      <td>I think you may be an ENFP\\n\\nNe: dominant fun...</td>\n      <td>ENFP, ENFP</td>\n    </tr>\n    <tr>\n      <th>1</th>\n      <td>isfp</td>\n      <td>ISFP</td>\n    </tr>\n    <tr>\n      <th>2</th>\n      <td>ENTJ, or ESTJ</td>\n      <td>ENTJ, ESTJ</td>\n    </tr>\n    <tr>\n      <th>3</th>\n      <td>ENFP. (Sing in Bill Nye the science guy’s them...</td>\n      <td>ENFP</td>\n    </tr>\n    <tr>\n      <th>4</th>\n      <td>Intj</td>\n      <td>INTJ</td>\n    </tr>\n    <tr>\n      <th>5</th>\n      <td>Because we're pretty open minded despite appea...</td>\n      <td>INFJ</td>\n    </tr>\n    <tr>\n      <th>6</th>\n      <td>Istp</td>\n      <td>ISTP</td>\n    </tr>\n    <tr>\n      <th>7</th>\n      <td>My part of our bedroom- Colorful and relativel...</td>\n      <td>ENFP, ESTJ, ENTP</td>\n    </tr>\n    <tr>\n      <th>8</th>\n      <td>Entp actually, but you were close</td>\n      <td>ENTP</td>\n    </tr>\n    <tr>\n      <th>9</th>\n      <td>infp here and it's very messy. i can't stand i...</td>\n      <td>INFP</td>\n    </tr>\n  </tbody>\n</table>\n</div>"
          },
          "metadata": {}
        }
      ],
      "execution_count": 14,
      "metadata": {
        "jupyter": {
          "source_hidden": false,
          "outputs_hidden": false
        },
        "nteract": {
          "transient": {
            "deleting": false
          }
        },
        "gather": {
          "logged": 1701215647315
        }
      }
    },
    {
      "cell_type": "code",
      "source": [
        "#save the table so that we can show the table in website\n",
        "combined_df_csv.head(10).to_csv(\"Users/xx123/fall-2023-reddit-project-team-10/data/csv/combined_text_arm.csv\")"
      ],
      "outputs": [
        {
          "output_type": "display_data",
          "data": {
            "application/vnd.livy.statement-meta+json": {
              "spark_pool": "80dcc4b2-bc50-4e81-91e5-397b7f13252e",
              "session_id": "26",
              "statement_id": 20,
              "state": "finished",
              "livy_statement_state": "available",
              "queued_time": "2023-11-28T23:55:46.5035294Z",
              "session_start_time": null,
              "execution_start_time": "2023-11-28T23:55:46.6803735Z",
              "execution_finish_time": "2023-11-28T23:55:47.5970812Z",
              "spark_jobs": {
                "numbers": {
                  "FAILED": 0,
                  "UNKNOWN": 0,
                  "SUCCEEDED": 0,
                  "RUNNING": 0
                },
                "jobs": [],
                "limit": 20,
                "rule": "ALL_DESC"
              },
              "parent_msg_id": "6c8f9857-2518-4048-9315-3da7efdddd21"
            },
            "text/plain": "StatementMeta(80dcc4b2-bc50-4e81-91e5-397b7f13252e, 26, 20, Finished, Available)"
          },
          "metadata": {}
        }
      ],
      "execution_count": 15,
      "metadata": {
        "jupyter": {
          "source_hidden": false,
          "outputs_hidden": false
        },
        "nteract": {
          "transient": {
            "deleting": false
          }
        },
        "gather": {
          "logged": 1701215747718
        }
      }
    },
    {
      "cell_type": "code",
      "source": [
        "#coach the combined dataframe\n",
        "combined_df.cache()"
      ],
      "outputs": [
        {
          "output_type": "display_data",
          "data": {
            "application/vnd.livy.statement-meta+json": {
              "spark_pool": "80dcc4b2-bc50-4e81-91e5-397b7f13252e",
              "session_id": "26",
              "statement_id": 24,
              "state": "finished",
              "livy_statement_state": "available",
              "queued_time": "2023-11-28T23:58:00.7352033Z",
              "session_start_time": null,
              "execution_start_time": "2023-11-28T23:58:00.9320029Z",
              "execution_finish_time": "2023-11-28T23:58:01.2331415Z",
              "spark_jobs": {
                "numbers": {
                  "FAILED": 0,
                  "UNKNOWN": 0,
                  "SUCCEEDED": 0,
                  "RUNNING": 0
                },
                "jobs": [],
                "limit": 20,
                "rule": "ALL_DESC"
              },
              "parent_msg_id": "461bd2dd-d254-4b1e-930f-6f4169a36d24"
            },
            "text/plain": "StatementMeta(80dcc4b2-bc50-4e81-91e5-397b7f13252e, 26, 24, Finished, Available)"
          },
          "metadata": {}
        },
        {
          "output_type": "execute_result",
          "execution_count": 47,
          "data": {
            "text/plain": "DataFrame[comment_text: string, mbti_type_related: string]"
          },
          "metadata": {}
        }
      ],
      "execution_count": 19,
      "metadata": {
        "gather": {
          "logged": 1701215881425
        },
        "jupyter": {
          "outputs_hidden": false,
          "source_hidden": false
        },
        "nteract": {
          "transient": {
            "deleting": false
          }
        }
      }
    },
    {
      "cell_type": "markdown",
      "source": [
        "## Build FP-Growth model"
      ],
      "metadata": {
        "nteract": {
          "transient": {
            "deleting": false
          }
        }
      }
    },
    {
      "cell_type": "code",
      "source": [
        "from pyspark.sql.functions import split\n",
        "\n",
        "# Split strings into lists\n",
        "combined_df = combined_df.withColumn(\"mbti_type_related\", split(combined_df[\"mbti_type_related\"], \", \"))\n"
      ],
      "outputs": [
        {
          "output_type": "display_data",
          "data": {
            "application/vnd.livy.statement-meta+json": {
              "spark_pool": "80dcc4b2-bc50-4e81-91e5-397b7f13252e",
              "session_id": "26",
              "statement_id": 25,
              "state": "finished",
              "livy_statement_state": "available",
              "queued_time": "2023-11-28T23:58:14.6961809Z",
              "session_start_time": null,
              "execution_start_time": "2023-11-28T23:58:14.8481125Z",
              "execution_finish_time": "2023-11-28T23:58:15.1478366Z",
              "spark_jobs": {
                "numbers": {
                  "FAILED": 0,
                  "UNKNOWN": 0,
                  "SUCCEEDED": 0,
                  "RUNNING": 0
                },
                "jobs": [],
                "limit": 20,
                "rule": "ALL_DESC"
              },
              "parent_msg_id": "1733f60a-9df6-4d30-a7ec-ba522d2e7334"
            },
            "text/plain": "StatementMeta(80dcc4b2-bc50-4e81-91e5-397b7f13252e, 26, 25, Finished, Available)"
          },
          "metadata": {}
        }
      ],
      "execution_count": 20,
      "metadata": {
        "gather": {
          "logged": 1701215895267
        },
        "jupyter": {
          "outputs_hidden": false,
          "source_hidden": false
        },
        "nteract": {
          "transient": {
            "deleting": false
          }
        }
      }
    },
    {
      "cell_type": "code",
      "source": [
        "from pyspark.sql.functions import array_distinct\n",
        "combined_df = combined_df.withColumn(\"mbti_type_related\", array_distinct(\"mbti_type_related\"))"
      ],
      "outputs": [
        {
          "output_type": "display_data",
          "data": {
            "application/vnd.livy.statement-meta+json": {
              "spark_pool": "80dcc4b2-bc50-4e81-91e5-397b7f13252e",
              "session_id": "26",
              "statement_id": 26,
              "state": "finished",
              "livy_statement_state": "available",
              "queued_time": "2023-11-28T23:58:19.825847Z",
              "session_start_time": null,
              "execution_start_time": "2023-11-28T23:58:19.9946279Z",
              "execution_finish_time": "2023-11-28T23:58:20.291393Z",
              "spark_jobs": {
                "numbers": {
                  "FAILED": 0,
                  "UNKNOWN": 0,
                  "SUCCEEDED": 0,
                  "RUNNING": 0
                },
                "jobs": [],
                "limit": 20,
                "rule": "ALL_DESC"
              },
              "parent_msg_id": "049e2035-3cac-4174-9bef-8187fbd780e5"
            },
            "text/plain": "StatementMeta(80dcc4b2-bc50-4e81-91e5-397b7f13252e, 26, 26, Finished, Available)"
          },
          "metadata": {}
        }
      ],
      "execution_count": 21,
      "metadata": {
        "gather": {
          "logged": 1701215900440
        },
        "jupyter": {
          "outputs_hidden": false,
          "source_hidden": false
        },
        "nteract": {
          "transient": {
            "deleting": false
          }
        }
      }
    },
    {
      "cell_type": "code",
      "source": [
        "from pyspark.ml.fpm import FPGrowth\n",
        "\n",
        "# Create FP-Growth models\n",
        "fpGrowth = FPGrowth(itemsCol=\"mbti_type_related\", minSupport=0.01, minConfidence=0.1)\n",
        "\n",
        "# Training models\n",
        "model = fpGrowth.fit(combined_df)\n",
        "\n",
        "# View frequent itemsets\n",
        "model.freqItemsets.show()"
      ],
      "outputs": [
        {
          "output_type": "display_data",
          "data": {
            "application/vnd.livy.statement-meta+json": {
              "spark_pool": "80dcc4b2-bc50-4e81-91e5-397b7f13252e",
              "session_id": "26",
              "statement_id": 27,
              "state": "finished",
              "livy_statement_state": "available",
              "queued_time": "2023-11-28T23:58:23.9493746Z",
              "session_start_time": null,
              "execution_start_time": "2023-11-28T23:58:24.1449131Z",
              "execution_finish_time": "2023-11-28T23:58:38.9799768Z",
              "spark_jobs": {
                "numbers": {
                  "FAILED": 0,
                  "UNKNOWN": 0,
                  "SUCCEEDED": 6,
                  "RUNNING": 0
                },
                "jobs": [
                  {
                    "displayName": "showString at NativeMethodAccessorImpl.java:0",
                    "dataWritten": 0,
                    "dataRead": 69422,
                    "rowCount": 48,
                    "usageDescription": "",
                    "jobId": 18,
                    "name": "showString at NativeMethodAccessorImpl.java:0",
                    "description": "Job group for statement 27:\nfrom pyspark.ml.fpm import FPGrowth\n\n# Create FP-Growth models\nfpGrowth = FPGrowth(itemsCol=\"mbti_type_related\", minSupport=0.01, minConfidence=0.1)\n\n# Training models\nmodel = fpGrowth.fit(combined_df)\n\n# View frequent itemsets\nmodel.freqItemsets.show()",
                    "submissionTime": "2023-11-28T23:58:36.984GMT",
                    "completionTime": "2023-11-28T23:58:37.112GMT",
                    "stageIds": [
                      24,
                      25
                    ],
                    "jobGroup": "27",
                    "status": "SUCCEEDED",
                    "numTasks": 19,
                    "numActiveTasks": 0,
                    "numCompletedTasks": 3,
                    "numSkippedTasks": 16,
                    "numFailedTasks": 0,
                    "numKilledTasks": 0,
                    "numCompletedIndices": 3,
                    "numActiveStages": 0,
                    "numCompletedStages": 1,
                    "numSkippedStages": 1,
                    "numFailedStages": 0,
                    "killedTasksSummary": {}
                  },
                  {
                    "displayName": "showString at NativeMethodAccessorImpl.java:0",
                    "dataWritten": 0,
                    "dataRead": 20286,
                    "rowCount": 64,
                    "usageDescription": "",
                    "jobId": 17,
                    "name": "showString at NativeMethodAccessorImpl.java:0",
                    "description": "Job group for statement 27:\nfrom pyspark.ml.fpm import FPGrowth\n\n# Create FP-Growth models\nfpGrowth = FPGrowth(itemsCol=\"mbti_type_related\", minSupport=0.01, minConfidence=0.1)\n\n# Training models\nmodel = fpGrowth.fit(combined_df)\n\n# View frequent itemsets\nmodel.freqItemsets.show()",
                    "submissionTime": "2023-11-28T23:58:36.684GMT",
                    "completionTime": "2023-11-28T23:58:36.975GMT",
                    "stageIds": [
                      22,
                      23
                    ],
                    "jobGroup": "27",
                    "status": "SUCCEEDED",
                    "numTasks": 20,
                    "numActiveTasks": 0,
                    "numCompletedTasks": 4,
                    "numSkippedTasks": 16,
                    "numFailedTasks": 0,
                    "numKilledTasks": 0,
                    "numCompletedIndices": 4,
                    "numActiveStages": 0,
                    "numCompletedStages": 1,
                    "numSkippedStages": 1,
                    "numFailedStages": 0,
                    "killedTasksSummary": {}
                  },
                  {
                    "displayName": "showString at NativeMethodAccessorImpl.java:0",
                    "dataWritten": 1003359,
                    "dataRead": 118265227,
                    "rowCount": 339,
                    "usageDescription": "",
                    "jobId": 16,
                    "name": "showString at NativeMethodAccessorImpl.java:0",
                    "description": "Job group for statement 27:\nfrom pyspark.ml.fpm import FPGrowth\n\n# Create FP-Growth models\nfpGrowth = FPGrowth(itemsCol=\"mbti_type_related\", minSupport=0.01, minConfidence=0.1)\n\n# Training models\nmodel = fpGrowth.fit(combined_df)\n\n# View frequent itemsets\nmodel.freqItemsets.show()",
                    "submissionTime": "2023-11-28T23:58:34.301GMT",
                    "completionTime": "2023-11-28T23:58:36.676GMT",
                    "stageIds": [
                      20,
                      21
                    ],
                    "jobGroup": "27",
                    "status": "SUCCEEDED",
                    "numTasks": 17,
                    "numActiveTasks": 0,
                    "numCompletedTasks": 17,
                    "numSkippedTasks": 0,
                    "numFailedTasks": 0,
                    "numKilledTasks": 0,
                    "numCompletedIndices": 17,
                    "numActiveStages": 0,
                    "numCompletedStages": 2,
                    "numSkippedStages": 0,
                    "numFailedStages": 0,
                    "killedTasksSummary": {}
                  },
                  {
                    "displayName": "collect at FPGrowth.scala:254",
                    "dataWritten": 11970,
                    "dataRead": 52561778,
                    "rowCount": 541338,
                    "usageDescription": "",
                    "jobId": 15,
                    "name": "collect at FPGrowth.scala:254",
                    "description": "Job group for statement 27:\nfrom pyspark.ml.fpm import FPGrowth\n\n# Create FP-Growth models\nfpGrowth = FPGrowth(itemsCol=\"mbti_type_related\", minSupport=0.01, minConfidence=0.1)\n\n# Training models\nmodel = fpGrowth.fit(combined_df)\n\n# View frequent itemsets\nmodel.freqItemsets.show()",
                    "submissionTime": "2023-11-28T23:58:33.158GMT",
                    "completionTime": "2023-11-28T23:58:34.182GMT",
                    "stageIds": [
                      19,
                      18
                    ],
                    "jobGroup": "27",
                    "status": "SUCCEEDED",
                    "numTasks": 32,
                    "numActiveTasks": 0,
                    "numCompletedTasks": 32,
                    "numSkippedTasks": 0,
                    "numFailedTasks": 0,
                    "numKilledTasks": 0,
                    "numCompletedIndices": 32,
                    "numActiveStages": 0,
                    "numCompletedStages": 2,
                    "numSkippedStages": 0,
                    "numFailedStages": 0,
                    "killedTasksSummary": {}
                  },
                  {
                    "displayName": "count at FPGrowth.scala:215",
                    "dataWritten": 0,
                    "dataRead": 51719530,
                    "rowCount": 540780,
                    "usageDescription": "",
                    "jobId": 14,
                    "name": "count at FPGrowth.scala:215",
                    "description": "Job group for statement 27:\nfrom pyspark.ml.fpm import FPGrowth\n\n# Create FP-Growth models\nfpGrowth = FPGrowth(itemsCol=\"mbti_type_related\", minSupport=0.01, minConfidence=0.1)\n\n# Training models\nmodel = fpGrowth.fit(combined_df)\n\n# View frequent itemsets\nmodel.freqItemsets.show()",
                    "submissionTime": "2023-11-28T23:58:32.794GMT",
                    "completionTime": "2023-11-28T23:58:33.091GMT",
                    "stageIds": [
                      17
                    ],
                    "jobGroup": "27",
                    "status": "SUCCEEDED",
                    "numTasks": 16,
                    "numActiveTasks": 0,
                    "numCompletedTasks": 16,
                    "numSkippedTasks": 0,
                    "numFailedTasks": 0,
                    "numKilledTasks": 0,
                    "numCompletedIndices": 16,
                    "numActiveStages": 0,
                    "numCompletedStages": 1,
                    "numSkippedStages": 0,
                    "numFailedStages": 0,
                    "killedTasksSummary": {}
                  },
                  {
                    "displayName": "count at FPGrowth.scala:178",
                    "dataWritten": 0,
                    "dataRead": 68667935,
                    "rowCount": 460392,
                    "usageDescription": "",
                    "jobId": 13,
                    "name": "count at FPGrowth.scala:178",
                    "description": "Job group for statement 27:\nfrom pyspark.ml.fpm import FPGrowth\n\n# Create FP-Growth models\nfpGrowth = FPGrowth(itemsCol=\"mbti_type_related\", minSupport=0.01, minConfidence=0.1)\n\n# Training models\nmodel = fpGrowth.fit(combined_df)\n\n# View frequent itemsets\nmodel.freqItemsets.show()",
                    "submissionTime": "2023-11-28T23:58:25.776GMT",
                    "completionTime": "2023-11-28T23:58:32.771GMT",
                    "stageIds": [
                      16
                    ],
                    "jobGroup": "27",
                    "status": "SUCCEEDED",
                    "numTasks": 16,
                    "numActiveTasks": 0,
                    "numCompletedTasks": 16,
                    "numSkippedTasks": 0,
                    "numFailedTasks": 0,
                    "numKilledTasks": 0,
                    "numCompletedIndices": 16,
                    "numActiveStages": 0,
                    "numCompletedStages": 1,
                    "numSkippedStages": 0,
                    "numFailedStages": 0,
                    "killedTasksSummary": {}
                  }
                ],
                "limit": 20,
                "rule": "ALL_DESC"
              },
              "parent_msg_id": "c186f770-1a21-4e96-a9c3-20c6616458d6"
            },
            "text/plain": "StatementMeta(80dcc4b2-bc50-4e81-91e5-397b7f13252e, 26, 27, Finished, Available)"
          },
          "metadata": {}
        },
        {
          "output_type": "stream",
          "name": "stderr",
          "text": "/opt/spark/python/lib/pyspark.zip/pyspark/sql/context.py:125: FutureWarning: Deprecated in 3.0.0. Use SparkSession.builder.getOrCreate() instead.\n"
        },
        {
          "output_type": "stream",
          "name": "stdout",
          "text": "+------------+-----+\n|       items| freq|\n+------------+-----+\n|      [INFP]|96834|\n|      [INTP]|89646|\n|[INTP, INFP]|11639|\n|      [INTJ]|83758|\n|[INTJ, INTP]|12858|\n|[INTJ, INFP]| 8479|\n|      [INFJ]|78067|\n|[INFJ, INTJ]|10971|\n|[INFJ, INTP]| 8329|\n|[INFJ, INFP]|12142|\n|      [ENTP]|72500|\n|[ENTP, INTJ]| 8368|\n|[ENTP, INTP]|11257|\n|[ENTP, INFJ]| 7251|\n|[ENTP, INFP]| 7095|\n|      [ENFP]|59497|\n|[ENFP, INTJ]| 6772|\n|[ENFP, ENTP]| 9222|\n|[ENFP, INTP]| 6413|\n|[ENFP, INFJ]| 7326|\n+------------+-----+\nonly showing top 20 rows\n\n"
        }
      ],
      "execution_count": 22,
      "metadata": {
        "gather": {
          "logged": 1701215919232
        },
        "jupyter": {
          "outputs_hidden": false,
          "source_hidden": false
        },
        "nteract": {
          "transient": {
            "deleting": false
          }
        }
      }
    },
    {
      "cell_type": "code",
      "source": [
        "frequent_itemsets_df = model.freqItemsets.toPandas()\n",
        "frequent_itemsets_df"
      ],
      "outputs": [
        {
          "output_type": "display_data",
          "data": {
            "application/vnd.livy.statement-meta+json": {
              "spark_pool": "80dcc4b2-bc50-4e81-91e5-397b7f13252e",
              "session_id": "26",
              "statement_id": 32,
              "state": "finished",
              "livy_statement_state": "available",
              "queued_time": "2023-11-29T00:07:35.8901475Z",
              "session_start_time": null,
              "execution_start_time": "2023-11-29T00:07:36.0000933Z",
              "execution_finish_time": "2023-11-29T00:07:36.8556097Z",
              "spark_jobs": {
                "numbers": {
                  "FAILED": 0,
                  "UNKNOWN": 0,
                  "SUCCEEDED": 1,
                  "RUNNING": 0
                },
                "jobs": [
                  {
                    "displayName": "toPandas at /tmp/ipykernel_7226/3558808142.py:1",
                    "dataWritten": 0,
                    "dataRead": 1003359,
                    "rowCount": 256,
                    "usageDescription": "",
                    "jobId": 20,
                    "name": "toPandas at /tmp/ipykernel_7226/3558808142.py:1",
                    "description": "Job group for statement 32:\nfrequent_itemsets_df = model.freqItemsets.toPandas()\nfrequent_itemsets_df",
                    "submissionTime": "2023-11-29T00:07:36.053GMT",
                    "completionTime": "2023-11-29T00:07:36.520GMT",
                    "stageIds": [
                      28,
                      29
                    ],
                    "jobGroup": "32",
                    "status": "SUCCEEDED",
                    "numTasks": 32,
                    "numActiveTasks": 0,
                    "numCompletedTasks": 16,
                    "numSkippedTasks": 16,
                    "numFailedTasks": 0,
                    "numKilledTasks": 0,
                    "numCompletedIndices": 16,
                    "numActiveStages": 0,
                    "numCompletedStages": 1,
                    "numSkippedStages": 1,
                    "numFailedStages": 0,
                    "killedTasksSummary": {}
                  }
                ],
                "limit": 20,
                "rule": "ALL_DESC"
              },
              "parent_msg_id": "96c72db2-83fe-4b88-a6b5-39be97df35dc"
            },
            "text/plain": "StatementMeta(80dcc4b2-bc50-4e81-91e5-397b7f13252e, 26, 32, Finished, Available)"
          },
          "metadata": {}
        },
        {
          "output_type": "stream",
          "name": "stderr",
          "text": "/opt/spark/python/lib/pyspark.zip/pyspark/sql/context.py:125: FutureWarning: Deprecated in 3.0.0. Use SparkSession.builder.getOrCreate() instead.\n"
        },
        {
          "output_type": "execute_result",
          "execution_count": 63,
          "data": {
            "text/plain": "           items   freq\n0         [INFP]  96834\n1         [INTP]  89646\n2   [INTP, INFP]  11639\n3         [INTJ]  83758\n4   [INTJ, INTP]  12858\n5   [INTJ, INFP]   8479\n6         [INFJ]  78067\n7   [INFJ, INTJ]  10971\n8   [INFJ, INTP]   8329\n9   [INFJ, INFP]  12142\n10        [ENTP]  72500\n11  [ENTP, INTJ]   8368\n12  [ENTP, INTP]  11257\n13  [ENTP, INFJ]   7251\n14  [ENTP, INFP]   7095\n15        [ENFP]  59497\n16  [ENFP, INTJ]   6772\n17  [ENFP, ENTP]   9222\n18  [ENFP, INTP]   6413\n19  [ENFP, INFJ]   7326\n20  [ENFP, INFP]  10116\n21        [ISTP]  43076\n22  [ISTP, INTJ]   5796\n23  [ISTP, INTP]   7784\n24        [ENTJ]  42583\n25  [ENTJ, INTJ]   7988\n26  [ENTJ, ENTP]   6413\n27  [ENTJ, INTP]   5815\n28        [ISFP]  31202\n29  [ISFP, INFP]   7337\n30        [ENFJ]  30902\n31  [ENFJ, INFJ]   6270\n32  [ENFJ, INFP]   5640\n33        [ISTJ]  30611\n34  [ISTJ, INTJ]   5999\n35        [ESTP]  29315\n36  [ESTP, ENTP]   5833\n37        [ISFJ]  26928\n38        [ESFP]  25650\n39        [ESTJ]  24647\n40        [ESFJ]  20580",
            "text/html": "<div>\n<style scoped>\n    .dataframe tbody tr th:only-of-type {\n        vertical-align: middle;\n    }\n\n    .dataframe tbody tr th {\n        vertical-align: top;\n    }\n\n    .dataframe thead th {\n        text-align: right;\n    }\n</style>\n<table border=\"1\" class=\"dataframe\">\n  <thead>\n    <tr style=\"text-align: right;\">\n      <th></th>\n      <th>items</th>\n      <th>freq</th>\n    </tr>\n  </thead>\n  <tbody>\n    <tr>\n      <th>0</th>\n      <td>[INFP]</td>\n      <td>96834</td>\n    </tr>\n    <tr>\n      <th>1</th>\n      <td>[INTP]</td>\n      <td>89646</td>\n    </tr>\n    <tr>\n      <th>2</th>\n      <td>[INTP, INFP]</td>\n      <td>11639</td>\n    </tr>\n    <tr>\n      <th>3</th>\n      <td>[INTJ]</td>\n      <td>83758</td>\n    </tr>\n    <tr>\n      <th>4</th>\n      <td>[INTJ, INTP]</td>\n      <td>12858</td>\n    </tr>\n    <tr>\n      <th>5</th>\n      <td>[INTJ, INFP]</td>\n      <td>8479</td>\n    </tr>\n    <tr>\n      <th>6</th>\n      <td>[INFJ]</td>\n      <td>78067</td>\n    </tr>\n    <tr>\n      <th>7</th>\n      <td>[INFJ, INTJ]</td>\n      <td>10971</td>\n    </tr>\n    <tr>\n      <th>8</th>\n      <td>[INFJ, INTP]</td>\n      <td>8329</td>\n    </tr>\n    <tr>\n      <th>9</th>\n      <td>[INFJ, INFP]</td>\n      <td>12142</td>\n    </tr>\n    <tr>\n      <th>10</th>\n      <td>[ENTP]</td>\n      <td>72500</td>\n    </tr>\n    <tr>\n      <th>11</th>\n      <td>[ENTP, INTJ]</td>\n      <td>8368</td>\n    </tr>\n    <tr>\n      <th>12</th>\n      <td>[ENTP, INTP]</td>\n      <td>11257</td>\n    </tr>\n    <tr>\n      <th>13</th>\n      <td>[ENTP, INFJ]</td>\n      <td>7251</td>\n    </tr>\n    <tr>\n      <th>14</th>\n      <td>[ENTP, INFP]</td>\n      <td>7095</td>\n    </tr>\n    <tr>\n      <th>15</th>\n      <td>[ENFP]</td>\n      <td>59497</td>\n    </tr>\n    <tr>\n      <th>16</th>\n      <td>[ENFP, INTJ]</td>\n      <td>6772</td>\n    </tr>\n    <tr>\n      <th>17</th>\n      <td>[ENFP, ENTP]</td>\n      <td>9222</td>\n    </tr>\n    <tr>\n      <th>18</th>\n      <td>[ENFP, INTP]</td>\n      <td>6413</td>\n    </tr>\n    <tr>\n      <th>19</th>\n      <td>[ENFP, INFJ]</td>\n      <td>7326</td>\n    </tr>\n    <tr>\n      <th>20</th>\n      <td>[ENFP, INFP]</td>\n      <td>10116</td>\n    </tr>\n    <tr>\n      <th>21</th>\n      <td>[ISTP]</td>\n      <td>43076</td>\n    </tr>\n    <tr>\n      <th>22</th>\n      <td>[ISTP, INTJ]</td>\n      <td>5796</td>\n    </tr>\n    <tr>\n      <th>23</th>\n      <td>[ISTP, INTP]</td>\n      <td>7784</td>\n    </tr>\n    <tr>\n      <th>24</th>\n      <td>[ENTJ]</td>\n      <td>42583</td>\n    </tr>\n    <tr>\n      <th>25</th>\n      <td>[ENTJ, INTJ]</td>\n      <td>7988</td>\n    </tr>\n    <tr>\n      <th>26</th>\n      <td>[ENTJ, ENTP]</td>\n      <td>6413</td>\n    </tr>\n    <tr>\n      <th>27</th>\n      <td>[ENTJ, INTP]</td>\n      <td>5815</td>\n    </tr>\n    <tr>\n      <th>28</th>\n      <td>[ISFP]</td>\n      <td>31202</td>\n    </tr>\n    <tr>\n      <th>29</th>\n      <td>[ISFP, INFP]</td>\n      <td>7337</td>\n    </tr>\n    <tr>\n      <th>30</th>\n      <td>[ENFJ]</td>\n      <td>30902</td>\n    </tr>\n    <tr>\n      <th>31</th>\n      <td>[ENFJ, INFJ]</td>\n      <td>6270</td>\n    </tr>\n    <tr>\n      <th>32</th>\n      <td>[ENFJ, INFP]</td>\n      <td>5640</td>\n    </tr>\n    <tr>\n      <th>33</th>\n      <td>[ISTJ]</td>\n      <td>30611</td>\n    </tr>\n    <tr>\n      <th>34</th>\n      <td>[ISTJ, INTJ]</td>\n      <td>5999</td>\n    </tr>\n    <tr>\n      <th>35</th>\n      <td>[ESTP]</td>\n      <td>29315</td>\n    </tr>\n    <tr>\n      <th>36</th>\n      <td>[ESTP, ENTP]</td>\n      <td>5833</td>\n    </tr>\n    <tr>\n      <th>37</th>\n      <td>[ISFJ]</td>\n      <td>26928</td>\n    </tr>\n    <tr>\n      <th>38</th>\n      <td>[ESFP]</td>\n      <td>25650</td>\n    </tr>\n    <tr>\n      <th>39</th>\n      <td>[ESTJ]</td>\n      <td>24647</td>\n    </tr>\n    <tr>\n      <th>40</th>\n      <td>[ESFJ]</td>\n      <td>20580</td>\n    </tr>\n  </tbody>\n</table>\n</div>"
          },
          "metadata": {}
        }
      ],
      "execution_count": 27,
      "metadata": {
        "jupyter": {
          "source_hidden": false,
          "outputs_hidden": false
        },
        "nteract": {
          "transient": {
            "deleting": false
          }
        },
        "gather": {
          "logged": 1701216457079
        }
      }
    },
    {
      "cell_type": "code",
      "source": [
        "model.freqItemsets.count()"
      ],
      "outputs": [
        {
          "output_type": "display_data",
          "data": {
            "application/vnd.livy.statement-meta+json": {
              "execution_finish_time": "2023-11-15T22:43:53.5784168Z",
              "execution_start_time": "2023-11-15T22:43:52.7673447Z",
              "livy_statement_state": "available",
              "parent_msg_id": "0276f6ff-fcad-47a0-9b87-8e4543729538",
              "queued_time": "2023-11-15T22:43:52.5883288Z",
              "session_id": "19",
              "session_start_time": null,
              "spark_jobs": {
                "jobs": [
                  {
                    "completionTime": "2023-11-15T22:43:53.214GMT",
                    "dataRead": 944,
                    "dataWritten": 0,
                    "description": "Job group for statement 51:\nmodel.freqItemsets.count()",
                    "displayName": "count at NativeMethodAccessorImpl.java:0",
                    "jobGroup": "51",
                    "jobId": 43,
                    "killedTasksSummary": {},
                    "name": "count at NativeMethodAccessorImpl.java:0",
                    "numActiveStages": 0,
                    "numActiveTasks": 0,
                    "numCompletedIndices": 1,
                    "numCompletedStages": 1,
                    "numCompletedTasks": 1,
                    "numFailedStages": 0,
                    "numFailedTasks": 0,
                    "numKilledTasks": 0,
                    "numSkippedStages": 2,
                    "numSkippedTasks": 32,
                    "numTasks": 33,
                    "rowCount": 16,
                    "stageIds": [
                      125,
                      126,
                      127
                    ],
                    "status": "SUCCEEDED",
                    "submissionTime": "2023-11-15T22:43:53.173GMT",
                    "usageDescription": ""
                  },
                  {
                    "completionTime": "2023-11-15T22:43:53.121GMT",
                    "dataRead": 1003359,
                    "dataWritten": 944,
                    "description": "Job group for statement 51:\nmodel.freqItemsets.count()",
                    "displayName": "count at NativeMethodAccessorImpl.java:0",
                    "jobGroup": "51",
                    "jobId": 42,
                    "killedTasksSummary": {},
                    "name": "count at NativeMethodAccessorImpl.java:0",
                    "numActiveStages": 0,
                    "numActiveTasks": 0,
                    "numCompletedIndices": 16,
                    "numCompletedStages": 1,
                    "numCompletedTasks": 16,
                    "numFailedStages": 0,
                    "numFailedTasks": 0,
                    "numKilledTasks": 0,
                    "numSkippedStages": 1,
                    "numSkippedTasks": 16,
                    "numTasks": 32,
                    "rowCount": 272,
                    "stageIds": [
                      123,
                      124
                    ],
                    "status": "SUCCEEDED",
                    "submissionTime": "2023-11-15T22:43:52.790GMT",
                    "usageDescription": ""
                  }
                ],
                "limit": 20,
                "numbers": {
                  "FAILED": 0,
                  "RUNNING": 0,
                  "SUCCEEDED": 2,
                  "UNKNOWN": 0
                },
                "rule": "ALL_DESC"
              },
              "spark_pool": "80dcc4b2-bc50-4e81-91e5-397b7f13252e",
              "state": "finished",
              "statement_id": 51
            },
            "text/plain": "StatementMeta(80dcc4b2-bc50-4e81-91e5-397b7f13252e, 19, 51, Finished, Available)"
          },
          "metadata": {}
        },
        {
          "output_type": "stream",
          "name": "stderr",
          "text": "/opt/spark/python/lib/pyspark.zip/pyspark/sql/context.py:125: FutureWarning:\n\nDeprecated in 3.0.0. Use SparkSession.builder.getOrCreate() instead.\n\n"
        },
        {
          "output_type": "execute_result",
          "execution_count": 101,
          "data": {
            "text/plain": "41"
          },
          "metadata": {}
        }
      ],
      "execution_count": 46,
      "metadata": {
        "gather": {
          "logged": 1700088233839
        },
        "jupyter": {
          "outputs_hidden": false,
          "source_hidden": false
        },
        "nteract": {
          "transient": {
            "deleting": false
          }
        }
      }
    },
    {
      "cell_type": "code",
      "source": [
        "#save the freqitemsets as csv\n",
        "frequent_itemsets_df.to_csv(\"Users/xx123/fall-2023-reddit-project-team-10/data/csv/fp_growth_freqitemsets.csv\", header=True)"
      ],
      "outputs": [
        {
          "output_type": "display_data",
          "data": {
            "application/vnd.livy.statement-meta+json": {
              "spark_pool": "80dcc4b2-bc50-4e81-91e5-397b7f13252e",
              "session_id": "26",
              "statement_id": 33,
              "state": "finished",
              "livy_statement_state": "available",
              "queued_time": "2023-11-29T00:08:07.1650001Z",
              "session_start_time": null,
              "execution_start_time": "2023-11-29T00:08:07.3379832Z",
              "execution_finish_time": "2023-11-29T00:08:21.742863Z",
              "spark_jobs": {
                "numbers": {
                  "FAILED": 0,
                  "UNKNOWN": 0,
                  "SUCCEEDED": 0,
                  "RUNNING": 0
                },
                "jobs": [],
                "limit": 20,
                "rule": "ALL_DESC"
              },
              "parent_msg_id": "8b4df111-442a-4629-9697-60c7d74661ed"
            },
            "text/plain": "StatementMeta(80dcc4b2-bc50-4e81-91e5-397b7f13252e, 26, 33, Finished, Available)"
          },
          "metadata": {}
        }
      ],
      "execution_count": 28,
      "metadata": {
        "jupyter": {
          "source_hidden": false,
          "outputs_hidden": false
        },
        "nteract": {
          "transient": {
            "deleting": false
          }
        },
        "gather": {
          "logged": 1701216501949
        }
      }
    },
    {
      "cell_type": "code",
      "source": [
        "# check the associationRules\n",
        "model.associationRules.show()"
      ],
      "outputs": [
        {
          "output_type": "display_data",
          "data": {
            "application/vnd.livy.statement-meta+json": {
              "spark_pool": "80dcc4b2-bc50-4e81-91e5-397b7f13252e",
              "session_id": "26",
              "statement_id": 34,
              "state": "finished",
              "livy_statement_state": "available",
              "queued_time": "2023-11-29T00:13:05.418906Z",
              "session_start_time": null,
              "execution_start_time": "2023-11-29T00:13:05.6088765Z",
              "execution_finish_time": "2023-11-29T00:13:08.2568262Z",
              "spark_jobs": {
                "numbers": {
                  "FAILED": 0,
                  "UNKNOWN": 0,
                  "SUCCEEDED": 3,
                  "RUNNING": 0
                },
                "jobs": [
                  {
                    "displayName": "showString at NativeMethodAccessorImpl.java:0",
                    "dataWritten": 0,
                    "dataRead": 4081,
                    "rowCount": 69,
                    "usageDescription": "",
                    "jobId": 23,
                    "name": "showString at NativeMethodAccessorImpl.java:0",
                    "description": "Job group for statement 34:\n# check the associationRules\nmodel.associationRules.show()",
                    "submissionTime": "2023-11-29T00:13:07.110GMT",
                    "completionTime": "2023-11-29T00:13:07.338GMT",
                    "stageIds": [
                      38,
                      39,
                      40,
                      41
                    ],
                    "jobGroup": "34",
                    "status": "SUCCEEDED",
                    "numTasks": 59,
                    "numActiveTasks": 0,
                    "numCompletedTasks": 11,
                    "numSkippedTasks": 48,
                    "numFailedTasks": 0,
                    "numKilledTasks": 0,
                    "numCompletedIndices": 11,
                    "numActiveStages": 0,
                    "numCompletedStages": 1,
                    "numSkippedStages": 3,
                    "numFailedStages": 0,
                    "killedTasksSummary": {}
                  },
                  {
                    "displayName": "showString at NativeMethodAccessorImpl.java:0",
                    "dataWritten": 0,
                    "dataRead": 1093,
                    "rowCount": 21,
                    "usageDescription": "",
                    "jobId": 22,
                    "name": "showString at NativeMethodAccessorImpl.java:0",
                    "description": "Job group for statement 34:\n# check the associationRules\nmodel.associationRules.show()",
                    "submissionTime": "2023-11-29T00:13:06.855GMT",
                    "completionTime": "2023-11-29T00:13:07.096GMT",
                    "stageIds": [
                      37,
                      34,
                      35,
                      36
                    ],
                    "jobGroup": "34",
                    "status": "SUCCEEDED",
                    "numTasks": 52,
                    "numActiveTasks": 0,
                    "numCompletedTasks": 4,
                    "numSkippedTasks": 48,
                    "numFailedTasks": 0,
                    "numKilledTasks": 0,
                    "numCompletedIndices": 4,
                    "numActiveStages": 0,
                    "numCompletedStages": 1,
                    "numSkippedStages": 3,
                    "numFailedStages": 0,
                    "killedTasksSummary": {}
                  },
                  {
                    "displayName": "showString at NativeMethodAccessorImpl.java:0",
                    "dataWritten": 5241,
                    "dataRead": 2006785,
                    "rowCount": 604,
                    "usageDescription": "",
                    "jobId": 21,
                    "name": "showString at NativeMethodAccessorImpl.java:0",
                    "description": "Job group for statement 34:\n# check the associationRules\nmodel.associationRules.show()",
                    "submissionTime": "2023-11-29T00:13:05.748GMT",
                    "completionTime": "2023-11-29T00:13:06.846GMT",
                    "stageIds": [
                      33,
                      30,
                      31,
                      32
                    ],
                    "jobGroup": "34",
                    "status": "SUCCEEDED",
                    "numTasks": 49,
                    "numActiveTasks": 0,
                    "numCompletedTasks": 33,
                    "numSkippedTasks": 16,
                    "numFailedTasks": 0,
                    "numKilledTasks": 0,
                    "numCompletedIndices": 33,
                    "numActiveStages": 0,
                    "numCompletedStages": 3,
                    "numSkippedStages": 1,
                    "numFailedStages": 0,
                    "killedTasksSummary": {}
                  }
                ],
                "limit": 20,
                "rule": "ALL_DESC"
              },
              "parent_msg_id": "1ca69bd8-c534-4b12-adb9-c70edf7eb08b"
            },
            "text/plain": "StatementMeta(80dcc4b2-bc50-4e81-91e5-397b7f13252e, 26, 34, Finished, Available)"
          },
          "metadata": {}
        },
        {
          "output_type": "stream",
          "name": "stderr",
          "text": "/opt/spark/python/lib/pyspark.zip/pyspark/sql/context.py:125: FutureWarning: Deprecated in 3.0.0. Use SparkSession.builder.getOrCreate() instead.\n"
        },
        {
          "output_type": "stream",
          "name": "stdout",
          "text": "+----------+----------+-------------------+------------------+--------------------+\n|antecedent|consequent|         confidence|              lift|             support|\n+----------+----------+-------------------+------------------+--------------------+\n|    [ISTP]|    [INTJ]| 0.1345528832760702| 0.868735024929359|0.010717851991567735|\n|    [ISTP]|    [INTP]|0.18070387222583342|1.0900769696616268|0.014394023447612708|\n|    [ENTJ]|    [INTJ]|0.18758659558978935|1.2111449552645275|0.014771256333444284|\n|    [ENTJ]|    [ENTP]|0.15060000469670995|1.1233306281363697|0.011858796553126964|\n|    [ENTJ]|    [INTP]|0.13655684193222647|0.8237646853190264|0.010752986427012834|\n|    [INFJ]|    [INTJ]|0.14053313179704613|0.9073462476803005| 0.02028736269832464|\n|    [INFJ]|    [INTP]|0.10669040695812572|0.6435985796891688|0.015401826990643144|\n|    [INFJ]|    [INFP]|0.15553306774949724|0.8685913251293257| 0.02245275343023041|\n|    [INFP]|    [INTP]|0.12019538591816924|0.7250659348641051|0.021522615481341767|\n|    [INFP]|    [INFJ]| 0.1253898424107235|0.8685913251293257| 0.02245275343023041|\n|    [INFP]|    [ENFP]|0.10446743912262221|0.9495252151996175| 0.01870631310329524|\n|    [INTJ]|    [INTP]|  0.153513694214284|0.9260551006983079|0.023776766892266727|\n|    [INTJ]|    [INFP]|0.10123212111081926|0.5653417854711036| 0.01567920411257813|\n|    [INTJ]|    [INFJ]|0.13098450297285036|0.9073462476803005| 0.02028736269832464|\n|    [ENTP]|    [INTJ]|0.11542068965517241|0.7452088224614262| 0.01547394504234624|\n|    [ENTP]|    [INTP]|0.15526896551724137|0.9366435889210204| 0.02081622841081401|\n|    [ENTP]|    [INFJ]|0.10001379310344828|0.6928082164612802|0.013408410074337069|\n|    [ENTP]|    [ENFP]|             0.1272|1.1561459569390053| 0.01705314545656274|\n|    [ENFP]|    [INTJ]|0.11382086491755887|0.7348796214107008|0.012522652464958024|\n|    [ENFP]|    [ENTP]|0.15499941173504547|1.1561459569390053| 0.01705314545656274|\n+----------+----------+-------------------+------------------+--------------------+\nonly showing top 20 rows\n\n"
        }
      ],
      "execution_count": 29,
      "metadata": {
        "gather": {
          "logged": 1701216788427
        },
        "jupyter": {
          "outputs_hidden": false,
          "source_hidden": false
        },
        "nteract": {
          "transient": {
            "deleting": false
          }
        }
      }
    },
    {
      "cell_type": "code",
      "source": [
        "model.associationRules.count()"
      ],
      "outputs": [
        {
          "output_type": "display_data",
          "data": {
            "application/vnd.livy.statement-meta+json": {
              "spark_pool": "80dcc4b2-bc50-4e81-91e5-397b7f13252e",
              "session_id": "26",
              "statement_id": 35,
              "state": "finished",
              "livy_statement_state": "available",
              "queued_time": "2023-11-29T00:13:11.9648953Z",
              "session_start_time": null,
              "execution_start_time": "2023-11-29T00:13:12.1086838Z",
              "execution_finish_time": "2023-11-29T00:13:13.0453363Z",
              "spark_jobs": {
                "numbers": {
                  "FAILED": 0,
                  "UNKNOWN": 0,
                  "SUCCEEDED": 2,
                  "RUNNING": 0
                },
                "jobs": [
                  {
                    "displayName": "count at NativeMethodAccessorImpl.java:0",
                    "dataWritten": 0,
                    "dataRead": 923,
                    "rowCount": 16,
                    "usageDescription": "",
                    "jobId": 25,
                    "name": "count at NativeMethodAccessorImpl.java:0",
                    "description": "Job group for statement 35:\nmodel.associationRules.count()",
                    "submissionTime": "2023-11-29T00:13:12.433GMT",
                    "completionTime": "2023-11-29T00:13:12.494GMT",
                    "stageIds": [
                      48,
                      49,
                      46,
                      50,
                      47
                    ],
                    "jobGroup": "35",
                    "status": "SUCCEEDED",
                    "numTasks": 65,
                    "numActiveTasks": 0,
                    "numCompletedTasks": 1,
                    "numSkippedTasks": 64,
                    "numFailedTasks": 0,
                    "numKilledTasks": 0,
                    "numCompletedIndices": 1,
                    "numActiveStages": 0,
                    "numCompletedStages": 1,
                    "numSkippedStages": 4,
                    "numFailedStages": 0,
                    "killedTasksSummary": {}
                  },
                  {
                    "displayName": "count at NativeMethodAccessorImpl.java:0",
                    "dataWritten": 923,
                    "dataRead": 5241,
                    "rowCount": 107,
                    "usageDescription": "",
                    "jobId": 24,
                    "name": "count at NativeMethodAccessorImpl.java:0",
                    "description": "Job group for statement 35:\nmodel.associationRules.count()",
                    "submissionTime": "2023-11-29T00:13:12.155GMT",
                    "completionTime": "2023-11-29T00:13:12.387GMT",
                    "stageIds": [
                      45,
                      42,
                      43,
                      44
                    ],
                    "jobGroup": "35",
                    "status": "SUCCEEDED",
                    "numTasks": 64,
                    "numActiveTasks": 0,
                    "numCompletedTasks": 16,
                    "numSkippedTasks": 48,
                    "numFailedTasks": 0,
                    "numKilledTasks": 0,
                    "numCompletedIndices": 16,
                    "numActiveStages": 0,
                    "numCompletedStages": 1,
                    "numSkippedStages": 3,
                    "numFailedStages": 0,
                    "killedTasksSummary": {}
                  }
                ],
                "limit": 20,
                "rule": "ALL_DESC"
              },
              "parent_msg_id": "340d0bb6-6e41-47d7-99a6-5fd8cf223941"
            },
            "text/plain": "StatementMeta(80dcc4b2-bc50-4e81-91e5-397b7f13252e, 26, 35, Finished, Available)"
          },
          "metadata": {}
        },
        {
          "output_type": "execute_result",
          "execution_count": 69,
          "data": {
            "text/plain": "31"
          },
          "metadata": {}
        }
      ],
      "execution_count": 30,
      "metadata": {
        "gather": {
          "logged": 1701216793202
        },
        "jupyter": {
          "outputs_hidden": false,
          "source_hidden": false
        },
        "nteract": {
          "transient": {
            "deleting": false
          }
        }
      }
    },
    {
      "cell_type": "markdown",
      "source": [
        "Since throughout our session, we preferred to discover the probability of another item occurring if the ISTP is known to occur, we use confidence for ranking here."
      ],
      "metadata": {
        "nteract": {
          "transient": {
            "deleting": false
          }
        }
      }
    },
    {
      "cell_type": "code",
      "source": [
        "from pyspark.sql.functions import col\n",
        "\n",
        "# Sorted in descending order of confidence\n",
        "conf_rules = model.associationRules.orderBy(col(\"confidence\").desc())\n",
        "\n",
        "# Show these rules\n",
        "conf_rules.show()\n"
      ],
      "outputs": [
        {
          "output_type": "display_data",
          "data": {
            "application/vnd.livy.statement-meta+json": {
              "spark_pool": "80dcc4b2-bc50-4e81-91e5-397b7f13252e",
              "session_id": "26",
              "statement_id": 36,
              "state": "finished",
              "livy_statement_state": "available",
              "queued_time": "2023-11-29T00:13:21.1055891Z",
              "session_start_time": null,
              "execution_start_time": "2023-11-29T00:13:21.2518828Z",
              "execution_finish_time": "2023-11-29T00:13:22.1145634Z",
              "spark_jobs": {
                "numbers": {
                  "FAILED": 0,
                  "UNKNOWN": 0,
                  "SUCCEEDED": 1,
                  "RUNNING": 0
                },
                "jobs": [
                  {
                    "displayName": "showString at NativeMethodAccessorImpl.java:0",
                    "dataWritten": 0,
                    "dataRead": 5241,
                    "rowCount": 91,
                    "usageDescription": "",
                    "jobId": 26,
                    "name": "showString at NativeMethodAccessorImpl.java:0",
                    "description": "Job group for statement 36:\nfrom pyspark.sql.functions import col\n\n# Sorted in descending order of confidence\nconf_rules = model.associationRules.orderBy(col(\"confidence\").desc())\n\n# Show these rules\nconf_rules.show()\n",
                    "submissionTime": "2023-11-29T00:13:21.341GMT",
                    "completionTime": "2023-11-29T00:13:21.665GMT",
                    "stageIds": [
                      51,
                      52,
                      53,
                      54
                    ],
                    "jobGroup": "36",
                    "status": "SUCCEEDED",
                    "numTasks": 64,
                    "numActiveTasks": 0,
                    "numCompletedTasks": 16,
                    "numSkippedTasks": 48,
                    "numFailedTasks": 0,
                    "numKilledTasks": 0,
                    "numCompletedIndices": 16,
                    "numActiveStages": 0,
                    "numCompletedStages": 1,
                    "numSkippedStages": 3,
                    "numFailedStages": 0,
                    "killedTasksSummary": {}
                  }
                ],
                "limit": 20,
                "rule": "ALL_DESC"
              },
              "parent_msg_id": "09a18b69-4f9f-4ae2-af1b-87f0d86e3c8f"
            },
            "text/plain": "StatementMeta(80dcc4b2-bc50-4e81-91e5-397b7f13252e, 26, 36, Finished, Available)"
          },
          "metadata": {}
        },
        {
          "output_type": "stream",
          "name": "stdout",
          "text": "+----------+----------+-------------------+------------------+--------------------+\n|antecedent|consequent|         confidence|              lift|             support|\n+----------+----------+-------------------+------------------+--------------------+\n|    [ISFP]|    [INFP]|0.23514518300108966|1.3131938375294758|0.013567439624246459|\n|    [ENFJ]|    [INFJ]|0.20289948870623262|1.4055104654022377|0.011594363696882281|\n|    [ESTP]|    [ENTP]| 0.1989766331229746|1.4841735677274785| 0.01078627168164503|\n|    [ISTJ]|    [INTJ]|0.19597530299565516|1.2653062913869768|0.011093235696586412|\n|    [ENTJ]|    [INTJ]|0.18758659558978935|1.2111449552645275|0.014771256333444284|\n|    [ENFJ]|    [INFP]| 0.1825124587405346|1.0192606670973656|0.010429379784755353|\n|    [ISTP]|    [INTP]|0.18070387222583342|1.0900769696616268|0.014394023447612708|\n|    [ENFP]|    [INFP]|0.17002537943089568|0.9495252151996176| 0.01870631310329524|\n|    [INFJ]|    [INFP]|0.15553306774949724|0.8685913251293257| 0.02245275343023041|\n|    [ENTP]|    [INTP]|0.15526896551724137|0.9366435889210204| 0.02081622841081401|\n|    [ENFP]|    [ENTP]|0.15499941173504547|1.1561459569390053| 0.01705314545656274|\n|    [INTJ]|    [INTP]|  0.153513694214284|0.9260551006983079|0.023776766892266727|\n|    [ENTJ]|    [ENTP]|0.15060000469670995|1.1233306281363697|0.011858796553126964|\n|    [INTP]|    [INTJ]|0.14343082792316444|0.9260551006983079|0.023776766892266727|\n|    [INFJ]|    [INTJ]|0.14053313179704613|0.9073462476803005| 0.02028736269832464|\n|    [ENTJ]|    [INTP]|0.13655684193222647|0.8237646853190264|0.010752986427012834|\n|    [ISTP]|    [INTJ]| 0.1345528832760702| 0.868735024929359|0.010717851991567735|\n|    [INTJ]|    [INFJ]|0.13098450297285036|0.9073462476803005| 0.02028736269832464|\n|    [INTP]|    [INFP]|0.12983289828882494|0.7250659348641051|0.021522615481341767|\n|    [ENTP]|    [ENFP]|             0.1272|1.1561459569390053| 0.01705314545656274|\n+----------+----------+-------------------+------------------+--------------------+\nonly showing top 20 rows\n\n"
        }
      ],
      "execution_count": 31,
      "metadata": {
        "gather": {
          "logged": 1701216802349
        },
        "jupyter": {
          "outputs_hidden": false,
          "source_hidden": false
        },
        "nteract": {
          "transient": {
            "deleting": false
          }
        }
      }
    },
    {
      "cell_type": "markdown",
      "source": [
        "But lift is also a good measure of whether this rule is valid and really relevant, so check this in descending order as well."
      ],
      "metadata": {
        "nteract": {
          "transient": {
            "deleting": false
          }
        }
      }
    },
    {
      "cell_type": "code",
      "source": [
        "# Sorted in descending order of lift\n",
        "lift_rules = model.associationRules.orderBy(col(\"lift\").desc())\n",
        "\n",
        "# Show these rules\n",
        "lift_rules.show()"
      ],
      "outputs": [
        {
          "output_type": "display_data",
          "data": {
            "application/vnd.livy.statement-meta+json": {
              "spark_pool": "80dcc4b2-bc50-4e81-91e5-397b7f13252e",
              "session_id": "26",
              "statement_id": 37,
              "state": "finished",
              "livy_statement_state": "available",
              "queued_time": "2023-11-29T00:13:25.9625441Z",
              "session_start_time": null,
              "execution_start_time": "2023-11-29T00:13:26.1565614Z",
              "execution_finish_time": "2023-11-29T00:13:27.0173584Z",
              "spark_jobs": {
                "numbers": {
                  "FAILED": 0,
                  "UNKNOWN": 0,
                  "SUCCEEDED": 1,
                  "RUNNING": 0
                },
                "jobs": [
                  {
                    "displayName": "showString at NativeMethodAccessorImpl.java:0",
                    "dataWritten": 0,
                    "dataRead": 5241,
                    "rowCount": 91,
                    "usageDescription": "",
                    "jobId": 27,
                    "name": "showString at NativeMethodAccessorImpl.java:0",
                    "description": "Job group for statement 37:\n# Sorted in descending order of lift\nlift_rules = model.associationRules.orderBy(col(\"lift\").desc())\n\n# Show these rules\nlift_rules.show()",
                    "submissionTime": "2023-11-29T00:13:26.221GMT",
                    "completionTime": "2023-11-29T00:13:26.391GMT",
                    "stageIds": [
                      56,
                      57,
                      58,
                      55
                    ],
                    "jobGroup": "37",
                    "status": "SUCCEEDED",
                    "numTasks": 64,
                    "numActiveTasks": 0,
                    "numCompletedTasks": 16,
                    "numSkippedTasks": 48,
                    "numFailedTasks": 0,
                    "numKilledTasks": 0,
                    "numCompletedIndices": 16,
                    "numActiveStages": 0,
                    "numCompletedStages": 1,
                    "numSkippedStages": 3,
                    "numFailedStages": 0,
                    "killedTasksSummary": {}
                  }
                ],
                "limit": 20,
                "rule": "ALL_DESC"
              },
              "parent_msg_id": "1044d07b-6d8b-40a9-b73f-c608852b6fcd"
            },
            "text/plain": "StatementMeta(80dcc4b2-bc50-4e81-91e5-397b7f13252e, 26, 37, Finished, Available)"
          },
          "metadata": {}
        },
        {
          "output_type": "stream",
          "name": "stdout",
          "text": "+----------+----------+-------------------+------------------+--------------------+\n|antecedent|consequent|         confidence|              lift|             support|\n+----------+----------+-------------------+------------------+--------------------+\n|    [ESTP]|    [ENTP]| 0.1989766331229746|1.4841735677274785| 0.01078627168164503|\n|    [ENFJ]|    [INFJ]|0.20289948870623262|1.4055104654022377|0.011594363696882281|\n|    [ISFP]|    [INFP]|0.23514518300108966|1.3131938375294758|0.013567439624246459|\n|    [ISTJ]|    [INTJ]|0.19597530299565516|1.2653062913869768|0.011093235696586412|\n|    [ENTJ]|    [INTJ]|0.18758659558978935|1.2111449552645275|0.014771256333444284|\n|    [ENFP]|    [ENTP]|0.15499941173504547|1.1561459569390053| 0.01705314545656274|\n|    [ENTP]|    [ENFP]|             0.1272|1.1561459569390053| 0.01705314545656274|\n|    [ENTJ]|    [ENTP]|0.15060000469670995|1.1233306281363697|0.011858796553126964|\n|    [ISTP]|    [INTP]|0.18070387222583342|1.0900769696616268|0.014394023447612708|\n|    [ENFJ]|    [INFP]| 0.1825124587405346|1.0192606670973656|0.010429379784755353|\n|    [ENFP]|    [INFP]|0.17002537943089568|0.9495252151996176| 0.01870631310329524|\n|    [INFP]|    [ENFP]|0.10446743912262221|0.9495252151996175| 0.01870631310329524|\n|    [INTP]|    [ENTP]| 0.1255716931039868|0.9366435889210204| 0.02081622841081401|\n|    [ENTP]|    [INTP]|0.15526896551724137|0.9366435889210204| 0.02081622841081401|\n|    [INTJ]|    [INTP]|  0.153513694214284|0.9260551006983079|0.023776766892266727|\n|    [INTP]|    [INTJ]|0.14343082792316444|0.9260551006983079|0.023776766892266727|\n|    [INFJ]|    [INTJ]|0.14053313179704613|0.9073462476803005| 0.02028736269832464|\n|    [INTJ]|    [INFJ]|0.13098450297285036|0.9073462476803005| 0.02028736269832464|\n|    [ISTP]|    [INTJ]| 0.1345528832760702| 0.868735024929359|0.010717851991567735|\n|    [INFP]|    [INFJ]| 0.1253898424107235|0.8685913251293257| 0.02245275343023041|\n+----------+----------+-------------------+------------------+--------------------+\nonly showing top 20 rows\n\n"
        }
      ],
      "execution_count": 32,
      "metadata": {
        "gather": {
          "logged": 1701216807293
        },
        "jupyter": {
          "outputs_hidden": false,
          "source_hidden": false
        },
        "nteract": {
          "transient": {
            "deleting": false
          }
        }
      }
    },
    {
      "cell_type": "markdown",
      "source": [
        "### "
      ],
      "metadata": {
        "nteract": {
          "transient": {
            "deleting": false
          }
        }
      }
    },
    {
      "cell_type": "markdown",
      "source": [
        "For general association rule mining, confidence and lift are usually the most popular metrics. If your goal is to discover rules that are strongly related but may not be as obvious, lift is a good choice. If you are concerned with the strength and reliability of the rules, then ranking by confidence is appropriate. If you want to find the most common patterns of association in your data set, then consider sorting by support.\n"
      ],
      "metadata": {
        "nteract": {
          "transient": {
            "deleting": false
          }
        }
      }
    },
    {
      "cell_type": "code",
      "source": [
        "import pandas as pd\n",
        "\n",
        "rules_pd = conf_rules.toPandas()\n",
        "rules_pd"
      ],
      "outputs": [
        {
          "output_type": "display_data",
          "data": {
            "application/vnd.livy.statement-meta+json": {
              "spark_pool": "80dcc4b2-bc50-4e81-91e5-397b7f13252e",
              "session_id": "26",
              "statement_id": 38,
              "state": "finished",
              "livy_statement_state": "available",
              "queued_time": "2023-11-29T00:13:31.0236869Z",
              "session_start_time": null,
              "execution_start_time": "2023-11-29T00:13:31.2785341Z",
              "execution_finish_time": "2023-11-29T00:13:32.9385524Z",
              "spark_jobs": {
                "numbers": {
                  "FAILED": 0,
                  "UNKNOWN": 0,
                  "SUCCEEDED": 3,
                  "RUNNING": 0
                },
                "jobs": [
                  {
                    "displayName": "toPandas at /tmp/ipykernel_7226/2282709217.py:3",
                    "dataWritten": 0,
                    "dataRead": 3745,
                    "rowCount": 31,
                    "usageDescription": "",
                    "jobId": 30,
                    "name": "toPandas at /tmp/ipykernel_7226/2282709217.py:3",
                    "description": "Job group for statement 38:\nimport pandas as pd\n\nrules_pd = conf_rules.toPandas()\nrules_pd",
                    "submissionTime": "2023-11-29T00:13:31.843GMT",
                    "completionTime": "2023-11-29T00:13:32.045GMT",
                    "stageIds": [
                      70,
                      67,
                      71,
                      68,
                      69
                    ],
                    "jobGroup": "38",
                    "status": "SUCCEEDED",
                    "numTasks": 65,
                    "numActiveTasks": 0,
                    "numCompletedTasks": 1,
                    "numSkippedTasks": 64,
                    "numFailedTasks": 0,
                    "numKilledTasks": 0,
                    "numCompletedIndices": 1,
                    "numActiveStages": 0,
                    "numCompletedStages": 1,
                    "numSkippedStages": 4,
                    "numFailedStages": 0,
                    "killedTasksSummary": {}
                  },
                  {
                    "displayName": "toPandas at /tmp/ipykernel_7226/2282709217.py:3",
                    "dataWritten": 3745,
                    "dataRead": 5241,
                    "rowCount": 122,
                    "usageDescription": "",
                    "jobId": 29,
                    "name": "toPandas at /tmp/ipykernel_7226/2282709217.py:3",
                    "description": "Job group for statement 38:\nimport pandas as pd\n\nrules_pd = conf_rules.toPandas()\nrules_pd",
                    "submissionTime": "2023-11-29T00:13:31.570GMT",
                    "completionTime": "2023-11-29T00:13:31.754GMT",
                    "stageIds": [
                      66,
                      63,
                      64,
                      65
                    ],
                    "jobGroup": "38",
                    "status": "SUCCEEDED",
                    "numTasks": 64,
                    "numActiveTasks": 0,
                    "numCompletedTasks": 16,
                    "numSkippedTasks": 48,
                    "numFailedTasks": 0,
                    "numKilledTasks": 0,
                    "numCompletedIndices": 16,
                    "numActiveStages": 0,
                    "numCompletedStages": 1,
                    "numSkippedStages": 3,
                    "numFailedStages": 0,
                    "killedTasksSummary": {}
                  },
                  {
                    "displayName": "toPandas at /tmp/ipykernel_7226/2282709217.py:3",
                    "dataWritten": 0,
                    "dataRead": 5241,
                    "rowCount": 91,
                    "usageDescription": "",
                    "jobId": 28,
                    "name": "toPandas at /tmp/ipykernel_7226/2282709217.py:3",
                    "description": "Job group for statement 38:\nimport pandas as pd\n\nrules_pd = conf_rules.toPandas()\nrules_pd",
                    "submissionTime": "2023-11-29T00:13:31.359GMT",
                    "completionTime": "2023-11-29T00:13:31.554GMT",
                    "stageIds": [
                      60,
                      61,
                      62,
                      59
                    ],
                    "jobGroup": "38",
                    "status": "SUCCEEDED",
                    "numTasks": 64,
                    "numActiveTasks": 0,
                    "numCompletedTasks": 16,
                    "numSkippedTasks": 48,
                    "numFailedTasks": 0,
                    "numKilledTasks": 0,
                    "numCompletedIndices": 16,
                    "numActiveStages": 0,
                    "numCompletedStages": 1,
                    "numSkippedStages": 3,
                    "numFailedStages": 0,
                    "killedTasksSummary": {}
                  }
                ],
                "limit": 20,
                "rule": "ALL_DESC"
              },
              "parent_msg_id": "10e2034d-cc4c-4834-9ab2-2a2bb179d3e8"
            },
            "text/plain": "StatementMeta(80dcc4b2-bc50-4e81-91e5-397b7f13252e, 26, 38, Finished, Available)"
          },
          "metadata": {}
        },
        {
          "output_type": "execute_result",
          "execution_count": 75,
          "data": {
            "text/plain": "   antecedent consequent  confidence      lift   support\n0      [ISFP]     [INFP]    0.235145  1.313194  0.013567\n1      [ENFJ]     [INFJ]    0.202899  1.405510  0.011594\n2      [ESTP]     [ENTP]    0.198977  1.484174  0.010786\n3      [ISTJ]     [INTJ]    0.195975  1.265306  0.011093\n4      [ENTJ]     [INTJ]    0.187587  1.211145  0.014771\n5      [ENFJ]     [INFP]    0.182512  1.019261  0.010429\n6      [ISTP]     [INTP]    0.180704  1.090077  0.014394\n7      [ENFP]     [INFP]    0.170025  0.949525  0.018706\n8      [INFJ]     [INFP]    0.155533  0.868591  0.022453\n9      [ENTP]     [INTP]    0.155269  0.936644  0.020816\n10     [ENFP]     [ENTP]    0.154999  1.156146  0.017053\n11     [INTJ]     [INTP]    0.153514  0.926055  0.023777\n12     [ENTJ]     [ENTP]    0.150600  1.123331  0.011859\n13     [INTP]     [INTJ]    0.143431  0.926055  0.023777\n14     [INFJ]     [INTJ]    0.140533  0.907346  0.020287\n15     [ENTJ]     [INTP]    0.136557  0.823765  0.010753\n16     [ISTP]     [INTJ]    0.134553  0.868735  0.010718\n17     [INTJ]     [INFJ]    0.130985  0.907346  0.020287\n18     [INTP]     [INFP]    0.129833  0.725066  0.021523\n19     [ENTP]     [ENFP]    0.127200  1.156146  0.017053\n20     [INTP]     [ENTP]    0.125572  0.936644  0.020816\n21     [INFP]     [INFJ]    0.125390  0.868591  0.022453\n22     [ENFP]     [INFJ]    0.123132  0.852953  0.013547\n23     [INFP]     [INTP]    0.120195  0.725066  0.021523\n24     [ENTP]     [INTJ]    0.115421  0.745209  0.015474\n25     [ENFP]     [INTJ]    0.113821  0.734880  0.012523\n26     [ENFP]     [INTP]    0.107787  0.650213  0.011859\n27     [INFJ]     [INTP]    0.106690  0.643599  0.015402\n28     [INFP]     [ENFP]    0.104467  0.949525  0.018706\n29     [INTJ]     [INFP]    0.101232  0.565342  0.015679\n30     [ENTP]     [INFJ]    0.100014  0.692808  0.013408",
            "text/html": "<div>\n<style scoped>\n    .dataframe tbody tr th:only-of-type {\n        vertical-align: middle;\n    }\n\n    .dataframe tbody tr th {\n        vertical-align: top;\n    }\n\n    .dataframe thead th {\n        text-align: right;\n    }\n</style>\n<table border=\"1\" class=\"dataframe\">\n  <thead>\n    <tr style=\"text-align: right;\">\n      <th></th>\n      <th>antecedent</th>\n      <th>consequent</th>\n      <th>confidence</th>\n      <th>lift</th>\n      <th>support</th>\n    </tr>\n  </thead>\n  <tbody>\n    <tr>\n      <th>0</th>\n      <td>[ISFP]</td>\n      <td>[INFP]</td>\n      <td>0.235145</td>\n      <td>1.313194</td>\n      <td>0.013567</td>\n    </tr>\n    <tr>\n      <th>1</th>\n      <td>[ENFJ]</td>\n      <td>[INFJ]</td>\n      <td>0.202899</td>\n      <td>1.405510</td>\n      <td>0.011594</td>\n    </tr>\n    <tr>\n      <th>2</th>\n      <td>[ESTP]</td>\n      <td>[ENTP]</td>\n      <td>0.198977</td>\n      <td>1.484174</td>\n      <td>0.010786</td>\n    </tr>\n    <tr>\n      <th>3</th>\n      <td>[ISTJ]</td>\n      <td>[INTJ]</td>\n      <td>0.195975</td>\n      <td>1.265306</td>\n      <td>0.011093</td>\n    </tr>\n    <tr>\n      <th>4</th>\n      <td>[ENTJ]</td>\n      <td>[INTJ]</td>\n      <td>0.187587</td>\n      <td>1.211145</td>\n      <td>0.014771</td>\n    </tr>\n    <tr>\n      <th>5</th>\n      <td>[ENFJ]</td>\n      <td>[INFP]</td>\n      <td>0.182512</td>\n      <td>1.019261</td>\n      <td>0.010429</td>\n    </tr>\n    <tr>\n      <th>6</th>\n      <td>[ISTP]</td>\n      <td>[INTP]</td>\n      <td>0.180704</td>\n      <td>1.090077</td>\n      <td>0.014394</td>\n    </tr>\n    <tr>\n      <th>7</th>\n      <td>[ENFP]</td>\n      <td>[INFP]</td>\n      <td>0.170025</td>\n      <td>0.949525</td>\n      <td>0.018706</td>\n    </tr>\n    <tr>\n      <th>8</th>\n      <td>[INFJ]</td>\n      <td>[INFP]</td>\n      <td>0.155533</td>\n      <td>0.868591</td>\n      <td>0.022453</td>\n    </tr>\n    <tr>\n      <th>9</th>\n      <td>[ENTP]</td>\n      <td>[INTP]</td>\n      <td>0.155269</td>\n      <td>0.936644</td>\n      <td>0.020816</td>\n    </tr>\n    <tr>\n      <th>10</th>\n      <td>[ENFP]</td>\n      <td>[ENTP]</td>\n      <td>0.154999</td>\n      <td>1.156146</td>\n      <td>0.017053</td>\n    </tr>\n    <tr>\n      <th>11</th>\n      <td>[INTJ]</td>\n      <td>[INTP]</td>\n      <td>0.153514</td>\n      <td>0.926055</td>\n      <td>0.023777</td>\n    </tr>\n    <tr>\n      <th>12</th>\n      <td>[ENTJ]</td>\n      <td>[ENTP]</td>\n      <td>0.150600</td>\n      <td>1.123331</td>\n      <td>0.011859</td>\n    </tr>\n    <tr>\n      <th>13</th>\n      <td>[INTP]</td>\n      <td>[INTJ]</td>\n      <td>0.143431</td>\n      <td>0.926055</td>\n      <td>0.023777</td>\n    </tr>\n    <tr>\n      <th>14</th>\n      <td>[INFJ]</td>\n      <td>[INTJ]</td>\n      <td>0.140533</td>\n      <td>0.907346</td>\n      <td>0.020287</td>\n    </tr>\n    <tr>\n      <th>15</th>\n      <td>[ENTJ]</td>\n      <td>[INTP]</td>\n      <td>0.136557</td>\n      <td>0.823765</td>\n      <td>0.010753</td>\n    </tr>\n    <tr>\n      <th>16</th>\n      <td>[ISTP]</td>\n      <td>[INTJ]</td>\n      <td>0.134553</td>\n      <td>0.868735</td>\n      <td>0.010718</td>\n    </tr>\n    <tr>\n      <th>17</th>\n      <td>[INTJ]</td>\n      <td>[INFJ]</td>\n      <td>0.130985</td>\n      <td>0.907346</td>\n      <td>0.020287</td>\n    </tr>\n    <tr>\n      <th>18</th>\n      <td>[INTP]</td>\n      <td>[INFP]</td>\n      <td>0.129833</td>\n      <td>0.725066</td>\n      <td>0.021523</td>\n    </tr>\n    <tr>\n      <th>19</th>\n      <td>[ENTP]</td>\n      <td>[ENFP]</td>\n      <td>0.127200</td>\n      <td>1.156146</td>\n      <td>0.017053</td>\n    </tr>\n    <tr>\n      <th>20</th>\n      <td>[INTP]</td>\n      <td>[ENTP]</td>\n      <td>0.125572</td>\n      <td>0.936644</td>\n      <td>0.020816</td>\n    </tr>\n    <tr>\n      <th>21</th>\n      <td>[INFP]</td>\n      <td>[INFJ]</td>\n      <td>0.125390</td>\n      <td>0.868591</td>\n      <td>0.022453</td>\n    </tr>\n    <tr>\n      <th>22</th>\n      <td>[ENFP]</td>\n      <td>[INFJ]</td>\n      <td>0.123132</td>\n      <td>0.852953</td>\n      <td>0.013547</td>\n    </tr>\n    <tr>\n      <th>23</th>\n      <td>[INFP]</td>\n      <td>[INTP]</td>\n      <td>0.120195</td>\n      <td>0.725066</td>\n      <td>0.021523</td>\n    </tr>\n    <tr>\n      <th>24</th>\n      <td>[ENTP]</td>\n      <td>[INTJ]</td>\n      <td>0.115421</td>\n      <td>0.745209</td>\n      <td>0.015474</td>\n    </tr>\n    <tr>\n      <th>25</th>\n      <td>[ENFP]</td>\n      <td>[INTJ]</td>\n      <td>0.113821</td>\n      <td>0.734880</td>\n      <td>0.012523</td>\n    </tr>\n    <tr>\n      <th>26</th>\n      <td>[ENFP]</td>\n      <td>[INTP]</td>\n      <td>0.107787</td>\n      <td>0.650213</td>\n      <td>0.011859</td>\n    </tr>\n    <tr>\n      <th>27</th>\n      <td>[INFJ]</td>\n      <td>[INTP]</td>\n      <td>0.106690</td>\n      <td>0.643599</td>\n      <td>0.015402</td>\n    </tr>\n    <tr>\n      <th>28</th>\n      <td>[INFP]</td>\n      <td>[ENFP]</td>\n      <td>0.104467</td>\n      <td>0.949525</td>\n      <td>0.018706</td>\n    </tr>\n    <tr>\n      <th>29</th>\n      <td>[INTJ]</td>\n      <td>[INFP]</td>\n      <td>0.101232</td>\n      <td>0.565342</td>\n      <td>0.015679</td>\n    </tr>\n    <tr>\n      <th>30</th>\n      <td>[ENTP]</td>\n      <td>[INFJ]</td>\n      <td>0.100014</td>\n      <td>0.692808</td>\n      <td>0.013408</td>\n    </tr>\n  </tbody>\n</table>\n</div>"
          },
          "metadata": {}
        }
      ],
      "execution_count": 33,
      "metadata": {
        "gather": {
          "logged": 1701216813784
        },
        "jupyter": {
          "outputs_hidden": false,
          "source_hidden": false
        },
        "nteract": {
          "transient": {
            "deleting": false
          }
        }
      }
    },
    {
      "cell_type": "code",
      "source": [
        "rules_pd.to_csv(\"Users/xx123/fall-2023-reddit-project-team-10/data/csv/ordered_association_rules.csv\")"
      ],
      "outputs": [
        {
          "output_type": "display_data",
          "data": {
            "application/vnd.livy.statement-meta+json": {
              "execution_finish_time": "2023-11-15T22:52:33.3557036Z",
              "execution_start_time": "2023-11-15T22:52:32.5464137Z",
              "livy_statement_state": "available",
              "parent_msg_id": "46e7642e-e693-4af0-a5fa-9f8c09b842d5",
              "queued_time": "2023-11-15T22:52:32.3704693Z",
              "session_id": "19",
              "session_start_time": null,
              "spark_jobs": {
                "jobs": [],
                "limit": 20,
                "numbers": {
                  "FAILED": 0,
                  "RUNNING": 0,
                  "SUCCEEDED": 0,
                  "UNKNOWN": 0
                },
                "rule": "ALL_DESC"
              },
              "spark_pool": "80dcc4b2-bc50-4e81-91e5-397b7f13252e",
              "state": "finished",
              "statement_id": 61
            },
            "text/plain": "StatementMeta(80dcc4b2-bc50-4e81-91e5-397b7f13252e, 19, 61, Finished, Available)"
          },
          "metadata": {}
        }
      ],
      "execution_count": 56,
      "metadata": {
        "gather": {
          "logged": 1700088753477
        },
        "jupyter": {
          "outputs_hidden": false,
          "source_hidden": false
        },
        "nteract": {
          "transient": {
            "deleting": false
          }
        }
      }
    },
    {
      "cell_type": "code",
      "source": [
        "#save the lift desc order to csv\n",
        "lift_pd = lift_rules.toPandas()\n",
        "lift_pd\n",
        "lift_pd.to_csv(\"Users/xx123/fall-2023-reddit-project-team-10/data/csv/lift_association_rules.csv\")"
      ],
      "outputs": [
        {
          "output_type": "display_data",
          "data": {
            "application/vnd.livy.statement-meta+json": {
              "spark_pool": "80dcc4b2-bc50-4e81-91e5-397b7f13252e",
              "session_id": "26",
              "statement_id": 40,
              "state": "finished",
              "livy_statement_state": "available",
              "queued_time": "2023-11-29T00:15:01.6360778Z",
              "session_start_time": null,
              "execution_start_time": "2023-11-29T00:15:01.9058953Z",
              "execution_finish_time": "2023-11-29T00:15:03.4331907Z",
              "spark_jobs": {
                "numbers": {
                  "FAILED": 0,
                  "UNKNOWN": 0,
                  "SUCCEEDED": 3,
                  "RUNNING": 0
                },
                "jobs": [
                  {
                    "displayName": "toPandas at /tmp/ipykernel_7226/843697761.py:2",
                    "dataWritten": 0,
                    "dataRead": 3745,
                    "rowCount": 31,
                    "usageDescription": "",
                    "jobId": 36,
                    "name": "toPandas at /tmp/ipykernel_7226/843697761.py:2",
                    "description": "Job group for statement 40:\n#save the lift desc order to csv\nlift_pd = lift_rules.toPandas()\nlift_pd\nlift_pd.to_csv(\"Users/xx123/fall-2023-reddit-project-team-10/data/csv/lift_association_rules.csv\")",
                    "submissionTime": "2023-11-29T00:15:02.226GMT",
                    "completionTime": "2023-11-29T00:15:02.264GMT",
                    "stageIds": [
                      96,
                      93,
                      97,
                      94,
                      95
                    ],
                    "jobGroup": "40",
                    "status": "SUCCEEDED",
                    "numTasks": 65,
                    "numActiveTasks": 0,
                    "numCompletedTasks": 1,
                    "numSkippedTasks": 64,
                    "numFailedTasks": 0,
                    "numKilledTasks": 0,
                    "numCompletedIndices": 1,
                    "numActiveStages": 0,
                    "numCompletedStages": 1,
                    "numSkippedStages": 4,
                    "numFailedStages": 0,
                    "killedTasksSummary": {}
                  },
                  {
                    "displayName": "toPandas at /tmp/ipykernel_7226/843697761.py:2",
                    "dataWritten": 3745,
                    "dataRead": 5241,
                    "rowCount": 122,
                    "usageDescription": "",
                    "jobId": 35,
                    "name": "toPandas at /tmp/ipykernel_7226/843697761.py:2",
                    "description": "Job group for statement 40:\n#save the lift desc order to csv\nlift_pd = lift_rules.toPandas()\nlift_pd\nlift_pd.to_csv(\"Users/xx123/fall-2023-reddit-project-team-10/data/csv/lift_association_rules.csv\")",
                    "submissionTime": "2023-11-29T00:15:02.075GMT",
                    "completionTime": "2023-11-29T00:15:02.201GMT",
                    "stageIds": [
                      89,
                      90,
                      91,
                      92
                    ],
                    "jobGroup": "40",
                    "status": "SUCCEEDED",
                    "numTasks": 64,
                    "numActiveTasks": 0,
                    "numCompletedTasks": 16,
                    "numSkippedTasks": 48,
                    "numFailedTasks": 0,
                    "numKilledTasks": 0,
                    "numCompletedIndices": 16,
                    "numActiveStages": 0,
                    "numCompletedStages": 1,
                    "numSkippedStages": 3,
                    "numFailedStages": 0,
                    "killedTasksSummary": {}
                  },
                  {
                    "displayName": "toPandas at /tmp/ipykernel_7226/843697761.py:2",
                    "dataWritten": 0,
                    "dataRead": 5241,
                    "rowCount": 91,
                    "usageDescription": "",
                    "jobId": 34,
                    "name": "toPandas at /tmp/ipykernel_7226/843697761.py:2",
                    "description": "Job group for statement 40:\n#save the lift desc order to csv\nlift_pd = lift_rules.toPandas()\nlift_pd\nlift_pd.to_csv(\"Users/xx123/fall-2023-reddit-project-team-10/data/csv/lift_association_rules.csv\")",
                    "submissionTime": "2023-11-29T00:15:01.937GMT",
                    "completionTime": "2023-11-29T00:15:02.070GMT",
                    "stageIds": [
                      88,
                      85,
                      86,
                      87
                    ],
                    "jobGroup": "40",
                    "status": "SUCCEEDED",
                    "numTasks": 64,
                    "numActiveTasks": 0,
                    "numCompletedTasks": 16,
                    "numSkippedTasks": 48,
                    "numFailedTasks": 0,
                    "numKilledTasks": 0,
                    "numCompletedIndices": 16,
                    "numActiveStages": 0,
                    "numCompletedStages": 1,
                    "numSkippedStages": 3,
                    "numFailedStages": 0,
                    "killedTasksSummary": {}
                  }
                ],
                "limit": 20,
                "rule": "ALL_DESC"
              },
              "parent_msg_id": "a209984c-3c8f-4cd6-836d-f983e3d42178"
            },
            "text/plain": "StatementMeta(80dcc4b2-bc50-4e81-91e5-397b7f13252e, 26, 40, Finished, Available)"
          },
          "metadata": {}
        }
      ],
      "execution_count": 35,
      "metadata": {
        "jupyter": {
          "source_hidden": false,
          "outputs_hidden": false
        },
        "nteract": {
          "transient": {
            "deleting": false
          }
        },
        "gather": {
          "logged": 1701216903624
        }
      }
    },
    {
      "cell_type": "markdown",
      "source": [
        "## Plot the Association Rule Network Graph"
      ],
      "metadata": {
        "nteract": {
          "transient": {
            "deleting": false
          }
        }
      }
    },
    {
      "cell_type": "code",
      "source": [
        "import pandas as pd\n",
        "rules_pd=pd.read_csv(\"../data/csv/ordered_association_rules.csv\")"
      ],
      "outputs": [],
      "execution_count": 2,
      "metadata": {}
    },
    {
      "cell_type": "code",
      "source": [
        "import plotly.graph_objs as go\n",
        "import networkx as nx\n",
        "\n",
        "# Create a graph\n",
        "G = nx.DiGraph()\n",
        "\n",
        "# Add nodes and edges\n",
        "for _, row in rules_pd.iterrows():\n",
        "    G.add_edge(str(row['antecedent']), str(row['consequent']), weight=row['confidence'])\n",
        "\n",
        "# Generate position layout\n",
        "pos = nx.spring_layout(G)\n",
        "\n",
        "# Create edge trace\n",
        "edge_x = []\n",
        "edge_y = []\n",
        "for edge in G.edges():\n",
        "    x0, y0 = pos[edge[0]]\n",
        "    x1, y1 = pos[edge[1]]\n",
        "    edge_x.extend([x0, x1, None])\n",
        "    edge_y.extend([y0, y1, None])\n",
        "\n",
        "edge_trace = go.Scatter(\n",
        "    x=edge_x, y=edge_y,\n",
        "    line=dict(width=0.5, color='#888'),\n",
        "    hoverinfo='none',\n",
        "    mode='lines')\n",
        "\n",
        "# Create node trace\n",
        "node_x = []\n",
        "node_y = []\n",
        "for node in G.nodes():\n",
        "    x, y = pos[node]\n",
        "    node_x.append(x)\n",
        "    node_y.append(y)\n",
        "\n",
        "#color_list=['#ffffd9', '#f5fbc4', '#eaf7b1', '#d6efb3', '#bde5b5', '#97d6b9', '#73c8bd', '#52bcc2', '#37acc3', '#2498c1', '#1f80b8', '#2165ab', '#234da0', '#253795', '#172978', '#081d58']\n",
        "color_list=['#081d58','#253795','#1f80b8','#97d6b9','#ffffd9']\n",
        "\n",
        "node_trace = go.Scatter(\n",
        "    x=node_x, y=node_y,\n",
        "    mode='markers+text',  # Add 'text' to the mode\n",
        "    text=[node for node in G.nodes()],  # Add node labels\n",
        "    textposition=\"bottom center\",  # Position of text\n",
        "    hoverinfo='text',\n",
        "    marker=dict(\n",
        "        showscale=True,\n",
        "        colorscale=color_list,\n",
        "        reversescale=True,\n",
        "        color=[],\n",
        "        size=15,  # Increase node size\n",
        "        colorbar=dict(\n",
        "            thickness=15,\n",
        "            title='Number of Node Connections',\n",
        "            xanchor='left',\n",
        "            titleside='right'\n",
        "        ),\n",
        "        line_width=1.5))\n",
        "\n",
        "# Add node text and hover info\n",
        "node_adjacencies = []\n",
        "node_text = []\n",
        "for node, adjacencies in enumerate(G.adjacency()):\n",
        "    node_adjacencies.append(len(adjacencies[1]))\n",
        "    node_text.append(f'{adjacencies[0]}')\n",
        "\n",
        "node_trace.marker.color = node_adjacencies\n",
        "node_trace.text = node_text\n",
        "\n",
        "# Create figure\n",
        "fig = go.Figure(data=[edge_trace, node_trace],\n",
        "             layout=go.Layout(\n",
        "                title='<br>Network graph of association rules',\n",
        "                titlefont_size=23,\n",
        "                showlegend=False,\n",
        "                hovermode='closest',\n",
        "                margin=dict(b=20,l=5,r=5,t=80),\n",
        "                annotations=[dict(\n",
        "                    text=\"Python plotly library\",\n",
        "                    showarrow=False,\n",
        "                    xref=\"paper\", yref=\"paper\",\n",
        "                    x=0.005, y=-0.002)],\n",
        "                xaxis=dict(showgrid=False, zeroline=False, showticklabels=False),\n",
        "                yaxis=dict(showgrid=False, zeroline=False, showticklabels=False))\n",
        "                )\n",
        "\n",
        "fig.show()\n"
      ],
      "outputs": [
        {
          "output_type": "display_data",
          "data": {
            "application/vnd.plotly.v1+json": {
              "config": {
                "plotlyServerURL": "https://plotly.com"
              },
              "data": [
                {
                  "hoverinfo": "none",
                  "line": {
                    "color": "#888",
                    "width": 0.5
                  },
                  "mode": "lines",
                  "type": "scatter",
                  "x": [
                    0.5368480699021476,
                    -0.3392823750818464,
                    null,
                    -0.3392823750818464,
                    -0.277516139052317,
                    null,
                    -0.3392823750818464,
                    -0.1373979846546982,
                    null,
                    -0.3392823750818464,
                    -0.42503734238870416,
                    null,
                    0.039095251381371154,
                    -0.277516139052317,
                    null,
                    0.039095251381371154,
                    -0.3392823750818464,
                    null,
                    -0.277516139052317,
                    -0.3392823750818464,
                    null,
                    -0.277516139052317,
                    -0.6445350048752726,
                    null,
                    -0.277516139052317,
                    -0.1373979846546982,
                    null,
                    1,
                    0.14100962925220242,
                    null,
                    0.14100962925220242,
                    -0.1373979846546982,
                    null,
                    0.14100962925220242,
                    -0.42503734238870416,
                    null,
                    0.14100962925220242,
                    -0.6445350048752726,
                    null,
                    0.14100962925220242,
                    -0.277516139052317,
                    null,
                    0.36133094801399546,
                    -0.6445350048752726,
                    null,
                    -0.6445350048752726,
                    -0.1373979846546982,
                    null,
                    -0.6445350048752726,
                    -0.277516139052317,
                    null,
                    -0.6445350048752726,
                    -0.3392823750818464,
                    null,
                    -0.36488886529192127,
                    -0.6445350048752726,
                    null,
                    -0.36488886529192127,
                    0.14100962925220242,
                    null,
                    -0.36488886529192127,
                    -0.1373979846546982,
                    null,
                    0.11037381279504399,
                    -0.1373979846546982,
                    null,
                    0.11037381279504399,
                    -0.6445350048752726,
                    null,
                    -0.1373979846546982,
                    -0.6445350048752726,
                    null,
                    -0.1373979846546982,
                    -0.3392823750818464,
                    null,
                    -0.1373979846546982,
                    0.14100962925220242,
                    null,
                    -0.42503734238870416,
                    -0.3392823750818464,
                    null,
                    -0.42503734238870416,
                    0.14100962925220242,
                    null,
                    -0.42503734238870416,
                    -0.277516139052317,
                    null,
                    -0.42503734238870416,
                    -0.6445350048752726,
                    null,
                    -0.42503734238870416,
                    -0.1373979846546982,
                    null
                  ],
                  "y": [
                    0.7622792983644968,
                    0.3876274401670995,
                    null,
                    0.3876274401670995,
                    -0.32141399686651423,
                    null,
                    0.3876274401670995,
                    0.013046109707919086,
                    null,
                    0.3876274401670995,
                    -0.13688692937122493,
                    null,
                    0.3071524304499406,
                    -0.32141399686651423,
                    null,
                    0.3071524304499406,
                    0.3876274401670995,
                    null,
                    -0.32141399686651423,
                    0.3876274401670995,
                    null,
                    -0.32141399686651423,
                    -0.15801641959996907,
                    null,
                    -0.32141399686651423,
                    0.013046109707919086,
                    null,
                    -0.16966441916528965,
                    -0.284122225987174,
                    null,
                    -0.284122225987174,
                    0.013046109707919086,
                    null,
                    -0.284122225987174,
                    -0.13688692937122493,
                    null,
                    -0.284122225987174,
                    -0.15801641959996907,
                    null,
                    -0.284122225987174,
                    -0.32141399686651423,
                    null,
                    0.060288415441166344,
                    -0.15801641959996907,
                    null,
                    -0.15801641959996907,
                    0.013046109707919086,
                    null,
                    -0.15801641959996907,
                    -0.32141399686651423,
                    null,
                    -0.15801641959996907,
                    0.3876274401670995,
                    null,
                    0.1005130932482572,
                    -0.15801641959996907,
                    null,
                    0.1005130932482572,
                    -0.284122225987174,
                    null,
                    0.1005130932482572,
                    0.013046109707919086,
                    null,
                    -0.5608027963887078,
                    0.013046109707919086,
                    null,
                    -0.5608027963887078,
                    -0.15801641959996907,
                    null,
                    0.013046109707919086,
                    -0.15801641959996907,
                    null,
                    0.013046109707919086,
                    0.3876274401670995,
                    null,
                    0.013046109707919086,
                    -0.284122225987174,
                    null,
                    -0.13688692937122493,
                    0.3876274401670995,
                    null,
                    -0.13688692937122493,
                    -0.284122225987174,
                    null,
                    -0.13688692937122493,
                    -0.32141399686651423,
                    null,
                    -0.13688692937122493,
                    -0.15801641959996907,
                    null,
                    -0.13688692937122493,
                    0.013046109707919086,
                    null
                  ]
                },
                {
                  "hoverinfo": "text",
                  "marker": {
                    "color": [
                      1,
                      3,
                      2,
                      3,
                      1,
                      4,
                      1,
                      3,
                      3,
                      2,
                      3,
                      5
                    ],
                    "colorbar": {
                      "thickness": 15,
                      "title": {
                        "side": "right",
                        "text": "Number of Node Connections"
                      },
                      "xanchor": "left"
                    },
                    "colorscale": [
                      [
                        0,
                        "#081d58"
                      ],
                      [
                        0.25,
                        "#253795"
                      ],
                      [
                        0.5,
                        "#1f80b8"
                      ],
                      [
                        0.75,
                        "#97d6b9"
                      ],
                      [
                        1,
                        "#ffffd9"
                      ]
                    ],
                    "line": {
                      "width": 1.5
                    },
                    "reversescale": true,
                    "showscale": true,
                    "size": 15
                  },
                  "mode": "markers+text",
                  "text": [
                    "['ISFP']",
                    "['INFP']",
                    "['ENFJ']",
                    "['INFJ']",
                    "['ESTP']",
                    "['ENTP']",
                    "['ISTJ']",
                    "['INTJ']",
                    "['ENTJ']",
                    "['ISTP']",
                    "['INTP']",
                    "['ENFP']"
                  ],
                  "textposition": "bottom center",
                  "type": "scatter",
                  "x": [
                    0.5368480699021476,
                    -0.3392823750818464,
                    0.039095251381371154,
                    -0.277516139052317,
                    1,
                    0.14100962925220242,
                    0.36133094801399546,
                    -0.6445350048752726,
                    -0.36488886529192127,
                    0.11037381279504399,
                    -0.1373979846546982,
                    -0.42503734238870416
                  ],
                  "y": [
                    0.7622792983644968,
                    0.3876274401670995,
                    0.3071524304499406,
                    -0.32141399686651423,
                    -0.16966441916528965,
                    -0.284122225987174,
                    0.060288415441166344,
                    -0.15801641959996907,
                    0.1005130932482572,
                    -0.5608027963887078,
                    0.013046109707919086,
                    -0.13688692937122493
                  ]
                }
              ],
              "layout": {
                "annotations": [
                  {
                    "showarrow": false,
                    "text": "Python plotly library",
                    "x": 0.005,
                    "xref": "paper",
                    "y": -0.002,
                    "yref": "paper"
                  }
                ],
                "hovermode": "closest",
                "margin": {
                  "b": 20,
                  "l": 5,
                  "r": 5,
                  "t": 80
                },
                "showlegend": false,
                "template": {
                  "data": {
                    "bar": [
                      {
                        "error_x": {
                          "color": "#2a3f5f"
                        },
                        "error_y": {
                          "color": "#2a3f5f"
                        },
                        "marker": {
                          "line": {
                            "color": "#E5ECF6",
                            "width": 0.5
                          },
                          "pattern": {
                            "fillmode": "overlay",
                            "size": 10,
                            "solidity": 0.2
                          }
                        },
                        "type": "bar"
                      }
                    ],
                    "barpolar": [
                      {
                        "marker": {
                          "line": {
                            "color": "#E5ECF6",
                            "width": 0.5
                          },
                          "pattern": {
                            "fillmode": "overlay",
                            "size": 10,
                            "solidity": 0.2
                          }
                        },
                        "type": "barpolar"
                      }
                    ],
                    "carpet": [
                      {
                        "aaxis": {
                          "endlinecolor": "#2a3f5f",
                          "gridcolor": "white",
                          "linecolor": "white",
                          "minorgridcolor": "white",
                          "startlinecolor": "#2a3f5f"
                        },
                        "baxis": {
                          "endlinecolor": "#2a3f5f",
                          "gridcolor": "white",
                          "linecolor": "white",
                          "minorgridcolor": "white",
                          "startlinecolor": "#2a3f5f"
                        },
                        "type": "carpet"
                      }
                    ],
                    "choropleth": [
                      {
                        "colorbar": {
                          "outlinewidth": 0,
                          "ticks": ""
                        },
                        "type": "choropleth"
                      }
                    ],
                    "contour": [
                      {
                        "colorbar": {
                          "outlinewidth": 0,
                          "ticks": ""
                        },
                        "colorscale": [
                          [
                            0,
                            "#0d0887"
                          ],
                          [
                            0.1111111111111111,
                            "#46039f"
                          ],
                          [
                            0.2222222222222222,
                            "#7201a8"
                          ],
                          [
                            0.3333333333333333,
                            "#9c179e"
                          ],
                          [
                            0.4444444444444444,
                            "#bd3786"
                          ],
                          [
                            0.5555555555555556,
                            "#d8576b"
                          ],
                          [
                            0.6666666666666666,
                            "#ed7953"
                          ],
                          [
                            0.7777777777777778,
                            "#fb9f3a"
                          ],
                          [
                            0.8888888888888888,
                            "#fdca26"
                          ],
                          [
                            1,
                            "#f0f921"
                          ]
                        ],
                        "type": "contour"
                      }
                    ],
                    "contourcarpet": [
                      {
                        "colorbar": {
                          "outlinewidth": 0,
                          "ticks": ""
                        },
                        "type": "contourcarpet"
                      }
                    ],
                    "heatmap": [
                      {
                        "colorbar": {
                          "outlinewidth": 0,
                          "ticks": ""
                        },
                        "colorscale": [
                          [
                            0,
                            "#0d0887"
                          ],
                          [
                            0.1111111111111111,
                            "#46039f"
                          ],
                          [
                            0.2222222222222222,
                            "#7201a8"
                          ],
                          [
                            0.3333333333333333,
                            "#9c179e"
                          ],
                          [
                            0.4444444444444444,
                            "#bd3786"
                          ],
                          [
                            0.5555555555555556,
                            "#d8576b"
                          ],
                          [
                            0.6666666666666666,
                            "#ed7953"
                          ],
                          [
                            0.7777777777777778,
                            "#fb9f3a"
                          ],
                          [
                            0.8888888888888888,
                            "#fdca26"
                          ],
                          [
                            1,
                            "#f0f921"
                          ]
                        ],
                        "type": "heatmap"
                      }
                    ],
                    "heatmapgl": [
                      {
                        "colorbar": {
                          "outlinewidth": 0,
                          "ticks": ""
                        },
                        "colorscale": [
                          [
                            0,
                            "#0d0887"
                          ],
                          [
                            0.1111111111111111,
                            "#46039f"
                          ],
                          [
                            0.2222222222222222,
                            "#7201a8"
                          ],
                          [
                            0.3333333333333333,
                            "#9c179e"
                          ],
                          [
                            0.4444444444444444,
                            "#bd3786"
                          ],
                          [
                            0.5555555555555556,
                            "#d8576b"
                          ],
                          [
                            0.6666666666666666,
                            "#ed7953"
                          ],
                          [
                            0.7777777777777778,
                            "#fb9f3a"
                          ],
                          [
                            0.8888888888888888,
                            "#fdca26"
                          ],
                          [
                            1,
                            "#f0f921"
                          ]
                        ],
                        "type": "heatmapgl"
                      }
                    ],
                    "histogram": [
                      {
                        "marker": {
                          "pattern": {
                            "fillmode": "overlay",
                            "size": 10,
                            "solidity": 0.2
                          }
                        },
                        "type": "histogram"
                      }
                    ],
                    "histogram2d": [
                      {
                        "colorbar": {
                          "outlinewidth": 0,
                          "ticks": ""
                        },
                        "colorscale": [
                          [
                            0,
                            "#0d0887"
                          ],
                          [
                            0.1111111111111111,
                            "#46039f"
                          ],
                          [
                            0.2222222222222222,
                            "#7201a8"
                          ],
                          [
                            0.3333333333333333,
                            "#9c179e"
                          ],
                          [
                            0.4444444444444444,
                            "#bd3786"
                          ],
                          [
                            0.5555555555555556,
                            "#d8576b"
                          ],
                          [
                            0.6666666666666666,
                            "#ed7953"
                          ],
                          [
                            0.7777777777777778,
                            "#fb9f3a"
                          ],
                          [
                            0.8888888888888888,
                            "#fdca26"
                          ],
                          [
                            1,
                            "#f0f921"
                          ]
                        ],
                        "type": "histogram2d"
                      }
                    ],
                    "histogram2dcontour": [
                      {
                        "colorbar": {
                          "outlinewidth": 0,
                          "ticks": ""
                        },
                        "colorscale": [
                          [
                            0,
                            "#0d0887"
                          ],
                          [
                            0.1111111111111111,
                            "#46039f"
                          ],
                          [
                            0.2222222222222222,
                            "#7201a8"
                          ],
                          [
                            0.3333333333333333,
                            "#9c179e"
                          ],
                          [
                            0.4444444444444444,
                            "#bd3786"
                          ],
                          [
                            0.5555555555555556,
                            "#d8576b"
                          ],
                          [
                            0.6666666666666666,
                            "#ed7953"
                          ],
                          [
                            0.7777777777777778,
                            "#fb9f3a"
                          ],
                          [
                            0.8888888888888888,
                            "#fdca26"
                          ],
                          [
                            1,
                            "#f0f921"
                          ]
                        ],
                        "type": "histogram2dcontour"
                      }
                    ],
                    "mesh3d": [
                      {
                        "colorbar": {
                          "outlinewidth": 0,
                          "ticks": ""
                        },
                        "type": "mesh3d"
                      }
                    ],
                    "parcoords": [
                      {
                        "line": {
                          "colorbar": {
                            "outlinewidth": 0,
                            "ticks": ""
                          }
                        },
                        "type": "parcoords"
                      }
                    ],
                    "pie": [
                      {
                        "automargin": true,
                        "type": "pie"
                      }
                    ],
                    "scatter": [
                      {
                        "fillpattern": {
                          "fillmode": "overlay",
                          "size": 10,
                          "solidity": 0.2
                        },
                        "type": "scatter"
                      }
                    ],
                    "scatter3d": [
                      {
                        "line": {
                          "colorbar": {
                            "outlinewidth": 0,
                            "ticks": ""
                          }
                        },
                        "marker": {
                          "colorbar": {
                            "outlinewidth": 0,
                            "ticks": ""
                          }
                        },
                        "type": "scatter3d"
                      }
                    ],
                    "scattercarpet": [
                      {
                        "marker": {
                          "colorbar": {
                            "outlinewidth": 0,
                            "ticks": ""
                          }
                        },
                        "type": "scattercarpet"
                      }
                    ],
                    "scattergeo": [
                      {
                        "marker": {
                          "colorbar": {
                            "outlinewidth": 0,
                            "ticks": ""
                          }
                        },
                        "type": "scattergeo"
                      }
                    ],
                    "scattergl": [
                      {
                        "marker": {
                          "colorbar": {
                            "outlinewidth": 0,
                            "ticks": ""
                          }
                        },
                        "type": "scattergl"
                      }
                    ],
                    "scattermapbox": [
                      {
                        "marker": {
                          "colorbar": {
                            "outlinewidth": 0,
                            "ticks": ""
                          }
                        },
                        "type": "scattermapbox"
                      }
                    ],
                    "scatterpolar": [
                      {
                        "marker": {
                          "colorbar": {
                            "outlinewidth": 0,
                            "ticks": ""
                          }
                        },
                        "type": "scatterpolar"
                      }
                    ],
                    "scatterpolargl": [
                      {
                        "marker": {
                          "colorbar": {
                            "outlinewidth": 0,
                            "ticks": ""
                          }
                        },
                        "type": "scatterpolargl"
                      }
                    ],
                    "scatterternary": [
                      {
                        "marker": {
                          "colorbar": {
                            "outlinewidth": 0,
                            "ticks": ""
                          }
                        },
                        "type": "scatterternary"
                      }
                    ],
                    "surface": [
                      {
                        "colorbar": {
                          "outlinewidth": 0,
                          "ticks": ""
                        },
                        "colorscale": [
                          [
                            0,
                            "#0d0887"
                          ],
                          [
                            0.1111111111111111,
                            "#46039f"
                          ],
                          [
                            0.2222222222222222,
                            "#7201a8"
                          ],
                          [
                            0.3333333333333333,
                            "#9c179e"
                          ],
                          [
                            0.4444444444444444,
                            "#bd3786"
                          ],
                          [
                            0.5555555555555556,
                            "#d8576b"
                          ],
                          [
                            0.6666666666666666,
                            "#ed7953"
                          ],
                          [
                            0.7777777777777778,
                            "#fb9f3a"
                          ],
                          [
                            0.8888888888888888,
                            "#fdca26"
                          ],
                          [
                            1,
                            "#f0f921"
                          ]
                        ],
                        "type": "surface"
                      }
                    ],
                    "table": [
                      {
                        "cells": {
                          "fill": {
                            "color": "#EBF0F8"
                          },
                          "line": {
                            "color": "white"
                          }
                        },
                        "header": {
                          "fill": {
                            "color": "#C8D4E3"
                          },
                          "line": {
                            "color": "white"
                          }
                        },
                        "type": "table"
                      }
                    ]
                  },
                  "layout": {
                    "annotationdefaults": {
                      "arrowcolor": "#2a3f5f",
                      "arrowhead": 0,
                      "arrowwidth": 1
                    },
                    "autotypenumbers": "strict",
                    "coloraxis": {
                      "colorbar": {
                        "outlinewidth": 0,
                        "ticks": ""
                      }
                    },
                    "colorscale": {
                      "diverging": [
                        [
                          0,
                          "#8e0152"
                        ],
                        [
                          0.1,
                          "#c51b7d"
                        ],
                        [
                          0.2,
                          "#de77ae"
                        ],
                        [
                          0.3,
                          "#f1b6da"
                        ],
                        [
                          0.4,
                          "#fde0ef"
                        ],
                        [
                          0.5,
                          "#f7f7f7"
                        ],
                        [
                          0.6,
                          "#e6f5d0"
                        ],
                        [
                          0.7,
                          "#b8e186"
                        ],
                        [
                          0.8,
                          "#7fbc41"
                        ],
                        [
                          0.9,
                          "#4d9221"
                        ],
                        [
                          1,
                          "#276419"
                        ]
                      ],
                      "sequential": [
                        [
                          0,
                          "#0d0887"
                        ],
                        [
                          0.1111111111111111,
                          "#46039f"
                        ],
                        [
                          0.2222222222222222,
                          "#7201a8"
                        ],
                        [
                          0.3333333333333333,
                          "#9c179e"
                        ],
                        [
                          0.4444444444444444,
                          "#bd3786"
                        ],
                        [
                          0.5555555555555556,
                          "#d8576b"
                        ],
                        [
                          0.6666666666666666,
                          "#ed7953"
                        ],
                        [
                          0.7777777777777778,
                          "#fb9f3a"
                        ],
                        [
                          0.8888888888888888,
                          "#fdca26"
                        ],
                        [
                          1,
                          "#f0f921"
                        ]
                      ],
                      "sequentialminus": [
                        [
                          0,
                          "#0d0887"
                        ],
                        [
                          0.1111111111111111,
                          "#46039f"
                        ],
                        [
                          0.2222222222222222,
                          "#7201a8"
                        ],
                        [
                          0.3333333333333333,
                          "#9c179e"
                        ],
                        [
                          0.4444444444444444,
                          "#bd3786"
                        ],
                        [
                          0.5555555555555556,
                          "#d8576b"
                        ],
                        [
                          0.6666666666666666,
                          "#ed7953"
                        ],
                        [
                          0.7777777777777778,
                          "#fb9f3a"
                        ],
                        [
                          0.8888888888888888,
                          "#fdca26"
                        ],
                        [
                          1,
                          "#f0f921"
                        ]
                      ]
                    },
                    "colorway": [
                      "#636efa",
                      "#EF553B",
                      "#00cc96",
                      "#ab63fa",
                      "#FFA15A",
                      "#19d3f3",
                      "#FF6692",
                      "#B6E880",
                      "#FF97FF",
                      "#FECB52"
                    ],
                    "font": {
                      "color": "#2a3f5f"
                    },
                    "geo": {
                      "bgcolor": "white",
                      "lakecolor": "white",
                      "landcolor": "#E5ECF6",
                      "showlakes": true,
                      "showland": true,
                      "subunitcolor": "white"
                    },
                    "hoverlabel": {
                      "align": "left"
                    },
                    "hovermode": "closest",
                    "mapbox": {
                      "style": "light"
                    },
                    "paper_bgcolor": "white",
                    "plot_bgcolor": "#E5ECF6",
                    "polar": {
                      "angularaxis": {
                        "gridcolor": "white",
                        "linecolor": "white",
                        "ticks": ""
                      },
                      "bgcolor": "#E5ECF6",
                      "radialaxis": {
                        "gridcolor": "white",
                        "linecolor": "white",
                        "ticks": ""
                      }
                    },
                    "scene": {
                      "xaxis": {
                        "backgroundcolor": "#E5ECF6",
                        "gridcolor": "white",
                        "gridwidth": 2,
                        "linecolor": "white",
                        "showbackground": true,
                        "ticks": "",
                        "zerolinecolor": "white"
                      },
                      "yaxis": {
                        "backgroundcolor": "#E5ECF6",
                        "gridcolor": "white",
                        "gridwidth": 2,
                        "linecolor": "white",
                        "showbackground": true,
                        "ticks": "",
                        "zerolinecolor": "white"
                      },
                      "zaxis": {
                        "backgroundcolor": "#E5ECF6",
                        "gridcolor": "white",
                        "gridwidth": 2,
                        "linecolor": "white",
                        "showbackground": true,
                        "ticks": "",
                        "zerolinecolor": "white"
                      }
                    },
                    "shapedefaults": {
                      "line": {
                        "color": "#2a3f5f"
                      }
                    },
                    "ternary": {
                      "aaxis": {
                        "gridcolor": "white",
                        "linecolor": "white",
                        "ticks": ""
                      },
                      "baxis": {
                        "gridcolor": "white",
                        "linecolor": "white",
                        "ticks": ""
                      },
                      "bgcolor": "#E5ECF6",
                      "caxis": {
                        "gridcolor": "white",
                        "linecolor": "white",
                        "ticks": ""
                      }
                    },
                    "title": {
                      "x": 0.05
                    },
                    "xaxis": {
                      "automargin": true,
                      "gridcolor": "white",
                      "linecolor": "white",
                      "ticks": "",
                      "title": {
                        "standoff": 15
                      },
                      "zerolinecolor": "white",
                      "zerolinewidth": 2
                    },
                    "yaxis": {
                      "automargin": true,
                      "gridcolor": "white",
                      "linecolor": "white",
                      "ticks": "",
                      "title": {
                        "standoff": 15
                      },
                      "zerolinecolor": "white",
                      "zerolinewidth": 2
                    }
                  }
                },
                "title": {
                  "font": {
                    "size": 23
                  },
                  "text": "<br>Network graph of association rules"
                },
                "xaxis": {
                  "showgrid": false,
                  "showticklabels": false,
                  "zeroline": false
                },
                "yaxis": {
                  "showgrid": false,
                  "showticklabels": false,
                  "zeroline": false
                }
              }
            }
          },
          "metadata": {}
        }
      ],
      "execution_count": 9,
      "metadata": {
        "gather": {
          "logged": 1700088478594
        },
        "jupyter": {
          "outputs_hidden": false,
          "source_hidden": false
        },
        "nteract": {
          "transient": {
            "deleting": false
          }
        }
      }
    }
  ],
  "metadata": {
    "kernel_info": {
      "name": "synapse_pyspark"
    },
    "kernelspec": {
      "name": "synapse_pyspark",
      "language": "Python",
      "display_name": "Synapse PySpark"
    },
    "language_info": {
      "name": "python",
      "version": "3.8.0",
      "mimetype": "text/x-python",
      "file_extension": ".py",
      "pygments_lexer": "ipython",
      "codemirror_mode": "ipython",
      "nbconvert_exporter": "python"
    },
    "microsoft": {
      "host": {
        "AzureML": {
          "notebookHasBeenCompleted": true
        }
      },
      "ms_spell_check": {
        "ms_spell_check_language": "en"
      }
    },
    "nteract": {
      "version": "nteract-front-end@1.0.0"
    }
  },
  "nbformat": 4,
  "nbformat_minor": 2
}