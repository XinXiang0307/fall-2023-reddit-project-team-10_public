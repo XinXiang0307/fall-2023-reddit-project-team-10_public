{
  "cells": [
    {
      "cell_type": "markdown",
      "source": [
        "# Regression Analysis on Health Data"
      ],
      "metadata": {
        "nteract": {
          "transient": {
            "deleting": false
          }
        }
      }
    },
    {
      "cell_type": "code",
      "source": [
        "spark"
      ],
      "outputs": [
        {
          "output_type": "display_data",
          "data": {
            "application/vnd.livy.statement-meta+json": {
              "spark_pool": "80dcc4b2-bc50-4e81-91e5-397b7f13252e",
              "session_id": "23",
              "statement_id": 6,
              "state": "finished",
              "livy_statement_state": "available",
              "queued_time": "2023-11-17T23:02:57.6828073Z",
              "session_start_time": "2023-11-17T23:02:57.8115877Z",
              "execution_start_time": "2023-11-17T23:06:05.9165845Z",
              "execution_finish_time": "2023-11-17T23:06:08.8872506Z",
              "spark_jobs": {
                "numbers": {
                  "FAILED": 0,
                  "RUNNING": 0,
                  "SUCCEEDED": 0,
                  "UNKNOWN": 0
                },
                "jobs": [],
                "limit": 20,
                "rule": "ALL_DESC"
              },
              "parent_msg_id": "158aabb8-48d6-41fa-9b17-7dce7e437911"
            },
            "text/plain": "StatementMeta(80dcc4b2-bc50-4e81-91e5-397b7f13252e, 23, 6, Finished, Available)"
          },
          "metadata": {}
        },
        {
          "output_type": "execute_result",
          "execution_count": 11,
          "data": {
            "text/plain": "<pyspark.sql.session.SparkSession at 0x7fefc8f3e910>",
            "text/html": "\n            <div>\n                <p><b>SparkSession - hive</b></p>\n                \n        <div>\n            <p><b>SparkContext</b></p>\n\n            <p><a href=\"http://vm-c6837127:33607\">Spark UI</a></p>\n\n            <dl>\n              <dt>Version</dt>\n                <dd><code>v3.2.2.5.1-100879434</code></dd>\n              <dt>Master</dt>\n                <dd><code>yarn</code></dd>\n              <dt>AppName</dt>\n                <dd><code>Azure ML Experiment</code></dd>\n            </dl>\n        </div>\n        \n            </div>\n        "
          },
          "metadata": {}
        }
      ],
      "execution_count": 1,
      "metadata": {
        "gather": {
          "logged": 1700262369429
        }
      }
    },
    {
      "cell_type": "code",
      "source": [
        "from pyspark.sql import functions as F\n",
        "import pandas as pd"
      ],
      "outputs": [
        {
          "output_type": "display_data",
          "data": {
            "application/vnd.livy.statement-meta+json": {
              "spark_pool": "80dcc4b2-bc50-4e81-91e5-397b7f13252e",
              "session_id": "23",
              "statement_id": 41,
              "state": "finished",
              "livy_statement_state": "available",
              "queued_time": "2023-11-17T23:56:22.0726973Z",
              "session_start_time": null,
              "execution_start_time": "2023-11-17T23:56:22.2881267Z",
              "execution_finish_time": "2023-11-17T23:56:22.584341Z",
              "spark_jobs": {
                "numbers": {
                  "FAILED": 0,
                  "RUNNING": 0,
                  "SUCCEEDED": 0,
                  "UNKNOWN": 0
                },
                "jobs": [],
                "limit": 20,
                "rule": "ALL_DESC"
              },
              "parent_msg_id": "1ca9195d-9593-4a6b-b56c-74b746ef3381"
            },
            "text/plain": "StatementMeta(80dcc4b2-bc50-4e81-91e5-397b7f13252e, 23, 41, Finished, Available)"
          },
          "metadata": {}
        }
      ],
      "execution_count": 36,
      "metadata": {
        "jupyter": {
          "source_hidden": false,
          "outputs_hidden": false
        },
        "nteract": {
          "transient": {
            "deleting": false
          }
        },
        "gather": {
          "logged": 1700265382987
        }
      }
    },
    {
      "cell_type": "markdown",
      "source": [
        "# Data Preprocessing"
      ],
      "metadata": {
        "nteract": {
          "transient": {
            "deleting": false
          }
        }
      }
    },
    {
      "cell_type": "markdown",
      "source": [
        "## Read Data from Local and Show"
      ],
      "metadata": {
        "nteract": {
          "transient": {
            "deleting": false
          }
        }
      }
    },
    {
      "cell_type": "code",
      "source": [
        "# Reading the data \n",
        "df = pd.read_csv('Users/ml2078/fall-2023-reddit-project-team-10/data/csv/mbti_health.csv') \n",
        "  \n",
        "# Showing the data \n",
        "df.head()"
      ],
      "outputs": [
        {
          "output_type": "display_data",
          "data": {
            "application/vnd.livy.statement-meta+json": {
              "spark_pool": "80dcc4b2-bc50-4e81-91e5-397b7f13252e",
              "session_id": "23",
              "statement_id": 73,
              "state": "finished",
              "livy_statement_state": "available",
              "queued_time": "2023-11-18T00:28:05.0786864Z",
              "session_start_time": null,
              "execution_start_time": "2023-11-18T00:28:05.3145602Z",
              "execution_finish_time": "2023-11-18T00:28:06.116574Z",
              "spark_jobs": {
                "numbers": {
                  "FAILED": 0,
                  "RUNNING": 0,
                  "SUCCEEDED": 0,
                  "UNKNOWN": 0
                },
                "jobs": [],
                "limit": 20,
                "rule": "ALL_DESC"
              },
              "parent_msg_id": "6e48dcef-2b7d-4589-9287-ecdab0ce210f"
            },
            "text/plain": "StatementMeta(80dcc4b2-bc50-4e81-91e5-397b7f13252e, 23, 73, Finished, Available)"
          },
          "metadata": {}
        },
        {
          "output_type": "execute_result",
          "execution_count": 145,
          "data": {
            "text/plain": "   S No  AGE  HEIGHT  WEIGHT     SEX ACTIVITY LEVEL  PAIN 1  PAIN 2  PAIN 3  \\\n0     1   53      62     125  Female            Low     0.0     0.0     0.0   \n1     2   52      69     157    Male           High     7.0     8.0     5.0   \n2     3   30      69     200    Male           High     0.0     0.0     0.0   \n3     4   51      66     175    Male       Moderate     9.5     9.5     9.5   \n4     5   45      63     199  Female       Moderate     4.0     5.0     2.0   \n\n   PAIN 4  MBTI   E   I   S   N   T   F   J   P POSTURE  \n0     0.0  ESFJ  18   3  17   9   9  13  18   4       A  \n1     3.0  ISTJ   6  15  14  12  21   3  13   9       B  \n2     0.0  ESTJ  15   6  16  10  15   9  12  10       A  \n3     1.5  ISTJ   6  15  21   5  13  11  19   3       D  \n4     2.0  ENFJ  14   7  20   6   9  15  16   6       A  ",
            "text/html": "<div>\n<style scoped>\n    .dataframe tbody tr th:only-of-type {\n        vertical-align: middle;\n    }\n\n    .dataframe tbody tr th {\n        vertical-align: top;\n    }\n\n    .dataframe thead th {\n        text-align: right;\n    }\n</style>\n<table border=\"1\" class=\"dataframe\">\n  <thead>\n    <tr style=\"text-align: right;\">\n      <th></th>\n      <th>S No</th>\n      <th>AGE</th>\n      <th>HEIGHT</th>\n      <th>WEIGHT</th>\n      <th>SEX</th>\n      <th>ACTIVITY LEVEL</th>\n      <th>PAIN 1</th>\n      <th>PAIN 2</th>\n      <th>PAIN 3</th>\n      <th>PAIN 4</th>\n      <th>MBTI</th>\n      <th>E</th>\n      <th>I</th>\n      <th>S</th>\n      <th>N</th>\n      <th>T</th>\n      <th>F</th>\n      <th>J</th>\n      <th>P</th>\n      <th>POSTURE</th>\n    </tr>\n  </thead>\n  <tbody>\n    <tr>\n      <th>0</th>\n      <td>1</td>\n      <td>53</td>\n      <td>62</td>\n      <td>125</td>\n      <td>Female</td>\n      <td>Low</td>\n      <td>0.0</td>\n      <td>0.0</td>\n      <td>0.0</td>\n      <td>0.0</td>\n      <td>ESFJ</td>\n      <td>18</td>\n      <td>3</td>\n      <td>17</td>\n      <td>9</td>\n      <td>9</td>\n      <td>13</td>\n      <td>18</td>\n      <td>4</td>\n      <td>A</td>\n    </tr>\n    <tr>\n      <th>1</th>\n      <td>2</td>\n      <td>52</td>\n      <td>69</td>\n      <td>157</td>\n      <td>Male</td>\n      <td>High</td>\n      <td>7.0</td>\n      <td>8.0</td>\n      <td>5.0</td>\n      <td>3.0</td>\n      <td>ISTJ</td>\n      <td>6</td>\n      <td>15</td>\n      <td>14</td>\n      <td>12</td>\n      <td>21</td>\n      <td>3</td>\n      <td>13</td>\n      <td>9</td>\n      <td>B</td>\n    </tr>\n    <tr>\n      <th>2</th>\n      <td>3</td>\n      <td>30</td>\n      <td>69</td>\n      <td>200</td>\n      <td>Male</td>\n      <td>High</td>\n      <td>0.0</td>\n      <td>0.0</td>\n      <td>0.0</td>\n      <td>0.0</td>\n      <td>ESTJ</td>\n      <td>15</td>\n      <td>6</td>\n      <td>16</td>\n      <td>10</td>\n      <td>15</td>\n      <td>9</td>\n      <td>12</td>\n      <td>10</td>\n      <td>A</td>\n    </tr>\n    <tr>\n      <th>3</th>\n      <td>4</td>\n      <td>51</td>\n      <td>66</td>\n      <td>175</td>\n      <td>Male</td>\n      <td>Moderate</td>\n      <td>9.5</td>\n      <td>9.5</td>\n      <td>9.5</td>\n      <td>1.5</td>\n      <td>ISTJ</td>\n      <td>6</td>\n      <td>15</td>\n      <td>21</td>\n      <td>5</td>\n      <td>13</td>\n      <td>11</td>\n      <td>19</td>\n      <td>3</td>\n      <td>D</td>\n    </tr>\n    <tr>\n      <th>4</th>\n      <td>5</td>\n      <td>45</td>\n      <td>63</td>\n      <td>199</td>\n      <td>Female</td>\n      <td>Moderate</td>\n      <td>4.0</td>\n      <td>5.0</td>\n      <td>2.0</td>\n      <td>2.0</td>\n      <td>ENFJ</td>\n      <td>14</td>\n      <td>7</td>\n      <td>20</td>\n      <td>6</td>\n      <td>9</td>\n      <td>15</td>\n      <td>16</td>\n      <td>6</td>\n      <td>A</td>\n    </tr>\n  </tbody>\n</table>\n</div>"
          },
          "metadata": {}
        }
      ],
      "execution_count": 68,
      "metadata": {
        "jupyter": {
          "source_hidden": false,
          "outputs_hidden": false
        },
        "nteract": {
          "transient": {
            "deleting": false
          }
        },
        "gather": {
          "logged": 1700267286406
        }
      }
    },
    {
      "cell_type": "code",
      "source": [
        "#Create PySpark DataFrame from Pandas\n",
        "health=spark.createDataFrame(df) \n",
        "health.printSchema()\n",
        "health.show(5)"
      ],
      "outputs": [
        {
          "output_type": "display_data",
          "data": {
            "application/vnd.livy.statement-meta+json": {
              "spark_pool": "80dcc4b2-bc50-4e81-91e5-397b7f13252e",
              "session_id": "23",
              "statement_id": 74,
              "state": "finished",
              "livy_statement_state": "available",
              "queued_time": "2023-11-18T00:28:08.8408556Z",
              "session_start_time": null,
              "execution_start_time": "2023-11-18T00:28:09.0148011Z",
              "execution_finish_time": "2023-11-18T00:28:09.3183517Z",
              "spark_jobs": {
                "numbers": {
                  "FAILED": 0,
                  "RUNNING": 0,
                  "SUCCEEDED": 1,
                  "UNKNOWN": 0
                },
                "jobs": [
                  {
                    "displayName": "showString at <unknown>:0",
                    "dataWritten": 0,
                    "dataRead": 0,
                    "rowCount": 0,
                    "usageDescription": "",
                    "jobId": 195,
                    "name": "showString at <unknown>:0",
                    "description": "Job group for statement 74:\n#Create PySpark DataFrame from Pandas\nhealth=spark.createDataFrame(df) \nhealth.printSchema()\nhealth.show(5)",
                    "submissionTime": "2023-11-18T00:28:09.087GMT",
                    "completionTime": "2023-11-18T00:28:09.135GMT",
                    "stageIds": [
                      254
                    ],
                    "jobGroup": "74",
                    "status": "SUCCEEDED",
                    "numTasks": 1,
                    "numActiveTasks": 0,
                    "numCompletedTasks": 1,
                    "numSkippedTasks": 0,
                    "numFailedTasks": 0,
                    "numKilledTasks": 0,
                    "numCompletedIndices": 1,
                    "numActiveStages": 0,
                    "numCompletedStages": 1,
                    "numSkippedStages": 0,
                    "numFailedStages": 0,
                    "killedTasksSummary": {}
                  }
                ],
                "limit": 20,
                "rule": "ALL_DESC"
              },
              "parent_msg_id": "77f8ca2d-155b-498b-832a-38017954763a"
            },
            "text/plain": "StatementMeta(80dcc4b2-bc50-4e81-91e5-397b7f13252e, 23, 74, Finished, Available)"
          },
          "metadata": {}
        },
        {
          "output_type": "stream",
          "name": "stdout",
          "text": "root\n |-- S No: long (nullable = true)\n |-- AGE: long (nullable = true)\n |-- HEIGHT: long (nullable = true)\n |-- WEIGHT: long (nullable = true)\n |-- SEX: string (nullable = true)\n |-- ACTIVITY LEVEL: string (nullable = true)\n |-- PAIN 1: double (nullable = true)\n |-- PAIN 2: double (nullable = true)\n |-- PAIN 3: double (nullable = true)\n |-- PAIN 4: double (nullable = true)\n |-- MBTI: string (nullable = true)\n |-- E: long (nullable = true)\n |-- I: long (nullable = true)\n |-- S: long (nullable = true)\n |-- N: long (nullable = true)\n |-- T: long (nullable = true)\n |-- F: long (nullable = true)\n |-- J: long (nullable = true)\n |-- P: long (nullable = true)\n |-- POSTURE: string (nullable = true)\n\n+----+---+------+------+------+--------------+------+------+------+------+----+---+---+---+---+---+---+---+---+-------+\n|S No|AGE|HEIGHT|WEIGHT|   SEX|ACTIVITY LEVEL|PAIN 1|PAIN 2|PAIN 3|PAIN 4|MBTI|  E|  I|  S|  N|  T|  F|  J|  P|POSTURE|\n+----+---+------+------+------+--------------+------+------+------+------+----+---+---+---+---+---+---+---+---+-------+\n|   1| 53|    62|   125|Female|           Low|   0.0|   0.0|   0.0|   0.0|ESFJ| 18|  3| 17|  9|  9| 13| 18|  4|      A|\n|   2| 52|    69|   157|  Male|          High|   7.0|   8.0|   5.0|   3.0|ISTJ|  6| 15| 14| 12| 21|  3| 13|  9|      B|\n|   3| 30|    69|   200|  Male|          High|   0.0|   0.0|   0.0|   0.0|ESTJ| 15|  6| 16| 10| 15|  9| 12| 10|      A|\n|   4| 51|    66|   175|  Male|      Moderate|   9.5|   9.5|   9.5|   1.5|ISTJ|  6| 15| 21|  5| 13| 11| 19|  3|      D|\n|   5| 45|    63|   199|Female|      Moderate|   4.0|   5.0|   2.0|   2.0|ENFJ| 14|  7| 20|  6|  9| 15| 16|  6|      A|\n+----+---+------+------+------+--------------+------+------+------+------+----+---+---+---+---+---+---+---+---+-------+\nonly showing top 5 rows\n\n"
        }
      ],
      "execution_count": 69,
      "metadata": {
        "jupyter": {
          "source_hidden": false,
          "outputs_hidden": false
        },
        "nteract": {
          "transient": {
            "deleting": false
          }
        },
        "gather": {
          "logged": 1700267289665
        }
      }
    },
    {
      "cell_type": "markdown",
      "source": [
        "## Create Total Pain Variable"
      ],
      "metadata": {
        "nteract": {
          "transient": {
            "deleting": false
          }
        }
      }
    },
    {
      "cell_type": "code",
      "source": [
        "health = health.withColumn(\"total_pain\", F.col(\"PAIN 1\") + F.col(\"PAIN 2\") + F.col(\"PAIN 3\") + F.col(\"PAIN 4\"))\n",
        "health.show(5)\n",
        "health.limit(5).toPandas().to_csv(\"Users/ml2078/fall-2023-reddit-project-team-10/data/csv/health_total_health.csv\",index=False)\n"
      ],
      "outputs": [
        {
          "output_type": "display_data",
          "data": {
            "application/vnd.livy.statement-meta+json": {
              "spark_pool": "80dcc4b2-bc50-4e81-91e5-397b7f13252e",
              "session_id": "23",
              "statement_id": 75,
              "state": "finished",
              "livy_statement_state": "available",
              "queued_time": "2023-11-18T00:28:13.4171765Z",
              "session_start_time": null,
              "execution_start_time": "2023-11-18T00:28:13.582642Z",
              "execution_finish_time": "2023-11-18T00:28:14.435621Z",
              "spark_jobs": {
                "numbers": {
                  "FAILED": 0,
                  "RUNNING": 0,
                  "SUCCEEDED": 2,
                  "UNKNOWN": 0
                },
                "jobs": [
                  {
                    "displayName": "toPandas at /tmp/ipykernel_8211/3373111193.py:3",
                    "dataWritten": 4310,
                    "dataRead": 0,
                    "rowCount": 40,
                    "usageDescription": "",
                    "jobId": 197,
                    "name": "toPandas at /tmp/ipykernel_8211/3373111193.py:3",
                    "description": "Job group for statement 75:\nhealth = health.withColumn(\"total_pain\", F.col(\"PAIN 1\") + F.col(\"PAIN 2\") + F.col(\"PAIN 3\") + F.col(\"PAIN 4\"))\nhealth.show(5)\nhealth.limit(5).toPandas().to_csv(\"Users/ml2078/fall-2023-reddit-project-team-10/data/csv/health_total_health.csv\",index=False)\n",
                    "submissionTime": "2023-11-18T00:28:13.707GMT",
                    "completionTime": "2023-11-18T00:28:13.775GMT",
                    "stageIds": [
                      256,
                      257
                    ],
                    "jobGroup": "75",
                    "status": "SUCCEEDED",
                    "numTasks": 9,
                    "numActiveTasks": 0,
                    "numCompletedTasks": 9,
                    "numSkippedTasks": 0,
                    "numFailedTasks": 0,
                    "numKilledTasks": 0,
                    "numCompletedIndices": 9,
                    "numActiveStages": 0,
                    "numCompletedStages": 2,
                    "numSkippedStages": 0,
                    "numFailedStages": 0,
                    "killedTasksSummary": {}
                  },
                  {
                    "displayName": "showString at <unknown>:0",
                    "dataWritten": 0,
                    "dataRead": 0,
                    "rowCount": 0,
                    "usageDescription": "",
                    "jobId": 196,
                    "name": "showString at <unknown>:0",
                    "description": "Job group for statement 75:\nhealth = health.withColumn(\"total_pain\", F.col(\"PAIN 1\") + F.col(\"PAIN 2\") + F.col(\"PAIN 3\") + F.col(\"PAIN 4\"))\nhealth.show(5)\nhealth.limit(5).toPandas().to_csv(\"Users/ml2078/fall-2023-reddit-project-team-10/data/csv/health_total_health.csv\",index=False)\n",
                    "submissionTime": "2023-11-18T00:28:13.606GMT",
                    "completionTime": "2023-11-18T00:28:13.649GMT",
                    "stageIds": [
                      255
                    ],
                    "jobGroup": "75",
                    "status": "SUCCEEDED",
                    "numTasks": 1,
                    "numActiveTasks": 0,
                    "numCompletedTasks": 1,
                    "numSkippedTasks": 0,
                    "numFailedTasks": 0,
                    "numKilledTasks": 0,
                    "numCompletedIndices": 1,
                    "numActiveStages": 0,
                    "numCompletedStages": 1,
                    "numSkippedStages": 0,
                    "numFailedStages": 0,
                    "killedTasksSummary": {}
                  }
                ],
                "limit": 20,
                "rule": "ALL_DESC"
              },
              "parent_msg_id": "2ea0fbc7-eedb-4875-ab84-bdda6fa9ca55"
            },
            "text/plain": "StatementMeta(80dcc4b2-bc50-4e81-91e5-397b7f13252e, 23, 75, Finished, Available)"
          },
          "metadata": {}
        },
        {
          "output_type": "stream",
          "name": "stdout",
          "text": "+----+---+------+------+------+--------------+------+------+------+------+----+---+---+---+---+---+---+---+---+-------+----------+\n|S No|AGE|HEIGHT|WEIGHT|   SEX|ACTIVITY LEVEL|PAIN 1|PAIN 2|PAIN 3|PAIN 4|MBTI|  E|  I|  S|  N|  T|  F|  J|  P|POSTURE|total_pain|\n+----+---+------+------+------+--------------+------+------+------+------+----+---+---+---+---+---+---+---+---+-------+----------+\n|   1| 53|    62|   125|Female|           Low|   0.0|   0.0|   0.0|   0.0|ESFJ| 18|  3| 17|  9|  9| 13| 18|  4|      A|       0.0|\n|   2| 52|    69|   157|  Male|          High|   7.0|   8.0|   5.0|   3.0|ISTJ|  6| 15| 14| 12| 21|  3| 13|  9|      B|      23.0|\n|   3| 30|    69|   200|  Male|          High|   0.0|   0.0|   0.0|   0.0|ESTJ| 15|  6| 16| 10| 15|  9| 12| 10|      A|       0.0|\n|   4| 51|    66|   175|  Male|      Moderate|   9.5|   9.5|   9.5|   1.5|ISTJ|  6| 15| 21|  5| 13| 11| 19|  3|      D|      30.0|\n|   5| 45|    63|   199|Female|      Moderate|   4.0|   5.0|   2.0|   2.0|ENFJ| 14|  7| 20|  6|  9| 15| 16|  6|      A|      13.0|\n+----+---+------+------+------+--------------+------+------+------+------+----+---+---+---+---+---+---+---+---+-------+----------+\nonly showing top 5 rows\n\n"
        }
      ],
      "execution_count": 70,
      "metadata": {
        "jupyter": {
          "source_hidden": false,
          "outputs_hidden": false
        },
        "nteract": {
          "transient": {
            "deleting": false
          }
        },
        "gather": {
          "logged": 1700267294752
        }
      }
    },
    {
      "cell_type": "markdown",
      "source": [
        "## Drop Individual Pain to Avoid Multicollinearity"
      ],
      "metadata": {
        "nteract": {
          "transient": {
            "deleting": false
          }
        }
      }
    },
    {
      "cell_type": "code",
      "source": [
        "health = health.drop(\"PAIN 1\",\"PAIN 2\",\"PAIN 3\",\"PAIN 4\")\n",
        "health.show(5)"
      ],
      "outputs": [
        {
          "output_type": "display_data",
          "data": {
            "application/vnd.livy.statement-meta+json": {
              "spark_pool": "80dcc4b2-bc50-4e81-91e5-397b7f13252e",
              "session_id": "23",
              "statement_id": 76,
              "state": "finished",
              "livy_statement_state": "available",
              "queued_time": "2023-11-18T00:28:18.1448245Z",
              "session_start_time": null,
              "execution_start_time": "2023-11-18T00:28:18.2660532Z",
              "execution_finish_time": "2023-11-18T00:28:18.5598791Z",
              "spark_jobs": {
                "numbers": {
                  "FAILED": 0,
                  "RUNNING": 0,
                  "SUCCEEDED": 1,
                  "UNKNOWN": 0
                },
                "jobs": [
                  {
                    "displayName": "showString at <unknown>:0",
                    "dataWritten": 0,
                    "dataRead": 0,
                    "rowCount": 0,
                    "usageDescription": "",
                    "jobId": 198,
                    "name": "showString at <unknown>:0",
                    "description": "Job group for statement 76:\nhealth = health.drop(\"PAIN 1\",\"PAIN 2\",\"PAIN 3\",\"PAIN 4\")\nhealth.show(5)",
                    "submissionTime": "2023-11-18T00:28:18.312GMT",
                    "completionTime": "2023-11-18T00:28:18.332GMT",
                    "stageIds": [
                      258
                    ],
                    "jobGroup": "76",
                    "status": "SUCCEEDED",
                    "numTasks": 1,
                    "numActiveTasks": 0,
                    "numCompletedTasks": 1,
                    "numSkippedTasks": 0,
                    "numFailedTasks": 0,
                    "numKilledTasks": 0,
                    "numCompletedIndices": 1,
                    "numActiveStages": 0,
                    "numCompletedStages": 1,
                    "numSkippedStages": 0,
                    "numFailedStages": 0,
                    "killedTasksSummary": {}
                  }
                ],
                "limit": 20,
                "rule": "ALL_DESC"
              },
              "parent_msg_id": "7e9a68ee-b5b1-4ee2-b55d-d3da3dc27e32"
            },
            "text/plain": "StatementMeta(80dcc4b2-bc50-4e81-91e5-397b7f13252e, 23, 76, Finished, Available)"
          },
          "metadata": {}
        },
        {
          "output_type": "stream",
          "name": "stdout",
          "text": "+----+---+------+------+------+--------------+----+---+---+---+---+---+---+---+---+-------+----------+\n|S No|AGE|HEIGHT|WEIGHT|   SEX|ACTIVITY LEVEL|MBTI|  E|  I|  S|  N|  T|  F|  J|  P|POSTURE|total_pain|\n+----+---+------+------+------+--------------+----+---+---+---+---+---+---+---+---+-------+----------+\n|   1| 53|    62|   125|Female|           Low|ESFJ| 18|  3| 17|  9|  9| 13| 18|  4|      A|       0.0|\n|   2| 52|    69|   157|  Male|          High|ISTJ|  6| 15| 14| 12| 21|  3| 13|  9|      B|      23.0|\n|   3| 30|    69|   200|  Male|          High|ESTJ| 15|  6| 16| 10| 15|  9| 12| 10|      A|       0.0|\n|   4| 51|    66|   175|  Male|      Moderate|ISTJ|  6| 15| 21|  5| 13| 11| 19|  3|      D|      30.0|\n|   5| 45|    63|   199|Female|      Moderate|ENFJ| 14|  7| 20|  6|  9| 15| 16|  6|      A|      13.0|\n+----+---+------+------+------+--------------+----+---+---+---+---+---+---+---+---+-------+----------+\nonly showing top 5 rows\n\n"
        }
      ],
      "execution_count": 71,
      "metadata": {
        "jupyter": {
          "source_hidden": false,
          "outputs_hidden": false
        },
        "nteract": {
          "transient": {
            "deleting": false
          }
        },
        "gather": {
          "logged": 1700267298959
        }
      }
    },
    {
      "cell_type": "markdown",
      "source": [
        "# Numeric Variable Correlation Matrix"
      ],
      "metadata": {
        "nteract": {
          "transient": {
            "deleting": false
          }
        }
      }
    },
    {
      "cell_type": "code",
      "source": [
        "import pandas as pd\n",
        "import seaborn as sns\n",
        "import matplotlib.pyplot as plt\n",
        "\n",
        "numeric_var = health.select('AGE','HEIGHT','WEIGHT','E','I','S','N','T','F','J','P','total_pain')\n",
        "numeric_var_pd = numeric_var.toPandas()\n",
        "\n",
        "correlation_matrix = numeric_var_pd.corr()\n",
        "\n",
        "# Plotting the heatmap\n",
        "plt.figure(figsize=(12, 10))\n",
        "sns.heatmap(correlation_matrix, annot=True, cmap='coolwarm')\n",
        "plt.title('Correlation Matrix Heatmap')\n",
        "plt.savefig('Users/ml2078/fall-2023-reddit-project-team-10/data/plots/cor_matrix.png', dpi=300, bbox_inches='tight')\n",
        "\n",
        "plt.show()"
      ],
      "outputs": [
        {
          "output_type": "display_data",
          "data": {
            "application/vnd.livy.statement-meta+json": {
              "spark_pool": "80dcc4b2-bc50-4e81-91e5-397b7f13252e",
              "session_id": "23",
              "statement_id": 111,
              "state": "finished",
              "livy_statement_state": "available",
              "queued_time": "2023-11-18T00:52:07.3635322Z",
              "session_start_time": null,
              "execution_start_time": "2023-11-18T00:52:07.4718751Z",
              "execution_finish_time": "2023-11-18T00:52:09.9476268Z",
              "spark_jobs": {
                "numbers": {
                  "FAILED": 0,
                  "RUNNING": 0,
                  "SUCCEEDED": 1,
                  "UNKNOWN": 0
                },
                "jobs": [
                  {
                    "displayName": "toPandas at /tmp/ipykernel_8211/3103000231.py:6",
                    "dataWritten": 0,
                    "dataRead": 0,
                    "rowCount": 0,
                    "usageDescription": "",
                    "jobId": 382,
                    "name": "toPandas at /tmp/ipykernel_8211/3103000231.py:6",
                    "description": "Job group for statement 111:\nimport pandas as pd\nimport seaborn as sns\nimport matplotlib.pyplot as plt\n\nnumeric_var = health.select('AGE','HEIGHT','WEIGHT','E','I','S','N','T','F','J','P','total_pain')\nnumeric_var_pd = numeric_var.toPandas()\n\ncorrelation_matrix = numeric_var_pd.corr()\n\n# Plotting the heatmap\nplt.figure(figsize=(12, 10))\nsns.heatmap(correlation_matrix, annot=True, cmap='coolwarm')\nplt.title('Correlation Matrix Heatmap')\nplt.savefig('Users/ml2078/fall-2023-reddit-project-team-10/data/plots/cor_matrix.png', dpi=300, bbox_inches='tight')\n\nplt.show()",
                    "submissionTime": "2023-11-18T00:52:07.531GMT",
                    "completionTime": "2023-11-18T00:52:07.556GMT",
                    "stageIds": [
                      472
                    ],
                    "jobGroup": "111",
                    "status": "SUCCEEDED",
                    "numTasks": 8,
                    "numActiveTasks": 0,
                    "numCompletedTasks": 8,
                    "numSkippedTasks": 0,
                    "numFailedTasks": 0,
                    "numKilledTasks": 0,
                    "numCompletedIndices": 8,
                    "numActiveStages": 0,
                    "numCompletedStages": 1,
                    "numSkippedStages": 0,
                    "numFailedStages": 0,
                    "killedTasksSummary": {}
                  }
                ],
                "limit": 20,
                "rule": "ALL_DESC"
              },
              "parent_msg_id": "8bd3cbf5-9292-401e-9dcf-8a01aaa90717"
            },
            "text/plain": "StatementMeta(80dcc4b2-bc50-4e81-91e5-397b7f13252e, 23, 111, Finished, Available)"
          },
          "metadata": {}
        },
        {
          "output_type": "display_data",
          "data": {
            "text/plain": "<Figure size 864x720 with 2 Axes>",
            "image/png": "[encoded data removed]"
          },
          "metadata": {
            "needs_background": "light"
          }
        }
      ],
      "execution_count": 106,
      "metadata": {
        "jupyter": {
          "source_hidden": false,
          "outputs_hidden": false
        },
        "nteract": {
          "transient": {
            "deleting": false
          }
        },
        "gather": {
          "logged": 1700268730368
        }
      }
    },
    {
      "cell_type": "markdown",
      "source": [
        "## One-hot Encoding Categorical Variable\n",
        "- Create pipeline for later use\n",
        "- Use StringIndexer, OneHotEncoder, VectorAssembler\n",
        "- Display mapping "
      ],
      "metadata": {
        "nteract": {
          "transient": {
            "deleting": false
          }
        }
      }
    },
    {
      "cell_type": "code",
      "source": [
        "from pyspark.ml.feature import StringIndexer, OneHotEncoder, VectorAssembler\n",
        "from pyspark.ml import Pipeline\n",
        "\n",
        "# Define the columns to be one-hot encoded\n",
        "categoricalColumns = [\"SEX\", \"ACTIVITY LEVEL\",\"POSTURE\"]\n",
        "\n",
        "# Define the stages of the pipeline\n",
        "stages = []\n",
        "\n",
        "# Create and display the mappings for each categorical column\n",
        "for categoricalCol in categoricalColumns:\n",
        "    # StringIndexer: convert strings to label indices\n",
        "    stringIndexer = StringIndexer(inputCol=categoricalCol, outputCol=categoricalCol + \"Index\")\n",
        "    \n",
        "    # Fit and transform to display the mapping\n",
        "    indexed = stringIndexer.fit(health).transform(health)\n",
        "    indexed.select(categoricalCol, categoricalCol + \"Index\").distinct().show()\n",
        "    \n",
        "    # OneHotEncoder: encode label indices to binary vectors\n",
        "    encoder = OneHotEncoder(inputCols=[stringIndexer.getOutputCol()], outputCols=[categoricalCol + \"OHE\"])\n",
        "    \n",
        "    stages += [stringIndexer, encoder]\n",
        "\n",
        "# Apply the stages in a pipeline to transform the DataFrame\n",
        "pipeline = Pipeline(stages=stages)\n",
        "pipelineModel = pipeline.fit(health)\n",
        "df_transformed = pipelineModel.transform(health)\n",
        "\n",
        "pipeline_model_path = \"Users/ml2078/fall-2023-reddit-project-team-10/pipeline\"\n",
        "pipelineModel.save(pipeline_model_path)\n",
        "\n",
        "# Display the transformed DataFrame\n",
        "df_transformed.show(5)\n"
      ],
      "outputs": [
        {
          "output_type": "display_data",
          "data": {
            "application/vnd.livy.statement-meta+json": {
              "spark_pool": "80dcc4b2-bc50-4e81-91e5-397b7f13252e",
              "session_id": "23",
              "statement_id": 79,
              "state": "finished",
              "livy_statement_state": "available",
              "queued_time": "2023-11-18T00:40:00.6822205Z",
              "session_start_time": null,
              "execution_start_time": "2023-11-18T00:40:00.8460771Z",
              "execution_finish_time": "2023-11-18T00:40:18.174078Z",
              "spark_jobs": {
                "numbers": {
                  "FAILED": 0,
                  "RUNNING": 0,
                  "SUCCEEDED": 38,
                  "UNKNOWN": 0
                },
                "jobs": [
                  {
                    "displayName": "showString at <unknown>:0",
                    "dataWritten": 0,
                    "dataRead": 0,
                    "rowCount": 0,
                    "usageDescription": "",
                    "jobId": 255,
                    "name": "showString at <unknown>:0",
                    "description": "Job group for statement 79:\nfrom pyspark.ml.feature import StringIndexer, OneHotEncoder, VectorAssembler\nfrom pyspark.ml import Pipeline\n\n# Define the columns to be one-hot encoded\ncategoricalColumns = [\"SEX\", \"ACTIVITY LEVEL\",\"POSTURE\"]\n\n# Define the stages of the pipeline\nstages = []\n\n# Create and display the mappings for each categorical column\nfor categoricalCol in categoricalColumns:\n    # StringIndexer: convert strings to label indices\n    stringIndexer = StringIndexer(inputCol=categoricalCol, outputCol=categoricalCol + \"Index\")\n    \n    # Fit and transform to display the mapping\n    indexed = stringIndexer.fit(health).transform(health)\n    indexed.select(categoricalCol, categoricalCol + \"Index\").distinct().show()\n    \n    # OneHotEncoder: encode label indices to binary vectors\n    encoder = OneHotEncoder(inputCols=[stringIndexer.getOutputCol()], outputCols=[categoricalCol + \"OHE\"])\n    \n    stages += [stringIndexer, encoder]\n\n# Apply the stages in a pipeline to transform the DataFrame\npipeline = Pipeline(stages=stages)\npipelineMo...",
                    "submissionTime": "2023-11-18T00:40:16.255GMT",
                    "completionTime": "2023-11-18T00:40:16.283GMT",
                    "stageIds": [
                      339
                    ],
                    "jobGroup": "79",
                    "status": "SUCCEEDED",
                    "numTasks": 1,
                    "numActiveTasks": 0,
                    "numCompletedTasks": 1,
                    "numSkippedTasks": 0,
                    "numFailedTasks": 0,
                    "numKilledTasks": 0,
                    "numCompletedIndices": 1,
                    "numActiveStages": 0,
                    "numCompletedStages": 1,
                    "numSkippedStages": 0,
                    "numFailedStages": 0,
                    "killedTasksSummary": {}
                  },
                  {
                    "displayName": "parquet at OneHotEncoder.scala:407",
                    "dataWritten": 589,
                    "dataRead": 74,
                    "rowCount": 2,
                    "usageDescription": "",
                    "jobId": 254,
                    "name": "parquet at OneHotEncoder.scala:407",
                    "description": "Job group for statement 79:\nfrom pyspark.ml.feature import StringIndexer, OneHotEncoder, VectorAssembler\nfrom pyspark.ml import Pipeline\n\n# Define the columns to be one-hot encoded\ncategoricalColumns = [\"SEX\", \"ACTIVITY LEVEL\",\"POSTURE\"]\n\n# Define the stages of the pipeline\nstages = []\n\n# Create and display the mappings for each categorical column\nfor categoricalCol in categoricalColumns:\n    # StringIndexer: convert strings to label indices\n    stringIndexer = StringIndexer(inputCol=categoricalCol, outputCol=categoricalCol + \"Index\")\n    \n    # Fit and transform to display the mapping\n    indexed = stringIndexer.fit(health).transform(health)\n    indexed.select(categoricalCol, categoricalCol + \"Index\").distinct().show()\n    \n    # OneHotEncoder: encode label indices to binary vectors\n    encoder = OneHotEncoder(inputCols=[stringIndexer.getOutputCol()], outputCols=[categoricalCol + \"OHE\"])\n    \n    stages += [stringIndexer, encoder]\n\n# Apply the stages in a pipeline to transform the DataFrame\npipeline = Pipeline(stages=stages)\npipelineMo...",
                    "submissionTime": "2023-11-18T00:40:15.505GMT",
                    "completionTime": "2023-11-18T00:40:15.998GMT",
                    "stageIds": [
                      338,
                      337
                    ],
                    "jobGroup": "79",
                    "status": "SUCCEEDED",
                    "numTasks": 2,
                    "numActiveTasks": 0,
                    "numCompletedTasks": 1,
                    "numSkippedTasks": 1,
                    "numFailedTasks": 0,
                    "numKilledTasks": 0,
                    "numCompletedIndices": 1,
                    "numActiveStages": 0,
                    "numCompletedStages": 1,
                    "numSkippedStages": 1,
                    "numFailedStages": 0,
                    "killedTasksSummary": {}
                  },
                  {
                    "displayName": "parquet at OneHotEncoder.scala:407",
                    "dataWritten": 74,
                    "dataRead": 0,
                    "rowCount": 1,
                    "usageDescription": "",
                    "jobId": 253,
                    "name": "parquet at OneHotEncoder.scala:407",
                    "description": "Job group for statement 79:\nfrom pyspark.ml.feature import StringIndexer, OneHotEncoder, VectorAssembler\nfrom pyspark.ml import Pipeline\n\n# Define the columns to be one-hot encoded\ncategoricalColumns = [\"SEX\", \"ACTIVITY LEVEL\",\"POSTURE\"]\n\n# Define the stages of the pipeline\nstages = []\n\n# Create and display the mappings for each categorical column\nfor categoricalCol in categoricalColumns:\n    # StringIndexer: convert strings to label indices\n    stringIndexer = StringIndexer(inputCol=categoricalCol, outputCol=categoricalCol + \"Index\")\n    \n    # Fit and transform to display the mapping\n    indexed = stringIndexer.fit(health).transform(health)\n    indexed.select(categoricalCol, categoricalCol + \"Index\").distinct().show()\n    \n    # OneHotEncoder: encode label indices to binary vectors\n    encoder = OneHotEncoder(inputCols=[stringIndexer.getOutputCol()], outputCols=[categoricalCol + \"OHE\"])\n    \n    stages += [stringIndexer, encoder]\n\n# Apply the stages in a pipeline to transform the DataFrame\npipeline = Pipeline(stages=stages)\npipelineMo...",
                    "submissionTime": "2023-11-18T00:40:15.435GMT",
                    "completionTime": "2023-11-18T00:40:15.453GMT",
                    "stageIds": [
                      336
                    ],
                    "jobGroup": "79",
                    "status": "SUCCEEDED",
                    "numTasks": 1,
                    "numActiveTasks": 0,
                    "numCompletedTasks": 1,
                    "numSkippedTasks": 0,
                    "numFailedTasks": 0,
                    "numKilledTasks": 0,
                    "numCompletedIndices": 1,
                    "numActiveStages": 0,
                    "numCompletedStages": 1,
                    "numSkippedStages": 0,
                    "numFailedStages": 0,
                    "killedTasksSummary": {}
                  },
                  {
                    "displayName": "runJob at SparkHadoopWriter.scala:85",
                    "dataWritten": 336,
                    "dataRead": 0,
                    "rowCount": 1,
                    "usageDescription": "",
                    "jobId": 252,
                    "name": "runJob at SparkHadoopWriter.scala:85",
                    "description": "Job group for statement 79:\nfrom pyspark.ml.feature import StringIndexer, OneHotEncoder, VectorAssembler\nfrom pyspark.ml import Pipeline\n\n# Define the columns to be one-hot encoded\ncategoricalColumns = [\"SEX\", \"ACTIVITY LEVEL\",\"POSTURE\"]\n\n# Define the stages of the pipeline\nstages = []\n\n# Create and display the mappings for each categorical column\nfor categoricalCol in categoricalColumns:\n    # StringIndexer: convert strings to label indices\n    stringIndexer = StringIndexer(inputCol=categoricalCol, outputCol=categoricalCol + \"Index\")\n    \n    # Fit and transform to display the mapping\n    indexed = stringIndexer.fit(health).transform(health)\n    indexed.select(categoricalCol, categoricalCol + \"Index\").distinct().show()\n    \n    # OneHotEncoder: encode label indices to binary vectors\n    encoder = OneHotEncoder(inputCols=[stringIndexer.getOutputCol()], outputCols=[categoricalCol + \"OHE\"])\n    \n    stages += [stringIndexer, encoder]\n\n# Apply the stages in a pipeline to transform the DataFrame\npipeline = Pipeline(stages=stages)\npipelineMo...",
                    "submissionTime": "2023-11-18T00:40:14.549GMT",
                    "completionTime": "2023-11-18T00:40:15.132GMT",
                    "stageIds": [
                      335
                    ],
                    "jobGroup": "79",
                    "status": "SUCCEEDED",
                    "numTasks": 1,
                    "numActiveTasks": 0,
                    "numCompletedTasks": 1,
                    "numSkippedTasks": 0,
                    "numFailedTasks": 0,
                    "numKilledTasks": 0,
                    "numCompletedIndices": 1,
                    "numActiveStages": 0,
                    "numCompletedStages": 1,
                    "numSkippedStages": 0,
                    "numFailedStages": 0,
                    "killedTasksSummary": {}
                  },
                  {
                    "displayName": "parquet at StringIndexer.scala:499",
                    "dataWritten": 675,
                    "dataRead": 120,
                    "rowCount": 2,
                    "usageDescription": "",
                    "jobId": 251,
                    "name": "parquet at StringIndexer.scala:499",
                    "description": "Job group for statement 79:\nfrom pyspark.ml.feature import StringIndexer, OneHotEncoder, VectorAssembler\nfrom pyspark.ml import Pipeline\n\n# Define the columns to be one-hot encoded\ncategoricalColumns = [\"SEX\", \"ACTIVITY LEVEL\",\"POSTURE\"]\n\n# Define the stages of the pipeline\nstages = []\n\n# Create and display the mappings for each categorical column\nfor categoricalCol in categoricalColumns:\n    # StringIndexer: convert strings to label indices\n    stringIndexer = StringIndexer(inputCol=categoricalCol, outputCol=categoricalCol + \"Index\")\n    \n    # Fit and transform to display the mapping\n    indexed = stringIndexer.fit(health).transform(health)\n    indexed.select(categoricalCol, categoricalCol + \"Index\").distinct().show()\n    \n    # OneHotEncoder: encode label indices to binary vectors\n    encoder = OneHotEncoder(inputCols=[stringIndexer.getOutputCol()], outputCols=[categoricalCol + \"OHE\"])\n    \n    stages += [stringIndexer, encoder]\n\n# Apply the stages in a pipeline to transform the DataFrame\npipeline = Pipeline(stages=stages)\npipelineMo...",
                    "submissionTime": "2023-11-18T00:40:13.456GMT",
                    "completionTime": "2023-11-18T00:40:14.085GMT",
                    "stageIds": [
                      333,
                      334
                    ],
                    "jobGroup": "79",
                    "status": "SUCCEEDED",
                    "numTasks": 2,
                    "numActiveTasks": 0,
                    "numCompletedTasks": 1,
                    "numSkippedTasks": 1,
                    "numFailedTasks": 0,
                    "numKilledTasks": 0,
                    "numCompletedIndices": 1,
                    "numActiveStages": 0,
                    "numCompletedStages": 1,
                    "numSkippedStages": 1,
                    "numFailedStages": 0,
                    "killedTasksSummary": {}
                  },
                  {
                    "displayName": "parquet at StringIndexer.scala:499",
                    "dataWritten": 120,
                    "dataRead": 0,
                    "rowCount": 1,
                    "usageDescription": "",
                    "jobId": 250,
                    "name": "parquet at StringIndexer.scala:499",
                    "description": "Job group for statement 79:\nfrom pyspark.ml.feature import StringIndexer, OneHotEncoder, VectorAssembler\nfrom pyspark.ml import Pipeline\n\n# Define the columns to be one-hot encoded\ncategoricalColumns = [\"SEX\", \"ACTIVITY LEVEL\",\"POSTURE\"]\n\n# Define the stages of the pipeline\nstages = []\n\n# Create and display the mappings for each categorical column\nfor categoricalCol in categoricalColumns:\n    # StringIndexer: convert strings to label indices\n    stringIndexer = StringIndexer(inputCol=categoricalCol, outputCol=categoricalCol + \"Index\")\n    \n    # Fit and transform to display the mapping\n    indexed = stringIndexer.fit(health).transform(health)\n    indexed.select(categoricalCol, categoricalCol + \"Index\").distinct().show()\n    \n    # OneHotEncoder: encode label indices to binary vectors\n    encoder = OneHotEncoder(inputCols=[stringIndexer.getOutputCol()], outputCols=[categoricalCol + \"OHE\"])\n    \n    stages += [stringIndexer, encoder]\n\n# Apply the stages in a pipeline to transform the DataFrame\npipeline = Pipeline(stages=stages)\npipelineMo...",
                    "submissionTime": "2023-11-18T00:40:13.387GMT",
                    "completionTime": "2023-11-18T00:40:13.407GMT",
                    "stageIds": [
                      332
                    ],
                    "jobGroup": "79",
                    "status": "SUCCEEDED",
                    "numTasks": 1,
                    "numActiveTasks": 0,
                    "numCompletedTasks": 1,
                    "numSkippedTasks": 0,
                    "numFailedTasks": 0,
                    "numKilledTasks": 0,
                    "numCompletedIndices": 1,
                    "numActiveStages": 0,
                    "numCompletedStages": 1,
                    "numSkippedStages": 0,
                    "numFailedStages": 0,
                    "killedTasksSummary": {}
                  },
                  {
                    "displayName": "runJob at SparkHadoopWriter.scala:85",
                    "dataWritten": 345,
                    "dataRead": 0,
                    "rowCount": 1,
                    "usageDescription": "",
                    "jobId": 249,
                    "name": "runJob at SparkHadoopWriter.scala:85",
                    "description": "Job group for statement 79:\nfrom pyspark.ml.feature import StringIndexer, OneHotEncoder, VectorAssembler\nfrom pyspark.ml import Pipeline\n\n# Define the columns to be one-hot encoded\ncategoricalColumns = [\"SEX\", \"ACTIVITY LEVEL\",\"POSTURE\"]\n\n# Define the stages of the pipeline\nstages = []\n\n# Create and display the mappings for each categorical column\nfor categoricalCol in categoricalColumns:\n    # StringIndexer: convert strings to label indices\n    stringIndexer = StringIndexer(inputCol=categoricalCol, outputCol=categoricalCol + \"Index\")\n    \n    # Fit and transform to display the mapping\n    indexed = stringIndexer.fit(health).transform(health)\n    indexed.select(categoricalCol, categoricalCol + \"Index\").distinct().show()\n    \n    # OneHotEncoder: encode label indices to binary vectors\n    encoder = OneHotEncoder(inputCols=[stringIndexer.getOutputCol()], outputCols=[categoricalCol + \"OHE\"])\n    \n    stages += [stringIndexer, encoder]\n\n# Apply the stages in a pipeline to transform the DataFrame\npipeline = Pipeline(stages=stages)\npipelineMo...",
                    "submissionTime": "2023-11-18T00:40:12.526GMT",
                    "completionTime": "2023-11-18T00:40:13.009GMT",
                    "stageIds": [
                      331
                    ],
                    "jobGroup": "79",
                    "status": "SUCCEEDED",
                    "numTasks": 1,
                    "numActiveTasks": 0,
                    "numCompletedTasks": 1,
                    "numSkippedTasks": 0,
                    "numFailedTasks": 0,
                    "numKilledTasks": 0,
                    "numCompletedIndices": 1,
                    "numActiveStages": 0,
                    "numCompletedStages": 1,
                    "numSkippedStages": 0,
                    "numFailedStages": 0,
                    "killedTasksSummary": {}
                  },
                  {
                    "displayName": "parquet at OneHotEncoder.scala:407",
                    "dataWritten": 589,
                    "dataRead": 74,
                    "rowCount": 2,
                    "usageDescription": "",
                    "jobId": 248,
                    "name": "parquet at OneHotEncoder.scala:407",
                    "description": "Job group for statement 79:\nfrom pyspark.ml.feature import StringIndexer, OneHotEncoder, VectorAssembler\nfrom pyspark.ml import Pipeline\n\n# Define the columns to be one-hot encoded\ncategoricalColumns = [\"SEX\", \"ACTIVITY LEVEL\",\"POSTURE\"]\n\n# Define the stages of the pipeline\nstages = []\n\n# Create and display the mappings for each categorical column\nfor categoricalCol in categoricalColumns:\n    # StringIndexer: convert strings to label indices\n    stringIndexer = StringIndexer(inputCol=categoricalCol, outputCol=categoricalCol + \"Index\")\n    \n    # Fit and transform to display the mapping\n    indexed = stringIndexer.fit(health).transform(health)\n    indexed.select(categoricalCol, categoricalCol + \"Index\").distinct().show()\n    \n    # OneHotEncoder: encode label indices to binary vectors\n    encoder = OneHotEncoder(inputCols=[stringIndexer.getOutputCol()], outputCols=[categoricalCol + \"OHE\"])\n    \n    stages += [stringIndexer, encoder]\n\n# Apply the stages in a pipeline to transform the DataFrame\npipeline = Pipeline(stages=stages)\npipelineMo...",
                    "submissionTime": "2023-11-18T00:40:11.475GMT",
                    "completionTime": "2023-11-18T00:40:12.156GMT",
                    "stageIds": [
                      329,
                      330
                    ],
                    "jobGroup": "79",
                    "status": "SUCCEEDED",
                    "numTasks": 2,
                    "numActiveTasks": 0,
                    "numCompletedTasks": 1,
                    "numSkippedTasks": 1,
                    "numFailedTasks": 0,
                    "numKilledTasks": 0,
                    "numCompletedIndices": 1,
                    "numActiveStages": 0,
                    "numCompletedStages": 1,
                    "numSkippedStages": 1,
                    "numFailedStages": 0,
                    "killedTasksSummary": {}
                  },
                  {
                    "displayName": "parquet at OneHotEncoder.scala:407",
                    "dataWritten": 74,
                    "dataRead": 0,
                    "rowCount": 1,
                    "usageDescription": "",
                    "jobId": 247,
                    "name": "parquet at OneHotEncoder.scala:407",
                    "description": "Job group for statement 79:\nfrom pyspark.ml.feature import StringIndexer, OneHotEncoder, VectorAssembler\nfrom pyspark.ml import Pipeline\n\n# Define the columns to be one-hot encoded\ncategoricalColumns = [\"SEX\", \"ACTIVITY LEVEL\",\"POSTURE\"]\n\n# Define the stages of the pipeline\nstages = []\n\n# Create and display the mappings for each categorical column\nfor categoricalCol in categoricalColumns:\n    # StringIndexer: convert strings to label indices\n    stringIndexer = StringIndexer(inputCol=categoricalCol, outputCol=categoricalCol + \"Index\")\n    \n    # Fit and transform to display the mapping\n    indexed = stringIndexer.fit(health).transform(health)\n    indexed.select(categoricalCol, categoricalCol + \"Index\").distinct().show()\n    \n    # OneHotEncoder: encode label indices to binary vectors\n    encoder = OneHotEncoder(inputCols=[stringIndexer.getOutputCol()], outputCols=[categoricalCol + \"OHE\"])\n    \n    stages += [stringIndexer, encoder]\n\n# Apply the stages in a pipeline to transform the DataFrame\npipeline = Pipeline(stages=stages)\npipelineMo...",
                    "submissionTime": "2023-11-18T00:40:11.408GMT",
                    "completionTime": "2023-11-18T00:40:11.428GMT",
                    "stageIds": [
                      328
                    ],
                    "jobGroup": "79",
                    "status": "SUCCEEDED",
                    "numTasks": 1,
                    "numActiveTasks": 0,
                    "numCompletedTasks": 1,
                    "numSkippedTasks": 0,
                    "numFailedTasks": 0,
                    "numKilledTasks": 0,
                    "numCompletedIndices": 1,
                    "numActiveStages": 0,
                    "numCompletedStages": 1,
                    "numSkippedStages": 0,
                    "numFailedStages": 0,
                    "killedTasksSummary": {}
                  },
                  {
                    "displayName": "runJob at SparkHadoopWriter.scala:85",
                    "dataWritten": 350,
                    "dataRead": 0,
                    "rowCount": 1,
                    "usageDescription": "",
                    "jobId": 246,
                    "name": "runJob at SparkHadoopWriter.scala:85",
                    "description": "Job group for statement 79:\nfrom pyspark.ml.feature import StringIndexer, OneHotEncoder, VectorAssembler\nfrom pyspark.ml import Pipeline\n\n# Define the columns to be one-hot encoded\ncategoricalColumns = [\"SEX\", \"ACTIVITY LEVEL\",\"POSTURE\"]\n\n# Define the stages of the pipeline\nstages = []\n\n# Create and display the mappings for each categorical column\nfor categoricalCol in categoricalColumns:\n    # StringIndexer: convert strings to label indices\n    stringIndexer = StringIndexer(inputCol=categoricalCol, outputCol=categoricalCol + \"Index\")\n    \n    # Fit and transform to display the mapping\n    indexed = stringIndexer.fit(health).transform(health)\n    indexed.select(categoricalCol, categoricalCol + \"Index\").distinct().show()\n    \n    # OneHotEncoder: encode label indices to binary vectors\n    encoder = OneHotEncoder(inputCols=[stringIndexer.getOutputCol()], outputCols=[categoricalCol + \"OHE\"])\n    \n    stages += [stringIndexer, encoder]\n\n# Apply the stages in a pipeline to transform the DataFrame\npipeline = Pipeline(stages=stages)\npipelineMo...",
                    "submissionTime": "2023-11-18T00:40:10.534GMT",
                    "completionTime": "2023-11-18T00:40:11.065GMT",
                    "stageIds": [
                      327
                    ],
                    "jobGroup": "79",
                    "status": "SUCCEEDED",
                    "numTasks": 1,
                    "numActiveTasks": 0,
                    "numCompletedTasks": 1,
                    "numSkippedTasks": 0,
                    "numFailedTasks": 0,
                    "numKilledTasks": 0,
                    "numCompletedIndices": 1,
                    "numActiveStages": 0,
                    "numCompletedStages": 1,
                    "numSkippedStages": 0,
                    "numFailedStages": 0,
                    "killedTasksSummary": {}
                  },
                  {
                    "displayName": "parquet at StringIndexer.scala:499",
                    "dataWritten": 707,
                    "dataRead": 128,
                    "rowCount": 2,
                    "usageDescription": "",
                    "jobId": 245,
                    "name": "parquet at StringIndexer.scala:499",
                    "description": "Job group for statement 79:\nfrom pyspark.ml.feature import StringIndexer, OneHotEncoder, VectorAssembler\nfrom pyspark.ml import Pipeline\n\n# Define the columns to be one-hot encoded\ncategoricalColumns = [\"SEX\", \"ACTIVITY LEVEL\",\"POSTURE\"]\n\n# Define the stages of the pipeline\nstages = []\n\n# Create and display the mappings for each categorical column\nfor categoricalCol in categoricalColumns:\n    # StringIndexer: convert strings to label indices\n    stringIndexer = StringIndexer(inputCol=categoricalCol, outputCol=categoricalCol + \"Index\")\n    \n    # Fit and transform to display the mapping\n    indexed = stringIndexer.fit(health).transform(health)\n    indexed.select(categoricalCol, categoricalCol + \"Index\").distinct().show()\n    \n    # OneHotEncoder: encode label indices to binary vectors\n    encoder = OneHotEncoder(inputCols=[stringIndexer.getOutputCol()], outputCols=[categoricalCol + \"OHE\"])\n    \n    stages += [stringIndexer, encoder]\n\n# Apply the stages in a pipeline to transform the DataFrame\npipeline = Pipeline(stages=stages)\npipelineMo...",
                    "submissionTime": "2023-11-18T00:40:09.548GMT",
                    "completionTime": "2023-11-18T00:40:10.172GMT",
                    "stageIds": [
                      325,
                      326
                    ],
                    "jobGroup": "79",
                    "status": "SUCCEEDED",
                    "numTasks": 2,
                    "numActiveTasks": 0,
                    "numCompletedTasks": 1,
                    "numSkippedTasks": 1,
                    "numFailedTasks": 0,
                    "numKilledTasks": 0,
                    "numCompletedIndices": 1,
                    "numActiveStages": 0,
                    "numCompletedStages": 1,
                    "numSkippedStages": 1,
                    "numFailedStages": 0,
                    "killedTasksSummary": {}
                  },
                  {
                    "displayName": "parquet at StringIndexer.scala:499",
                    "dataWritten": 128,
                    "dataRead": 0,
                    "rowCount": 1,
                    "usageDescription": "",
                    "jobId": 244,
                    "name": "parquet at StringIndexer.scala:499",
                    "description": "Job group for statement 79:\nfrom pyspark.ml.feature import StringIndexer, OneHotEncoder, VectorAssembler\nfrom pyspark.ml import Pipeline\n\n# Define the columns to be one-hot encoded\ncategoricalColumns = [\"SEX\", \"ACTIVITY LEVEL\",\"POSTURE\"]\n\n# Define the stages of the pipeline\nstages = []\n\n# Create and display the mappings for each categorical column\nfor categoricalCol in categoricalColumns:\n    # StringIndexer: convert strings to label indices\n    stringIndexer = StringIndexer(inputCol=categoricalCol, outputCol=categoricalCol + \"Index\")\n    \n    # Fit and transform to display the mapping\n    indexed = stringIndexer.fit(health).transform(health)\n    indexed.select(categoricalCol, categoricalCol + \"Index\").distinct().show()\n    \n    # OneHotEncoder: encode label indices to binary vectors\n    encoder = OneHotEncoder(inputCols=[stringIndexer.getOutputCol()], outputCols=[categoricalCol + \"OHE\"])\n    \n    stages += [stringIndexer, encoder]\n\n# Apply the stages in a pipeline to transform the DataFrame\npipeline = Pipeline(stages=stages)\npipelineMo...",
                    "submissionTime": "2023-11-18T00:40:09.484GMT",
                    "completionTime": "2023-11-18T00:40:09.504GMT",
                    "stageIds": [
                      324
                    ],
                    "jobGroup": "79",
                    "status": "SUCCEEDED",
                    "numTasks": 1,
                    "numActiveTasks": 0,
                    "numCompletedTasks": 1,
                    "numSkippedTasks": 0,
                    "numFailedTasks": 0,
                    "numKilledTasks": 0,
                    "numCompletedIndices": 1,
                    "numActiveStages": 0,
                    "numCompletedStages": 1,
                    "numSkippedStages": 0,
                    "numFailedStages": 0,
                    "killedTasksSummary": {}
                  },
                  {
                    "displayName": "runJob at SparkHadoopWriter.scala:85",
                    "dataWritten": 359,
                    "dataRead": 0,
                    "rowCount": 1,
                    "usageDescription": "",
                    "jobId": 243,
                    "name": "runJob at SparkHadoopWriter.scala:85",
                    "description": "Job group for statement 79:\nfrom pyspark.ml.feature import StringIndexer, OneHotEncoder, VectorAssembler\nfrom pyspark.ml import Pipeline\n\n# Define the columns to be one-hot encoded\ncategoricalColumns = [\"SEX\", \"ACTIVITY LEVEL\",\"POSTURE\"]\n\n# Define the stages of the pipeline\nstages = []\n\n# Create and display the mappings for each categorical column\nfor categoricalCol in categoricalColumns:\n    # StringIndexer: convert strings to label indices\n    stringIndexer = StringIndexer(inputCol=categoricalCol, outputCol=categoricalCol + \"Index\")\n    \n    # Fit and transform to display the mapping\n    indexed = stringIndexer.fit(health).transform(health)\n    indexed.select(categoricalCol, categoricalCol + \"Index\").distinct().show()\n    \n    # OneHotEncoder: encode label indices to binary vectors\n    encoder = OneHotEncoder(inputCols=[stringIndexer.getOutputCol()], outputCols=[categoricalCol + \"OHE\"])\n    \n    stages += [stringIndexer, encoder]\n\n# Apply the stages in a pipeline to transform the DataFrame\npipeline = Pipeline(stages=stages)\npipelineMo...",
                    "submissionTime": "2023-11-18T00:40:08.543GMT",
                    "completionTime": "2023-11-18T00:40:09.059GMT",
                    "stageIds": [
                      323
                    ],
                    "jobGroup": "79",
                    "status": "SUCCEEDED",
                    "numTasks": 1,
                    "numActiveTasks": 0,
                    "numCompletedTasks": 1,
                    "numSkippedTasks": 0,
                    "numFailedTasks": 0,
                    "numKilledTasks": 0,
                    "numCompletedIndices": 1,
                    "numActiveStages": 0,
                    "numCompletedStages": 1,
                    "numSkippedStages": 0,
                    "numFailedStages": 0,
                    "killedTasksSummary": {}
                  },
                  {
                    "displayName": "parquet at OneHotEncoder.scala:407",
                    "dataWritten": 589,
                    "dataRead": 74,
                    "rowCount": 2,
                    "usageDescription": "",
                    "jobId": 242,
                    "name": "parquet at OneHotEncoder.scala:407",
                    "description": "Job group for statement 79:\nfrom pyspark.ml.feature import StringIndexer, OneHotEncoder, VectorAssembler\nfrom pyspark.ml import Pipeline\n\n# Define the columns to be one-hot encoded\ncategoricalColumns = [\"SEX\", \"ACTIVITY LEVEL\",\"POSTURE\"]\n\n# Define the stages of the pipeline\nstages = []\n\n# Create and display the mappings for each categorical column\nfor categoricalCol in categoricalColumns:\n    # StringIndexer: convert strings to label indices\n    stringIndexer = StringIndexer(inputCol=categoricalCol, outputCol=categoricalCol + \"Index\")\n    \n    # Fit and transform to display the mapping\n    indexed = stringIndexer.fit(health).transform(health)\n    indexed.select(categoricalCol, categoricalCol + \"Index\").distinct().show()\n    \n    # OneHotEncoder: encode label indices to binary vectors\n    encoder = OneHotEncoder(inputCols=[stringIndexer.getOutputCol()], outputCols=[categoricalCol + \"OHE\"])\n    \n    stages += [stringIndexer, encoder]\n\n# Apply the stages in a pipeline to transform the DataFrame\npipeline = Pipeline(stages=stages)\npipelineMo...",
                    "submissionTime": "2023-11-18T00:40:07.601GMT",
                    "completionTime": "2023-11-18T00:40:08.192GMT",
                    "stageIds": [
                      321,
                      322
                    ],
                    "jobGroup": "79",
                    "status": "SUCCEEDED",
                    "numTasks": 2,
                    "numActiveTasks": 0,
                    "numCompletedTasks": 1,
                    "numSkippedTasks": 1,
                    "numFailedTasks": 0,
                    "numKilledTasks": 0,
                    "numCompletedIndices": 1,
                    "numActiveStages": 0,
                    "numCompletedStages": 1,
                    "numSkippedStages": 1,
                    "numFailedStages": 0,
                    "killedTasksSummary": {}
                  },
                  {
                    "displayName": "parquet at OneHotEncoder.scala:407",
                    "dataWritten": 74,
                    "dataRead": 0,
                    "rowCount": 1,
                    "usageDescription": "",
                    "jobId": 241,
                    "name": "parquet at OneHotEncoder.scala:407",
                    "description": "Job group for statement 79:\nfrom pyspark.ml.feature import StringIndexer, OneHotEncoder, VectorAssembler\nfrom pyspark.ml import Pipeline\n\n# Define the columns to be one-hot encoded\ncategoricalColumns = [\"SEX\", \"ACTIVITY LEVEL\",\"POSTURE\"]\n\n# Define the stages of the pipeline\nstages = []\n\n# Create and display the mappings for each categorical column\nfor categoricalCol in categoricalColumns:\n    # StringIndexer: convert strings to label indices\n    stringIndexer = StringIndexer(inputCol=categoricalCol, outputCol=categoricalCol + \"Index\")\n    \n    # Fit and transform to display the mapping\n    indexed = stringIndexer.fit(health).transform(health)\n    indexed.select(categoricalCol, categoricalCol + \"Index\").distinct().show()\n    \n    # OneHotEncoder: encode label indices to binary vectors\n    encoder = OneHotEncoder(inputCols=[stringIndexer.getOutputCol()], outputCols=[categoricalCol + \"OHE\"])\n    \n    stages += [stringIndexer, encoder]\n\n# Apply the stages in a pipeline to transform the DataFrame\npipeline = Pipeline(stages=stages)\npipelineMo...",
                    "submissionTime": "2023-11-18T00:40:07.510GMT",
                    "completionTime": "2023-11-18T00:40:07.537GMT",
                    "stageIds": [
                      320
                    ],
                    "jobGroup": "79",
                    "status": "SUCCEEDED",
                    "numTasks": 1,
                    "numActiveTasks": 0,
                    "numCompletedTasks": 1,
                    "numSkippedTasks": 0,
                    "numFailedTasks": 0,
                    "numKilledTasks": 0,
                    "numCompletedIndices": 1,
                    "numActiveStages": 0,
                    "numCompletedStages": 1,
                    "numSkippedStages": 0,
                    "numFailedStages": 0,
                    "killedTasksSummary": {}
                  },
                  {
                    "displayName": "runJob at SparkHadoopWriter.scala:85",
                    "dataWritten": 328,
                    "dataRead": 0,
                    "rowCount": 1,
                    "usageDescription": "",
                    "jobId": 240,
                    "name": "runJob at SparkHadoopWriter.scala:85",
                    "description": "Job group for statement 79:\nfrom pyspark.ml.feature import StringIndexer, OneHotEncoder, VectorAssembler\nfrom pyspark.ml import Pipeline\n\n# Define the columns to be one-hot encoded\ncategoricalColumns = [\"SEX\", \"ACTIVITY LEVEL\",\"POSTURE\"]\n\n# Define the stages of the pipeline\nstages = []\n\n# Create and display the mappings for each categorical column\nfor categoricalCol in categoricalColumns:\n    # StringIndexer: convert strings to label indices\n    stringIndexer = StringIndexer(inputCol=categoricalCol, outputCol=categoricalCol + \"Index\")\n    \n    # Fit and transform to display the mapping\n    indexed = stringIndexer.fit(health).transform(health)\n    indexed.select(categoricalCol, categoricalCol + \"Index\").distinct().show()\n    \n    # OneHotEncoder: encode label indices to binary vectors\n    encoder = OneHotEncoder(inputCols=[stringIndexer.getOutputCol()], outputCols=[categoricalCol + \"OHE\"])\n    \n    stages += [stringIndexer, encoder]\n\n# Apply the stages in a pipeline to transform the DataFrame\npipeline = Pipeline(stages=stages)\npipelineMo...",
                    "submissionTime": "2023-11-18T00:40:06.581GMT",
                    "completionTime": "2023-11-18T00:40:07.112GMT",
                    "stageIds": [
                      319
                    ],
                    "jobGroup": "79",
                    "status": "SUCCEEDED",
                    "numTasks": 1,
                    "numActiveTasks": 0,
                    "numCompletedTasks": 1,
                    "numSkippedTasks": 0,
                    "numFailedTasks": 0,
                    "numKilledTasks": 0,
                    "numCompletedIndices": 1,
                    "numActiveStages": 0,
                    "numCompletedStages": 1,
                    "numSkippedStages": 0,
                    "numFailedStages": 0,
                    "killedTasksSummary": {}
                  },
                  {
                    "displayName": "parquet at StringIndexer.scala:499",
                    "dataWritten": 689,
                    "dataRead": 114,
                    "rowCount": 2,
                    "usageDescription": "",
                    "jobId": 239,
                    "name": "parquet at StringIndexer.scala:499",
                    "description": "Job group for statement 79:\nfrom pyspark.ml.feature import StringIndexer, OneHotEncoder, VectorAssembler\nfrom pyspark.ml import Pipeline\n\n# Define the columns to be one-hot encoded\ncategoricalColumns = [\"SEX\", \"ACTIVITY LEVEL\",\"POSTURE\"]\n\n# Define the stages of the pipeline\nstages = []\n\n# Create and display the mappings for each categorical column\nfor categoricalCol in categoricalColumns:\n    # StringIndexer: convert strings to label indices\n    stringIndexer = StringIndexer(inputCol=categoricalCol, outputCol=categoricalCol + \"Index\")\n    \n    # Fit and transform to display the mapping\n    indexed = stringIndexer.fit(health).transform(health)\n    indexed.select(categoricalCol, categoricalCol + \"Index\").distinct().show()\n    \n    # OneHotEncoder: encode label indices to binary vectors\n    encoder = OneHotEncoder(inputCols=[stringIndexer.getOutputCol()], outputCols=[categoricalCol + \"OHE\"])\n    \n    stages += [stringIndexer, encoder]\n\n# Apply the stages in a pipeline to transform the DataFrame\npipeline = Pipeline(stages=stages)\npipelineMo...",
                    "submissionTime": "2023-11-18T00:40:05.167GMT",
                    "completionTime": "2023-11-18T00:40:06.187GMT",
                    "stageIds": [
                      317,
                      318
                    ],
                    "jobGroup": "79",
                    "status": "SUCCEEDED",
                    "numTasks": 2,
                    "numActiveTasks": 0,
                    "numCompletedTasks": 1,
                    "numSkippedTasks": 1,
                    "numFailedTasks": 0,
                    "numKilledTasks": 0,
                    "numCompletedIndices": 1,
                    "numActiveStages": 0,
                    "numCompletedStages": 1,
                    "numSkippedStages": 1,
                    "numFailedStages": 0,
                    "killedTasksSummary": {}
                  },
                  {
                    "displayName": "parquet at StringIndexer.scala:499",
                    "dataWritten": 114,
                    "dataRead": 0,
                    "rowCount": 1,
                    "usageDescription": "",
                    "jobId": 238,
                    "name": "parquet at StringIndexer.scala:499",
                    "description": "Job group for statement 79:\nfrom pyspark.ml.feature import StringIndexer, OneHotEncoder, VectorAssembler\nfrom pyspark.ml import Pipeline\n\n# Define the columns to be one-hot encoded\ncategoricalColumns = [\"SEX\", \"ACTIVITY LEVEL\",\"POSTURE\"]\n\n# Define the stages of the pipeline\nstages = []\n\n# Create and display the mappings for each categorical column\nfor categoricalCol in categoricalColumns:\n    # StringIndexer: convert strings to label indices\n    stringIndexer = StringIndexer(inputCol=categoricalCol, outputCol=categoricalCol + \"Index\")\n    \n    # Fit and transform to display the mapping\n    indexed = stringIndexer.fit(health).transform(health)\n    indexed.select(categoricalCol, categoricalCol + \"Index\").distinct().show()\n    \n    # OneHotEncoder: encode label indices to binary vectors\n    encoder = OneHotEncoder(inputCols=[stringIndexer.getOutputCol()], outputCols=[categoricalCol + \"OHE\"])\n    \n    stages += [stringIndexer, encoder]\n\n# Apply the stages in a pipeline to transform the DataFrame\npipeline = Pipeline(stages=stages)\npipelineMo...",
                    "submissionTime": "2023-11-18T00:40:05.070GMT",
                    "completionTime": "2023-11-18T00:40:05.106GMT",
                    "stageIds": [
                      316
                    ],
                    "jobGroup": "79",
                    "status": "SUCCEEDED",
                    "numTasks": 1,
                    "numActiveTasks": 0,
                    "numCompletedTasks": 1,
                    "numSkippedTasks": 0,
                    "numFailedTasks": 0,
                    "numKilledTasks": 0,
                    "numCompletedIndices": 1,
                    "numActiveStages": 0,
                    "numCompletedStages": 1,
                    "numSkippedStages": 0,
                    "numFailedStages": 0,
                    "killedTasksSummary": {}
                  },
                  {
                    "displayName": "runJob at SparkHadoopWriter.scala:85",
                    "dataWritten": 337,
                    "dataRead": 0,
                    "rowCount": 1,
                    "usageDescription": "",
                    "jobId": 237,
                    "name": "runJob at SparkHadoopWriter.scala:85",
                    "description": "Job group for statement 79:\nfrom pyspark.ml.feature import StringIndexer, OneHotEncoder, VectorAssembler\nfrom pyspark.ml import Pipeline\n\n# Define the columns to be one-hot encoded\ncategoricalColumns = [\"SEX\", \"ACTIVITY LEVEL\",\"POSTURE\"]\n\n# Define the stages of the pipeline\nstages = []\n\n# Create and display the mappings for each categorical column\nfor categoricalCol in categoricalColumns:\n    # StringIndexer: convert strings to label indices\n    stringIndexer = StringIndexer(inputCol=categoricalCol, outputCol=categoricalCol + \"Index\")\n    \n    # Fit and transform to display the mapping\n    indexed = stringIndexer.fit(health).transform(health)\n    indexed.select(categoricalCol, categoricalCol + \"Index\").distinct().show()\n    \n    # OneHotEncoder: encode label indices to binary vectors\n    encoder = OneHotEncoder(inputCols=[stringIndexer.getOutputCol()], outputCols=[categoricalCol + \"OHE\"])\n    \n    stages += [stringIndexer, encoder]\n\n# Apply the stages in a pipeline to transform the DataFrame\npipeline = Pipeline(stages=stages)\npipelineMo...",
                    "submissionTime": "2023-11-18T00:40:04.177GMT",
                    "completionTime": "2023-11-18T00:40:04.612GMT",
                    "stageIds": [
                      315
                    ],
                    "jobGroup": "79",
                    "status": "SUCCEEDED",
                    "numTasks": 1,
                    "numActiveTasks": 0,
                    "numCompletedTasks": 1,
                    "numSkippedTasks": 0,
                    "numFailedTasks": 0,
                    "numKilledTasks": 0,
                    "numCompletedIndices": 1,
                    "numActiveStages": 0,
                    "numCompletedStages": 1,
                    "numSkippedStages": 0,
                    "numFailedStages": 0,
                    "killedTasksSummary": {}
                  },
                  {
                    "displayName": "runJob at SparkHadoopWriter.scala:85",
                    "dataWritten": 366,
                    "dataRead": 0,
                    "rowCount": 1,
                    "usageDescription": "",
                    "jobId": 236,
                    "name": "runJob at SparkHadoopWriter.scala:85",
                    "description": "Job group for statement 79:\nfrom pyspark.ml.feature import StringIndexer, OneHotEncoder, VectorAssembler\nfrom pyspark.ml import Pipeline\n\n# Define the columns to be one-hot encoded\ncategoricalColumns = [\"SEX\", \"ACTIVITY LEVEL\",\"POSTURE\"]\n\n# Define the stages of the pipeline\nstages = []\n\n# Create and display the mappings for each categorical column\nfor categoricalCol in categoricalColumns:\n    # StringIndexer: convert strings to label indices\n    stringIndexer = StringIndexer(inputCol=categoricalCol, outputCol=categoricalCol + \"Index\")\n    \n    # Fit and transform to display the mapping\n    indexed = stringIndexer.fit(health).transform(health)\n    indexed.select(categoricalCol, categoricalCol + \"Index\").distinct().show()\n    \n    # OneHotEncoder: encode label indices to binary vectors\n    encoder = OneHotEncoder(inputCols=[stringIndexer.getOutputCol()], outputCols=[categoricalCol + \"OHE\"])\n    \n    stages += [stringIndexer, encoder]\n\n# Apply the stages in a pipeline to transform the DataFrame\npipeline = Pipeline(stages=stages)\npipelineMo...",
                    "submissionTime": "2023-11-18T00:40:03.297GMT",
                    "completionTime": "2023-11-18T00:40:03.784GMT",
                    "stageIds": [
                      314
                    ],
                    "jobGroup": "79",
                    "status": "SUCCEEDED",
                    "numTasks": 1,
                    "numActiveTasks": 0,
                    "numCompletedTasks": 1,
                    "numSkippedTasks": 0,
                    "numFailedTasks": 0,
                    "numKilledTasks": 0,
                    "numCompletedIndices": 1,
                    "numActiveStages": 0,
                    "numCompletedStages": 1,
                    "numSkippedStages": 0,
                    "numFailedStages": 0,
                    "killedTasksSummary": {}
                  }
                ],
                "limit": 20,
                "rule": "ALL_DESC"
              },
              "parent_msg_id": "8e17373f-6eb5-473b-afb0-25fc7cc8b742"
            },
            "text/plain": "StatementMeta(80dcc4b2-bc50-4e81-91e5-397b7f13252e, 23, 79, Finished, Available)"
          },
          "metadata": {}
        },
        {
          "output_type": "stream",
          "name": "stdout",
          "text": "+------+--------+\n|   SEX|SEXIndex|\n+------+--------+\n|  Male|     1.0|\n|Female|     0.0|\n+------+--------+\n\n+--------------+-------------------+\n|ACTIVITY LEVEL|ACTIVITY LEVELIndex|\n+--------------+-------------------+\n|      Moderate|                1.0|\n|           Low|                0.0|\n|          High|                2.0|\n+--------------+-------------------+\n\n+-------+------------+\n|POSTURE|POSTUREIndex|\n+-------+------------+\n|      A|         1.0|\n|      B|         0.0|\n|      C|         3.0|\n|      D|         2.0|\n+-------+------------+\n\n+----+---+------+------+------+--------------+----+---+---+---+---+---+---+---+---+-------+----------+--------+-------------+-------------------+-----------------+------------+-------------+\n|S No|AGE|HEIGHT|WEIGHT|   SEX|ACTIVITY LEVEL|MBTI|  E|  I|  S|  N|  T|  F|  J|  P|POSTURE|total_pain|SEXIndex|       SEXOHE|ACTIVITY LEVELIndex|ACTIVITY LEVELOHE|POSTUREIndex|   POSTUREOHE|\n+----+---+------+------+------+--------------+----+---+---+---+---+---+---+---+---+-------+----------+--------+-------------+-------------------+-----------------+------------+-------------+\n|   1| 53|    62|   125|Female|           Low|ESFJ| 18|  3| 17|  9|  9| 13| 18|  4|      A|       0.0|     0.0|(1,[0],[1.0])|                0.0|    (2,[0],[1.0])|         1.0|(3,[1],[1.0])|\n|   2| 52|    69|   157|  Male|          High|ISTJ|  6| 15| 14| 12| 21|  3| 13|  9|      B|      23.0|     1.0|    (1,[],[])|                2.0|        (2,[],[])|         0.0|(3,[0],[1.0])|\n|   3| 30|    69|   200|  Male|          High|ESTJ| 15|  6| 16| 10| 15|  9| 12| 10|      A|       0.0|     1.0|    (1,[],[])|                2.0|        (2,[],[])|         1.0|(3,[1],[1.0])|\n|   4| 51|    66|   175|  Male|      Moderate|ISTJ|  6| 15| 21|  5| 13| 11| 19|  3|      D|      30.0|     1.0|    (1,[],[])|                1.0|    (2,[1],[1.0])|         2.0|(3,[2],[1.0])|\n|   5| 45|    63|   199|Female|      Moderate|ENFJ| 14|  7| 20|  6|  9| 15| 16|  6|      A|      13.0|     0.0|(1,[0],[1.0])|                1.0|    (2,[1],[1.0])|         1.0|(3,[1],[1.0])|\n+----+---+------+------+------+--------------+----+---+---+---+---+---+---+---+---+-------+----------+--------+-------------+-------------------+-----------------+------------+-------------+\nonly showing top 5 rows\n\n"
        }
      ],
      "execution_count": 74,
      "metadata": {
        "jupyter": {
          "source_hidden": false,
          "outputs_hidden": false
        },
        "nteract": {
          "transient": {
            "deleting": false
          }
        },
        "gather": {
          "logged": 1700268018571
        }
      }
    },
    {
      "cell_type": "code",
      "source": [
        "# Display the transformed DataFrame\n",
        "df_transformed.show(5)\n",
        "df_transformed.limit(5).toPandas().to_csv(\"Users/ml2078/fall-2023-reddit-project-team-10/data/csv/health_total_health.csv\",index=False)\n"
      ],
      "outputs": [
        {
          "output_type": "display_data",
          "data": {
            "application/vnd.livy.statement-meta+json": {
              "spark_pool": "80dcc4b2-bc50-4e81-91e5-397b7f13252e",
              "session_id": "23",
              "statement_id": 80,
              "state": "finished",
              "livy_statement_state": "available",
              "queued_time": "2023-11-18T00:40:28.6970895Z",
              "session_start_time": null,
              "execution_start_time": "2023-11-18T00:40:28.8732347Z",
              "execution_finish_time": "2023-11-18T00:40:29.7141645Z",
              "spark_jobs": {
                "numbers": {
                  "FAILED": 0,
                  "RUNNING": 0,
                  "SUCCEEDED": 2,
                  "UNKNOWN": 0
                },
                "jobs": [
                  {
                    "displayName": "toPandas at /tmp/ipykernel_8211/2738676760.py:3",
                    "dataWritten": 0,
                    "dataRead": 0,
                    "rowCount": 0,
                    "usageDescription": "",
                    "jobId": 257,
                    "name": "toPandas at /tmp/ipykernel_8211/2738676760.py:3",
                    "description": "Job group for statement 80:\n# Display the transformed DataFrame\ndf_transformed.show(5)\ndf_transformed.limit(5).toPandas().to_csv(\"Users/ml2078/fall-2023-reddit-project-team-10/data/csv/health_total_health.csv\",index=False)\n",
                    "submissionTime": "2023-11-18T00:40:28.976GMT",
                    "completionTime": "2023-11-18T00:40:29.011GMT",
                    "stageIds": [
                      341
                    ],
                    "jobGroup": "80",
                    "status": "SUCCEEDED",
                    "numTasks": 1,
                    "numActiveTasks": 0,
                    "numCompletedTasks": 1,
                    "numSkippedTasks": 0,
                    "numFailedTasks": 0,
                    "numKilledTasks": 0,
                    "numCompletedIndices": 1,
                    "numActiveStages": 0,
                    "numCompletedStages": 1,
                    "numSkippedStages": 0,
                    "numFailedStages": 0,
                    "killedTasksSummary": {}
                  },
                  {
                    "displayName": "showString at <unknown>:0",
                    "dataWritten": 0,
                    "dataRead": 0,
                    "rowCount": 0,
                    "usageDescription": "",
                    "jobId": 256,
                    "name": "showString at <unknown>:0",
                    "description": "Job group for statement 80:\n# Display the transformed DataFrame\ndf_transformed.show(5)\ndf_transformed.limit(5).toPandas().to_csv(\"Users/ml2078/fall-2023-reddit-project-team-10/data/csv/health_total_health.csv\",index=False)\n",
                    "submissionTime": "2023-11-18T00:40:28.890GMT",
                    "completionTime": "2023-11-18T00:40:28.920GMT",
                    "stageIds": [
                      340
                    ],
                    "jobGroup": "80",
                    "status": "SUCCEEDED",
                    "numTasks": 1,
                    "numActiveTasks": 0,
                    "numCompletedTasks": 1,
                    "numSkippedTasks": 0,
                    "numFailedTasks": 0,
                    "numKilledTasks": 0,
                    "numCompletedIndices": 1,
                    "numActiveStages": 0,
                    "numCompletedStages": 1,
                    "numSkippedStages": 0,
                    "numFailedStages": 0,
                    "killedTasksSummary": {}
                  }
                ],
                "limit": 20,
                "rule": "ALL_DESC"
              },
              "parent_msg_id": "3a3a0f0f-79ff-4ce3-a68b-0f27c0f93552"
            },
            "text/plain": "StatementMeta(80dcc4b2-bc50-4e81-91e5-397b7f13252e, 23, 80, Finished, Available)"
          },
          "metadata": {}
        },
        {
          "output_type": "stream",
          "name": "stdout",
          "text": "+----+---+------+------+------+--------------+----+---+---+---+---+---+---+---+---+-------+----------+--------+-------------+-------------------+-----------------+------------+-------------+\n|S No|AGE|HEIGHT|WEIGHT|   SEX|ACTIVITY LEVEL|MBTI|  E|  I|  S|  N|  T|  F|  J|  P|POSTURE|total_pain|SEXIndex|       SEXOHE|ACTIVITY LEVELIndex|ACTIVITY LEVELOHE|POSTUREIndex|   POSTUREOHE|\n+----+---+------+------+------+--------------+----+---+---+---+---+---+---+---+---+-------+----------+--------+-------------+-------------------+-----------------+------------+-------------+\n|   1| 53|    62|   125|Female|           Low|ESFJ| 18|  3| 17|  9|  9| 13| 18|  4|      A|       0.0|     0.0|(1,[0],[1.0])|                0.0|    (2,[0],[1.0])|         1.0|(3,[1],[1.0])|\n|   2| 52|    69|   157|  Male|          High|ISTJ|  6| 15| 14| 12| 21|  3| 13|  9|      B|      23.0|     1.0|    (1,[],[])|                2.0|        (2,[],[])|         0.0|(3,[0],[1.0])|\n|   3| 30|    69|   200|  Male|          High|ESTJ| 15|  6| 16| 10| 15|  9| 12| 10|      A|       0.0|     1.0|    (1,[],[])|                2.0|        (2,[],[])|         1.0|(3,[1],[1.0])|\n|   4| 51|    66|   175|  Male|      Moderate|ISTJ|  6| 15| 21|  5| 13| 11| 19|  3|      D|      30.0|     1.0|    (1,[],[])|                1.0|    (2,[1],[1.0])|         2.0|(3,[2],[1.0])|\n|   5| 45|    63|   199|Female|      Moderate|ENFJ| 14|  7| 20|  6|  9| 15| 16|  6|      A|      13.0|     0.0|(1,[0],[1.0])|                1.0|    (2,[1],[1.0])|         1.0|(3,[1],[1.0])|\n+----+---+------+------+------+--------------+----+---+---+---+---+---+---+---+---+-------+----------+--------+-------------+-------------------+-----------------+------------+-------------+\nonly showing top 5 rows\n\n"
        },
        {
          "output_type": "stream",
          "name": "stderr",
          "text": "/opt/spark/python/lib/pyspark.zip/pyspark/sql/pandas/conversion.py:87: UserWarning: toPandas attempted Arrow optimization because 'spark.sql.execution.arrow.pyspark.enabled' is set to true; however, failed by the reason below:\n  Unsupported type in conversion to Arrow: VectorUDT\nAttempting non-optimization as 'spark.sql.execution.arrow.pyspark.fallback.enabled' is set to true.\n  warnings.warn(msg)\n"
        }
      ],
      "execution_count": 75,
      "metadata": {
        "jupyter": {
          "source_hidden": false,
          "outputs_hidden": false
        },
        "nteract": {
          "transient": {
            "deleting": false
          }
        },
        "gather": {
          "logged": 1700268030720
        }
      }
    },
    {
      "cell_type": "markdown",
      "source": [
        "# Build Model"
      ],
      "metadata": {
        "nteract": {
          "transient": {
            "deleting": false
          }
        }
      }
    },
    {
      "cell_type": "markdown",
      "source": [
        "## Define the columns to be used as features"
      ],
      "metadata": {
        "nteract": {
          "transient": {
            "deleting": false
          }
        }
      }
    },
    {
      "cell_type": "code",
      "source": [
        "from pyspark.ml.feature import VectorAssembler\n",
        "\n",
        "# Define the columns to be used as features\n",
        "featureCols = [\"AGE\", \"HEIGHT\", \"WEIGHT\", \"SEXOHE\", \"ACTIVITY LEVELOHE\", \"E\", \"S\", \"T\", \"J\",\"POSTUREOHE\"]\n",
        "\n",
        "# Assemble the features into a single vector column\n",
        "assembler = VectorAssembler(inputCols=featureCols, outputCol=\"features\")\n",
        "assembled_df = assembler.transform(df_transformed)\n",
        "\n",
        "# Show the header of the new DataFrame\n",
        "assembled_df.select(\"features\").show(truncate=False)\n"
      ],
      "outputs": [
        {
          "output_type": "display_data",
          "data": {
            "application/vnd.livy.statement-meta+json": {
              "spark_pool": "80dcc4b2-bc50-4e81-91e5-397b7f13252e",
              "session_id": "23",
              "statement_id": 81,
              "state": "finished",
              "livy_statement_state": "available",
              "queued_time": "2023-11-18T00:41:00.4868245Z",
              "session_start_time": null,
              "execution_start_time": "2023-11-18T00:41:00.691851Z",
              "execution_finish_time": "2023-11-18T00:41:01.5838316Z",
              "spark_jobs": {
                "numbers": {
                  "FAILED": 0,
                  "RUNNING": 0,
                  "SUCCEEDED": 2,
                  "UNKNOWN": 0
                },
                "jobs": [
                  {
                    "displayName": "showString at <unknown>:0",
                    "dataWritten": 0,
                    "dataRead": 0,
                    "rowCount": 0,
                    "usageDescription": "",
                    "jobId": 259,
                    "name": "showString at <unknown>:0",
                    "description": "Job group for statement 81:\nfrom pyspark.ml.feature import VectorAssembler\n\n# Define the columns to be used as features\nfeatureCols = [\"AGE\", \"HEIGHT\", \"WEIGHT\", \"SEXOHE\", \"ACTIVITY LEVELOHE\", \"E\", \"S\", \"T\", \"J\",\"POSTUREOHE\"]\n\n# Assemble the features into a single vector column\nassembler = VectorAssembler(inputCols=featureCols, outputCol=\"features\")\nassembled_df = assembler.transform(df_transformed)\n\n# Show the header of the new DataFrame\nassembled_df.select(\"features\").show(truncate=False)\n",
                    "submissionTime": "2023-11-18T00:41:00.880GMT",
                    "completionTime": "2023-11-18T00:41:00.935GMT",
                    "stageIds": [
                      343
                    ],
                    "jobGroup": "81",
                    "status": "SUCCEEDED",
                    "numTasks": 1,
                    "numActiveTasks": 0,
                    "numCompletedTasks": 1,
                    "numSkippedTasks": 0,
                    "numFailedTasks": 0,
                    "numKilledTasks": 0,
                    "numCompletedIndices": 1,
                    "numActiveStages": 0,
                    "numCompletedStages": 1,
                    "numSkippedStages": 0,
                    "numFailedStages": 0,
                    "killedTasksSummary": {}
                  },
                  {
                    "displayName": "showString at <unknown>:0",
                    "dataWritten": 0,
                    "dataRead": 0,
                    "rowCount": 0,
                    "usageDescription": "",
                    "jobId": 258,
                    "name": "showString at <unknown>:0",
                    "description": "Job group for statement 81:\nfrom pyspark.ml.feature import VectorAssembler\n\n# Define the columns to be used as features\nfeatureCols = [\"AGE\", \"HEIGHT\", \"WEIGHT\", \"SEXOHE\", \"ACTIVITY LEVELOHE\", \"E\", \"S\", \"T\", \"J\",\"POSTUREOHE\"]\n\n# Assemble the features into a single vector column\nassembler = VectorAssembler(inputCols=featureCols, outputCol=\"features\")\nassembled_df = assembler.transform(df_transformed)\n\n# Show the header of the new DataFrame\nassembled_df.select(\"features\").show(truncate=False)\n",
                    "submissionTime": "2023-11-18T00:41:00.812GMT",
                    "completionTime": "2023-11-18T00:41:00.872GMT",
                    "stageIds": [
                      342
                    ],
                    "jobGroup": "81",
                    "status": "SUCCEEDED",
                    "numTasks": 1,
                    "numActiveTasks": 0,
                    "numCompletedTasks": 1,
                    "numSkippedTasks": 0,
                    "numFailedTasks": 0,
                    "numKilledTasks": 0,
                    "numCompletedIndices": 1,
                    "numActiveStages": 0,
                    "numCompletedStages": 1,
                    "numSkippedStages": 0,
                    "numFailedStages": 0,
                    "killedTasksSummary": {}
                  }
                ],
                "limit": 20,
                "rule": "ALL_DESC"
              },
              "parent_msg_id": "72aa29c3-8d2c-45b8-a973-52b2721652d9"
            },
            "text/plain": "StatementMeta(80dcc4b2-bc50-4e81-91e5-397b7f13252e, 23, 81, Finished, Available)"
          },
          "metadata": {}
        },
        {
          "output_type": "stream",
          "name": "stdout",
          "text": "+-------------------------------------------------------------+\n|features                                                     |\n+-------------------------------------------------------------+\n|[53.0,62.0,125.0,1.0,1.0,0.0,18.0,17.0,9.0,18.0,0.0,1.0,0.0] |\n|[52.0,69.0,157.0,0.0,0.0,0.0,6.0,14.0,21.0,13.0,1.0,0.0,0.0] |\n|[30.0,69.0,200.0,0.0,0.0,0.0,15.0,16.0,15.0,12.0,0.0,1.0,0.0]|\n|[51.0,66.0,175.0,0.0,0.0,1.0,6.0,21.0,13.0,19.0,0.0,0.0,1.0] |\n|[45.0,63.0,199.0,1.0,0.0,1.0,14.0,20.0,9.0,16.0,0.0,1.0,0.0] |\n|[68.0,74.0,182.0,0.0,1.0,0.0,4.0,17.0,11.0,4.0,0.0,0.0,1.0]  |\n|[62.0,68.0,263.0,0.0,1.0,0.0,7.0,20.0,14.0,9.0,1.0,0.0,0.0]  |\n|[65.0,61.0,143.0,1.0,1.0,0.0,17.0,17.0,19.0,17.0,0.0,0.0,1.0]|\n|[66.0,67.0,180.0,0.0,1.0,0.0,19.0,18.0,11.0,13.0,0.0,0.0,0.0]|\n|[58.0,69.0,165.0,0.0,1.0,0.0,5.0,13.0,11.0,17.0,0.0,0.0,1.0] |\n|[61.0,67.0,210.0,0.0,1.0,0.0,11.0,6.0,16.0,10.0,1.0,0.0,0.0] |\n|[33.0,62.0,120.0,1.0,1.0,0.0,2.0,22.0,9.0,12.0,1.0,0.0,0.0]  |\n|[48.0,64.0,127.0,1.0,1.0,0.0,13.0,14.0,9.0,14.0,0.0,0.0,1.0] |\n|[57.0,68.0,185.0,0.0,1.0,0.0,16.0,12.0,15.0,17.0,1.0,0.0,0.0]|\n|[30.0,69.0,190.0,0.0,0.0,1.0,20.0,22.0,13.0,7.0,0.0,1.0,0.0] |\n|[62.0,71.0,165.0,0.0,1.0,0.0,2.0,14.0,22.0,19.0,0.0,0.0,1.0] |\n|[59.0,66.0,138.0,1.0,1.0,0.0,12.0,18.0,14.0,20.0,0.0,1.0,0.0]|\n|[33.0,72.0,171.0,0.0,0.0,1.0,17.0,10.0,11.0,4.0,1.0,0.0,0.0] |\n|[23.0,65.0,110.0,1.0,1.0,0.0,13.0,15.0,12.0,9.0,1.0,0.0,0.0] |\n|[48.0,63.0,154.0,1.0,1.0,0.0,9.0,16.0,11.0,9.0,0.0,0.0,0.0]  |\n+-------------------------------------------------------------+\nonly showing top 20 rows\n\n"
        }
      ],
      "execution_count": 76,
      "metadata": {
        "jupyter": {
          "source_hidden": false,
          "outputs_hidden": false
        },
        "nteract": {
          "transient": {
            "deleting": false
          }
        },
        "gather": {
          "logged": 1700268062703
        }
      }
    },
    {
      "cell_type": "markdown",
      "source": [
        "## Train, Test Split"
      ],
      "metadata": {
        "nteract": {
          "transient": {
            "deleting": false
          }
        }
      }
    },
    {
      "cell_type": "code",
      "source": [
        "# Split the data into training and test sets\n",
        "trainData, testData = assembled_df.randomSplit([0.8, 0.2], seed=42)\n",
        "# Show the header of the training and test data\n",
        "trainData.select(\"features\").show(truncate=False)\n",
        "testData.select(\"features\").show(truncate=False)"
      ],
      "outputs": [
        {
          "output_type": "display_data",
          "data": {
            "application/vnd.livy.statement-meta+json": {
              "spark_pool": "80dcc4b2-bc50-4e81-91e5-397b7f13252e",
              "session_id": "23",
              "statement_id": 82,
              "state": "finished",
              "livy_statement_state": "available",
              "queued_time": "2023-11-18T00:41:40.5404774Z",
              "session_start_time": null,
              "execution_start_time": "2023-11-18T00:41:40.6580017Z",
              "execution_finish_time": "2023-11-18T00:41:41.5501203Z",
              "spark_jobs": {
                "numbers": {
                  "FAILED": 0,
                  "RUNNING": 0,
                  "SUCCEEDED": 5,
                  "UNKNOWN": 0
                },
                "jobs": [
                  {
                    "displayName": "showString at <unknown>:0",
                    "dataWritten": 0,
                    "dataRead": 0,
                    "rowCount": 0,
                    "usageDescription": "",
                    "jobId": 264,
                    "name": "showString at <unknown>:0",
                    "description": "Job group for statement 82:\n# Split the data into training and test sets\ntrainData, testData = assembled_df.randomSplit([0.8, 0.2], seed=42)\n# Show the header of the training and test data\ntrainData.select(\"features\").show(truncate=False)\ntestData.select(\"features\").show(truncate=False)",
                    "submissionTime": "2023-11-18T00:41:41.291GMT",
                    "completionTime": "2023-11-18T00:41:41.339GMT",
                    "stageIds": [
                      348
                    ],
                    "jobGroup": "82",
                    "status": "SUCCEEDED",
                    "numTasks": 3,
                    "numActiveTasks": 0,
                    "numCompletedTasks": 3,
                    "numSkippedTasks": 0,
                    "numFailedTasks": 0,
                    "numKilledTasks": 0,
                    "numCompletedIndices": 3,
                    "numActiveStages": 0,
                    "numCompletedStages": 1,
                    "numSkippedStages": 0,
                    "numFailedStages": 0,
                    "killedTasksSummary": {}
                  },
                  {
                    "displayName": "showString at <unknown>:0",
                    "dataWritten": 0,
                    "dataRead": 0,
                    "rowCount": 0,
                    "usageDescription": "",
                    "jobId": 263,
                    "name": "showString at <unknown>:0",
                    "description": "Job group for statement 82:\n# Split the data into training and test sets\ntrainData, testData = assembled_df.randomSplit([0.8, 0.2], seed=42)\n# Show the header of the training and test data\ntrainData.select(\"features\").show(truncate=False)\ntestData.select(\"features\").show(truncate=False)",
                    "submissionTime": "2023-11-18T00:41:41.165GMT",
                    "completionTime": "2023-11-18T00:41:41.285GMT",
                    "stageIds": [
                      347
                    ],
                    "jobGroup": "82",
                    "status": "SUCCEEDED",
                    "numTasks": 4,
                    "numActiveTasks": 0,
                    "numCompletedTasks": 4,
                    "numSkippedTasks": 0,
                    "numFailedTasks": 0,
                    "numKilledTasks": 0,
                    "numCompletedIndices": 4,
                    "numActiveStages": 0,
                    "numCompletedStages": 1,
                    "numSkippedStages": 0,
                    "numFailedStages": 0,
                    "killedTasksSummary": {}
                  },
                  {
                    "displayName": "showString at <unknown>:0",
                    "dataWritten": 0,
                    "dataRead": 0,
                    "rowCount": 0,
                    "usageDescription": "",
                    "jobId": 262,
                    "name": "showString at <unknown>:0",
                    "description": "Job group for statement 82:\n# Split the data into training and test sets\ntrainData, testData = assembled_df.randomSplit([0.8, 0.2], seed=42)\n# Show the header of the training and test data\ntrainData.select(\"features\").show(truncate=False)\ntestData.select(\"features\").show(truncate=False)",
                    "submissionTime": "2023-11-18T00:41:41.072GMT",
                    "completionTime": "2023-11-18T00:41:41.159GMT",
                    "stageIds": [
                      346
                    ],
                    "jobGroup": "82",
                    "status": "SUCCEEDED",
                    "numTasks": 1,
                    "numActiveTasks": 0,
                    "numCompletedTasks": 1,
                    "numSkippedTasks": 0,
                    "numFailedTasks": 0,
                    "numKilledTasks": 0,
                    "numCompletedIndices": 1,
                    "numActiveStages": 0,
                    "numCompletedStages": 1,
                    "numSkippedStages": 0,
                    "numFailedStages": 0,
                    "killedTasksSummary": {}
                  },
                  {
                    "displayName": "showString at <unknown>:0",
                    "dataWritten": 0,
                    "dataRead": 0,
                    "rowCount": 0,
                    "usageDescription": "",
                    "jobId": 261,
                    "name": "showString at <unknown>:0",
                    "description": "Job group for statement 82:\n# Split the data into training and test sets\ntrainData, testData = assembled_df.randomSplit([0.8, 0.2], seed=42)\n# Show the header of the training and test data\ntrainData.select(\"features\").show(truncate=False)\ntestData.select(\"features\").show(truncate=False)",
                    "submissionTime": "2023-11-18T00:41:40.853GMT",
                    "completionTime": "2023-11-18T00:41:40.937GMT",
                    "stageIds": [
                      345
                    ],
                    "jobGroup": "82",
                    "status": "SUCCEEDED",
                    "numTasks": 2,
                    "numActiveTasks": 0,
                    "numCompletedTasks": 2,
                    "numSkippedTasks": 0,
                    "numFailedTasks": 0,
                    "numKilledTasks": 0,
                    "numCompletedIndices": 2,
                    "numActiveStages": 0,
                    "numCompletedStages": 1,
                    "numSkippedStages": 0,
                    "numFailedStages": 0,
                    "killedTasksSummary": {}
                  },
                  {
                    "displayName": "showString at <unknown>:0",
                    "dataWritten": 0,
                    "dataRead": 0,
                    "rowCount": 0,
                    "usageDescription": "",
                    "jobId": 260,
                    "name": "showString at <unknown>:0",
                    "description": "Job group for statement 82:\n# Split the data into training and test sets\ntrainData, testData = assembled_df.randomSplit([0.8, 0.2], seed=42)\n# Show the header of the training and test data\ntrainData.select(\"features\").show(truncate=False)\ntestData.select(\"features\").show(truncate=False)",
                    "submissionTime": "2023-11-18T00:41:40.765GMT",
                    "completionTime": "2023-11-18T00:41:40.848GMT",
                    "stageIds": [
                      344
                    ],
                    "jobGroup": "82",
                    "status": "SUCCEEDED",
                    "numTasks": 1,
                    "numActiveTasks": 0,
                    "numCompletedTasks": 1,
                    "numSkippedTasks": 0,
                    "numFailedTasks": 0,
                    "numKilledTasks": 0,
                    "numCompletedIndices": 1,
                    "numActiveStages": 0,
                    "numCompletedStages": 1,
                    "numSkippedStages": 0,
                    "numFailedStages": 0,
                    "killedTasksSummary": {}
                  }
                ],
                "limit": 20,
                "rule": "ALL_DESC"
              },
              "parent_msg_id": "fd6adfcf-b2bc-41e6-81a0-6ee47d34b693"
            },
            "text/plain": "StatementMeta(80dcc4b2-bc50-4e81-91e5-397b7f13252e, 23, 82, Finished, Available)"
          },
          "metadata": {}
        },
        {
          "output_type": "stream",
          "name": "stdout",
          "text": "+-------------------------------------------------------------+\n|features                                                     |\n+-------------------------------------------------------------+\n|[53.0,62.0,125.0,1.0,1.0,0.0,18.0,17.0,9.0,18.0,0.0,1.0,0.0] |\n|[52.0,69.0,157.0,0.0,0.0,0.0,6.0,14.0,21.0,13.0,1.0,0.0,0.0] |\n|[51.0,66.0,175.0,0.0,0.0,1.0,6.0,21.0,13.0,19.0,0.0,0.0,1.0] |\n|[45.0,63.0,199.0,1.0,0.0,1.0,14.0,20.0,9.0,16.0,0.0,1.0,0.0] |\n|[68.0,74.0,182.0,0.0,1.0,0.0,4.0,17.0,11.0,4.0,0.0,0.0,1.0]  |\n|[65.0,61.0,143.0,1.0,1.0,0.0,17.0,17.0,19.0,17.0,0.0,0.0,1.0]|\n|[58.0,69.0,165.0,0.0,1.0,0.0,5.0,13.0,11.0,17.0,0.0,0.0,1.0] |\n|[61.0,67.0,210.0,0.0,1.0,0.0,11.0,6.0,16.0,10.0,1.0,0.0,0.0] |\n|[33.0,62.0,120.0,1.0,1.0,0.0,2.0,22.0,9.0,12.0,1.0,0.0,0.0]  |\n|[48.0,64.0,127.0,1.0,1.0,0.0,13.0,14.0,9.0,14.0,0.0,0.0,1.0] |\n|[30.0,69.0,190.0,0.0,0.0,1.0,20.0,22.0,13.0,7.0,0.0,1.0,0.0] |\n|[62.0,71.0,165.0,0.0,1.0,0.0,2.0,14.0,22.0,19.0,0.0,0.0,1.0] |\n|[59.0,66.0,138.0,1.0,1.0,0.0,12.0,18.0,14.0,20.0,0.0,1.0,0.0]|\n|[33.0,72.0,171.0,0.0,0.0,1.0,17.0,10.0,11.0,4.0,1.0,0.0,0.0] |\n|[63.0,66.0,185.0,1.0,1.0,0.0,2.0,10.0,10.0,11.0,0.0,0.0,1.0] |\n|[64.0,69.0,176.0,0.0,1.0,0.0,13.0,25.0,18.0,8.0,1.0,0.0,0.0] |\n|[71.0,68.0,156.0,1.0,1.0,0.0,13.0,15.0,16.0,7.0,1.0,0.0,0.0] |\n|[71.0,61.0,140.0,1.0,1.0,0.0,12.0,23.0,5.0,16.0,0.0,0.0,1.0] |\n|[50.0,60.0,118.0,1.0,0.0,1.0,2.0,11.0,1.0,12.0,0.0,0.0,0.0]  |\n|[41.0,65.0,133.0,1.0,1.0,0.0,3.0,20.0,5.0,14.0,0.0,0.0,0.0]  |\n+-------------------------------------------------------------+\nonly showing top 20 rows\n\n+-------------------------------------------------------------+\n|features                                                     |\n+-------------------------------------------------------------+\n|[30.0,69.0,200.0,0.0,0.0,0.0,15.0,16.0,15.0,12.0,0.0,1.0,0.0]|\n|[62.0,68.0,263.0,0.0,1.0,0.0,7.0,20.0,14.0,9.0,1.0,0.0,0.0]  |\n|[66.0,67.0,180.0,0.0,1.0,0.0,19.0,18.0,11.0,13.0,0.0,0.0,0.0]|\n|[57.0,68.0,185.0,0.0,1.0,0.0,16.0,12.0,15.0,17.0,1.0,0.0,0.0]|\n|[23.0,65.0,110.0,1.0,1.0,0.0,13.0,15.0,12.0,9.0,1.0,0.0,0.0] |\n|[48.0,63.0,154.0,1.0,1.0,0.0,9.0,16.0,11.0,9.0,0.0,0.0,0.0]  |\n|[40.0,62.0,113.0,1.0,1.0,0.0,7.0,15.0,14.0,6.0,0.0,0.0,1.0]  |\n|[34.0,73.0,200.0,0.0,1.0,0.0,21.0,6.0,15.0,16.0,0.0,0.0,0.0] |\n|[66.0,63.0,142.0,1.0,1.0,0.0,4.0,16.0,17.0,18.0,0.0,0.0,0.0] |\n|(13,[0,1,2,6,7,8,9],[42.0,68.0,170.0,17.0,10.0,8.0,15.0])    |\n|[52.0,66.0,222.0,0.0,1.0,0.0,17.0,5.0,1.0,2.0,0.0,1.0,0.0]   |\n|[13.0,62.0,127.0,1.0,1.0,0.0,21.0,7.0,2.0,13.0,1.0,0.0,0.0]  |\n|[43.0,62.0,160.0,1.0,1.0,0.0,9.0,22.0,5.0,18.0,0.0,0.0,0.0]  |\n|[39.0,70.0,200.0,0.0,0.0,1.0,18.0,5.0,18.0,7.0,1.0,0.0,0.0]  |\n|[30.0,67.0,135.0,1.0,1.0,0.0,19.0,21.0,12.0,8.0,0.0,1.0,0.0] |\n|[45.0,65.0,160.0,1.0,1.0,0.0,16.0,13.0,14.0,13.0,1.0,0.0,0.0]|\n|[53.0,73.0,170.0,0.0,1.0,0.0,16.0,14.0,12.0,17.0,0.0,0.0,0.0]|\n|[55.0,74.0,240.0,0.0,1.0,0.0,16.0,14.0,17.0,11.0,0.0,0.0,0.0]|\n|[45.0,64.0,118.0,1.0,0.0,1.0,5.0,18.0,11.0,6.0,0.0,0.0,1.0]  |\n|[16.0,58.0,81.0,1.0,1.0,0.0,8.0,13.0,11.0,5.0,0.0,0.0,1.0]   |\n+-------------------------------------------------------------+\nonly showing top 20 rows\n\n"
        }
      ],
      "execution_count": 77,
      "metadata": {
        "jupyter": {
          "source_hidden": false,
          "outputs_hidden": false
        },
        "nteract": {
          "transient": {
            "deleting": false
          }
        },
        "gather": {
          "logged": 1700268102498
        }
      }
    },
    {
      "cell_type": "markdown",
      "source": [
        "## Fit Model on Training Set"
      ],
      "metadata": {
        "nteract": {
          "transient": {
            "deleting": false
          }
        }
      }
    },
    {
      "cell_type": "code",
      "source": [
        "from pyspark.ml.regression import LinearRegression\n",
        "\n",
        "# Define the regression model\n",
        "lr = LinearRegression(labelCol=\"total_pain\")\n",
        "\n",
        "# Train the model\n",
        "lrModel = lr.fit(trainData)\n",
        "\n",
        "# Print the coefficients and intercept for linear regression\n",
        "print(\"Coefficients: \" + str(lrModel.coefficients))\n",
        "print(\"Intercept: \" + str(lrModel.intercept))\n"
      ],
      "outputs": [
        {
          "output_type": "display_data",
          "data": {
            "application/vnd.livy.statement-meta+json": {
              "spark_pool": "80dcc4b2-bc50-4e81-91e5-397b7f13252e",
              "session_id": "23",
              "statement_id": 83,
              "state": "finished",
              "livy_statement_state": "available",
              "queued_time": "2023-11-18T00:41:46.7457154Z",
              "session_start_time": null,
              "execution_start_time": "2023-11-18T00:41:46.9251226Z",
              "execution_finish_time": "2023-11-18T00:41:48.5498889Z",
              "spark_jobs": {
                "numbers": {
                  "FAILED": 0,
                  "RUNNING": 0,
                  "SUCCEEDED": 2,
                  "UNKNOWN": 0
                },
                "jobs": [
                  {
                    "displayName": "treeAggregate at Statistics.scala:58",
                    "dataWritten": 2767,
                    "dataRead": 2767,
                    "rowCount": 16,
                    "usageDescription": "",
                    "jobId": 266,
                    "name": "treeAggregate at Statistics.scala:58",
                    "description": "Job group for statement 83:\nfrom pyspark.ml.regression import LinearRegression\n\n# Define the regression model\nlr = LinearRegression(labelCol=\"total_pain\")\n\n# Train the model\nlrModel = lr.fit(trainData)\n\n# Print the coefficients and intercept for linear regression\nprint(\"Coefficients: \" + str(lrModel.coefficients))\nprint(\"Intercept: \" + str(lrModel.intercept))\n",
                    "submissionTime": "2023-11-18T00:41:47.437GMT",
                    "completionTime": "2023-11-18T00:41:47.628GMT",
                    "stageIds": [
                      351,
                      352
                    ],
                    "jobGroup": "83",
                    "status": "SUCCEEDED",
                    "numTasks": 10,
                    "numActiveTasks": 0,
                    "numCompletedTasks": 10,
                    "numSkippedTasks": 0,
                    "numFailedTasks": 0,
                    "numKilledTasks": 0,
                    "numCompletedIndices": 10,
                    "numActiveStages": 0,
                    "numCompletedStages": 2,
                    "numSkippedStages": 0,
                    "numFailedStages": 0,
                    "killedTasksSummary": {}
                  },
                  {
                    "displayName": "treeAggregate at WeightedLeastSquares.scala:107",
                    "dataWritten": 5388,
                    "dataRead": 5388,
                    "rowCount": 16,
                    "usageDescription": "",
                    "jobId": 265,
                    "name": "treeAggregate at WeightedLeastSquares.scala:107",
                    "description": "Job group for statement 83:\nfrom pyspark.ml.regression import LinearRegression\n\n# Define the regression model\nlr = LinearRegression(labelCol=\"total_pain\")\n\n# Train the model\nlrModel = lr.fit(trainData)\n\n# Print the coefficients and intercept for linear regression\nprint(\"Coefficients: \" + str(lrModel.coefficients))\nprint(\"Intercept: \" + str(lrModel.intercept))\n",
                    "submissionTime": "2023-11-18T00:41:47.076GMT",
                    "completionTime": "2023-11-18T00:41:47.322GMT",
                    "stageIds": [
                      350,
                      349
                    ],
                    "jobGroup": "83",
                    "status": "SUCCEEDED",
                    "numTasks": 10,
                    "numActiveTasks": 0,
                    "numCompletedTasks": 10,
                    "numSkippedTasks": 0,
                    "numFailedTasks": 0,
                    "numKilledTasks": 0,
                    "numCompletedIndices": 10,
                    "numActiveStages": 0,
                    "numCompletedStages": 2,
                    "numSkippedStages": 0,
                    "numFailedStages": 0,
                    "killedTasksSummary": {}
                  }
                ],
                "limit": 20,
                "rule": "ALL_DESC"
              },
              "parent_msg_id": "4022b248-6252-471e-8d91-8dc8b46b8460"
            },
            "text/plain": "StatementMeta(80dcc4b2-bc50-4e81-91e5-397b7f13252e, 23, 83, Finished, Available)"
          },
          "metadata": {}
        },
        {
          "output_type": "stream",
          "name": "stdout",
          "text": "Coefficients: [0.03179601101330407,-0.19959720123631744,0.04313452654456968,3.25554748843554,-2.884871240349511,0.6074461320511451,0.05783299634652209,-0.18362926014703826,0.13523399968264194,0.21591376204509188,1.382146443432637,-4.285250650791709,3.4091199194193313]\nIntercept: 14.088750725633938\n"
        }
      ],
      "execution_count": 78,
      "metadata": {
        "jupyter": {
          "source_hidden": false,
          "outputs_hidden": false
        },
        "nteract": {
          "transient": {
            "deleting": false
          }
        },
        "gather": {
          "logged": 1700268108912
        }
      }
    },
    {
      "cell_type": "markdown",
      "source": [
        "## Display Coefficient Table"
      ],
      "metadata": {
        "nteract": {
          "transient": {
            "deleting": false
          }
        }
      }
    },
    {
      "cell_type": "code",
      "source": [
        "from pyspark.sql import SparkSession\n",
        "from pyspark.sql.types import *\n",
        "\n",
        "# Assuming lrModel is your trained Linear Regression model\n",
        "coefficients = lrModel.coefficients\n",
        "intercept = lrModel.intercept\n",
        "\n",
        "# Adjusted feature column names\n",
        "featureCols = [\"AGE\", \"HEIGHT\", \"WEIGHT\", \"SEX_MALE\", \"ACTIVITY LEVEL MODERATE\", \"ACTIVITY LEVEL HIGH\", \n",
        "               \"E\", \"S\", \"T\", \"J\",\"POSTURE_A\",\"POSTURE_D\",\"POSTURE_C\"]\n",
        "\n",
        "# Convert numpy.float64 to native Python float and map column names to coefficients\n",
        "coefficients_with_names = [(feature, float(coef)) for feature, coef in zip(featureCols, coefficients)]\n",
        "\n",
        "# Add the intercept\n",
        "coefficients_with_names.append((\"Intercept\", float(intercept)))\n",
        "\n",
        "# Create a DataFrame with this mapping\n",
        "schema = StructType([\n",
        "    StructField(\"Feature\", StringType(), False),\n",
        "    StructField(\"Coefficient\", DoubleType(), False)\n",
        "])\n",
        "\n",
        "coeff_df = spark.createDataFrame(coefficients_with_names, schema)\n",
        "\n",
        "# Show the DataFrame\n",
        "coeff_df.show(truncate=False)\n"
      ],
      "outputs": [
        {
          "output_type": "display_data",
          "data": {
            "application/vnd.livy.statement-meta+json": {
              "spark_pool": "80dcc4b2-bc50-4e81-91e5-397b7f13252e",
              "session_id": "23",
              "statement_id": 84,
              "state": "finished",
              "livy_statement_state": "available",
              "queued_time": "2023-11-18T00:41:51.5193294Z",
              "session_start_time": null,
              "execution_start_time": "2023-11-18T00:41:51.6552265Z",
              "execution_finish_time": "2023-11-18T00:41:52.5304282Z",
              "spark_jobs": {
                "numbers": {
                  "FAILED": 0,
                  "RUNNING": 0,
                  "SUCCEEDED": 3,
                  "UNKNOWN": 0
                },
                "jobs": [
                  {
                    "displayName": "showString at <unknown>:0",
                    "dataWritten": 0,
                    "dataRead": 0,
                    "rowCount": 0,
                    "usageDescription": "",
                    "jobId": 269,
                    "name": "showString at <unknown>:0",
                    "description": "Job group for statement 84:\nfrom pyspark.sql import SparkSession\nfrom pyspark.sql.types import *\n\n# Assuming lrModel is your trained Linear Regression model\ncoefficients = lrModel.coefficients\nintercept = lrModel.intercept\n\n# Adjusted feature column names\nfeatureCols = [\"AGE\", \"HEIGHT\", \"WEIGHT\", \"SEX_MALE\", \"ACTIVITY LEVEL MODERATE\", \"ACTIVITY LEVEL HIGH\", \n               \"E\", \"S\", \"T\", \"J\",\"POSTURE_A\",\"POSTURE_D\",\"POSTURE_C\"]\n\n# Convert numpy.float64 to native Python float and map column names to coefficients\ncoefficients_with_names = [(feature, float(coef)) for feature, coef in zip(featureCols, coefficients)]\n\n# Add the intercept\ncoefficients_with_names.append((\"Intercept\", float(intercept)))\n\n# Create a DataFrame with this mapping\nschema = StructType([\n    StructField(\"Feature\", StringType(), False),\n    StructField(\"Coefficient\", DoubleType(), False)\n])\n\ncoeff_df = spark.createDataFrame(coefficients_with_names, schema)\n\n# Show the DataFrame\ncoeff_df.show(truncate=False)\n",
                    "submissionTime": "2023-11-18T00:41:51.781GMT",
                    "completionTime": "2023-11-18T00:41:51.813GMT",
                    "stageIds": [
                      355
                    ],
                    "jobGroup": "84",
                    "status": "SUCCEEDED",
                    "numTasks": 3,
                    "numActiveTasks": 0,
                    "numCompletedTasks": 3,
                    "numSkippedTasks": 0,
                    "numFailedTasks": 0,
                    "numKilledTasks": 0,
                    "numCompletedIndices": 3,
                    "numActiveStages": 0,
                    "numCompletedStages": 1,
                    "numSkippedStages": 0,
                    "numFailedStages": 0,
                    "killedTasksSummary": {}
                  },
                  {
                    "displayName": "showString at <unknown>:0",
                    "dataWritten": 0,
                    "dataRead": 0,
                    "rowCount": 0,
                    "usageDescription": "",
                    "jobId": 268,
                    "name": "showString at <unknown>:0",
                    "description": "Job group for statement 84:\nfrom pyspark.sql import SparkSession\nfrom pyspark.sql.types import *\n\n# Assuming lrModel is your trained Linear Regression model\ncoefficients = lrModel.coefficients\nintercept = lrModel.intercept\n\n# Adjusted feature column names\nfeatureCols = [\"AGE\", \"HEIGHT\", \"WEIGHT\", \"SEX_MALE\", \"ACTIVITY LEVEL MODERATE\", \"ACTIVITY LEVEL HIGH\", \n               \"E\", \"S\", \"T\", \"J\",\"POSTURE_A\",\"POSTURE_D\",\"POSTURE_C\"]\n\n# Convert numpy.float64 to native Python float and map column names to coefficients\ncoefficients_with_names = [(feature, float(coef)) for feature, coef in zip(featureCols, coefficients)]\n\n# Add the intercept\ncoefficients_with_names.append((\"Intercept\", float(intercept)))\n\n# Create a DataFrame with this mapping\nschema = StructType([\n    StructField(\"Feature\", StringType(), False),\n    StructField(\"Coefficient\", DoubleType(), False)\n])\n\ncoeff_df = spark.createDataFrame(coefficients_with_names, schema)\n\n# Show the DataFrame\ncoeff_df.show(truncate=False)\n",
                    "submissionTime": "2023-11-18T00:41:51.730GMT",
                    "completionTime": "2023-11-18T00:41:51.775GMT",
                    "stageIds": [
                      354
                    ],
                    "jobGroup": "84",
                    "status": "SUCCEEDED",
                    "numTasks": 4,
                    "numActiveTasks": 0,
                    "numCompletedTasks": 4,
                    "numSkippedTasks": 0,
                    "numFailedTasks": 0,
                    "numKilledTasks": 0,
                    "numCompletedIndices": 4,
                    "numActiveStages": 0,
                    "numCompletedStages": 1,
                    "numSkippedStages": 0,
                    "numFailedStages": 0,
                    "killedTasksSummary": {}
                  },
                  {
                    "displayName": "showString at <unknown>:0",
                    "dataWritten": 0,
                    "dataRead": 0,
                    "rowCount": 0,
                    "usageDescription": "",
                    "jobId": 267,
                    "name": "showString at <unknown>:0",
                    "description": "Job group for statement 84:\nfrom pyspark.sql import SparkSession\nfrom pyspark.sql.types import *\n\n# Assuming lrModel is your trained Linear Regression model\ncoefficients = lrModel.coefficients\nintercept = lrModel.intercept\n\n# Adjusted feature column names\nfeatureCols = [\"AGE\", \"HEIGHT\", \"WEIGHT\", \"SEX_MALE\", \"ACTIVITY LEVEL MODERATE\", \"ACTIVITY LEVEL HIGH\", \n               \"E\", \"S\", \"T\", \"J\",\"POSTURE_A\",\"POSTURE_D\",\"POSTURE_C\"]\n\n# Convert numpy.float64 to native Python float and map column names to coefficients\ncoefficients_with_names = [(feature, float(coef)) for feature, coef in zip(featureCols, coefficients)]\n\n# Add the intercept\ncoefficients_with_names.append((\"Intercept\", float(intercept)))\n\n# Create a DataFrame with this mapping\nschema = StructType([\n    StructField(\"Feature\", StringType(), False),\n    StructField(\"Coefficient\", DoubleType(), False)\n])\n\ncoeff_df = spark.createDataFrame(coefficients_with_names, schema)\n\n# Show the DataFrame\ncoeff_df.show(truncate=False)\n",
                    "submissionTime": "2023-11-18T00:41:51.694GMT",
                    "completionTime": "2023-11-18T00:41:51.724GMT",
                    "stageIds": [
                      353
                    ],
                    "jobGroup": "84",
                    "status": "SUCCEEDED",
                    "numTasks": 1,
                    "numActiveTasks": 0,
                    "numCompletedTasks": 1,
                    "numSkippedTasks": 0,
                    "numFailedTasks": 0,
                    "numKilledTasks": 0,
                    "numCompletedIndices": 1,
                    "numActiveStages": 0,
                    "numCompletedStages": 1,
                    "numSkippedStages": 0,
                    "numFailedStages": 0,
                    "killedTasksSummary": {}
                  }
                ],
                "limit": 20,
                "rule": "ALL_DESC"
              },
              "parent_msg_id": "c51a89fe-4902-4593-adbf-c96522ca642c"
            },
            "text/plain": "StatementMeta(80dcc4b2-bc50-4e81-91e5-397b7f13252e, 23, 84, Finished, Available)"
          },
          "metadata": {}
        },
        {
          "output_type": "stream",
          "name": "stdout",
          "text": "+-----------------------+--------------------+\n|Feature                |Coefficient         |\n+-----------------------+--------------------+\n|AGE                    |0.03179601101330407 |\n|HEIGHT                 |-0.19959720123631744|\n|WEIGHT                 |0.04313452654456968 |\n|SEX_MALE               |3.25554748843554    |\n|ACTIVITY LEVEL MODERATE|-2.884871240349511  |\n|ACTIVITY LEVEL HIGH    |0.6074461320511451  |\n|E                      |0.05783299634652209 |\n|S                      |-0.18362926014703826|\n|T                      |0.13523399968264194 |\n|J                      |0.21591376204509188 |\n|POSTURE_A              |1.382146443432637   |\n|POSTURE_D              |-4.285250650791709  |\n|POSTURE_C              |3.4091199194193313  |\n|Intercept              |14.088750725633938  |\n+-----------------------+--------------------+\n\n"
        }
      ],
      "execution_count": 79,
      "metadata": {
        "jupyter": {
          "source_hidden": false,
          "outputs_hidden": false
        },
        "nteract": {
          "transient": {
            "deleting": false
          }
        },
        "gather": {
          "logged": 1700268112992
        }
      }
    },
    {
      "cell_type": "code",
      "source": [
        "coeff_df.toPandas().to_csv(\"Users/ml2078/fall-2023-reddit-project-team-10/data/csv/reg_coeff_df.csv\",index=False)"
      ],
      "outputs": [
        {
          "output_type": "display_data",
          "data": {
            "application/vnd.livy.statement-meta+json": {
              "spark_pool": "80dcc4b2-bc50-4e81-91e5-397b7f13252e",
              "session_id": "23",
              "statement_id": 85,
              "state": "finished",
              "livy_statement_state": "available",
              "queued_time": "2023-11-18T00:41:57.3917888Z",
              "session_start_time": null,
              "execution_start_time": "2023-11-18T00:41:57.5357813Z",
              "execution_finish_time": "2023-11-18T00:41:58.3970916Z",
              "spark_jobs": {
                "numbers": {
                  "FAILED": 0,
                  "RUNNING": 0,
                  "SUCCEEDED": 1,
                  "UNKNOWN": 0
                },
                "jobs": [
                  {
                    "displayName": "toPandas at /tmp/ipykernel_8211/3210291142.py:1",
                    "dataWritten": 0,
                    "dataRead": 0,
                    "rowCount": 0,
                    "usageDescription": "",
                    "jobId": 270,
                    "name": "toPandas at /tmp/ipykernel_8211/3210291142.py:1",
                    "description": "Job group for statement 85:\ncoeff_df.toPandas().to_csv(\"Users/ml2078/fall-2023-reddit-project-team-10/data/csv/reg_coeff_df.csv\",index=False)",
                    "submissionTime": "2023-11-18T00:41:57.549GMT",
                    "completionTime": "2023-11-18T00:41:57.619GMT",
                    "stageIds": [
                      356
                    ],
                    "jobGroup": "85",
                    "status": "SUCCEEDED",
                    "numTasks": 8,
                    "numActiveTasks": 0,
                    "numCompletedTasks": 8,
                    "numSkippedTasks": 0,
                    "numFailedTasks": 0,
                    "numKilledTasks": 0,
                    "numCompletedIndices": 8,
                    "numActiveStages": 0,
                    "numCompletedStages": 1,
                    "numSkippedStages": 0,
                    "numFailedStages": 0,
                    "killedTasksSummary": {}
                  }
                ],
                "limit": 20,
                "rule": "ALL_DESC"
              },
              "parent_msg_id": "56f3dbaa-4be5-41c5-81b6-7a1730fc2eb4"
            },
            "text/plain": "StatementMeta(80dcc4b2-bc50-4e81-91e5-397b7f13252e, 23, 85, Finished, Available)"
          },
          "metadata": {}
        }
      ],
      "execution_count": 80,
      "metadata": {
        "jupyter": {
          "source_hidden": false,
          "outputs_hidden": false
        },
        "nteract": {
          "transient": {
            "deleting": false
          }
        },
        "gather": {
          "logged": 1700268119084
        }
      }
    },
    {
      "cell_type": "markdown",
      "source": [
        "# Model Performance Evaluation"
      ],
      "metadata": {
        "nteract": {
          "transient": {
            "deleting": false
          }
        }
      }
    },
    {
      "cell_type": "markdown",
      "source": [
        "## RMSE"
      ],
      "metadata": {
        "nteract": {
          "transient": {
            "deleting": false
          }
        }
      }
    },
    {
      "cell_type": "code",
      "source": [
        "from pyspark.ml.evaluation import RegressionEvaluator\n",
        "\n",
        "# Make predictions\n",
        "predictions = lrModel.transform(testData)\n",
        "\n",
        "# Show some predictions\n",
        "predictions.select(\"prediction\", \"total_pain\", \"features\").show(5)\n",
        "\n",
        "# Evaluate the model\n",
        "evaluator = RegressionEvaluator(labelCol=\"total_pain\", predictionCol=\"prediction\", metricName=\"rmse\")\n",
        "rmse = evaluator.evaluate(predictions)\n",
        "print(\"Root Mean Squared Error (RMSE) on test data = %g\" % rmse)\n"
      ],
      "outputs": [
        {
          "output_type": "display_data",
          "data": {
            "application/vnd.livy.statement-meta+json": {
              "spark_pool": "80dcc4b2-bc50-4e81-91e5-397b7f13252e",
              "session_id": "23",
              "statement_id": 86,
              "state": "finished",
              "livy_statement_state": "available",
              "queued_time": "2023-11-18T00:42:06.7386878Z",
              "session_start_time": null,
              "execution_start_time": "2023-11-18T00:42:06.8796327Z",
              "execution_finish_time": "2023-11-18T00:42:08.4626636Z",
              "spark_jobs": {
                "numbers": {
                  "FAILED": 0,
                  "RUNNING": 0,
                  "SUCCEEDED": 3,
                  "UNKNOWN": 0
                },
                "jobs": [
                  {
                    "displayName": "treeAggregate at Statistics.scala:58",
                    "dataWritten": 2651,
                    "dataRead": 2651,
                    "rowCount": 16,
                    "usageDescription": "",
                    "jobId": 273,
                    "name": "treeAggregate at Statistics.scala:58",
                    "description": "Job group for statement 86:\nfrom pyspark.ml.evaluation import RegressionEvaluator\n\n# Make predictions\npredictions = lrModel.transform(testData)\n\n# Show some predictions\npredictions.select(\"prediction\", \"total_pain\", \"features\").show(5)\n\n# Evaluate the model\nevaluator = RegressionEvaluator(labelCol=\"total_pain\", predictionCol=\"prediction\", metricName=\"rmse\")\nrmse = evaluator.evaluate(predictions)\nprint(\"Root Mean Squared Error (RMSE) on test data = %g\" % rmse)\n",
                    "submissionTime": "2023-11-18T00:42:07.494GMT",
                    "completionTime": "2023-11-18T00:42:07.700GMT",
                    "stageIds": [
                      359,
                      360
                    ],
                    "jobGroup": "86",
                    "status": "SUCCEEDED",
                    "numTasks": 10,
                    "numActiveTasks": 0,
                    "numCompletedTasks": 10,
                    "numSkippedTasks": 0,
                    "numFailedTasks": 0,
                    "numKilledTasks": 0,
                    "numCompletedIndices": 10,
                    "numActiveStages": 0,
                    "numCompletedStages": 2,
                    "numSkippedStages": 0,
                    "numFailedStages": 0,
                    "killedTasksSummary": {}
                  },
                  {
                    "displayName": "showString at <unknown>:0",
                    "dataWritten": 0,
                    "dataRead": 0,
                    "rowCount": 0,
                    "usageDescription": "",
                    "jobId": 272,
                    "name": "showString at <unknown>:0",
                    "description": "Job group for statement 86:\nfrom pyspark.ml.evaluation import RegressionEvaluator\n\n# Make predictions\npredictions = lrModel.transform(testData)\n\n# Show some predictions\npredictions.select(\"prediction\", \"total_pain\", \"features\").show(5)\n\n# Evaluate the model\nevaluator = RegressionEvaluator(labelCol=\"total_pain\", predictionCol=\"prediction\", metricName=\"rmse\")\nrmse = evaluator.evaluate(predictions)\nprint(\"Root Mean Squared Error (RMSE) on test data = %g\" % rmse)\n",
                    "submissionTime": "2023-11-18T00:42:07.160GMT",
                    "completionTime": "2023-11-18T00:42:07.265GMT",
                    "stageIds": [
                      358
                    ],
                    "jobGroup": "86",
                    "status": "SUCCEEDED",
                    "numTasks": 2,
                    "numActiveTasks": 0,
                    "numCompletedTasks": 2,
                    "numSkippedTasks": 0,
                    "numFailedTasks": 0,
                    "numKilledTasks": 0,
                    "numCompletedIndices": 2,
                    "numActiveStages": 0,
                    "numCompletedStages": 1,
                    "numSkippedStages": 0,
                    "numFailedStages": 0,
                    "killedTasksSummary": {}
                  },
                  {
                    "displayName": "showString at <unknown>:0",
                    "dataWritten": 0,
                    "dataRead": 0,
                    "rowCount": 0,
                    "usageDescription": "",
                    "jobId": 271,
                    "name": "showString at <unknown>:0",
                    "description": "Job group for statement 86:\nfrom pyspark.ml.evaluation import RegressionEvaluator\n\n# Make predictions\npredictions = lrModel.transform(testData)\n\n# Show some predictions\npredictions.select(\"prediction\", \"total_pain\", \"features\").show(5)\n\n# Evaluate the model\nevaluator = RegressionEvaluator(labelCol=\"total_pain\", predictionCol=\"prediction\", metricName=\"rmse\")\nrmse = evaluator.evaluate(predictions)\nprint(\"Root Mean Squared Error (RMSE) on test data = %g\" % rmse)\n",
                    "submissionTime": "2023-11-18T00:42:07.055GMT",
                    "completionTime": "2023-11-18T00:42:07.153GMT",
                    "stageIds": [
                      357
                    ],
                    "jobGroup": "86",
                    "status": "SUCCEEDED",
                    "numTasks": 1,
                    "numActiveTasks": 0,
                    "numCompletedTasks": 1,
                    "numSkippedTasks": 0,
                    "numFailedTasks": 0,
                    "numKilledTasks": 0,
                    "numCompletedIndices": 1,
                    "numActiveStages": 0,
                    "numCompletedStages": 1,
                    "numSkippedStages": 0,
                    "numFailedStages": 0,
                    "killedTasksSummary": {}
                  }
                ],
                "limit": 20,
                "rule": "ALL_DESC"
              },
              "parent_msg_id": "b54b548b-657d-4c37-8bc5-753f8eda5926"
            },
            "text/plain": "StatementMeta(80dcc4b2-bc50-4e81-91e5-397b7f13252e, 23, 86, Finished, Available)"
          },
          "metadata": {}
        },
        {
          "output_type": "stream",
          "name": "stdout",
          "text": "+------------------+----------+--------------------+\n|        prediction|total_pain|            features|\n+------------------+----------+--------------------+\n| 8.160980751475336|       0.0|[30.0,69.0,200.0,...|\n|12.897895034141857|      37.0|[62.0,68.0,263.0,...|\n| 9.781571658384257|      14.0|[66.0,67.0,180.0,...|\n|13.226497052937285|      17.0|[57.0,68.0,185.0,...|\n| 9.907283414897371|      13.0|[23.0,65.0,110.0,...|\n+------------------+----------+--------------------+\nonly showing top 5 rows\n\nRoot Mean Squared Error (RMSE) on test data = 9.91801\n"
        }
      ],
      "execution_count": 81,
      "metadata": {
        "jupyter": {
          "source_hidden": false,
          "outputs_hidden": false
        },
        "nteract": {
          "transient": {
            "deleting": false
          }
        },
        "gather": {
          "logged": 1700268128797
        }
      }
    },
    {
      "cell_type": "code",
      "source": [
        "predictions.toPandas().to_csv(\"Users/ml2078/fall-2023-reddit-project-team-10/data/csv/test_predictions.csv\",index=False)"
      ],
      "outputs": [
        {
          "output_type": "display_data",
          "data": {
            "application/vnd.livy.statement-meta+json": {
              "spark_pool": "80dcc4b2-bc50-4e81-91e5-397b7f13252e",
              "session_id": "23",
              "statement_id": 87,
              "state": "finished",
              "livy_statement_state": "available",
              "queued_time": "2023-11-18T00:42:11.0638341Z",
              "session_start_time": null,
              "execution_start_time": "2023-11-18T00:42:11.2133031Z",
              "execution_finish_time": "2023-11-18T00:42:12.0887963Z",
              "spark_jobs": {
                "numbers": {
                  "FAILED": 0,
                  "RUNNING": 0,
                  "SUCCEEDED": 1,
                  "UNKNOWN": 0
                },
                "jobs": [
                  {
                    "displayName": "toPandas at /tmp/ipykernel_8211/1519185807.py:1",
                    "dataWritten": 0,
                    "dataRead": 0,
                    "rowCount": 0,
                    "usageDescription": "",
                    "jobId": 274,
                    "name": "toPandas at /tmp/ipykernel_8211/1519185807.py:1",
                    "description": "Job group for statement 87:\npredictions.toPandas().to_csv(\"Users/ml2078/fall-2023-reddit-project-team-10/data/csv/test_predictions.csv\",index=False)",
                    "submissionTime": "2023-11-18T00:42:11.284GMT",
                    "completionTime": "2023-11-18T00:42:11.407GMT",
                    "stageIds": [
                      361
                    ],
                    "jobGroup": "87",
                    "status": "SUCCEEDED",
                    "numTasks": 8,
                    "numActiveTasks": 0,
                    "numCompletedTasks": 8,
                    "numSkippedTasks": 0,
                    "numFailedTasks": 0,
                    "numKilledTasks": 0,
                    "numCompletedIndices": 8,
                    "numActiveStages": 0,
                    "numCompletedStages": 1,
                    "numSkippedStages": 0,
                    "numFailedStages": 0,
                    "killedTasksSummary": {}
                  }
                ],
                "limit": 20,
                "rule": "ALL_DESC"
              },
              "parent_msg_id": "5bb008c9-583f-411b-9574-8b37c6df089a"
            },
            "text/plain": "StatementMeta(80dcc4b2-bc50-4e81-91e5-397b7f13252e, 23, 87, Finished, Available)"
          },
          "metadata": {}
        }
      ],
      "execution_count": 82,
      "metadata": {
        "jupyter": {
          "source_hidden": false,
          "outputs_hidden": false
        },
        "nteract": {
          "transient": {
            "deleting": false
          }
        },
        "gather": {
          "logged": 1700268132823
        }
      }
    },
    {
      "cell_type": "code",
      "source": [
        "from pyspark.ml.evaluation import RegressionEvaluator\n",
        "\n",
        "# Make predictions\n",
        "predictions = lrModel.transform(trainData)\n",
        "\n",
        "# Show some predictions\n",
        "predictions.select(\"prediction\", \"total_pain\", \"features\").show(5)\n",
        "\n",
        "# Evaluate the model\n",
        "evaluator = RegressionEvaluator(labelCol=\"total_pain\", predictionCol=\"prediction\", metricName=\"rmse\")\n",
        "rmse = evaluator.evaluate(predictions)\n",
        "print(\"Root Mean Squared Error (RMSE) on train data = %g\" % rmse)"
      ],
      "outputs": [
        {
          "output_type": "display_data",
          "data": {
            "application/vnd.livy.statement-meta+json": {
              "spark_pool": "80dcc4b2-bc50-4e81-91e5-397b7f13252e",
              "session_id": "23",
              "statement_id": 88,
              "state": "finished",
              "livy_statement_state": "available",
              "queued_time": "2023-11-18T00:42:15.0034085Z",
              "session_start_time": null,
              "execution_start_time": "2023-11-18T00:42:15.2027221Z",
              "execution_finish_time": "2023-11-18T00:42:16.0367007Z",
              "spark_jobs": {
                "numbers": {
                  "FAILED": 0,
                  "RUNNING": 0,
                  "SUCCEEDED": 2,
                  "UNKNOWN": 0
                },
                "jobs": [
                  {
                    "displayName": "treeAggregate at Statistics.scala:58",
                    "dataWritten": 2767,
                    "dataRead": 2767,
                    "rowCount": 16,
                    "usageDescription": "",
                    "jobId": 276,
                    "name": "treeAggregate at Statistics.scala:58",
                    "description": "Job group for statement 88:\nfrom pyspark.ml.evaluation import RegressionEvaluator\n\n# Make predictions\npredictions = lrModel.transform(trainData)\n\n# Show some predictions\npredictions.select(\"prediction\", \"total_pain\", \"features\").show(5)\n\n# Evaluate the model\nevaluator = RegressionEvaluator(labelCol=\"total_pain\", predictionCol=\"prediction\", metricName=\"rmse\")\nrmse = evaluator.evaluate(predictions)\nprint(\"Root Mean Squared Error (RMSE) on train data = %g\" % rmse)",
                    "submissionTime": "2023-11-18T00:42:15.573GMT",
                    "completionTime": "2023-11-18T00:42:15.695GMT",
                    "stageIds": [
                      363,
                      364
                    ],
                    "jobGroup": "88",
                    "status": "SUCCEEDED",
                    "numTasks": 10,
                    "numActiveTasks": 0,
                    "numCompletedTasks": 10,
                    "numSkippedTasks": 0,
                    "numFailedTasks": 0,
                    "numKilledTasks": 0,
                    "numCompletedIndices": 10,
                    "numActiveStages": 0,
                    "numCompletedStages": 2,
                    "numSkippedStages": 0,
                    "numFailedStages": 0,
                    "killedTasksSummary": {}
                  },
                  {
                    "displayName": "showString at <unknown>:0",
                    "dataWritten": 0,
                    "dataRead": 0,
                    "rowCount": 0,
                    "usageDescription": "",
                    "jobId": 275,
                    "name": "showString at <unknown>:0",
                    "description": "Job group for statement 88:\nfrom pyspark.ml.evaluation import RegressionEvaluator\n\n# Make predictions\npredictions = lrModel.transform(trainData)\n\n# Show some predictions\npredictions.select(\"prediction\", \"total_pain\", \"features\").show(5)\n\n# Evaluate the model\nevaluator = RegressionEvaluator(labelCol=\"total_pain\", predictionCol=\"prediction\", metricName=\"rmse\")\nrmse = evaluator.evaluate(predictions)\nprint(\"Root Mean Squared Error (RMSE) on train data = %g\" % rmse)",
                    "submissionTime": "2023-11-18T00:42:15.398GMT",
                    "completionTime": "2023-11-18T00:42:15.482GMT",
                    "stageIds": [
                      362
                    ],
                    "jobGroup": "88",
                    "status": "SUCCEEDED",
                    "numTasks": 1,
                    "numActiveTasks": 0,
                    "numCompletedTasks": 1,
                    "numSkippedTasks": 0,
                    "numFailedTasks": 0,
                    "numKilledTasks": 0,
                    "numCompletedIndices": 1,
                    "numActiveStages": 0,
                    "numCompletedStages": 1,
                    "numSkippedStages": 0,
                    "numFailedStages": 0,
                    "killedTasksSummary": {}
                  }
                ],
                "limit": 20,
                "rule": "ALL_DESC"
              },
              "parent_msg_id": "48f2693c-cb48-42b8-85b9-de0ec83410b6"
            },
            "text/plain": "StatementMeta(80dcc4b2-bc50-4e81-91e5-397b7f13252e, 23, 88, Finished, Available)"
          },
          "metadata": {}
        },
        {
          "output_type": "stream",
          "name": "stdout",
          "text": "+------------------+----------+--------------------+\n|        prediction|total_pain|            features|\n+------------------+----------+--------------------+\n| 7.899004473746081|       0.0|[53.0,62.0,125.0,...|\n|13.547184759892193|      23.0|[52.0,69.0,157.0,...|\n|16.453227192208082|      30.0|[51.0,66.0,175.0,...|\n|12.915264231184757|      13.0|[45.0,63.0,199.0,...|\n| 9.316282700808497|       4.0|[68.0,74.0,182.0,...|\n+------------------+----------+--------------------+\nonly showing top 5 rows\n\nRoot Mean Squared Error (RMSE) on train data = 6.42895\n"
        }
      ],
      "execution_count": 83,
      "metadata": {
        "jupyter": {
          "source_hidden": false,
          "outputs_hidden": false
        },
        "nteract": {
          "transient": {
            "deleting": false
          }
        },
        "gather": {
          "logged": 1700268136755
        }
      }
    },
    {
      "cell_type": "markdown",
      "source": [
        "## R2"
      ],
      "metadata": {
        "nteract": {
          "transient": {
            "deleting": false
          }
        }
      }
    },
    {
      "cell_type": "code",
      "source": [
        "predictions.toPandas().to_csv(\"Users/ml2078/fall-2023-reddit-project-team-10/data/csv/train_predictions.csv\",index=False)"
      ],
      "outputs": [
        {
          "output_type": "display_data",
          "data": {
            "application/vnd.livy.statement-meta+json": {
              "spark_pool": "80dcc4b2-bc50-4e81-91e5-397b7f13252e",
              "session_id": "23",
              "statement_id": 89,
              "state": "finished",
              "livy_statement_state": "available",
              "queued_time": "2023-11-18T00:42:19.2094251Z",
              "session_start_time": null,
              "execution_start_time": "2023-11-18T00:42:19.3564446Z",
              "execution_finish_time": "2023-11-18T00:42:20.2239523Z",
              "spark_jobs": {
                "numbers": {
                  "FAILED": 0,
                  "RUNNING": 0,
                  "SUCCEEDED": 1,
                  "UNKNOWN": 0
                },
                "jobs": [
                  {
                    "displayName": "toPandas at /tmp/ipykernel_8211/1129990953.py:1",
                    "dataWritten": 0,
                    "dataRead": 0,
                    "rowCount": 0,
                    "usageDescription": "",
                    "jobId": 277,
                    "name": "toPandas at /tmp/ipykernel_8211/1129990953.py:1",
                    "description": "Job group for statement 89:\npredictions.toPandas().to_csv(\"Users/ml2078/fall-2023-reddit-project-team-10/data/csv/train_predictions.csv\",index=False)",
                    "submissionTime": "2023-11-18T00:42:19.466GMT",
                    "completionTime": "2023-11-18T00:42:19.606GMT",
                    "stageIds": [
                      365
                    ],
                    "jobGroup": "89",
                    "status": "SUCCEEDED",
                    "numTasks": 8,
                    "numActiveTasks": 0,
                    "numCompletedTasks": 8,
                    "numSkippedTasks": 0,
                    "numFailedTasks": 0,
                    "numKilledTasks": 0,
                    "numCompletedIndices": 8,
                    "numActiveStages": 0,
                    "numCompletedStages": 1,
                    "numSkippedStages": 0,
                    "numFailedStages": 0,
                    "killedTasksSummary": {}
                  }
                ],
                "limit": 20,
                "rule": "ALL_DESC"
              },
              "parent_msg_id": "edee92c4-15f5-45b8-a0ca-af1c6fb0b793"
            },
            "text/plain": "StatementMeta(80dcc4b2-bc50-4e81-91e5-397b7f13252e, 23, 89, Finished, Available)"
          },
          "metadata": {}
        }
      ],
      "execution_count": 84,
      "metadata": {
        "jupyter": {
          "source_hidden": false,
          "outputs_hidden": false
        },
        "nteract": {
          "transient": {
            "deleting": false
          }
        },
        "gather": {
          "logged": 1700268140997
        }
      }
    },
    {
      "cell_type": "code",
      "source": [
        "# Make predictions\n",
        "predictions = lrModel.transform(trainData)\n",
        "# Create an instance of RegressionEvaluator for evaluating R2\n",
        "evaluator = RegressionEvaluator(labelCol=\"total_pain\", predictionCol=\"prediction\", metricName=\"r2\")\n",
        "\n",
        "# Compute R2 on test data\n",
        "r2 = evaluator.evaluate(predictions)\n",
        "print(\"R2 on test data = %g\" % r2)"
      ],
      "outputs": [
        {
          "output_type": "display_data",
          "data": {
            "application/vnd.livy.statement-meta+json": {
              "spark_pool": "80dcc4b2-bc50-4e81-91e5-397b7f13252e",
              "session_id": "23",
              "statement_id": 90,
              "state": "finished",
              "livy_statement_state": "available",
              "queued_time": "2023-11-18T00:42:22.1405324Z",
              "session_start_time": null,
              "execution_start_time": "2023-11-18T00:42:22.2506789Z",
              "execution_finish_time": "2023-11-18T00:42:23.0768791Z",
              "spark_jobs": {
                "numbers": {
                  "FAILED": 0,
                  "RUNNING": 0,
                  "SUCCEEDED": 1,
                  "UNKNOWN": 0
                },
                "jobs": [
                  {
                    "displayName": "treeAggregate at Statistics.scala:58",
                    "dataWritten": 2767,
                    "dataRead": 2767,
                    "rowCount": 16,
                    "usageDescription": "",
                    "jobId": 278,
                    "name": "treeAggregate at Statistics.scala:58",
                    "description": "Job group for statement 90:\n# Make predictions\npredictions = lrModel.transform(trainData)\n# Create an instance of RegressionEvaluator for evaluating R2\nevaluator = RegressionEvaluator(labelCol=\"total_pain\", predictionCol=\"prediction\", metricName=\"r2\")\n\n# Compute R2 on test data\nr2 = evaluator.evaluate(predictions)\nprint(\"R2 on test data = %g\" % r2)",
                    "submissionTime": "2023-11-18T00:42:22.342GMT",
                    "completionTime": "2023-11-18T00:42:22.449GMT",
                    "stageIds": [
                      366,
                      367
                    ],
                    "jobGroup": "90",
                    "status": "SUCCEEDED",
                    "numTasks": 10,
                    "numActiveTasks": 0,
                    "numCompletedTasks": 10,
                    "numSkippedTasks": 0,
                    "numFailedTasks": 0,
                    "numKilledTasks": 0,
                    "numCompletedIndices": 10,
                    "numActiveStages": 0,
                    "numCompletedStages": 2,
                    "numSkippedStages": 0,
                    "numFailedStages": 0,
                    "killedTasksSummary": {}
                  }
                ],
                "limit": 20,
                "rule": "ALL_DESC"
              },
              "parent_msg_id": "b54b831f-515c-499d-961b-7801ced68aae"
            },
            "text/plain": "StatementMeta(80dcc4b2-bc50-4e81-91e5-397b7f13252e, 23, 90, Finished, Available)"
          },
          "metadata": {}
        },
        {
          "output_type": "stream",
          "name": "stdout",
          "text": "R2 on test data = 0.236418\n"
        }
      ],
      "execution_count": 85,
      "metadata": {
        "jupyter": {
          "source_hidden": false,
          "outputs_hidden": false
        },
        "nteract": {
          "transient": {
            "deleting": false
          }
        },
        "gather": {
          "logged": 1700268144075
        }
      }
    },
    {
      "cell_type": "code",
      "source": [
        "# Save the model\n",
        "model_path = \"Users/ml2078/fall-2023-reddit-project-team-10/model\"\n",
        "lrModel.write().overwrite().save(model_path)"
      ],
      "outputs": [
        {
          "output_type": "display_data",
          "data": {
            "application/vnd.livy.statement-meta+json": {
              "spark_pool": "80dcc4b2-bc50-4e81-91e5-397b7f13252e",
              "session_id": "23",
              "statement_id": 91,
              "state": "finished",
              "livy_statement_state": "available",
              "queued_time": "2023-11-18T00:42:28.4921862Z",
              "session_start_time": null,
              "execution_start_time": "2023-11-18T00:42:28.6185059Z",
              "execution_finish_time": "2023-11-18T00:42:31.0215699Z",
              "spark_jobs": {
                "numbers": {
                  "FAILED": 0,
                  "RUNNING": 0,
                  "SUCCEEDED": 3,
                  "UNKNOWN": 0
                },
                "jobs": [
                  {
                    "displayName": "parquet at LinearRegression.scala:785",
                    "dataWritten": 2195,
                    "dataRead": 202,
                    "rowCount": 2,
                    "usageDescription": "",
                    "jobId": 281,
                    "name": "parquet at LinearRegression.scala:785",
                    "description": "Job group for statement 91:\n# Save the model\nmodel_path = \"Users/ml2078/fall-2023-reddit-project-team-10/model\"\nlrModel.write().overwrite().save(model_path)",
                    "submissionTime": "2023-11-18T00:42:29.963GMT",
                    "completionTime": "2023-11-18T00:42:30.528GMT",
                    "stageIds": [
                      371,
                      370
                    ],
                    "jobGroup": "91",
                    "status": "SUCCEEDED",
                    "numTasks": 2,
                    "numActiveTasks": 0,
                    "numCompletedTasks": 1,
                    "numSkippedTasks": 1,
                    "numFailedTasks": 0,
                    "numKilledTasks": 0,
                    "numCompletedIndices": 1,
                    "numActiveStages": 0,
                    "numCompletedStages": 1,
                    "numSkippedStages": 1,
                    "numFailedStages": 0,
                    "killedTasksSummary": {}
                  },
                  {
                    "displayName": "parquet at LinearRegression.scala:785",
                    "dataWritten": 202,
                    "dataRead": 0,
                    "rowCount": 1,
                    "usageDescription": "",
                    "jobId": 280,
                    "name": "parquet at LinearRegression.scala:785",
                    "description": "Job group for statement 91:\n# Save the model\nmodel_path = \"Users/ml2078/fall-2023-reddit-project-team-10/model\"\nlrModel.write().overwrite().save(model_path)",
                    "submissionTime": "2023-11-18T00:42:29.892GMT",
                    "completionTime": "2023-11-18T00:42:29.918GMT",
                    "stageIds": [
                      369
                    ],
                    "jobGroup": "91",
                    "status": "SUCCEEDED",
                    "numTasks": 1,
                    "numActiveTasks": 0,
                    "numCompletedTasks": 1,
                    "numSkippedTasks": 0,
                    "numFailedTasks": 0,
                    "numKilledTasks": 0,
                    "numCompletedIndices": 1,
                    "numActiveStages": 0,
                    "numCompletedStages": 1,
                    "numSkippedStages": 0,
                    "numFailedStages": 0,
                    "killedTasksSummary": {}
                  },
                  {
                    "displayName": "runJob at SparkHadoopWriter.scala:85",
                    "dataWritten": 500,
                    "dataRead": 0,
                    "rowCount": 1,
                    "usageDescription": "",
                    "jobId": 279,
                    "name": "runJob at SparkHadoopWriter.scala:85",
                    "description": "Job group for statement 91:\n# Save the model\nmodel_path = \"Users/ml2078/fall-2023-reddit-project-team-10/model\"\nlrModel.write().overwrite().save(model_path)",
                    "submissionTime": "2023-11-18T00:42:28.975GMT",
                    "completionTime": "2023-11-18T00:42:29.474GMT",
                    "stageIds": [
                      368
                    ],
                    "jobGroup": "91",
                    "status": "SUCCEEDED",
                    "numTasks": 1,
                    "numActiveTasks": 0,
                    "numCompletedTasks": 1,
                    "numSkippedTasks": 0,
                    "numFailedTasks": 0,
                    "numKilledTasks": 0,
                    "numCompletedIndices": 1,
                    "numActiveStages": 0,
                    "numCompletedStages": 1,
                    "numSkippedStages": 0,
                    "numFailedStages": 0,
                    "killedTasksSummary": {}
                  }
                ],
                "limit": 20,
                "rule": "ALL_DESC"
              },
              "parent_msg_id": "04d99354-0989-4ca4-b4de-bceb6eead269"
            },
            "text/plain": "StatementMeta(80dcc4b2-bc50-4e81-91e5-397b7f13252e, 23, 91, Finished, Available)"
          },
          "metadata": {}
        }
      ],
      "execution_count": 86,
      "metadata": {
        "jupyter": {
          "source_hidden": false,
          "outputs_hidden": false
        },
        "nteract": {
          "transient": {
            "deleting": false
          }
        },
        "gather": {
          "logged": 1700268151318
        }
      }
    },
    {
      "cell_type": "markdown",
      "source": [
        "# Apply Model to New Data"
      ],
      "metadata": {
        "nteract": {
          "transient": {
            "deleting": false
          }
        }
      }
    },
    {
      "cell_type": "markdown",
      "source": [
        "## Create Some New Data"
      ],
      "metadata": {
        "nteract": {
          "transient": {
            "deleting": false
          }
        }
      }
    },
    {
      "cell_type": "code",
      "source": [
        "from pyspark.sql import Row\n",
        "from pyspark.ml import Pipeline\n",
        "\n",
        "# Example new data rows\n",
        "new_data_rows = [\n",
        "    Row(AGE=50, HEIGHT=62, WEIGHT=140, SEX=\"Male\", ACTIVITY_LEVEL=\"Moderate\", E=12, S=15, T=20, J=5,POSTURE=\"B\"),\n",
        "    Row(AGE=30, HEIGHT=66, WEIGHT=100, SEX=\"Female\", ACTIVITY_LEVEL=\"Low\", E=18, S=12, T=15, J=8,POSTURE=\"C\"),\n",
        "    Row(AGE=35, HEIGHT=71, WEIGHT=160, SEX=\"Male\", ACTIVITY_LEVEL=\"High\", E=10, S=3, T=10, J=3,POSTURE=\"A\"),\n",
        "    Row(AGE=44, HEIGHT=63, WEIGHT=130, SEX=\"Male\", ACTIVITY_LEVEL=\"High\", E=6, S=9, T=8, J=10,POSTURE=\"D\"),\n",
        "    Row(AGE=48, HEIGHT=61, WEIGHT=120, SEX=\"Female\", ACTIVITY_LEVEL=\"Low\", E=3, S=17, T=5, J=20,POSTURE=\"B\"),\n",
        "]\n",
        "\n",
        "# Create a DataFrame with the new data\n",
        "new_data_df = spark.createDataFrame(new_data_rows)"
      ],
      "outputs": [
        {
          "output_type": "display_data",
          "data": {
            "application/vnd.livy.statement-meta+json": {
              "spark_pool": "80dcc4b2-bc50-4e81-91e5-397b7f13252e",
              "session_id": "23",
              "statement_id": 92,
              "state": "finished",
              "livy_statement_state": "available",
              "queued_time": "2023-11-18T00:42:36.5736161Z",
              "session_start_time": null,
              "execution_start_time": "2023-11-18T00:42:36.7374636Z",
              "execution_finish_time": "2023-11-18T00:42:37.0258984Z",
              "spark_jobs": {
                "numbers": {
                  "FAILED": 0,
                  "RUNNING": 0,
                  "SUCCEEDED": 0,
                  "UNKNOWN": 0
                },
                "jobs": [],
                "limit": 20,
                "rule": "ALL_DESC"
              },
              "parent_msg_id": "67492e88-9798-41e0-b4b3-d99cfc58cee1"
            },
            "text/plain": "StatementMeta(80dcc4b2-bc50-4e81-91e5-397b7f13252e, 23, 92, Finished, Available)"
          },
          "metadata": {}
        }
      ],
      "execution_count": 87,
      "metadata": {
        "jupyter": {
          "source_hidden": false,
          "outputs_hidden": false
        },
        "nteract": {
          "transient": {
            "deleting": false
          }
        },
        "gather": {
          "logged": 1700268158258
        }
      }
    },
    {
      "cell_type": "markdown",
      "source": [
        "## Apply pipe"
      ],
      "metadata": {
        "nteract": {
          "transient": {
            "deleting": false
          }
        }
      }
    },
    {
      "cell_type": "code",
      "source": [
        "new_data_df = new_data_df.withColumnRenamed(\"ACTIVITY_LEVEL\",\"ACTIVITY LEVEL\")"
      ],
      "outputs": [
        {
          "output_type": "display_data",
          "data": {
            "application/vnd.livy.statement-meta+json": {
              "spark_pool": "80dcc4b2-bc50-4e81-91e5-397b7f13252e",
              "session_id": "23",
              "statement_id": 96,
              "state": "finished",
              "livy_statement_state": "available",
              "queued_time": "2023-11-18T00:46:00.1018251Z",
              "session_start_time": null,
              "execution_start_time": "2023-11-18T00:46:00.2444664Z",
              "execution_finish_time": "2023-11-18T00:46:06.7648261Z",
              "spark_jobs": {
                "numbers": {
                  "FAILED": 0,
                  "RUNNING": 0,
                  "SUCCEEDED": 0,
                  "UNKNOWN": 0
                },
                "jobs": [],
                "limit": 20,
                "rule": "ALL_DESC"
              },
              "parent_msg_id": "d04778d7-2096-4024-b61b-857447f2f596"
            },
            "text/plain": "StatementMeta(80dcc4b2-bc50-4e81-91e5-397b7f13252e, 23, 96, Finished, Available)"
          },
          "metadata": {}
        }
      ],
      "execution_count": 91,
      "metadata": {
        "jupyter": {
          "source_hidden": false,
          "outputs_hidden": false
        },
        "nteract": {
          "transient": {
            "deleting": false
          }
        },
        "gather": {
          "logged": 1700268366951
        }
      }
    },
    {
      "cell_type": "code",
      "source": [
        "new_data_df.toPandas().to_csv(\"Users/ml2078/fall-2023-reddit-project-team-10/data/csv/new_data_df.csv\",index=False)"
      ],
      "outputs": [
        {
          "output_type": "display_data",
          "data": {
            "application/vnd.livy.statement-meta+json": {
              "spark_pool": "80dcc4b2-bc50-4e81-91e5-397b7f13252e",
              "session_id": "23",
              "statement_id": 93,
              "state": "finished",
              "livy_statement_state": "available",
              "queued_time": "2023-11-18T00:42:46.6912867Z",
              "session_start_time": null,
              "execution_start_time": "2023-11-18T00:42:46.8342195Z",
              "execution_finish_time": "2023-11-18T00:42:47.6667647Z",
              "spark_jobs": {
                "numbers": {
                  "FAILED": 0,
                  "RUNNING": 0,
                  "SUCCEEDED": 1,
                  "UNKNOWN": 0
                },
                "jobs": [
                  {
                    "displayName": "toPandas at /tmp/ipykernel_8211/4136237900.py:1",
                    "dataWritten": 0,
                    "dataRead": 0,
                    "rowCount": 0,
                    "usageDescription": "",
                    "jobId": 282,
                    "name": "toPandas at /tmp/ipykernel_8211/4136237900.py:1",
                    "description": "Job group for statement 93:\nnew_data_df.toPandas().to_csv(\"Users/ml2078/fall-2023-reddit-project-team-10/data/csv/new_data_df.csv\",index=False)",
                    "submissionTime": "2023-11-18T00:42:46.868GMT",
                    "completionTime": "2023-11-18T00:42:46.943GMT",
                    "stageIds": [
                      372
                    ],
                    "jobGroup": "93",
                    "status": "SUCCEEDED",
                    "numTasks": 8,
                    "numActiveTasks": 0,
                    "numCompletedTasks": 8,
                    "numSkippedTasks": 0,
                    "numFailedTasks": 0,
                    "numKilledTasks": 0,
                    "numCompletedIndices": 8,
                    "numActiveStages": 0,
                    "numCompletedStages": 1,
                    "numSkippedStages": 0,
                    "numFailedStages": 0,
                    "killedTasksSummary": {}
                  }
                ],
                "limit": 20,
                "rule": "ALL_DESC"
              },
              "parent_msg_id": "cf4820f4-5262-4f90-bb7f-75ba7b8fd09d"
            },
            "text/plain": "StatementMeta(80dcc4b2-bc50-4e81-91e5-397b7f13252e, 23, 93, Finished, Available)"
          },
          "metadata": {}
        }
      ],
      "execution_count": 88,
      "metadata": {
        "jupyter": {
          "source_hidden": false,
          "outputs_hidden": false
        },
        "nteract": {
          "transient": {
            "deleting": false
          }
        },
        "gather": {
          "logged": 1700268168175
        }
      }
    },
    {
      "cell_type": "code",
      "source": [
        "from pyspark.ml import PipelineModel\n",
        "\n",
        "# Load the pipeline model\n",
        "loaded_pipeline_model = PipelineModel.load(\"Users/ml2078/fall-2023-reddit-project-team-10/pipeline\")\n",
        "\n",
        "# Use the loaded pipeline model to transform new data\n",
        "df_transformed_new = loaded_pipeline_model.transform(new_data_df)\n",
        "\n",
        "df_transformed_new.show(5)"
      ],
      "outputs": [
        {
          "output_type": "display_data",
          "data": {
            "application/vnd.livy.statement-meta+json": {
              "spark_pool": "80dcc4b2-bc50-4e81-91e5-397b7f13252e",
              "session_id": "23",
              "statement_id": 104,
              "state": "finished",
              "livy_statement_state": "available",
              "queued_time": "2023-11-18T00:48:36.0007115Z",
              "session_start_time": null,
              "execution_start_time": "2023-11-18T00:48:36.1288128Z",
              "execution_finish_time": "2023-11-18T00:48:41.274115Z",
              "spark_jobs": {
                "numbers": {
                  "FAILED": 0,
                  "RUNNING": 0,
                  "SUCCEEDED": 29,
                  "UNKNOWN": 0
                },
                "jobs": [
                  {
                    "displayName": "showString at <unknown>:0",
                    "dataWritten": 0,
                    "dataRead": 0,
                    "rowCount": 0,
                    "usageDescription": "",
                    "jobId": 372,
                    "name": "showString at <unknown>:0",
                    "description": "Job group for statement 104:\nfrom pyspark.ml import PipelineModel\n\n# Load the pipeline model\nloaded_pipeline_model = PipelineModel.load(\"Users/ml2078/fall-2023-reddit-project-team-10/pipeline\")\n\n# Use the loaded pipeline model to transform new data\ndf_transformed_new = loaded_pipeline_model.transform(new_data_df)\n\ndf_transformed_new.show(5)",
                    "submissionTime": "2023-11-18T00:48:40.665GMT",
                    "completionTime": "2023-11-18T00:48:40.696GMT",
                    "stageIds": [
                      462
                    ],
                    "jobGroup": "104",
                    "status": "SUCCEEDED",
                    "numTasks": 3,
                    "numActiveTasks": 0,
                    "numCompletedTasks": 3,
                    "numSkippedTasks": 0,
                    "numFailedTasks": 0,
                    "numKilledTasks": 0,
                    "numCompletedIndices": 3,
                    "numActiveStages": 0,
                    "numCompletedStages": 1,
                    "numSkippedStages": 0,
                    "numFailedStages": 0,
                    "killedTasksSummary": {}
                  },
                  {
                    "displayName": "showString at <unknown>:0",
                    "dataWritten": 0,
                    "dataRead": 0,
                    "rowCount": 0,
                    "usageDescription": "",
                    "jobId": 371,
                    "name": "showString at <unknown>:0",
                    "description": "Job group for statement 104:\nfrom pyspark.ml import PipelineModel\n\n# Load the pipeline model\nloaded_pipeline_model = PipelineModel.load(\"Users/ml2078/fall-2023-reddit-project-team-10/pipeline\")\n\n# Use the loaded pipeline model to transform new data\ndf_transformed_new = loaded_pipeline_model.transform(new_data_df)\n\ndf_transformed_new.show(5)",
                    "submissionTime": "2023-11-18T00:48:40.618GMT",
                    "completionTime": "2023-11-18T00:48:40.659GMT",
                    "stageIds": [
                      461
                    ],
                    "jobGroup": "104",
                    "status": "SUCCEEDED",
                    "numTasks": 4,
                    "numActiveTasks": 0,
                    "numCompletedTasks": 4,
                    "numSkippedTasks": 0,
                    "numFailedTasks": 0,
                    "numKilledTasks": 0,
                    "numCompletedIndices": 4,
                    "numActiveStages": 0,
                    "numCompletedStages": 1,
                    "numSkippedStages": 0,
                    "numFailedStages": 0,
                    "killedTasksSummary": {}
                  },
                  {
                    "displayName": "showString at <unknown>:0",
                    "dataWritten": 0,
                    "dataRead": 0,
                    "rowCount": 0,
                    "usageDescription": "",
                    "jobId": 370,
                    "name": "showString at <unknown>:0",
                    "description": "Job group for statement 104:\nfrom pyspark.ml import PipelineModel\n\n# Load the pipeline model\nloaded_pipeline_model = PipelineModel.load(\"Users/ml2078/fall-2023-reddit-project-team-10/pipeline\")\n\n# Use the loaded pipeline model to transform new data\ndf_transformed_new = loaded_pipeline_model.transform(new_data_df)\n\ndf_transformed_new.show(5)",
                    "submissionTime": "2023-11-18T00:48:40.583GMT",
                    "completionTime": "2023-11-18T00:48:40.613GMT",
                    "stageIds": [
                      460
                    ],
                    "jobGroup": "104",
                    "status": "SUCCEEDED",
                    "numTasks": 1,
                    "numActiveTasks": 0,
                    "numCompletedTasks": 1,
                    "numSkippedTasks": 0,
                    "numFailedTasks": 0,
                    "numKilledTasks": 0,
                    "numCompletedIndices": 1,
                    "numActiveStages": 0,
                    "numCompletedStages": 1,
                    "numSkippedStages": 0,
                    "numFailedStages": 0,
                    "killedTasksSummary": {}
                  },
                  {
                    "displayName": "head at OneHotEncoder.scala:419",
                    "dataWritten": 0,
                    "dataRead": 1103,
                    "rowCount": 1,
                    "usageDescription": "",
                    "jobId": 369,
                    "name": "head at OneHotEncoder.scala:419",
                    "description": "Job group for statement 104:\nfrom pyspark.ml import PipelineModel\n\n# Load the pipeline model\nloaded_pipeline_model = PipelineModel.load(\"Users/ml2078/fall-2023-reddit-project-team-10/pipeline\")\n\n# Use the loaded pipeline model to transform new data\ndf_transformed_new = loaded_pipeline_model.transform(new_data_df)\n\ndf_transformed_new.show(5)",
                    "submissionTime": "2023-11-18T00:48:40.188GMT",
                    "completionTime": "2023-11-18T00:48:40.271GMT",
                    "stageIds": [
                      459
                    ],
                    "jobGroup": "104",
                    "status": "SUCCEEDED",
                    "numTasks": 1,
                    "numActiveTasks": 0,
                    "numCompletedTasks": 1,
                    "numSkippedTasks": 0,
                    "numFailedTasks": 0,
                    "numKilledTasks": 0,
                    "numCompletedIndices": 1,
                    "numActiveStages": 0,
                    "numCompletedStages": 1,
                    "numSkippedStages": 0,
                    "numFailedStages": 0,
                    "killedTasksSummary": {}
                  },
                  {
                    "displayName": "parquet at OneHotEncoder.scala:418",
                    "dataWritten": 0,
                    "dataRead": 0,
                    "rowCount": 0,
                    "usageDescription": "",
                    "jobId": 368,
                    "name": "parquet at OneHotEncoder.scala:418",
                    "description": "Job group for statement 104:\nfrom pyspark.ml import PipelineModel\n\n# Load the pipeline model\nloaded_pipeline_model = PipelineModel.load(\"Users/ml2078/fall-2023-reddit-project-team-10/pipeline\")\n\n# Use the loaded pipeline model to transform new data\ndf_transformed_new = loaded_pipeline_model.transform(new_data_df)\n\ndf_transformed_new.show(5)",
                    "submissionTime": "2023-11-18T00:48:40.070GMT",
                    "completionTime": "2023-11-18T00:48:40.142GMT",
                    "stageIds": [
                      458
                    ],
                    "jobGroup": "104",
                    "status": "SUCCEEDED",
                    "numTasks": 1,
                    "numActiveTasks": 0,
                    "numCompletedTasks": 1,
                    "numSkippedTasks": 0,
                    "numFailedTasks": 0,
                    "numKilledTasks": 0,
                    "numCompletedIndices": 1,
                    "numActiveStages": 0,
                    "numCompletedStages": 1,
                    "numSkippedStages": 0,
                    "numFailedStages": 0,
                    "killedTasksSummary": {}
                  },
                  {
                    "displayName": "first at ReadWrite.scala:587",
                    "dataWritten": 0,
                    "dataRead": 336,
                    "rowCount": 1,
                    "usageDescription": "",
                    "jobId": 367,
                    "name": "first at ReadWrite.scala:587",
                    "description": "Job group for statement 104:\nfrom pyspark.ml import PipelineModel\n\n# Load the pipeline model\nloaded_pipeline_model = PipelineModel.load(\"Users/ml2078/fall-2023-reddit-project-team-10/pipeline\")\n\n# Use the loaded pipeline model to transform new data\ndf_transformed_new = loaded_pipeline_model.transform(new_data_df)\n\ndf_transformed_new.show(5)",
                    "submissionTime": "2023-11-18T00:48:39.872GMT",
                    "completionTime": "2023-11-18T00:48:39.930GMT",
                    "stageIds": [
                      457
                    ],
                    "jobGroup": "104",
                    "status": "SUCCEEDED",
                    "numTasks": 1,
                    "numActiveTasks": 0,
                    "numCompletedTasks": 1,
                    "numSkippedTasks": 0,
                    "numFailedTasks": 0,
                    "numKilledTasks": 0,
                    "numCompletedIndices": 1,
                    "numActiveStages": 0,
                    "numCompletedStages": 1,
                    "numSkippedStages": 0,
                    "numFailedStages": 0,
                    "killedTasksSummary": {}
                  },
                  {
                    "displayName": "first at ReadWrite.scala:587",
                    "dataWritten": 0,
                    "dataRead": 336,
                    "rowCount": 1,
                    "usageDescription": "",
                    "jobId": 366,
                    "name": "first at ReadWrite.scala:587",
                    "description": "Job group for statement 104:\nfrom pyspark.ml import PipelineModel\n\n# Load the pipeline model\nloaded_pipeline_model = PipelineModel.load(\"Users/ml2078/fall-2023-reddit-project-team-10/pipeline\")\n\n# Use the loaded pipeline model to transform new data\ndf_transformed_new = loaded_pipeline_model.transform(new_data_df)\n\ndf_transformed_new.show(5)",
                    "submissionTime": "2023-11-18T00:48:39.756GMT",
                    "completionTime": "2023-11-18T00:48:39.805GMT",
                    "stageIds": [
                      456
                    ],
                    "jobGroup": "104",
                    "status": "SUCCEEDED",
                    "numTasks": 1,
                    "numActiveTasks": 0,
                    "numCompletedTasks": 1,
                    "numSkippedTasks": 0,
                    "numFailedTasks": 0,
                    "numKilledTasks": 0,
                    "numCompletedIndices": 1,
                    "numActiveStages": 0,
                    "numCompletedStages": 1,
                    "numSkippedStages": 0,
                    "numFailedStages": 0,
                    "killedTasksSummary": {}
                  },
                  {
                    "displayName": "head at StringIndexer.scala:524",
                    "dataWritten": 0,
                    "dataRead": 1264,
                    "rowCount": 1,
                    "usageDescription": "",
                    "jobId": 365,
                    "name": "head at StringIndexer.scala:524",
                    "description": "Job group for statement 104:\nfrom pyspark.ml import PipelineModel\n\n# Load the pipeline model\nloaded_pipeline_model = PipelineModel.load(\"Users/ml2078/fall-2023-reddit-project-team-10/pipeline\")\n\n# Use the loaded pipeline model to transform new data\ndf_transformed_new = loaded_pipeline_model.transform(new_data_df)\n\ndf_transformed_new.show(5)",
                    "submissionTime": "2023-11-18T00:48:39.587GMT",
                    "completionTime": "2023-11-18T00:48:39.672GMT",
                    "stageIds": [
                      455
                    ],
                    "jobGroup": "104",
                    "status": "SUCCEEDED",
                    "numTasks": 1,
                    "numActiveTasks": 0,
                    "numCompletedTasks": 1,
                    "numSkippedTasks": 0,
                    "numFailedTasks": 0,
                    "numKilledTasks": 0,
                    "numCompletedIndices": 1,
                    "numActiveStages": 0,
                    "numCompletedStages": 1,
                    "numSkippedStages": 0,
                    "numFailedStages": 0,
                    "killedTasksSummary": {}
                  },
                  {
                    "displayName": "parquet at StringIndexer.scala:523",
                    "dataWritten": 0,
                    "dataRead": 0,
                    "rowCount": 0,
                    "usageDescription": "",
                    "jobId": 364,
                    "name": "parquet at StringIndexer.scala:523",
                    "description": "Job group for statement 104:\nfrom pyspark.ml import PipelineModel\n\n# Load the pipeline model\nloaded_pipeline_model = PipelineModel.load(\"Users/ml2078/fall-2023-reddit-project-team-10/pipeline\")\n\n# Use the loaded pipeline model to transform new data\ndf_transformed_new = loaded_pipeline_model.transform(new_data_df)\n\ndf_transformed_new.show(5)",
                    "submissionTime": "2023-11-18T00:48:39.471GMT",
                    "completionTime": "2023-11-18T00:48:39.540GMT",
                    "stageIds": [
                      454
                    ],
                    "jobGroup": "104",
                    "status": "SUCCEEDED",
                    "numTasks": 1,
                    "numActiveTasks": 0,
                    "numCompletedTasks": 1,
                    "numSkippedTasks": 0,
                    "numFailedTasks": 0,
                    "numKilledTasks": 0,
                    "numCompletedIndices": 1,
                    "numActiveStages": 0,
                    "numCompletedStages": 1,
                    "numSkippedStages": 0,
                    "numFailedStages": 0,
                    "killedTasksSummary": {}
                  },
                  {
                    "displayName": "first at ReadWrite.scala:587",
                    "dataWritten": 0,
                    "dataRead": 345,
                    "rowCount": 1,
                    "usageDescription": "",
                    "jobId": 363,
                    "name": "first at ReadWrite.scala:587",
                    "description": "Job group for statement 104:\nfrom pyspark.ml import PipelineModel\n\n# Load the pipeline model\nloaded_pipeline_model = PipelineModel.load(\"Users/ml2078/fall-2023-reddit-project-team-10/pipeline\")\n\n# Use the loaded pipeline model to transform new data\ndf_transformed_new = loaded_pipeline_model.transform(new_data_df)\n\ndf_transformed_new.show(5)",
                    "submissionTime": "2023-11-18T00:48:39.278GMT",
                    "completionTime": "2023-11-18T00:48:39.331GMT",
                    "stageIds": [
                      453
                    ],
                    "jobGroup": "104",
                    "status": "SUCCEEDED",
                    "numTasks": 1,
                    "numActiveTasks": 0,
                    "numCompletedTasks": 1,
                    "numSkippedTasks": 0,
                    "numFailedTasks": 0,
                    "numKilledTasks": 0,
                    "numCompletedIndices": 1,
                    "numActiveStages": 0,
                    "numCompletedStages": 1,
                    "numSkippedStages": 0,
                    "numFailedStages": 0,
                    "killedTasksSummary": {}
                  },
                  {
                    "displayName": "first at ReadWrite.scala:587",
                    "dataWritten": 0,
                    "dataRead": 345,
                    "rowCount": 1,
                    "usageDescription": "",
                    "jobId": 362,
                    "name": "first at ReadWrite.scala:587",
                    "description": "Job group for statement 104:\nfrom pyspark.ml import PipelineModel\n\n# Load the pipeline model\nloaded_pipeline_model = PipelineModel.load(\"Users/ml2078/fall-2023-reddit-project-team-10/pipeline\")\n\n# Use the loaded pipeline model to transform new data\ndf_transformed_new = loaded_pipeline_model.transform(new_data_df)\n\ndf_transformed_new.show(5)",
                    "submissionTime": "2023-11-18T00:48:39.098GMT",
                    "completionTime": "2023-11-18T00:48:39.179GMT",
                    "stageIds": [
                      452
                    ],
                    "jobGroup": "104",
                    "status": "SUCCEEDED",
                    "numTasks": 1,
                    "numActiveTasks": 0,
                    "numCompletedTasks": 1,
                    "numSkippedTasks": 0,
                    "numFailedTasks": 0,
                    "numKilledTasks": 0,
                    "numCompletedIndices": 1,
                    "numActiveStages": 0,
                    "numCompletedStages": 1,
                    "numSkippedStages": 0,
                    "numFailedStages": 0,
                    "killedTasksSummary": {}
                  },
                  {
                    "displayName": "head at OneHotEncoder.scala:419",
                    "dataWritten": 0,
                    "dataRead": 1103,
                    "rowCount": 1,
                    "usageDescription": "",
                    "jobId": 361,
                    "name": "head at OneHotEncoder.scala:419",
                    "description": "Job group for statement 104:\nfrom pyspark.ml import PipelineModel\n\n# Load the pipeline model\nloaded_pipeline_model = PipelineModel.load(\"Users/ml2078/fall-2023-reddit-project-team-10/pipeline\")\n\n# Use the loaded pipeline model to transform new data\ndf_transformed_new = loaded_pipeline_model.transform(new_data_df)\n\ndf_transformed_new.show(5)",
                    "submissionTime": "2023-11-18T00:48:38.939GMT",
                    "completionTime": "2023-11-18T00:48:39.023GMT",
                    "stageIds": [
                      451
                    ],
                    "jobGroup": "104",
                    "status": "SUCCEEDED",
                    "numTasks": 1,
                    "numActiveTasks": 0,
                    "numCompletedTasks": 1,
                    "numSkippedTasks": 0,
                    "numFailedTasks": 0,
                    "numKilledTasks": 0,
                    "numCompletedIndices": 1,
                    "numActiveStages": 0,
                    "numCompletedStages": 1,
                    "numSkippedStages": 0,
                    "numFailedStages": 0,
                    "killedTasksSummary": {}
                  },
                  {
                    "displayName": "parquet at OneHotEncoder.scala:418",
                    "dataWritten": 0,
                    "dataRead": 0,
                    "rowCount": 0,
                    "usageDescription": "",
                    "jobId": 360,
                    "name": "parquet at OneHotEncoder.scala:418",
                    "description": "Job group for statement 104:\nfrom pyspark.ml import PipelineModel\n\n# Load the pipeline model\nloaded_pipeline_model = PipelineModel.load(\"Users/ml2078/fall-2023-reddit-project-team-10/pipeline\")\n\n# Use the loaded pipeline model to transform new data\ndf_transformed_new = loaded_pipeline_model.transform(new_data_df)\n\ndf_transformed_new.show(5)",
                    "submissionTime": "2023-11-18T00:48:38.783GMT",
                    "completionTime": "2023-11-18T00:48:38.893GMT",
                    "stageIds": [
                      450
                    ],
                    "jobGroup": "104",
                    "status": "SUCCEEDED",
                    "numTasks": 1,
                    "numActiveTasks": 0,
                    "numCompletedTasks": 1,
                    "numSkippedTasks": 0,
                    "numFailedTasks": 0,
                    "numKilledTasks": 0,
                    "numCompletedIndices": 1,
                    "numActiveStages": 0,
                    "numCompletedStages": 1,
                    "numSkippedStages": 0,
                    "numFailedStages": 0,
                    "killedTasksSummary": {}
                  },
                  {
                    "displayName": "first at ReadWrite.scala:587",
                    "dataWritten": 0,
                    "dataRead": 350,
                    "rowCount": 1,
                    "usageDescription": "",
                    "jobId": 359,
                    "name": "first at ReadWrite.scala:587",
                    "description": "Job group for statement 104:\nfrom pyspark.ml import PipelineModel\n\n# Load the pipeline model\nloaded_pipeline_model = PipelineModel.load(\"Users/ml2078/fall-2023-reddit-project-team-10/pipeline\")\n\n# Use the loaded pipeline model to transform new data\ndf_transformed_new = loaded_pipeline_model.transform(new_data_df)\n\ndf_transformed_new.show(5)",
                    "submissionTime": "2023-11-18T00:48:38.608GMT",
                    "completionTime": "2023-11-18T00:48:38.655GMT",
                    "stageIds": [
                      449
                    ],
                    "jobGroup": "104",
                    "status": "SUCCEEDED",
                    "numTasks": 1,
                    "numActiveTasks": 0,
                    "numCompletedTasks": 1,
                    "numSkippedTasks": 0,
                    "numFailedTasks": 0,
                    "numKilledTasks": 0,
                    "numCompletedIndices": 1,
                    "numActiveStages": 0,
                    "numCompletedStages": 1,
                    "numSkippedStages": 0,
                    "numFailedStages": 0,
                    "killedTasksSummary": {}
                  },
                  {
                    "displayName": "first at ReadWrite.scala:587",
                    "dataWritten": 0,
                    "dataRead": 350,
                    "rowCount": 1,
                    "usageDescription": "",
                    "jobId": 358,
                    "name": "first at ReadWrite.scala:587",
                    "description": "Job group for statement 104:\nfrom pyspark.ml import PipelineModel\n\n# Load the pipeline model\nloaded_pipeline_model = PipelineModel.load(\"Users/ml2078/fall-2023-reddit-project-team-10/pipeline\")\n\n# Use the loaded pipeline model to transform new data\ndf_transformed_new = loaded_pipeline_model.transform(new_data_df)\n\ndf_transformed_new.show(5)",
                    "submissionTime": "2023-11-18T00:48:38.484GMT",
                    "completionTime": "2023-11-18T00:48:38.532GMT",
                    "stageIds": [
                      448
                    ],
                    "jobGroup": "104",
                    "status": "SUCCEEDED",
                    "numTasks": 1,
                    "numActiveTasks": 0,
                    "numCompletedTasks": 1,
                    "numSkippedTasks": 0,
                    "numFailedTasks": 0,
                    "numKilledTasks": 0,
                    "numCompletedIndices": 1,
                    "numActiveStages": 0,
                    "numCompletedStages": 1,
                    "numSkippedStages": 0,
                    "numFailedStages": 0,
                    "killedTasksSummary": {}
                  },
                  {
                    "displayName": "head at StringIndexer.scala:524",
                    "dataWritten": 0,
                    "dataRead": 1919,
                    "rowCount": 1,
                    "usageDescription": "",
                    "jobId": 357,
                    "name": "head at StringIndexer.scala:524",
                    "description": "Job group for statement 104:\nfrom pyspark.ml import PipelineModel\n\n# Load the pipeline model\nloaded_pipeline_model = PipelineModel.load(\"Users/ml2078/fall-2023-reddit-project-team-10/pipeline\")\n\n# Use the loaded pipeline model to transform new data\ndf_transformed_new = loaded_pipeline_model.transform(new_data_df)\n\ndf_transformed_new.show(5)",
                    "submissionTime": "2023-11-18T00:48:38.313GMT",
                    "completionTime": "2023-11-18T00:48:38.419GMT",
                    "stageIds": [
                      447
                    ],
                    "jobGroup": "104",
                    "status": "SUCCEEDED",
                    "numTasks": 1,
                    "numActiveTasks": 0,
                    "numCompletedTasks": 1,
                    "numSkippedTasks": 0,
                    "numFailedTasks": 0,
                    "numKilledTasks": 0,
                    "numCompletedIndices": 1,
                    "numActiveStages": 0,
                    "numCompletedStages": 1,
                    "numSkippedStages": 0,
                    "numFailedStages": 0,
                    "killedTasksSummary": {}
                  },
                  {
                    "displayName": "parquet at StringIndexer.scala:523",
                    "dataWritten": 0,
                    "dataRead": 0,
                    "rowCount": 0,
                    "usageDescription": "",
                    "jobId": 356,
                    "name": "parquet at StringIndexer.scala:523",
                    "description": "Job group for statement 104:\nfrom pyspark.ml import PipelineModel\n\n# Load the pipeline model\nloaded_pipeline_model = PipelineModel.load(\"Users/ml2078/fall-2023-reddit-project-team-10/pipeline\")\n\n# Use the loaded pipeline model to transform new data\ndf_transformed_new = loaded_pipeline_model.transform(new_data_df)\n\ndf_transformed_new.show(5)",
                    "submissionTime": "2023-11-18T00:48:38.200GMT",
                    "completionTime": "2023-11-18T00:48:38.269GMT",
                    "stageIds": [
                      446
                    ],
                    "jobGroup": "104",
                    "status": "SUCCEEDED",
                    "numTasks": 1,
                    "numActiveTasks": 0,
                    "numCompletedTasks": 1,
                    "numSkippedTasks": 0,
                    "numFailedTasks": 0,
                    "numKilledTasks": 0,
                    "numCompletedIndices": 1,
                    "numActiveStages": 0,
                    "numCompletedStages": 1,
                    "numSkippedStages": 0,
                    "numFailedStages": 0,
                    "killedTasksSummary": {}
                  },
                  {
                    "displayName": "first at ReadWrite.scala:587",
                    "dataWritten": 0,
                    "dataRead": 359,
                    "rowCount": 1,
                    "usageDescription": "",
                    "jobId": 355,
                    "name": "first at ReadWrite.scala:587",
                    "description": "Job group for statement 104:\nfrom pyspark.ml import PipelineModel\n\n# Load the pipeline model\nloaded_pipeline_model = PipelineModel.load(\"Users/ml2078/fall-2023-reddit-project-team-10/pipeline\")\n\n# Use the loaded pipeline model to transform new data\ndf_transformed_new = loaded_pipeline_model.transform(new_data_df)\n\ndf_transformed_new.show(5)",
                    "submissionTime": "2023-11-18T00:48:37.993GMT",
                    "completionTime": "2023-11-18T00:48:38.062GMT",
                    "stageIds": [
                      445
                    ],
                    "jobGroup": "104",
                    "status": "SUCCEEDED",
                    "numTasks": 1,
                    "numActiveTasks": 0,
                    "numCompletedTasks": 1,
                    "numSkippedTasks": 0,
                    "numFailedTasks": 0,
                    "numKilledTasks": 0,
                    "numCompletedIndices": 1,
                    "numActiveStages": 0,
                    "numCompletedStages": 1,
                    "numSkippedStages": 0,
                    "numFailedStages": 0,
                    "killedTasksSummary": {}
                  },
                  {
                    "displayName": "first at ReadWrite.scala:587",
                    "dataWritten": 0,
                    "dataRead": 359,
                    "rowCount": 1,
                    "usageDescription": "",
                    "jobId": 354,
                    "name": "first at ReadWrite.scala:587",
                    "description": "Job group for statement 104:\nfrom pyspark.ml import PipelineModel\n\n# Load the pipeline model\nloaded_pipeline_model = PipelineModel.load(\"Users/ml2078/fall-2023-reddit-project-team-10/pipeline\")\n\n# Use the loaded pipeline model to transform new data\ndf_transformed_new = loaded_pipeline_model.transform(new_data_df)\n\ndf_transformed_new.show(5)",
                    "submissionTime": "2023-11-18T00:48:37.877GMT",
                    "completionTime": "2023-11-18T00:48:37.926GMT",
                    "stageIds": [
                      444
                    ],
                    "jobGroup": "104",
                    "status": "SUCCEEDED",
                    "numTasks": 1,
                    "numActiveTasks": 0,
                    "numCompletedTasks": 1,
                    "numSkippedTasks": 0,
                    "numFailedTasks": 0,
                    "numKilledTasks": 0,
                    "numCompletedIndices": 1,
                    "numActiveStages": 0,
                    "numCompletedStages": 1,
                    "numSkippedStages": 0,
                    "numFailedStages": 0,
                    "killedTasksSummary": {}
                  },
                  {
                    "displayName": "head at OneHotEncoder.scala:419",
                    "dataWritten": 0,
                    "dataRead": 1103,
                    "rowCount": 1,
                    "usageDescription": "",
                    "jobId": 353,
                    "name": "head at OneHotEncoder.scala:419",
                    "description": "Job group for statement 104:\nfrom pyspark.ml import PipelineModel\n\n# Load the pipeline model\nloaded_pipeline_model = PipelineModel.load(\"Users/ml2078/fall-2023-reddit-project-team-10/pipeline\")\n\n# Use the loaded pipeline model to transform new data\ndf_transformed_new = loaded_pipeline_model.transform(new_data_df)\n\ndf_transformed_new.show(5)",
                    "submissionTime": "2023-11-18T00:48:37.724GMT",
                    "completionTime": "2023-11-18T00:48:37.809GMT",
                    "stageIds": [
                      443
                    ],
                    "jobGroup": "104",
                    "status": "SUCCEEDED",
                    "numTasks": 1,
                    "numActiveTasks": 0,
                    "numCompletedTasks": 1,
                    "numSkippedTasks": 0,
                    "numFailedTasks": 0,
                    "numKilledTasks": 0,
                    "numCompletedIndices": 1,
                    "numActiveStages": 0,
                    "numCompletedStages": 1,
                    "numSkippedStages": 0,
                    "numFailedStages": 0,
                    "killedTasksSummary": {}
                  }
                ],
                "limit": 20,
                "rule": "ALL_DESC"
              },
              "parent_msg_id": "4b0833a8-a18d-4740-8eb5-705a3bea6ebe"
            },
            "text/plain": "StatementMeta(80dcc4b2-bc50-4e81-91e5-397b7f13252e, 23, 104, Finished, Available)"
          },
          "metadata": {}
        },
        {
          "output_type": "stream",
          "name": "stdout",
          "text": "+---+------+------+------+--------------+---+---+---+---+-------+--------+-------------+-------------------+-----------------+------------+-------------+\n|AGE|HEIGHT|WEIGHT|   SEX|ACTIVITY LEVEL|  E|  S|  T|  J|POSTURE|SEXIndex|       SEXOHE|ACTIVITY LEVELIndex|ACTIVITY LEVELOHE|POSTUREIndex|   POSTUREOHE|\n+---+------+------+------+--------------+---+---+---+---+-------+--------+-------------+-------------------+-----------------+------------+-------------+\n| 50|    62|   140|  Male|      Moderate| 12| 15| 20|  5|      B|     1.0|    (1,[],[])|                1.0|    (2,[1],[1.0])|         0.0|(3,[0],[1.0])|\n| 30|    66|   100|Female|           Low| 18| 12| 15|  8|      C|     0.0|(1,[0],[1.0])|                0.0|    (2,[0],[1.0])|         3.0|    (3,[],[])|\n| 35|    71|   160|  Male|          High| 10|  3| 10|  3|      A|     1.0|    (1,[],[])|                2.0|        (2,[],[])|         1.0|(3,[1],[1.0])|\n| 44|    63|   130|  Male|          High|  6|  9|  8| 10|      D|     1.0|    (1,[],[])|                2.0|        (2,[],[])|         2.0|(3,[2],[1.0])|\n| 48|    61|   120|Female|           Low|  3| 17|  5| 20|      B|     0.0|(1,[0],[1.0])|                0.0|    (2,[0],[1.0])|         0.0|(3,[0],[1.0])|\n+---+------+------+------+--------------+---+---+---+---+-------+--------+-------------+-------------------+-----------------+------------+-------------+\n\n"
        }
      ],
      "execution_count": 99,
      "metadata": {
        "jupyter": {
          "source_hidden": false,
          "outputs_hidden": false
        },
        "nteract": {
          "transient": {
            "deleting": false
          }
        },
        "gather": {
          "logged": 1700268521780
        }
      }
    },
    {
      "cell_type": "code",
      "source": [
        "from pyspark.ml.feature import StringIndexer, OneHotEncoder, VectorAssembler\n",
        "from pyspark.ml import Pipeline\n",
        "\n",
        "# Define the columns to be one-hot encoded\n",
        "categoricalColumns = [\"SEX\", \"ACTIVITY_LEVEL\",\"POSTURE\"]\n",
        "\n",
        "# Define the stages of the pipeline\n",
        "stages = []\n",
        "\n",
        "# Create and display the mappings for each categorical column\n",
        "for categoricalCol in categoricalColumns:\n",
        "    # StringIndexer: convert strings to label indices\n",
        "    stringIndexer = StringIndexer(inputCol=categoricalCol, outputCol=categoricalCol + \"Index\")\n",
        "    \n",
        "    # Fit and transform to display the mapping\n",
        "    indexed = stringIndexer.fit(new_data_df).transform(new_data_df)\n",
        "    indexed.select(categoricalCol, categoricalCol + \"Index\").distinct().show()\n",
        "    \n",
        "    # OneHotEncoder: encode label indices to binary vectors\n",
        "    encoder = OneHotEncoder(inputCols=[stringIndexer.getOutputCol()], outputCols=[categoricalCol + \"OHE\"])\n",
        "    \n",
        "    stages += [stringIndexer, encoder]\n",
        "\n",
        "# Apply the stages in a pipeline to transform the DataFrame\n",
        "pipeline = Pipeline(stages=stages)\n",
        "pipelineModel = pipeline.fit(new_data_df)\n",
        "df_transformed = pipelineModel.transform(new_data_df)\n",
        "\n",
        "# Display the transformed DataFrame\n",
        "df_transformed.show(5)"
      ],
      "outputs": [
        {
          "output_type": "display_data",
          "data": {
            "application/vnd.livy.statement-meta+json": {
              "spark_pool": "80dcc4b2-bc50-4e81-91e5-397b7f13252e",
              "session_id": "23",
              "statement_id": 62,
              "state": "finished",
              "livy_statement_state": "available",
              "queued_time": "2023-11-17T23:58:41.5996832Z",
              "session_start_time": null,
              "execution_start_time": "2023-11-17T23:58:41.8261364Z",
              "execution_finish_time": "2023-11-17T23:58:45.5482244Z",
              "spark_jobs": {
                "numbers": {
                  "FAILED": 0,
                  "RUNNING": 0,
                  "SUCCEEDED": 21,
                  "UNKNOWN": 0
                },
                "jobs": [
                  {
                    "displayName": "showString at <unknown>:0",
                    "dataWritten": 0,
                    "dataRead": 0,
                    "rowCount": 0,
                    "usageDescription": "",
                    "jobId": 176,
                    "name": "showString at <unknown>:0",
                    "description": "Job group for statement 62:\nfrom pyspark.ml.feature import StringIndexer, OneHotEncoder, VectorAssembler\nfrom pyspark.ml import Pipeline\n\n# Define the columns to be one-hot encoded\ncategoricalColumns = [\"SEX\", \"ACTIVITY_LEVEL\",\"POSTURE\"]\n\n# Define the stages of the pipeline\nstages = []\n\n# Create and display the mappings for each categorical column\nfor categoricalCol in categoricalColumns:\n    # StringIndexer: convert strings to label indices\n    stringIndexer = StringIndexer(inputCol=categoricalCol, outputCol=categoricalCol + \"Index\")\n    \n    # Fit and transform to display the mapping\n    indexed = stringIndexer.fit(new_data_df).transform(new_data_df)\n    indexed.select(categoricalCol, categoricalCol + \"Index\").distinct().show()\n    \n    # OneHotEncoder: encode label indices to binary vectors\n    encoder = OneHotEncoder(inputCols=[stringIndexer.getOutputCol()], outputCols=[categoricalCol + \"OHE\"])\n    \n    stages += [stringIndexer, encoder]\n\n# Apply the stages in a pipeline to transform the DataFrame\npipeline = Pipeline(stages=stages)\n...",
                    "submissionTime": "2023-11-17T23:58:44.387GMT",
                    "completionTime": "2023-11-17T23:58:44.465GMT",
                    "stageIds": [
                      235
                    ],
                    "jobGroup": "62",
                    "status": "SUCCEEDED",
                    "numTasks": 3,
                    "numActiveTasks": 0,
                    "numCompletedTasks": 3,
                    "numSkippedTasks": 0,
                    "numFailedTasks": 0,
                    "numKilledTasks": 0,
                    "numCompletedIndices": 3,
                    "numActiveStages": 0,
                    "numCompletedStages": 1,
                    "numSkippedStages": 0,
                    "numFailedStages": 0,
                    "killedTasksSummary": {}
                  },
                  {
                    "displayName": "showString at <unknown>:0",
                    "dataWritten": 0,
                    "dataRead": 0,
                    "rowCount": 0,
                    "usageDescription": "",
                    "jobId": 175,
                    "name": "showString at <unknown>:0",
                    "description": "Job group for statement 62:\nfrom pyspark.ml.feature import StringIndexer, OneHotEncoder, VectorAssembler\nfrom pyspark.ml import Pipeline\n\n# Define the columns to be one-hot encoded\ncategoricalColumns = [\"SEX\", \"ACTIVITY_LEVEL\",\"POSTURE\"]\n\n# Define the stages of the pipeline\nstages = []\n\n# Create and display the mappings for each categorical column\nfor categoricalCol in categoricalColumns:\n    # StringIndexer: convert strings to label indices\n    stringIndexer = StringIndexer(inputCol=categoricalCol, outputCol=categoricalCol + \"Index\")\n    \n    # Fit and transform to display the mapping\n    indexed = stringIndexer.fit(new_data_df).transform(new_data_df)\n    indexed.select(categoricalCol, categoricalCol + \"Index\").distinct().show()\n    \n    # OneHotEncoder: encode label indices to binary vectors\n    encoder = OneHotEncoder(inputCols=[stringIndexer.getOutputCol()], outputCols=[categoricalCol + \"OHE\"])\n    \n    stages += [stringIndexer, encoder]\n\n# Apply the stages in a pipeline to transform the DataFrame\npipeline = Pipeline(stages=stages)\n...",
                    "submissionTime": "2023-11-17T23:58:44.284GMT",
                    "completionTime": "2023-11-17T23:58:44.368GMT",
                    "stageIds": [
                      234
                    ],
                    "jobGroup": "62",
                    "status": "SUCCEEDED",
                    "numTasks": 4,
                    "numActiveTasks": 0,
                    "numCompletedTasks": 4,
                    "numSkippedTasks": 0,
                    "numFailedTasks": 0,
                    "numKilledTasks": 0,
                    "numCompletedIndices": 4,
                    "numActiveStages": 0,
                    "numCompletedStages": 1,
                    "numSkippedStages": 0,
                    "numFailedStages": 0,
                    "killedTasksSummary": {}
                  },
                  {
                    "displayName": "showString at <unknown>:0",
                    "dataWritten": 0,
                    "dataRead": 0,
                    "rowCount": 0,
                    "usageDescription": "",
                    "jobId": 174,
                    "name": "showString at <unknown>:0",
                    "description": "Job group for statement 62:\nfrom pyspark.ml.feature import StringIndexer, OneHotEncoder, VectorAssembler\nfrom pyspark.ml import Pipeline\n\n# Define the columns to be one-hot encoded\ncategoricalColumns = [\"SEX\", \"ACTIVITY_LEVEL\",\"POSTURE\"]\n\n# Define the stages of the pipeline\nstages = []\n\n# Create and display the mappings for each categorical column\nfor categoricalCol in categoricalColumns:\n    # StringIndexer: convert strings to label indices\n    stringIndexer = StringIndexer(inputCol=categoricalCol, outputCol=categoricalCol + \"Index\")\n    \n    # Fit and transform to display the mapping\n    indexed = stringIndexer.fit(new_data_df).transform(new_data_df)\n    indexed.select(categoricalCol, categoricalCol + \"Index\").distinct().show()\n    \n    # OneHotEncoder: encode label indices to binary vectors\n    encoder = OneHotEncoder(inputCols=[stringIndexer.getOutputCol()], outputCols=[categoricalCol + \"OHE\"])\n    \n    stages += [stringIndexer, encoder]\n\n# Apply the stages in a pipeline to transform the DataFrame\npipeline = Pipeline(stages=stages)\n...",
                    "submissionTime": "2023-11-17T23:58:44.242GMT",
                    "completionTime": "2023-11-17T23:58:44.267GMT",
                    "stageIds": [
                      233
                    ],
                    "jobGroup": "62",
                    "status": "SUCCEEDED",
                    "numTasks": 1,
                    "numActiveTasks": 0,
                    "numCompletedTasks": 1,
                    "numSkippedTasks": 0,
                    "numFailedTasks": 0,
                    "numKilledTasks": 0,
                    "numCompletedIndices": 1,
                    "numActiveStages": 0,
                    "numCompletedStages": 1,
                    "numSkippedStages": 0,
                    "numFailedStages": 0,
                    "killedTasksSummary": {}
                  },
                  {
                    "displayName": "collect at StringIndexer.scala:204",
                    "dataWritten": 0,
                    "dataRead": 3816,
                    "rowCount": 8,
                    "usageDescription": "",
                    "jobId": 173,
                    "name": "collect at StringIndexer.scala:204",
                    "description": "Job group for statement 62:\nfrom pyspark.ml.feature import StringIndexer, OneHotEncoder, VectorAssembler\nfrom pyspark.ml import Pipeline\n\n# Define the columns to be one-hot encoded\ncategoricalColumns = [\"SEX\", \"ACTIVITY_LEVEL\",\"POSTURE\"]\n\n# Define the stages of the pipeline\nstages = []\n\n# Create and display the mappings for each categorical column\nfor categoricalCol in categoricalColumns:\n    # StringIndexer: convert strings to label indices\n    stringIndexer = StringIndexer(inputCol=categoricalCol, outputCol=categoricalCol + \"Index\")\n    \n    # Fit and transform to display the mapping\n    indexed = stringIndexer.fit(new_data_df).transform(new_data_df)\n    indexed.select(categoricalCol, categoricalCol + \"Index\").distinct().show()\n    \n    # OneHotEncoder: encode label indices to binary vectors\n    encoder = OneHotEncoder(inputCols=[stringIndexer.getOutputCol()], outputCols=[categoricalCol + \"OHE\"])\n    \n    stages += [stringIndexer, encoder]\n\n# Apply the stages in a pipeline to transform the DataFrame\npipeline = Pipeline(stages=stages)\n...",
                    "submissionTime": "2023-11-17T23:58:44.008GMT",
                    "completionTime": "2023-11-17T23:58:44.057GMT",
                    "stageIds": [
                      231,
                      232
                    ],
                    "jobGroup": "62",
                    "status": "SUCCEEDED",
                    "numTasks": 9,
                    "numActiveTasks": 0,
                    "numCompletedTasks": 1,
                    "numSkippedTasks": 8,
                    "numFailedTasks": 0,
                    "numKilledTasks": 0,
                    "numCompletedIndices": 1,
                    "numActiveStages": 0,
                    "numCompletedStages": 1,
                    "numSkippedStages": 1,
                    "numFailedStages": 0,
                    "killedTasksSummary": {}
                  },
                  {
                    "displayName": "collect at StringIndexer.scala:204",
                    "dataWritten": 3816,
                    "dataRead": 0,
                    "rowCount": 8,
                    "usageDescription": "",
                    "jobId": 172,
                    "name": "collect at StringIndexer.scala:204",
                    "description": "Job group for statement 62:\nfrom pyspark.ml.feature import StringIndexer, OneHotEncoder, VectorAssembler\nfrom pyspark.ml import Pipeline\n\n# Define the columns to be one-hot encoded\ncategoricalColumns = [\"SEX\", \"ACTIVITY_LEVEL\",\"POSTURE\"]\n\n# Define the stages of the pipeline\nstages = []\n\n# Create and display the mappings for each categorical column\nfor categoricalCol in categoricalColumns:\n    # StringIndexer: convert strings to label indices\n    stringIndexer = StringIndexer(inputCol=categoricalCol, outputCol=categoricalCol + \"Index\")\n    \n    # Fit and transform to display the mapping\n    indexed = stringIndexer.fit(new_data_df).transform(new_data_df)\n    indexed.select(categoricalCol, categoricalCol + \"Index\").distinct().show()\n    \n    # OneHotEncoder: encode label indices to binary vectors\n    encoder = OneHotEncoder(inputCols=[stringIndexer.getOutputCol()], outputCols=[categoricalCol + \"OHE\"])\n    \n    stages += [stringIndexer, encoder]\n\n# Apply the stages in a pipeline to transform the DataFrame\npipeline = Pipeline(stages=stages)\n...",
                    "submissionTime": "2023-11-17T23:58:43.859GMT",
                    "completionTime": "2023-11-17T23:58:43.993GMT",
                    "stageIds": [
                      230
                    ],
                    "jobGroup": "62",
                    "status": "SUCCEEDED",
                    "numTasks": 8,
                    "numActiveTasks": 0,
                    "numCompletedTasks": 8,
                    "numSkippedTasks": 0,
                    "numFailedTasks": 0,
                    "numKilledTasks": 0,
                    "numCompletedIndices": 8,
                    "numActiveStages": 0,
                    "numCompletedStages": 1,
                    "numSkippedStages": 0,
                    "numFailedStages": 0,
                    "killedTasksSummary": {}
                  },
                  {
                    "displayName": "collect at StringIndexer.scala:204",
                    "dataWritten": 0,
                    "dataRead": 3821,
                    "rowCount": 8,
                    "usageDescription": "",
                    "jobId": 171,
                    "name": "collect at StringIndexer.scala:204",
                    "description": "Job group for statement 62:\nfrom pyspark.ml.feature import StringIndexer, OneHotEncoder, VectorAssembler\nfrom pyspark.ml import Pipeline\n\n# Define the columns to be one-hot encoded\ncategoricalColumns = [\"SEX\", \"ACTIVITY_LEVEL\",\"POSTURE\"]\n\n# Define the stages of the pipeline\nstages = []\n\n# Create and display the mappings for each categorical column\nfor categoricalCol in categoricalColumns:\n    # StringIndexer: convert strings to label indices\n    stringIndexer = StringIndexer(inputCol=categoricalCol, outputCol=categoricalCol + \"Index\")\n    \n    # Fit and transform to display the mapping\n    indexed = stringIndexer.fit(new_data_df).transform(new_data_df)\n    indexed.select(categoricalCol, categoricalCol + \"Index\").distinct().show()\n    \n    # OneHotEncoder: encode label indices to binary vectors\n    encoder = OneHotEncoder(inputCols=[stringIndexer.getOutputCol()], outputCols=[categoricalCol + \"OHE\"])\n    \n    stages += [stringIndexer, encoder]\n\n# Apply the stages in a pipeline to transform the DataFrame\npipeline = Pipeline(stages=stages)\n...",
                    "submissionTime": "2023-11-17T23:58:43.712GMT",
                    "completionTime": "2023-11-17T23:58:43.757GMT",
                    "stageIds": [
                      228,
                      229
                    ],
                    "jobGroup": "62",
                    "status": "SUCCEEDED",
                    "numTasks": 9,
                    "numActiveTasks": 0,
                    "numCompletedTasks": 1,
                    "numSkippedTasks": 8,
                    "numFailedTasks": 0,
                    "numKilledTasks": 0,
                    "numCompletedIndices": 1,
                    "numActiveStages": 0,
                    "numCompletedStages": 1,
                    "numSkippedStages": 1,
                    "numFailedStages": 0,
                    "killedTasksSummary": {}
                  },
                  {
                    "displayName": "collect at StringIndexer.scala:204",
                    "dataWritten": 3821,
                    "dataRead": 0,
                    "rowCount": 8,
                    "usageDescription": "",
                    "jobId": 170,
                    "name": "collect at StringIndexer.scala:204",
                    "description": "Job group for statement 62:\nfrom pyspark.ml.feature import StringIndexer, OneHotEncoder, VectorAssembler\nfrom pyspark.ml import Pipeline\n\n# Define the columns to be one-hot encoded\ncategoricalColumns = [\"SEX\", \"ACTIVITY_LEVEL\",\"POSTURE\"]\n\n# Define the stages of the pipeline\nstages = []\n\n# Create and display the mappings for each categorical column\nfor categoricalCol in categoricalColumns:\n    # StringIndexer: convert strings to label indices\n    stringIndexer = StringIndexer(inputCol=categoricalCol, outputCol=categoricalCol + \"Index\")\n    \n    # Fit and transform to display the mapping\n    indexed = stringIndexer.fit(new_data_df).transform(new_data_df)\n    indexed.select(categoricalCol, categoricalCol + \"Index\").distinct().show()\n    \n    # OneHotEncoder: encode label indices to binary vectors\n    encoder = OneHotEncoder(inputCols=[stringIndexer.getOutputCol()], outputCols=[categoricalCol + \"OHE\"])\n    \n    stages += [stringIndexer, encoder]\n\n# Apply the stages in a pipeline to transform the DataFrame\npipeline = Pipeline(stages=stages)\n...",
                    "submissionTime": "2023-11-17T23:58:43.584GMT",
                    "completionTime": "2023-11-17T23:58:43.699GMT",
                    "stageIds": [
                      227
                    ],
                    "jobGroup": "62",
                    "status": "SUCCEEDED",
                    "numTasks": 8,
                    "numActiveTasks": 0,
                    "numCompletedTasks": 8,
                    "numSkippedTasks": 0,
                    "numFailedTasks": 0,
                    "numKilledTasks": 0,
                    "numCompletedIndices": 8,
                    "numActiveStages": 0,
                    "numCompletedStages": 1,
                    "numSkippedStages": 0,
                    "numFailedStages": 0,
                    "killedTasksSummary": {}
                  },
                  {
                    "displayName": "collect at StringIndexer.scala:204",
                    "dataWritten": 0,
                    "dataRead": 3815,
                    "rowCount": 8,
                    "usageDescription": "",
                    "jobId": 169,
                    "name": "collect at StringIndexer.scala:204",
                    "description": "Job group for statement 62:\nfrom pyspark.ml.feature import StringIndexer, OneHotEncoder, VectorAssembler\nfrom pyspark.ml import Pipeline\n\n# Define the columns to be one-hot encoded\ncategoricalColumns = [\"SEX\", \"ACTIVITY_LEVEL\",\"POSTURE\"]\n\n# Define the stages of the pipeline\nstages = []\n\n# Create and display the mappings for each categorical column\nfor categoricalCol in categoricalColumns:\n    # StringIndexer: convert strings to label indices\n    stringIndexer = StringIndexer(inputCol=categoricalCol, outputCol=categoricalCol + \"Index\")\n    \n    # Fit and transform to display the mapping\n    indexed = stringIndexer.fit(new_data_df).transform(new_data_df)\n    indexed.select(categoricalCol, categoricalCol + \"Index\").distinct().show()\n    \n    # OneHotEncoder: encode label indices to binary vectors\n    encoder = OneHotEncoder(inputCols=[stringIndexer.getOutputCol()], outputCols=[categoricalCol + \"OHE\"])\n    \n    stages += [stringIndexer, encoder]\n\n# Apply the stages in a pipeline to transform the DataFrame\npipeline = Pipeline(stages=stages)\n...",
                    "submissionTime": "2023-11-17T23:58:43.393GMT",
                    "completionTime": "2023-11-17T23:58:43.440GMT",
                    "stageIds": [
                      225,
                      226
                    ],
                    "jobGroup": "62",
                    "status": "SUCCEEDED",
                    "numTasks": 9,
                    "numActiveTasks": 0,
                    "numCompletedTasks": 1,
                    "numSkippedTasks": 8,
                    "numFailedTasks": 0,
                    "numKilledTasks": 0,
                    "numCompletedIndices": 1,
                    "numActiveStages": 0,
                    "numCompletedStages": 1,
                    "numSkippedStages": 1,
                    "numFailedStages": 0,
                    "killedTasksSummary": {}
                  },
                  {
                    "displayName": "collect at StringIndexer.scala:204",
                    "dataWritten": 3815,
                    "dataRead": 0,
                    "rowCount": 8,
                    "usageDescription": "",
                    "jobId": 168,
                    "name": "collect at StringIndexer.scala:204",
                    "description": "Job group for statement 62:\nfrom pyspark.ml.feature import StringIndexer, OneHotEncoder, VectorAssembler\nfrom pyspark.ml import Pipeline\n\n# Define the columns to be one-hot encoded\ncategoricalColumns = [\"SEX\", \"ACTIVITY_LEVEL\",\"POSTURE\"]\n\n# Define the stages of the pipeline\nstages = []\n\n# Create and display the mappings for each categorical column\nfor categoricalCol in categoricalColumns:\n    # StringIndexer: convert strings to label indices\n    stringIndexer = StringIndexer(inputCol=categoricalCol, outputCol=categoricalCol + \"Index\")\n    \n    # Fit and transform to display the mapping\n    indexed = stringIndexer.fit(new_data_df).transform(new_data_df)\n    indexed.select(categoricalCol, categoricalCol + \"Index\").distinct().show()\n    \n    # OneHotEncoder: encode label indices to binary vectors\n    encoder = OneHotEncoder(inputCols=[stringIndexer.getOutputCol()], outputCols=[categoricalCol + \"OHE\"])\n    \n    stages += [stringIndexer, encoder]\n\n# Apply the stages in a pipeline to transform the DataFrame\npipeline = Pipeline(stages=stages)\n...",
                    "submissionTime": "2023-11-17T23:58:43.283GMT",
                    "completionTime": "2023-11-17T23:58:43.379GMT",
                    "stageIds": [
                      224
                    ],
                    "jobGroup": "62",
                    "status": "SUCCEEDED",
                    "numTasks": 8,
                    "numActiveTasks": 0,
                    "numCompletedTasks": 8,
                    "numSkippedTasks": 0,
                    "numFailedTasks": 0,
                    "numKilledTasks": 0,
                    "numCompletedIndices": 8,
                    "numActiveStages": 0,
                    "numCompletedStages": 1,
                    "numSkippedStages": 0,
                    "numFailedStages": 0,
                    "killedTasksSummary": {}
                  },
                  {
                    "displayName": "showString at <unknown>:0",
                    "dataWritten": 0,
                    "dataRead": 353,
                    "rowCount": 5,
                    "usageDescription": "",
                    "jobId": 167,
                    "name": "showString at <unknown>:0",
                    "description": "Job group for statement 62:\nfrom pyspark.ml.feature import StringIndexer, OneHotEncoder, VectorAssembler\nfrom pyspark.ml import Pipeline\n\n# Define the columns to be one-hot encoded\ncategoricalColumns = [\"SEX\", \"ACTIVITY_LEVEL\",\"POSTURE\"]\n\n# Define the stages of the pipeline\nstages = []\n\n# Create and display the mappings for each categorical column\nfor categoricalCol in categoricalColumns:\n    # StringIndexer: convert strings to label indices\n    stringIndexer = StringIndexer(inputCol=categoricalCol, outputCol=categoricalCol + \"Index\")\n    \n    # Fit and transform to display the mapping\n    indexed = stringIndexer.fit(new_data_df).transform(new_data_df)\n    indexed.select(categoricalCol, categoricalCol + \"Index\").distinct().show()\n    \n    # OneHotEncoder: encode label indices to binary vectors\n    encoder = OneHotEncoder(inputCols=[stringIndexer.getOutputCol()], outputCols=[categoricalCol + \"OHE\"])\n    \n    stages += [stringIndexer, encoder]\n\n# Apply the stages in a pipeline to transform the DataFrame\npipeline = Pipeline(stages=stages)\n...",
                    "submissionTime": "2023-11-17T23:58:43.194GMT",
                    "completionTime": "2023-11-17T23:58:43.232GMT",
                    "stageIds": [
                      222,
                      223
                    ],
                    "jobGroup": "62",
                    "status": "SUCCEEDED",
                    "numTasks": 9,
                    "numActiveTasks": 0,
                    "numCompletedTasks": 1,
                    "numSkippedTasks": 8,
                    "numFailedTasks": 0,
                    "numKilledTasks": 0,
                    "numCompletedIndices": 1,
                    "numActiveStages": 0,
                    "numCompletedStages": 1,
                    "numSkippedStages": 1,
                    "numFailedStages": 0,
                    "killedTasksSummary": {}
                  },
                  {
                    "displayName": "showString at <unknown>:0",
                    "dataWritten": 353,
                    "dataRead": 0,
                    "rowCount": 5,
                    "usageDescription": "",
                    "jobId": 166,
                    "name": "showString at <unknown>:0",
                    "description": "Job group for statement 62:\nfrom pyspark.ml.feature import StringIndexer, OneHotEncoder, VectorAssembler\nfrom pyspark.ml import Pipeline\n\n# Define the columns to be one-hot encoded\ncategoricalColumns = [\"SEX\", \"ACTIVITY_LEVEL\",\"POSTURE\"]\n\n# Define the stages of the pipeline\nstages = []\n\n# Create and display the mappings for each categorical column\nfor categoricalCol in categoricalColumns:\n    # StringIndexer: convert strings to label indices\n    stringIndexer = StringIndexer(inputCol=categoricalCol, outputCol=categoricalCol + \"Index\")\n    \n    # Fit and transform to display the mapping\n    indexed = stringIndexer.fit(new_data_df).transform(new_data_df)\n    indexed.select(categoricalCol, categoricalCol + \"Index\").distinct().show()\n    \n    # OneHotEncoder: encode label indices to binary vectors\n    encoder = OneHotEncoder(inputCols=[stringIndexer.getOutputCol()], outputCols=[categoricalCol + \"OHE\"])\n    \n    stages += [stringIndexer, encoder]\n\n# Apply the stages in a pipeline to transform the DataFrame\npipeline = Pipeline(stages=stages)\n...",
                    "submissionTime": "2023-11-17T23:58:43.044GMT",
                    "completionTime": "2023-11-17T23:58:43.163GMT",
                    "stageIds": [
                      221
                    ],
                    "jobGroup": "62",
                    "status": "SUCCEEDED",
                    "numTasks": 8,
                    "numActiveTasks": 0,
                    "numCompletedTasks": 8,
                    "numSkippedTasks": 0,
                    "numFailedTasks": 0,
                    "numKilledTasks": 0,
                    "numCompletedIndices": 8,
                    "numActiveStages": 0,
                    "numCompletedStages": 1,
                    "numSkippedStages": 0,
                    "numFailedStages": 0,
                    "killedTasksSummary": {}
                  },
                  {
                    "displayName": "collect at StringIndexer.scala:204",
                    "dataWritten": 0,
                    "dataRead": 3816,
                    "rowCount": 8,
                    "usageDescription": "",
                    "jobId": 165,
                    "name": "collect at StringIndexer.scala:204",
                    "description": "Job group for statement 62:\nfrom pyspark.ml.feature import StringIndexer, OneHotEncoder, VectorAssembler\nfrom pyspark.ml import Pipeline\n\n# Define the columns to be one-hot encoded\ncategoricalColumns = [\"SEX\", \"ACTIVITY_LEVEL\",\"POSTURE\"]\n\n# Define the stages of the pipeline\nstages = []\n\n# Create and display the mappings for each categorical column\nfor categoricalCol in categoricalColumns:\n    # StringIndexer: convert strings to label indices\n    stringIndexer = StringIndexer(inputCol=categoricalCol, outputCol=categoricalCol + \"Index\")\n    \n    # Fit and transform to display the mapping\n    indexed = stringIndexer.fit(new_data_df).transform(new_data_df)\n    indexed.select(categoricalCol, categoricalCol + \"Index\").distinct().show()\n    \n    # OneHotEncoder: encode label indices to binary vectors\n    encoder = OneHotEncoder(inputCols=[stringIndexer.getOutputCol()], outputCols=[categoricalCol + \"OHE\"])\n    \n    stages += [stringIndexer, encoder]\n\n# Apply the stages in a pipeline to transform the DataFrame\npipeline = Pipeline(stages=stages)\n...",
                    "submissionTime": "2023-11-17T23:58:42.931GMT",
                    "completionTime": "2023-11-17T23:58:42.976GMT",
                    "stageIds": [
                      219,
                      220
                    ],
                    "jobGroup": "62",
                    "status": "SUCCEEDED",
                    "numTasks": 9,
                    "numActiveTasks": 0,
                    "numCompletedTasks": 1,
                    "numSkippedTasks": 8,
                    "numFailedTasks": 0,
                    "numKilledTasks": 0,
                    "numCompletedIndices": 1,
                    "numActiveStages": 0,
                    "numCompletedStages": 1,
                    "numSkippedStages": 1,
                    "numFailedStages": 0,
                    "killedTasksSummary": {}
                  },
                  {
                    "displayName": "collect at StringIndexer.scala:204",
                    "dataWritten": 3816,
                    "dataRead": 0,
                    "rowCount": 8,
                    "usageDescription": "",
                    "jobId": 164,
                    "name": "collect at StringIndexer.scala:204",
                    "description": "Job group for statement 62:\nfrom pyspark.ml.feature import StringIndexer, OneHotEncoder, VectorAssembler\nfrom pyspark.ml import Pipeline\n\n# Define the columns to be one-hot encoded\ncategoricalColumns = [\"SEX\", \"ACTIVITY_LEVEL\",\"POSTURE\"]\n\n# Define the stages of the pipeline\nstages = []\n\n# Create and display the mappings for each categorical column\nfor categoricalCol in categoricalColumns:\n    # StringIndexer: convert strings to label indices\n    stringIndexer = StringIndexer(inputCol=categoricalCol, outputCol=categoricalCol + \"Index\")\n    \n    # Fit and transform to display the mapping\n    indexed = stringIndexer.fit(new_data_df).transform(new_data_df)\n    indexed.select(categoricalCol, categoricalCol + \"Index\").distinct().show()\n    \n    # OneHotEncoder: encode label indices to binary vectors\n    encoder = OneHotEncoder(inputCols=[stringIndexer.getOutputCol()], outputCols=[categoricalCol + \"OHE\"])\n    \n    stages += [stringIndexer, encoder]\n\n# Apply the stages in a pipeline to transform the DataFrame\npipeline = Pipeline(stages=stages)\n...",
                    "submissionTime": "2023-11-17T23:58:42.789GMT",
                    "completionTime": "2023-11-17T23:58:42.916GMT",
                    "stageIds": [
                      218
                    ],
                    "jobGroup": "62",
                    "status": "SUCCEEDED",
                    "numTasks": 8,
                    "numActiveTasks": 0,
                    "numCompletedTasks": 8,
                    "numSkippedTasks": 0,
                    "numFailedTasks": 0,
                    "numKilledTasks": 0,
                    "numCompletedIndices": 8,
                    "numActiveStages": 0,
                    "numCompletedStages": 1,
                    "numSkippedStages": 0,
                    "numFailedStages": 0,
                    "killedTasksSummary": {}
                  },
                  {
                    "displayName": "showString at <unknown>:0",
                    "dataWritten": 0,
                    "dataRead": 353,
                    "rowCount": 5,
                    "usageDescription": "",
                    "jobId": 163,
                    "name": "showString at <unknown>:0",
                    "description": "Job group for statement 62:\nfrom pyspark.ml.feature import StringIndexer, OneHotEncoder, VectorAssembler\nfrom pyspark.ml import Pipeline\n\n# Define the columns to be one-hot encoded\ncategoricalColumns = [\"SEX\", \"ACTIVITY_LEVEL\",\"POSTURE\"]\n\n# Define the stages of the pipeline\nstages = []\n\n# Create and display the mappings for each categorical column\nfor categoricalCol in categoricalColumns:\n    # StringIndexer: convert strings to label indices\n    stringIndexer = StringIndexer(inputCol=categoricalCol, outputCol=categoricalCol + \"Index\")\n    \n    # Fit and transform to display the mapping\n    indexed = stringIndexer.fit(new_data_df).transform(new_data_df)\n    indexed.select(categoricalCol, categoricalCol + \"Index\").distinct().show()\n    \n    # OneHotEncoder: encode label indices to binary vectors\n    encoder = OneHotEncoder(inputCols=[stringIndexer.getOutputCol()], outputCols=[categoricalCol + \"OHE\"])\n    \n    stages += [stringIndexer, encoder]\n\n# Apply the stages in a pipeline to transform the DataFrame\npipeline = Pipeline(stages=stages)\n...",
                    "submissionTime": "2023-11-17T23:58:42.704GMT",
                    "completionTime": "2023-11-17T23:58:42.735GMT",
                    "stageIds": [
                      216,
                      217
                    ],
                    "jobGroup": "62",
                    "status": "SUCCEEDED",
                    "numTasks": 9,
                    "numActiveTasks": 0,
                    "numCompletedTasks": 1,
                    "numSkippedTasks": 8,
                    "numFailedTasks": 0,
                    "numKilledTasks": 0,
                    "numCompletedIndices": 1,
                    "numActiveStages": 0,
                    "numCompletedStages": 1,
                    "numSkippedStages": 1,
                    "numFailedStages": 0,
                    "killedTasksSummary": {}
                  },
                  {
                    "displayName": "showString at <unknown>:0",
                    "dataWritten": 353,
                    "dataRead": 0,
                    "rowCount": 5,
                    "usageDescription": "",
                    "jobId": 162,
                    "name": "showString at <unknown>:0",
                    "description": "Job group for statement 62:\nfrom pyspark.ml.feature import StringIndexer, OneHotEncoder, VectorAssembler\nfrom pyspark.ml import Pipeline\n\n# Define the columns to be one-hot encoded\ncategoricalColumns = [\"SEX\", \"ACTIVITY_LEVEL\",\"POSTURE\"]\n\n# Define the stages of the pipeline\nstages = []\n\n# Create and display the mappings for each categorical column\nfor categoricalCol in categoricalColumns:\n    # StringIndexer: convert strings to label indices\n    stringIndexer = StringIndexer(inputCol=categoricalCol, outputCol=categoricalCol + \"Index\")\n    \n    # Fit and transform to display the mapping\n    indexed = stringIndexer.fit(new_data_df).transform(new_data_df)\n    indexed.select(categoricalCol, categoricalCol + \"Index\").distinct().show()\n    \n    # OneHotEncoder: encode label indices to binary vectors\n    encoder = OneHotEncoder(inputCols=[stringIndexer.getOutputCol()], outputCols=[categoricalCol + \"OHE\"])\n    \n    stages += [stringIndexer, encoder]\n\n# Apply the stages in a pipeline to transform the DataFrame\npipeline = Pipeline(stages=stages)\n...",
                    "submissionTime": "2023-11-17T23:58:42.564GMT",
                    "completionTime": "2023-11-17T23:58:42.673GMT",
                    "stageIds": [
                      215
                    ],
                    "jobGroup": "62",
                    "status": "SUCCEEDED",
                    "numTasks": 8,
                    "numActiveTasks": 0,
                    "numCompletedTasks": 8,
                    "numSkippedTasks": 0,
                    "numFailedTasks": 0,
                    "numKilledTasks": 0,
                    "numCompletedIndices": 8,
                    "numActiveStages": 0,
                    "numCompletedStages": 1,
                    "numSkippedStages": 0,
                    "numFailedStages": 0,
                    "killedTasksSummary": {}
                  },
                  {
                    "displayName": "collect at StringIndexer.scala:204",
                    "dataWritten": 0,
                    "dataRead": 3821,
                    "rowCount": 8,
                    "usageDescription": "",
                    "jobId": 161,
                    "name": "collect at StringIndexer.scala:204",
                    "description": "Job group for statement 62:\nfrom pyspark.ml.feature import StringIndexer, OneHotEncoder, VectorAssembler\nfrom pyspark.ml import Pipeline\n\n# Define the columns to be one-hot encoded\ncategoricalColumns = [\"SEX\", \"ACTIVITY_LEVEL\",\"POSTURE\"]\n\n# Define the stages of the pipeline\nstages = []\n\n# Create and display the mappings for each categorical column\nfor categoricalCol in categoricalColumns:\n    # StringIndexer: convert strings to label indices\n    stringIndexer = StringIndexer(inputCol=categoricalCol, outputCol=categoricalCol + \"Index\")\n    \n    # Fit and transform to display the mapping\n    indexed = stringIndexer.fit(new_data_df).transform(new_data_df)\n    indexed.select(categoricalCol, categoricalCol + \"Index\").distinct().show()\n    \n    # OneHotEncoder: encode label indices to binary vectors\n    encoder = OneHotEncoder(inputCols=[stringIndexer.getOutputCol()], outputCols=[categoricalCol + \"OHE\"])\n    \n    stages += [stringIndexer, encoder]\n\n# Apply the stages in a pipeline to transform the DataFrame\npipeline = Pipeline(stages=stages)\n...",
                    "submissionTime": "2023-11-17T23:58:42.442GMT",
                    "completionTime": "2023-11-17T23:58:42.488GMT",
                    "stageIds": [
                      213,
                      214
                    ],
                    "jobGroup": "62",
                    "status": "SUCCEEDED",
                    "numTasks": 9,
                    "numActiveTasks": 0,
                    "numCompletedTasks": 1,
                    "numSkippedTasks": 8,
                    "numFailedTasks": 0,
                    "numKilledTasks": 0,
                    "numCompletedIndices": 1,
                    "numActiveStages": 0,
                    "numCompletedStages": 1,
                    "numSkippedStages": 1,
                    "numFailedStages": 0,
                    "killedTasksSummary": {}
                  },
                  {
                    "displayName": "collect at StringIndexer.scala:204",
                    "dataWritten": 3821,
                    "dataRead": 0,
                    "rowCount": 8,
                    "usageDescription": "",
                    "jobId": 160,
                    "name": "collect at StringIndexer.scala:204",
                    "description": "Job group for statement 62:\nfrom pyspark.ml.feature import StringIndexer, OneHotEncoder, VectorAssembler\nfrom pyspark.ml import Pipeline\n\n# Define the columns to be one-hot encoded\ncategoricalColumns = [\"SEX\", \"ACTIVITY_LEVEL\",\"POSTURE\"]\n\n# Define the stages of the pipeline\nstages = []\n\n# Create and display the mappings for each categorical column\nfor categoricalCol in categoricalColumns:\n    # StringIndexer: convert strings to label indices\n    stringIndexer = StringIndexer(inputCol=categoricalCol, outputCol=categoricalCol + \"Index\")\n    \n    # Fit and transform to display the mapping\n    indexed = stringIndexer.fit(new_data_df).transform(new_data_df)\n    indexed.select(categoricalCol, categoricalCol + \"Index\").distinct().show()\n    \n    # OneHotEncoder: encode label indices to binary vectors\n    encoder = OneHotEncoder(inputCols=[stringIndexer.getOutputCol()], outputCols=[categoricalCol + \"OHE\"])\n    \n    stages += [stringIndexer, encoder]\n\n# Apply the stages in a pipeline to transform the DataFrame\npipeline = Pipeline(stages=stages)\n...",
                    "submissionTime": "2023-11-17T23:58:42.344GMT",
                    "completionTime": "2023-11-17T23:58:42.428GMT",
                    "stageIds": [
                      212
                    ],
                    "jobGroup": "62",
                    "status": "SUCCEEDED",
                    "numTasks": 8,
                    "numActiveTasks": 0,
                    "numCompletedTasks": 8,
                    "numSkippedTasks": 0,
                    "numFailedTasks": 0,
                    "numKilledTasks": 0,
                    "numCompletedIndices": 8,
                    "numActiveStages": 0,
                    "numCompletedStages": 1,
                    "numSkippedStages": 0,
                    "numFailedStages": 0,
                    "killedTasksSummary": {}
                  },
                  {
                    "displayName": "showString at <unknown>:0",
                    "dataWritten": 0,
                    "dataRead": 352,
                    "rowCount": 5,
                    "usageDescription": "",
                    "jobId": 159,
                    "name": "showString at <unknown>:0",
                    "description": "Job group for statement 62:\nfrom pyspark.ml.feature import StringIndexer, OneHotEncoder, VectorAssembler\nfrom pyspark.ml import Pipeline\n\n# Define the columns to be one-hot encoded\ncategoricalColumns = [\"SEX\", \"ACTIVITY_LEVEL\",\"POSTURE\"]\n\n# Define the stages of the pipeline\nstages = []\n\n# Create and display the mappings for each categorical column\nfor categoricalCol in categoricalColumns:\n    # StringIndexer: convert strings to label indices\n    stringIndexer = StringIndexer(inputCol=categoricalCol, outputCol=categoricalCol + \"Index\")\n    \n    # Fit and transform to display the mapping\n    indexed = stringIndexer.fit(new_data_df).transform(new_data_df)\n    indexed.select(categoricalCol, categoricalCol + \"Index\").distinct().show()\n    \n    # OneHotEncoder: encode label indices to binary vectors\n    encoder = OneHotEncoder(inputCols=[stringIndexer.getOutputCol()], outputCols=[categoricalCol + \"OHE\"])\n    \n    stages += [stringIndexer, encoder]\n\n# Apply the stages in a pipeline to transform the DataFrame\npipeline = Pipeline(stages=stages)\n...",
                    "submissionTime": "2023-11-17T23:58:42.259GMT",
                    "completionTime": "2023-11-17T23:58:42.292GMT",
                    "stageIds": [
                      210,
                      211
                    ],
                    "jobGroup": "62",
                    "status": "SUCCEEDED",
                    "numTasks": 9,
                    "numActiveTasks": 0,
                    "numCompletedTasks": 1,
                    "numSkippedTasks": 8,
                    "numFailedTasks": 0,
                    "numKilledTasks": 0,
                    "numCompletedIndices": 1,
                    "numActiveStages": 0,
                    "numCompletedStages": 1,
                    "numSkippedStages": 1,
                    "numFailedStages": 0,
                    "killedTasksSummary": {}
                  },
                  {
                    "displayName": "showString at <unknown>:0",
                    "dataWritten": 352,
                    "dataRead": 0,
                    "rowCount": 5,
                    "usageDescription": "",
                    "jobId": 158,
                    "name": "showString at <unknown>:0",
                    "description": "Job group for statement 62:\nfrom pyspark.ml.feature import StringIndexer, OneHotEncoder, VectorAssembler\nfrom pyspark.ml import Pipeline\n\n# Define the columns to be one-hot encoded\ncategoricalColumns = [\"SEX\", \"ACTIVITY_LEVEL\",\"POSTURE\"]\n\n# Define the stages of the pipeline\nstages = []\n\n# Create and display the mappings for each categorical column\nfor categoricalCol in categoricalColumns:\n    # StringIndexer: convert strings to label indices\n    stringIndexer = StringIndexer(inputCol=categoricalCol, outputCol=categoricalCol + \"Index\")\n    \n    # Fit and transform to display the mapping\n    indexed = stringIndexer.fit(new_data_df).transform(new_data_df)\n    indexed.select(categoricalCol, categoricalCol + \"Index\").distinct().show()\n    \n    # OneHotEncoder: encode label indices to binary vectors\n    encoder = OneHotEncoder(inputCols=[stringIndexer.getOutputCol()], outputCols=[categoricalCol + \"OHE\"])\n    \n    stages += [stringIndexer, encoder]\n\n# Apply the stages in a pipeline to transform the DataFrame\npipeline = Pipeline(stages=stages)\n...",
                    "submissionTime": "2023-11-17T23:58:42.133GMT",
                    "completionTime": "2023-11-17T23:58:42.238GMT",
                    "stageIds": [
                      209
                    ],
                    "jobGroup": "62",
                    "status": "SUCCEEDED",
                    "numTasks": 8,
                    "numActiveTasks": 0,
                    "numCompletedTasks": 8,
                    "numSkippedTasks": 0,
                    "numFailedTasks": 0,
                    "numKilledTasks": 0,
                    "numCompletedIndices": 8,
                    "numActiveStages": 0,
                    "numCompletedStages": 1,
                    "numSkippedStages": 0,
                    "numFailedStages": 0,
                    "killedTasksSummary": {}
                  },
                  {
                    "displayName": "collect at StringIndexer.scala:204",
                    "dataWritten": 0,
                    "dataRead": 3815,
                    "rowCount": 8,
                    "usageDescription": "",
                    "jobId": 157,
                    "name": "collect at StringIndexer.scala:204",
                    "description": "Job group for statement 62:\nfrom pyspark.ml.feature import StringIndexer, OneHotEncoder, VectorAssembler\nfrom pyspark.ml import Pipeline\n\n# Define the columns to be one-hot encoded\ncategoricalColumns = [\"SEX\", \"ACTIVITY_LEVEL\",\"POSTURE\"]\n\n# Define the stages of the pipeline\nstages = []\n\n# Create and display the mappings for each categorical column\nfor categoricalCol in categoricalColumns:\n    # StringIndexer: convert strings to label indices\n    stringIndexer = StringIndexer(inputCol=categoricalCol, outputCol=categoricalCol + \"Index\")\n    \n    # Fit and transform to display the mapping\n    indexed = stringIndexer.fit(new_data_df).transform(new_data_df)\n    indexed.select(categoricalCol, categoricalCol + \"Index\").distinct().show()\n    \n    # OneHotEncoder: encode label indices to binary vectors\n    encoder = OneHotEncoder(inputCols=[stringIndexer.getOutputCol()], outputCols=[categoricalCol + \"OHE\"])\n    \n    stages += [stringIndexer, encoder]\n\n# Apply the stages in a pipeline to transform the DataFrame\npipeline = Pipeline(stages=stages)\n...",
                    "submissionTime": "2023-11-17T23:58:41.954GMT",
                    "completionTime": "2023-11-17T23:58:42.009GMT",
                    "stageIds": [
                      208,
                      207
                    ],
                    "jobGroup": "62",
                    "status": "SUCCEEDED",
                    "numTasks": 9,
                    "numActiveTasks": 0,
                    "numCompletedTasks": 1,
                    "numSkippedTasks": 8,
                    "numFailedTasks": 0,
                    "numKilledTasks": 0,
                    "numCompletedIndices": 1,
                    "numActiveStages": 0,
                    "numCompletedStages": 1,
                    "numSkippedStages": 1,
                    "numFailedStages": 0,
                    "killedTasksSummary": {}
                  }
                ],
                "limit": 20,
                "rule": "ALL_DESC"
              },
              "parent_msg_id": "aafce750-74c4-400b-8a78-fe39222ef464"
            },
            "text/plain": "StatementMeta(80dcc4b2-bc50-4e81-91e5-397b7f13252e, 23, 62, Finished, Available)"
          },
          "metadata": {}
        },
        {
          "output_type": "stream",
          "name": "stdout",
          "text": "+------+--------+\n|   SEX|SEXIndex|\n+------+--------+\n|  Male|     0.0|\n|Female|     1.0|\n+------+--------+\n\n+--------------+-------------------+\n|ACTIVITY_LEVEL|ACTIVITY_LEVELIndex|\n+--------------+-------------------+\n|          High|                0.0|\n|      Moderate|                2.0|\n|           Low|                1.0|\n+--------------+-------------------+\n\n+-------+------------+\n|POSTURE|POSTUREIndex|\n+-------+------------+\n|      A|         1.0|\n|      D|         3.0|\n|      B|         0.0|\n|      C|         2.0|\n+-------+------------+\n\n+---+------+------+------+--------------+---+---+---+---+-------+--------+-------------+-------------------+-----------------+------------+-------------+\n|AGE|HEIGHT|WEIGHT|   SEX|ACTIVITY_LEVEL|  E|  S|  T|  J|POSTURE|SEXIndex|       SEXOHE|ACTIVITY_LEVELIndex|ACTIVITY_LEVELOHE|POSTUREIndex|   POSTUREOHE|\n+---+------+------+------+--------------+---+---+---+---+-------+--------+-------------+-------------------+-----------------+------------+-------------+\n| 50|    62|   140|  Male|      Moderate| 12| 15| 20|  5|      B|     0.0|(1,[0],[1.0])|                2.0|        (2,[],[])|         0.0|(3,[0],[1.0])|\n| 30|    66|   100|Female|           Low| 18| 12| 15|  8|      C|     1.0|    (1,[],[])|                1.0|    (2,[1],[1.0])|         2.0|(3,[2],[1.0])|\n| 35|    71|   160|  Male|          High| 10|  3| 10|  3|      A|     0.0|(1,[0],[1.0])|                0.0|    (2,[0],[1.0])|         1.0|(3,[1],[1.0])|\n| 44|    63|   130|  Male|          High|  6|  9|  8| 10|      D|     0.0|(1,[0],[1.0])|                0.0|    (2,[0],[1.0])|         3.0|    (3,[],[])|\n| 48|    61|   120|Female|           Low|  3| 17|  5| 20|      B|     1.0|    (1,[],[])|                1.0|    (2,[1],[1.0])|         0.0|(3,[0],[1.0])|\n+---+------+------+------+--------------+---+---+---+---+-------+--------+-------------+-------------------+-----------------+------------+-------------+\n\n"
        }
      ],
      "execution_count": 57,
      "metadata": {
        "jupyter": {
          "source_hidden": false,
          "outputs_hidden": false
        },
        "nteract": {
          "transient": {
            "deleting": false
          }
        },
        "gather": {
          "logged": 1700265525836
        }
      }
    },
    {
      "cell_type": "code",
      "source": [
        "from pyspark.ml.feature import VectorAssembler\n",
        "\n",
        "# Define the columns to be used as features\n",
        "featureCols = [\"AGE\", \"HEIGHT\", \"WEIGHT\", \"SEXOHE\", \"ACTIVITY LEVELOHE\", \"E\", \"S\", \"T\", \"J\",\"POSTUREOHE\"]\n",
        "\n",
        "# Assemble the features into a single vector column\n",
        "assembler = VectorAssembler(inputCols=featureCols, outputCol=\"features\")\n",
        "assembled_df = assembler.transform(df_transformed_new)\n",
        "assembled_df.show(truncate=False)"
      ],
      "outputs": [
        {
          "output_type": "display_data",
          "data": {
            "application/vnd.livy.statement-meta+json": {
              "spark_pool": "80dcc4b2-bc50-4e81-91e5-397b7f13252e",
              "session_id": "23",
              "statement_id": 105,
              "state": "finished",
              "livy_statement_state": "available",
              "queued_time": "2023-11-18T00:48:54.2567218Z",
              "session_start_time": null,
              "execution_start_time": "2023-11-18T00:48:54.4243751Z",
              "execution_finish_time": "2023-11-18T00:48:55.3219127Z",
              "spark_jobs": {
                "numbers": {
                  "FAILED": 0,
                  "RUNNING": 0,
                  "SUCCEEDED": 3,
                  "UNKNOWN": 0
                },
                "jobs": [
                  {
                    "displayName": "showString at <unknown>:0",
                    "dataWritten": 0,
                    "dataRead": 0,
                    "rowCount": 0,
                    "usageDescription": "",
                    "jobId": 375,
                    "name": "showString at <unknown>:0",
                    "description": "Job group for statement 105:\nfrom pyspark.ml.feature import VectorAssembler\n\n# Define the columns to be used as features\nfeatureCols = [\"AGE\", \"HEIGHT\", \"WEIGHT\", \"SEXOHE\", \"ACTIVITY LEVELOHE\", \"E\", \"S\", \"T\", \"J\",\"POSTUREOHE\"]\n\n# Assemble the features into a single vector column\nassembler = VectorAssembler(inputCols=featureCols, outputCol=\"features\")\nassembled_df = assembler.transform(df_transformed_new)\nassembled_df.show(truncate=False)",
                    "submissionTime": "2023-11-18T00:48:54.678GMT",
                    "completionTime": "2023-11-18T00:48:54.723GMT",
                    "stageIds": [
                      465
                    ],
                    "jobGroup": "105",
                    "status": "SUCCEEDED",
                    "numTasks": 3,
                    "numActiveTasks": 0,
                    "numCompletedTasks": 3,
                    "numSkippedTasks": 0,
                    "numFailedTasks": 0,
                    "numKilledTasks": 0,
                    "numCompletedIndices": 3,
                    "numActiveStages": 0,
                    "numCompletedStages": 1,
                    "numSkippedStages": 0,
                    "numFailedStages": 0,
                    "killedTasksSummary": {}
                  },
                  {
                    "displayName": "showString at <unknown>:0",
                    "dataWritten": 0,
                    "dataRead": 0,
                    "rowCount": 0,
                    "usageDescription": "",
                    "jobId": 374,
                    "name": "showString at <unknown>:0",
                    "description": "Job group for statement 105:\nfrom pyspark.ml.feature import VectorAssembler\n\n# Define the columns to be used as features\nfeatureCols = [\"AGE\", \"HEIGHT\", \"WEIGHT\", \"SEXOHE\", \"ACTIVITY LEVELOHE\", \"E\", \"S\", \"T\", \"J\",\"POSTUREOHE\"]\n\n# Assemble the features into a single vector column\nassembler = VectorAssembler(inputCols=featureCols, outputCol=\"features\")\nassembled_df = assembler.transform(df_transformed_new)\nassembled_df.show(truncate=False)",
                    "submissionTime": "2023-11-18T00:48:54.581GMT",
                    "completionTime": "2023-11-18T00:48:54.671GMT",
                    "stageIds": [
                      464
                    ],
                    "jobGroup": "105",
                    "status": "SUCCEEDED",
                    "numTasks": 4,
                    "numActiveTasks": 0,
                    "numCompletedTasks": 4,
                    "numSkippedTasks": 0,
                    "numFailedTasks": 0,
                    "numKilledTasks": 0,
                    "numCompletedIndices": 4,
                    "numActiveStages": 0,
                    "numCompletedStages": 1,
                    "numSkippedStages": 0,
                    "numFailedStages": 0,
                    "killedTasksSummary": {}
                  },
                  {
                    "displayName": "showString at <unknown>:0",
                    "dataWritten": 0,
                    "dataRead": 0,
                    "rowCount": 0,
                    "usageDescription": "",
                    "jobId": 373,
                    "name": "showString at <unknown>:0",
                    "description": "Job group for statement 105:\nfrom pyspark.ml.feature import VectorAssembler\n\n# Define the columns to be used as features\nfeatureCols = [\"AGE\", \"HEIGHT\", \"WEIGHT\", \"SEXOHE\", \"ACTIVITY LEVELOHE\", \"E\", \"S\", \"T\", \"J\",\"POSTUREOHE\"]\n\n# Assemble the features into a single vector column\nassembler = VectorAssembler(inputCols=featureCols, outputCol=\"features\")\nassembled_df = assembler.transform(df_transformed_new)\nassembled_df.show(truncate=False)",
                    "submissionTime": "2023-11-18T00:48:54.514GMT",
                    "completionTime": "2023-11-18T00:48:54.576GMT",
                    "stageIds": [
                      463
                    ],
                    "jobGroup": "105",
                    "status": "SUCCEEDED",
                    "numTasks": 1,
                    "numActiveTasks": 0,
                    "numCompletedTasks": 1,
                    "numSkippedTasks": 0,
                    "numFailedTasks": 0,
                    "numKilledTasks": 0,
                    "numCompletedIndices": 1,
                    "numActiveStages": 0,
                    "numCompletedStages": 1,
                    "numSkippedStages": 0,
                    "numFailedStages": 0,
                    "killedTasksSummary": {}
                  }
                ],
                "limit": 20,
                "rule": "ALL_DESC"
              },
              "parent_msg_id": "bf89b476-25b3-4e01-8175-a0de26eb5866"
            },
            "text/plain": "StatementMeta(80dcc4b2-bc50-4e81-91e5-397b7f13252e, 23, 105, Finished, Available)"
          },
          "metadata": {}
        },
        {
          "output_type": "stream",
          "name": "stdout",
          "text": "+---+------+------+------+--------------+---+---+---+---+-------+--------+-------------+-------------------+-----------------+------------+-------------+------------------------------------------------------------+\n|AGE|HEIGHT|WEIGHT|SEX   |ACTIVITY LEVEL|E  |S  |T  |J  |POSTURE|SEXIndex|SEXOHE       |ACTIVITY LEVELIndex|ACTIVITY LEVELOHE|POSTUREIndex|POSTUREOHE   |features                                                    |\n+---+------+------+------+--------------+---+---+---+---+-------+--------+-------------+-------------------+-----------------+------------+-------------+------------------------------------------------------------+\n|50 |62    |140   |Male  |Moderate      |12 |15 |20 |5  |B      |1.0     |(1,[],[])    |1.0                |(2,[1],[1.0])    |0.0         |(3,[0],[1.0])|[50.0,62.0,140.0,0.0,0.0,1.0,12.0,15.0,20.0,5.0,1.0,0.0,0.0]|\n|30 |66    |100   |Female|Low           |18 |12 |15 |8  |C      |0.0     |(1,[0],[1.0])|0.0                |(2,[0],[1.0])    |3.0         |(3,[],[])    |[30.0,66.0,100.0,1.0,1.0,0.0,18.0,12.0,15.0,8.0,0.0,0.0,0.0]|\n|35 |71    |160   |Male  |High          |10 |3  |10 |3  |A      |1.0     |(1,[],[])    |2.0                |(2,[],[])        |1.0         |(3,[1],[1.0])|[35.0,71.0,160.0,0.0,0.0,0.0,10.0,3.0,10.0,3.0,0.0,1.0,0.0] |\n|44 |63    |130   |Male  |High          |6  |9  |8  |10 |D      |1.0     |(1,[],[])    |2.0                |(2,[],[])        |2.0         |(3,[2],[1.0])|[44.0,63.0,130.0,0.0,0.0,0.0,6.0,9.0,8.0,10.0,0.0,0.0,1.0]  |\n|48 |61    |120   |Female|Low           |3  |17 |5  |20 |B      |0.0     |(1,[0],[1.0])|0.0                |(2,[0],[1.0])    |0.0         |(3,[0],[1.0])|[48.0,61.0,120.0,1.0,1.0,0.0,3.0,17.0,5.0,20.0,1.0,0.0,0.0] |\n+---+------+------+------+--------------+---+---+---+---+-------+--------+-------------+-------------------+-----------------+------------+-------------+------------------------------------------------------------+\n\n"
        }
      ],
      "execution_count": 100,
      "metadata": {
        "jupyter": {
          "source_hidden": false,
          "outputs_hidden": false
        },
        "nteract": {
          "transient": {
            "deleting": false
          }
        },
        "gather": {
          "logged": 1700268536104
        }
      }
    },
    {
      "cell_type": "code",
      "source": [
        "from pyspark.ml.regression import LinearRegressionModel\n",
        "sameModel = LinearRegressionModel.load(model_path)"
      ],
      "outputs": [
        {
          "output_type": "display_data",
          "data": {
            "application/vnd.livy.statement-meta+json": {
              "spark_pool": "80dcc4b2-bc50-4e81-91e5-397b7f13252e",
              "session_id": "23",
              "statement_id": 100,
              "state": "finished",
              "livy_statement_state": "available",
              "queued_time": "2023-11-18T00:47:10.8075612Z",
              "session_start_time": null,
              "execution_start_time": "2023-11-18T00:47:10.979163Z",
              "execution_finish_time": "2023-11-18T00:47:11.7933775Z",
              "spark_jobs": {
                "numbers": {
                  "FAILED": 0,
                  "RUNNING": 0,
                  "SUCCEEDED": 3,
                  "UNKNOWN": 0
                },
                "jobs": [
                  {
                    "displayName": "head at LinearRegression.scala:840",
                    "dataWritten": 0,
                    "dataRead": 5539,
                    "rowCount": 1,
                    "usageDescription": "",
                    "jobId": 342,
                    "name": "head at LinearRegression.scala:840",
                    "description": "Job group for statement 100:\nfrom pyspark.ml.regression import LinearRegressionModel\nsameModel = LinearRegressionModel.load(model_path)",
                    "submissionTime": "2023-11-18T00:47:11.370GMT",
                    "completionTime": "2023-11-18T00:47:11.519GMT",
                    "stageIds": [
                      432
                    ],
                    "jobGroup": "100",
                    "status": "SUCCEEDED",
                    "numTasks": 1,
                    "numActiveTasks": 0,
                    "numCompletedTasks": 1,
                    "numSkippedTasks": 0,
                    "numFailedTasks": 0,
                    "numKilledTasks": 0,
                    "numCompletedIndices": 1,
                    "numActiveStages": 0,
                    "numCompletedStages": 1,
                    "numSkippedStages": 0,
                    "numFailedStages": 0,
                    "killedTasksSummary": {}
                  },
                  {
                    "displayName": "load at LinearRegression.scala:828",
                    "dataWritten": 0,
                    "dataRead": 0,
                    "rowCount": 0,
                    "usageDescription": "",
                    "jobId": 341,
                    "name": "load at LinearRegression.scala:828",
                    "description": "Job group for statement 100:\nfrom pyspark.ml.regression import LinearRegressionModel\nsameModel = LinearRegressionModel.load(model_path)",
                    "submissionTime": "2023-11-18T00:47:11.235GMT",
                    "completionTime": "2023-11-18T00:47:11.315GMT",
                    "stageIds": [
                      431
                    ],
                    "jobGroup": "100",
                    "status": "SUCCEEDED",
                    "numTasks": 1,
                    "numActiveTasks": 0,
                    "numCompletedTasks": 1,
                    "numSkippedTasks": 0,
                    "numFailedTasks": 0,
                    "numKilledTasks": 0,
                    "numCompletedIndices": 1,
                    "numActiveStages": 0,
                    "numCompletedStages": 1,
                    "numSkippedStages": 0,
                    "numFailedStages": 0,
                    "killedTasksSummary": {}
                  },
                  {
                    "displayName": "first at ReadWrite.scala:587",
                    "dataWritten": 0,
                    "dataRead": 500,
                    "rowCount": 1,
                    "usageDescription": "",
                    "jobId": 340,
                    "name": "first at ReadWrite.scala:587",
                    "description": "Job group for statement 100:\nfrom pyspark.ml.regression import LinearRegressionModel\nsameModel = LinearRegressionModel.load(model_path)",
                    "submissionTime": "2023-11-18T00:47:11.020GMT",
                    "completionTime": "2023-11-18T00:47:11.110GMT",
                    "stageIds": [
                      430
                    ],
                    "jobGroup": "100",
                    "status": "SUCCEEDED",
                    "numTasks": 1,
                    "numActiveTasks": 0,
                    "numCompletedTasks": 1,
                    "numSkippedTasks": 0,
                    "numFailedTasks": 0,
                    "numKilledTasks": 0,
                    "numCompletedIndices": 1,
                    "numActiveStages": 0,
                    "numCompletedStages": 1,
                    "numSkippedStages": 0,
                    "numFailedStages": 0,
                    "killedTasksSummary": {}
                  }
                ],
                "limit": 20,
                "rule": "ALL_DESC"
              },
              "parent_msg_id": "e73bf261-d2a3-4905-93ca-e8d9039891e5"
            },
            "text/plain": "StatementMeta(80dcc4b2-bc50-4e81-91e5-397b7f13252e, 23, 100, Finished, Available)"
          },
          "metadata": {}
        }
      ],
      "execution_count": 95,
      "metadata": {
        "jupyter": {
          "source_hidden": false,
          "outputs_hidden": false
        },
        "nteract": {
          "transient": {
            "deleting": false
          }
        },
        "gather": {
          "logged": 1700268432324
        }
      }
    },
    {
      "cell_type": "code",
      "source": [
        "predictions = sameModel.transform(assembled_df)"
      ],
      "outputs": [
        {
          "output_type": "display_data",
          "data": {
            "application/vnd.livy.statement-meta+json": {
              "spark_pool": "80dcc4b2-bc50-4e81-91e5-397b7f13252e",
              "session_id": "23",
              "statement_id": 106,
              "state": "finished",
              "livy_statement_state": "available",
              "queued_time": "2023-11-18T00:49:01.9691465Z",
              "session_start_time": null,
              "execution_start_time": "2023-11-18T00:49:02.1361436Z",
              "execution_finish_time": "2023-11-18T00:49:02.4815791Z",
              "spark_jobs": {
                "numbers": {
                  "FAILED": 0,
                  "RUNNING": 0,
                  "SUCCEEDED": 0,
                  "UNKNOWN": 0
                },
                "jobs": [],
                "limit": 20,
                "rule": "ALL_DESC"
              },
              "parent_msg_id": "c3c7a291-750b-457c-aab3-d01f41d410bb"
            },
            "text/plain": "StatementMeta(80dcc4b2-bc50-4e81-91e5-397b7f13252e, 23, 106, Finished, Available)"
          },
          "metadata": {}
        }
      ],
      "execution_count": 101,
      "metadata": {
        "jupyter": {
          "source_hidden": false,
          "outputs_hidden": false
        },
        "nteract": {
          "transient": {
            "deleting": false
          }
        },
        "gather": {
          "logged": 1700268543325
        }
      }
    },
    {
      "cell_type": "code",
      "source": [
        "predictions.select(\"prediction\",\"AGE\",\"HEIGHT\",\"WEIGHT\",\"SEX\",\"ACTIVITY LEVEL\",\"E\",\"S\",\"T\",\"J\",\"POSTURE\").show(5)"
      ],
      "outputs": [
        {
          "output_type": "display_data",
          "data": {
            "application/vnd.livy.statement-meta+json": {
              "spark_pool": "80dcc4b2-bc50-4e81-91e5-397b7f13252e",
              "session_id": "23",
              "statement_id": 107,
              "state": "finished",
              "livy_statement_state": "available",
              "queued_time": "2023-11-18T00:49:06.3492826Z",
              "session_start_time": null,
              "execution_start_time": "2023-11-18T00:49:06.4796618Z",
              "execution_finish_time": "2023-11-18T00:49:07.3288794Z",
              "spark_jobs": {
                "numbers": {
                  "FAILED": 0,
                  "RUNNING": 0,
                  "SUCCEEDED": 3,
                  "UNKNOWN": 0
                },
                "jobs": [
                  {
                    "displayName": "showString at <unknown>:0",
                    "dataWritten": 0,
                    "dataRead": 0,
                    "rowCount": 0,
                    "usageDescription": "",
                    "jobId": 378,
                    "name": "showString at <unknown>:0",
                    "description": "Job group for statement 107:\npredictions.select(\"prediction\",\"AGE\",\"HEIGHT\",\"WEIGHT\",\"SEX\",\"ACTIVITY LEVEL\",\"E\",\"S\",\"T\",\"J\",\"POSTURE\").show(5)",
                    "submissionTime": "2023-11-18T00:49:06.743GMT",
                    "completionTime": "2023-11-18T00:49:06.793GMT",
                    "stageIds": [
                      468
                    ],
                    "jobGroup": "107",
                    "status": "SUCCEEDED",
                    "numTasks": 3,
                    "numActiveTasks": 0,
                    "numCompletedTasks": 3,
                    "numSkippedTasks": 0,
                    "numFailedTasks": 0,
                    "numKilledTasks": 0,
                    "numCompletedIndices": 3,
                    "numActiveStages": 0,
                    "numCompletedStages": 1,
                    "numSkippedStages": 0,
                    "numFailedStages": 0,
                    "killedTasksSummary": {}
                  },
                  {
                    "displayName": "showString at <unknown>:0",
                    "dataWritten": 0,
                    "dataRead": 0,
                    "rowCount": 0,
                    "usageDescription": "",
                    "jobId": 377,
                    "name": "showString at <unknown>:0",
                    "description": "Job group for statement 107:\npredictions.select(\"prediction\",\"AGE\",\"HEIGHT\",\"WEIGHT\",\"SEX\",\"ACTIVITY LEVEL\",\"E\",\"S\",\"T\",\"J\",\"POSTURE\").show(5)",
                    "submissionTime": "2023-11-18T00:49:06.665GMT",
                    "completionTime": "2023-11-18T00:49:06.737GMT",
                    "stageIds": [
                      467
                    ],
                    "jobGroup": "107",
                    "status": "SUCCEEDED",
                    "numTasks": 4,
                    "numActiveTasks": 0,
                    "numCompletedTasks": 4,
                    "numSkippedTasks": 0,
                    "numFailedTasks": 0,
                    "numKilledTasks": 0,
                    "numCompletedIndices": 4,
                    "numActiveStages": 0,
                    "numCompletedStages": 1,
                    "numSkippedStages": 0,
                    "numFailedStages": 0,
                    "killedTasksSummary": {}
                  },
                  {
                    "displayName": "showString at <unknown>:0",
                    "dataWritten": 0,
                    "dataRead": 0,
                    "rowCount": 0,
                    "usageDescription": "",
                    "jobId": 376,
                    "name": "showString at <unknown>:0",
                    "description": "Job group for statement 107:\npredictions.select(\"prediction\",\"AGE\",\"HEIGHT\",\"WEIGHT\",\"SEX\",\"ACTIVITY LEVEL\",\"E\",\"S\",\"T\",\"J\",\"POSTURE\").show(5)",
                    "submissionTime": "2023-11-18T00:49:06.583GMT",
                    "completionTime": "2023-11-18T00:49:06.651GMT",
                    "stageIds": [
                      466
                    ],
                    "jobGroup": "107",
                    "status": "SUCCEEDED",
                    "numTasks": 1,
                    "numActiveTasks": 0,
                    "numCompletedTasks": 1,
                    "numSkippedTasks": 0,
                    "numFailedTasks": 0,
                    "numKilledTasks": 0,
                    "numCompletedIndices": 1,
                    "numActiveStages": 0,
                    "numCompletedStages": 1,
                    "numSkippedStages": 0,
                    "numFailedStages": 0,
                    "killedTasksSummary": {}
                  }
                ],
                "limit": 20,
                "rule": "ALL_DESC"
              },
              "parent_msg_id": "07b21fb4-3f31-45c3-aa23-957e0970e56a"
            },
            "text/plain": "StatementMeta(80dcc4b2-bc50-4e81-91e5-397b7f13252e, 23, 107, Finished, Available)"
          },
          "metadata": {}
        },
        {
          "output_type": "stream",
          "name": "stdout",
          "text": "+------------------+---+------+------+------+--------------+---+---+---+---+-------+\n|        prediction|AGE|HEIGHT|WEIGHT|   SEX|ACTIVITY LEVEL|  E|  S|  T|  J|POSTURE|\n+------------------+---+------+------+------+--------------+---+---+---+---+-------+\n|13.055756949201987| 50|    62|   140|  Male|      Moderate| 12| 15| 20|  5|      B|\n| 9.146607581052411| 30|    66|   100|Female|           Low| 18| 12| 15|  8|      C|\n| 5.674006885646284| 35|    71|   160|  Male|          High| 10|  3| 10|  3|      A|\n| 13.86510415721255| 44|    63|   130|  Male|          High|  6|  9|  8| 10|      D|\n|12.414742661579158| 48|    61|   120|Female|           Low|  3| 17|  5| 20|      B|\n+------------------+---+------+------+------+--------------+---+---+---+---+-------+\n\n"
        }
      ],
      "execution_count": 102,
      "metadata": {
        "jupyter": {
          "source_hidden": false,
          "outputs_hidden": false
        },
        "nteract": {
          "transient": {
            "deleting": false
          }
        },
        "gather": {
          "logged": 1700268547801
        }
      }
    },
    {
      "cell_type": "code",
      "source": [
        "predictions.toPandas().to_csv(\"Users/ml2078/fall-2023-reddit-project-team-10/data/csv/new_data_prediction.csv\",index=False)"
      ],
      "outputs": [
        {
          "output_type": "display_data",
          "data": {
            "application/vnd.livy.statement-meta+json": {
              "spark_pool": "80dcc4b2-bc50-4e81-91e5-397b7f13252e",
              "session_id": "23",
              "statement_id": 108,
              "state": "finished",
              "livy_statement_state": "available",
              "queued_time": "2023-11-18T00:49:22.0883803Z",
              "session_start_time": null,
              "execution_start_time": "2023-11-18T00:49:22.2557859Z",
              "execution_finish_time": "2023-11-18T00:49:23.1278669Z",
              "spark_jobs": {
                "numbers": {
                  "FAILED": 0,
                  "RUNNING": 0,
                  "SUCCEEDED": 1,
                  "UNKNOWN": 0
                },
                "jobs": [
                  {
                    "displayName": "toPandas at /tmp/ipykernel_8211/3678163033.py:1",
                    "dataWritten": 0,
                    "dataRead": 0,
                    "rowCount": 0,
                    "usageDescription": "",
                    "jobId": 379,
                    "name": "toPandas at /tmp/ipykernel_8211/3678163033.py:1",
                    "description": "Job group for statement 108:\npredictions.toPandas().to_csv(\"Users/ml2078/fall-2023-reddit-project-team-10/data/csv/new_data_prediction.csv\",index=False)",
                    "submissionTime": "2023-11-18T00:49:22.296GMT",
                    "completionTime": "2023-11-18T00:49:22.416GMT",
                    "stageIds": [
                      469
                    ],
                    "jobGroup": "108",
                    "status": "SUCCEEDED",
                    "numTasks": 8,
                    "numActiveTasks": 0,
                    "numCompletedTasks": 8,
                    "numSkippedTasks": 0,
                    "numFailedTasks": 0,
                    "numKilledTasks": 0,
                    "numCompletedIndices": 8,
                    "numActiveStages": 0,
                    "numCompletedStages": 1,
                    "numSkippedStages": 0,
                    "numFailedStages": 0,
                    "killedTasksSummary": {}
                  }
                ],
                "limit": 20,
                "rule": "ALL_DESC"
              },
              "parent_msg_id": "50673282-a63a-44be-b75e-43def8e4af22"
            },
            "text/plain": "StatementMeta(80dcc4b2-bc50-4e81-91e5-397b7f13252e, 23, 108, Finished, Available)"
          },
          "metadata": {}
        },
        {
          "output_type": "stream",
          "name": "stderr",
          "text": "/opt/spark/python/lib/pyspark.zip/pyspark/sql/pandas/conversion.py:87: UserWarning: toPandas attempted Arrow optimization because 'spark.sql.execution.arrow.pyspark.enabled' is set to true; however, failed by the reason below:\n  Unsupported type in conversion to Arrow: VectorUDT\nAttempting non-optimization as 'spark.sql.execution.arrow.pyspark.fallback.enabled' is set to true.\n  warnings.warn(msg)\n"
        }
      ],
      "execution_count": 103,
      "metadata": {
        "jupyter": {
          "source_hidden": false,
          "outputs_hidden": false
        },
        "nteract": {
          "transient": {
            "deleting": false
          }
        },
        "gather": {
          "logged": 1700268563648
        }
      }
    }
  ],
  "metadata": {
    "kernelspec": {
      "name": "synapse_pyspark",
      "language": "Python",
      "display_name": "Synapse PySpark"
    },
    "language_info": {
      "name": "python",
      "version": "3.8.0",
      "mimetype": "text/x-python",
      "file_extension": ".py",
      "pygments_lexer": "ipython",
      "codemirror_mode": "ipython",
      "nbconvert_exporter": "python"
    },
    "microsoft": {
      "ms_spell_check": {
        "ms_spell_check_language": "en"
      },
      "host": {
        "AzureML": {
          "notebookHasBeenCompleted": true
        }
      }
    },
    "kernel_info": {
      "name": "synapse_pyspark"
    },
    "nteract": {
      "version": "nteract-front-end@1.0.0"
    }
  },
  "nbformat": 4,
  "nbformat_minor": 2
}