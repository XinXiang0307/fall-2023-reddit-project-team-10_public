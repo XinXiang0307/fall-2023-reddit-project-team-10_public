{
  "cells": [
    {
      "cell_type": "markdown",
      "metadata": {
        "nteract": {
          "transient": {
            "deleting": false
          }
        }
      },
      "source": [
        "## load spark session"
      ]
    },
    {
      "cell_type": "code",
      "execution_count": 1,
      "metadata": {
        "gather": {
          "logged": 1700858877468
        },
        "jupyter": {
          "outputs_hidden": false,
          "source_hidden": false
        },
        "nteract": {
          "transient": {
            "deleting": false
          }
        }
      },
      "outputs": [
        {
          "data": {
            "application/vnd.livy.statement-meta+json": {
              "execution_finish_time": "2023-11-24T20:47:57.3433902Z",
              "execution_start_time": "2023-11-24T20:47:54.3641479Z",
              "livy_statement_state": "available",
              "parent_msg_id": "7ab453f4-b816-4c30-a460-00e9ff9c6965",
              "queued_time": "2023-11-24T20:44:43.4722423Z",
              "session_id": "24",
              "session_start_time": "2023-11-24T20:44:43.5251658Z",
              "spark_jobs": {
                "jobs": [],
                "limit": 20,
                "numbers": {
                  "FAILED": 0,
                  "RUNNING": 0,
                  "SUCCEEDED": 0,
                  "UNKNOWN": 0
                },
                "rule": "ALL_DESC"
              },
              "spark_pool": "80dcc4b2-bc50-4e81-91e5-397b7f13252e",
              "state": "finished",
              "statement_id": 6
            },
            "text/plain": [
              "StatementMeta(80dcc4b2-bc50-4e81-91e5-397b7f13252e, 24, 6, Finished, Available)"
            ]
          },
          "metadata": {},
          "output_type": "display_data"
        },
        {
          "data": {
            "text/html": [
              "\n",
              "            <div>\n",
              "                <p><b>SparkSession - hive</b></p>\n",
              "                \n",
              "        <div>\n",
              "            <p><b>SparkContext</b></p>\n",
              "\n",
              "            <p><a href=\"http://vm-d4f67347:44269\">Spark UI</a></p>\n",
              "\n",
              "            <dl>\n",
              "              <dt>Version</dt>\n",
              "                <dd><code>v3.2.2.5.1-100879434</code></dd>\n",
              "              <dt>Master</dt>\n",
              "                <dd><code>yarn</code></dd>\n",
              "              <dt>AppName</dt>\n",
              "                <dd><code>Azure ML Experiment</code></dd>\n",
              "            </dl>\n",
              "        </div>\n",
              "        \n",
              "            </div>\n",
              "        "
            ],
            "text/plain": [
              "<pyspark.sql.session.SparkSession at 0x7f740f7e02b0>"
            ]
          },
          "execution_count": 11,
          "metadata": {},
          "output_type": "execute_result"
        }
      ],
      "source": [
        "spark"
      ]
    },
    {
      "cell_type": "markdown",
      "metadata": {
        "nteract": {
          "transient": {
            "deleting": false
          }
        }
      },
      "source": [
        "### Import all necessary packages"
      ]
    },
    {
      "cell_type": "code",
      "execution_count": 26,
      "metadata": {
        "gather": {
          "logged": 1700859570138
        }
      },
      "outputs": [
        {
          "data": {
            "application/vnd.livy.statement-meta+json": {
              "execution_finish_time": "2023-11-24T20:59:30.1013653Z",
              "execution_start_time": "2023-11-24T20:59:29.8030875Z",
              "livy_statement_state": "available",
              "parent_msg_id": "6f55c1ca-d19b-4a0d-b8d8-dfe371385396",
              "queued_time": "2023-11-24T20:59:29.6435792Z",
              "session_id": "24",
              "session_start_time": null,
              "spark_jobs": {
                "jobs": [],
                "limit": 20,
                "numbers": {
                  "FAILED": 0,
                  "RUNNING": 0,
                  "SUCCEEDED": 0,
                  "UNKNOWN": 0
                },
                "rule": "ALL_DESC"
              },
              "spark_pool": "80dcc4b2-bc50-4e81-91e5-397b7f13252e",
              "state": "finished",
              "statement_id": 31
            },
            "text/plain": [
              "StatementMeta(80dcc4b2-bc50-4e81-91e5-397b7f13252e, 24, 31, Finished, Available)"
            ]
          },
          "metadata": {},
          "output_type": "display_data"
        }
      ],
      "source": [
        "import pandas as pd\n",
        "from pyspark.sql import SparkSession\n",
        "from pyspark.ml.feature import Tokenizer, StopWordsRemover, HashingTF, IDF, StringIndexer\n",
        "from pyspark.ml.classification import LogisticRegression\n",
        "from pyspark.ml.evaluation import MulticlassClassificationEvaluator\n",
        "from pyspark.ml import Pipeline\n",
        "from pyspark.sql.functions import udf\n",
        "from pyspark.sql.types import StringType\n",
        "from tqdm import tqdm\n",
        "import re\n",
        "# Import NLTK and WordNetLemmatizer\n",
        "import nltk\n",
        "from nltk.stem import WordNetLemmatizer\n",
        "from nltk.corpus import stopwords"
      ]
    },
    {
      "cell_type": "markdown",
      "metadata": {
        "nteract": {
          "transient": {
            "deleting": false
          }
        }
      },
      "source": [
        "### load the external data"
      ]
    },
    {
      "cell_type": "code",
      "execution_count": 7,
      "metadata": {
        "gather": {
          "logged": 1700859025820
        },
        "jupyter": {
          "outputs_hidden": false,
          "source_hidden": false
        },
        "nteract": {
          "transient": {
            "deleting": false
          }
        }
      },
      "outputs": [
        {
          "data": {
            "application/vnd.livy.statement-meta+json": {
              "execution_finish_time": "2023-11-24T20:50:25.7235139Z",
              "execution_start_time": "2023-11-24T20:50:23.1609038Z",
              "livy_statement_state": "available",
              "parent_msg_id": "12045066-e711-4fad-b9c6-f14270f9981a",
              "queued_time": "2023-11-24T20:50:23.0605479Z",
              "session_id": "24",
              "session_start_time": null,
              "spark_jobs": {
                "jobs": [],
                "limit": 20,
                "numbers": {
                  "FAILED": 0,
                  "RUNNING": 0,
                  "SUCCEEDED": 0,
                  "UNKNOWN": 0
                },
                "rule": "ALL_DESC"
              },
              "spark_pool": "80dcc4b2-bc50-4e81-91e5-397b7f13252e",
              "state": "finished",
              "statement_id": 12
            },
            "text/plain": [
              "StatementMeta(80dcc4b2-bc50-4e81-91e5-397b7f13252e, 24, 12, Finished, Available)"
            ]
          },
          "metadata": {},
          "output_type": "display_data"
        }
      ],
      "source": [
        "data_pd = pd.read_csv(\"Users/xl659/fall-2023-reddit-project-team-10/data/csv/mbti_1.csv\")"
      ]
    },
    {
      "cell_type": "code",
      "execution_count": 35,
      "metadata": {
        "gather": {
          "logged": 1700860407945
        },
        "jupyter": {
          "outputs_hidden": false,
          "source_hidden": false
        },
        "nteract": {
          "transient": {
            "deleting": false
          }
        }
      },
      "outputs": [
        {
          "data": {
            "application/vnd.livy.statement-meta+json": {
              "execution_finish_time": "2023-11-24T21:13:27.8299056Z",
              "execution_start_time": "2023-11-24T21:13:27.0183493Z",
              "livy_statement_state": "available",
              "parent_msg_id": "38418f21-6ad0-45b4-aaae-7a1cfeb2e926",
              "queued_time": "2023-11-24T21:13:26.8282292Z",
              "session_id": "24",
              "session_start_time": null,
              "spark_jobs": {
                "jobs": [],
                "limit": 20,
                "numbers": {
                  "FAILED": 0,
                  "RUNNING": 0,
                  "SUCCEEDED": 0,
                  "UNKNOWN": 0
                },
                "rule": "ALL_DESC"
              },
              "spark_pool": "80dcc4b2-bc50-4e81-91e5-397b7f13252e",
              "state": "finished",
              "statement_id": 40
            },
            "text/plain": [
              "StatementMeta(80dcc4b2-bc50-4e81-91e5-397b7f13252e, 24, 40, Finished, Available)"
            ]
          },
          "metadata": {},
          "output_type": "display_data"
        }
      ],
      "source": [
        "data = spark.createDataFrame(data_pd)"
      ]
    },
    {
      "cell_type": "code",
      "execution_count": 36,
      "metadata": {
        "gather": {
          "logged": 1700860409808
        },
        "jupyter": {
          "outputs_hidden": false,
          "source_hidden": false
        },
        "nteract": {
          "transient": {
            "deleting": false
          }
        }
      },
      "outputs": [
        {
          "data": {
            "application/vnd.livy.statement-meta+json": {
              "execution_finish_time": "2023-11-24T21:13:29.7235251Z",
              "execution_start_time": "2023-11-24T21:13:28.8824139Z",
              "livy_statement_state": "available",
              "parent_msg_id": "fd9a0405-a903-43ae-8550-f17e42442b63",
              "queued_time": "2023-11-24T21:13:28.7253417Z",
              "session_id": "24",
              "session_start_time": null,
              "spark_jobs": {
                "jobs": [
                  {
                    "completionTime": "2023-11-24T21:13:29.050GMT",
                    "dataRead": 0,
                    "dataWritten": 0,
                    "description": "Job group for statement 41:\ndata.show(5)",
                    "displayName": "showString at NativeMethodAccessorImpl.java:0",
                    "jobGroup": "41",
                    "jobId": 7,
                    "killedTasksSummary": {},
                    "name": "showString at NativeMethodAccessorImpl.java:0",
                    "numActiveStages": 0,
                    "numActiveTasks": 0,
                    "numCompletedIndices": 1,
                    "numCompletedStages": 1,
                    "numCompletedTasks": 1,
                    "numFailedStages": 0,
                    "numFailedTasks": 0,
                    "numKilledTasks": 0,
                    "numSkippedStages": 0,
                    "numSkippedTasks": 0,
                    "numTasks": 1,
                    "rowCount": 0,
                    "stageIds": [
                      7
                    ],
                    "status": "SUCCEEDED",
                    "submissionTime": "2023-11-24T21:13:28.931GMT",
                    "usageDescription": ""
                  }
                ],
                "limit": 20,
                "numbers": {
                  "FAILED": 0,
                  "RUNNING": 0,
                  "SUCCEEDED": 1,
                  "UNKNOWN": 0
                },
                "rule": "ALL_DESC"
              },
              "spark_pool": "80dcc4b2-bc50-4e81-91e5-397b7f13252e",
              "state": "finished",
              "statement_id": 41
            },
            "text/plain": [
              "StatementMeta(80dcc4b2-bc50-4e81-91e5-397b7f13252e, 24, 41, Finished, Available)"
            ]
          },
          "metadata": {},
          "output_type": "display_data"
        },
        {
          "name": "stdout",
          "output_type": "stream",
          "text": [
            "+----+--------------------+\n",
            "|type|               posts|\n",
            "+----+--------------------+\n",
            "|INFJ|'http://www.youtu...|\n",
            "|ENTP|'I'm finding the ...|\n",
            "|INTP|'Good one  _____ ...|\n",
            "|INTJ|'Dear INTP,   I e...|\n",
            "|ENTJ|'You're fired.|||...|\n",
            "+----+--------------------+\n",
            "only showing top 5 rows\n",
            "\n"
          ]
        }
      ],
      "source": [
        "data.show(5)"
      ]
    },
    {
      "cell_type": "markdown",
      "metadata": {
        "nteract": {
          "transient": {
            "deleting": false
          }
        }
      },
      "source": [
        "## data preprocessing"
      ]
    },
    {
      "cell_type": "code",
      "execution_count": 37,
      "metadata": {
        "gather": {
          "logged": 1700860412651
        },
        "jupyter": {
          "outputs_hidden": false,
          "source_hidden": false
        },
        "nteract": {
          "transient": {
            "deleting": false
          }
        }
      },
      "outputs": [
        {
          "data": {
            "application/vnd.livy.statement-meta+json": {
              "execution_finish_time": "2023-11-24T21:13:32.5604171Z",
              "execution_start_time": "2023-11-24T21:13:32.2710509Z",
              "livy_statement_state": "available",
              "parent_msg_id": "2e9d2015-1c50-447d-a0ee-9e6f4d58a533",
              "queued_time": "2023-11-24T21:13:32.1031311Z",
              "session_id": "24",
              "session_start_time": null,
              "spark_jobs": {
                "jobs": [],
                "limit": 20,
                "numbers": {
                  "FAILED": 0,
                  "RUNNING": 0,
                  "SUCCEEDED": 0,
                  "UNKNOWN": 0
                },
                "rule": "ALL_DESC"
              },
              "spark_pool": "80dcc4b2-bc50-4e81-91e5-397b7f13252e",
              "state": "finished",
              "statement_id": 42
            },
            "text/plain": [
              "StatementMeta(80dcc4b2-bc50-4e81-91e5-397b7f13252e, 24, 42, Finished, Available)"
            ]
          },
          "metadata": {},
          "output_type": "display_data"
        }
      ],
      "source": [
        "from pyspark.sql.functions import col, lower, regexp_replace\n",
        "from pyspark.ml.feature import Tokenizer\n",
        "from pyspark.ml import Pipeline"
      ]
    },
    {
      "cell_type": "code",
      "execution_count": 38,
      "metadata": {
        "gather": {
          "logged": 1700860414671
        },
        "jupyter": {
          "outputs_hidden": false,
          "source_hidden": false
        },
        "nteract": {
          "transient": {
            "deleting": false
          }
        }
      },
      "outputs": [
        {
          "data": {
            "application/vnd.livy.statement-meta+json": {
              "execution_finish_time": "2023-11-24T21:13:34.5695057Z",
              "execution_start_time": "2023-11-24T21:13:34.2685965Z",
              "livy_statement_state": "available",
              "parent_msg_id": "98a1f968-ac4d-42e9-8e73-0b339d415a5f",
              "queued_time": "2023-11-24T21:13:34.059496Z",
              "session_id": "24",
              "session_start_time": null,
              "spark_jobs": {
                "jobs": [],
                "limit": 20,
                "numbers": {
                  "FAILED": 0,
                  "RUNNING": 0,
                  "SUCCEEDED": 0,
                  "UNKNOWN": 0
                },
                "rule": "ALL_DESC"
              },
              "spark_pool": "80dcc4b2-bc50-4e81-91e5-397b7f13252e",
              "state": "finished",
              "statement_id": 43
            },
            "text/plain": [
              "StatementMeta(80dcc4b2-bc50-4e81-91e5-397b7f13252e, 24, 43, Finished, Available)"
            ]
          },
          "metadata": {},
          "output_type": "display_data"
        }
      ],
      "source": [
        "#convert to lower case\n",
        "df_cleaned = data.withColumn(\"cleaned_text\", lower(col(\"posts\")))\n",
        "# remove punctuation\n",
        "df_cleaned = df_cleaned.withColumn(\"cleaned_text\", regexp_replace(\"cleaned_text\", \"[^a-zA-Z0-9\\\\s]\", \"\"))\n",
        "# remove the rows with na in the cleaned_text column\n",
        "df_cleaned = df_cleaned.na.drop(subset=[\"cleaned_text\"])"
      ]
    },
    {
      "cell_type": "code",
      "execution_count": 39,
      "metadata": {
        "gather": {
          "logged": 1700860417645
        },
        "jupyter": {
          "outputs_hidden": false,
          "source_hidden": false
        },
        "nteract": {
          "transient": {
            "deleting": false
          }
        }
      },
      "outputs": [
        {
          "data": {
            "application/vnd.livy.statement-meta+json": {
              "execution_finish_time": "2023-11-24T21:13:37.5460065Z",
              "execution_start_time": "2023-11-24T21:13:36.7327373Z",
              "livy_statement_state": "available",
              "parent_msg_id": "142ccf66-4265-467c-b976-78e01f0cf168",
              "queued_time": "2023-11-24T21:13:36.5719324Z",
              "session_id": "24",
              "session_start_time": null,
              "spark_jobs": {
                "jobs": [
                  {
                    "completionTime": "2023-11-24T21:13:37.141GMT",
                    "dataRead": 0,
                    "dataWritten": 0,
                    "description": "Job group for statement 44:\ndf_cleaned.show(5)",
                    "displayName": "showString at NativeMethodAccessorImpl.java:0",
                    "jobGroup": "44",
                    "jobId": 8,
                    "killedTasksSummary": {},
                    "name": "showString at NativeMethodAccessorImpl.java:0",
                    "numActiveStages": 0,
                    "numActiveTasks": 0,
                    "numCompletedIndices": 1,
                    "numCompletedStages": 1,
                    "numCompletedTasks": 1,
                    "numFailedStages": 0,
                    "numFailedTasks": 0,
                    "numKilledTasks": 0,
                    "numSkippedStages": 0,
                    "numSkippedTasks": 0,
                    "numTasks": 1,
                    "rowCount": 0,
                    "stageIds": [
                      8
                    ],
                    "status": "SUCCEEDED",
                    "submissionTime": "2023-11-24T21:13:36.841GMT",
                    "usageDescription": ""
                  }
                ],
                "limit": 20,
                "numbers": {
                  "FAILED": 0,
                  "RUNNING": 0,
                  "SUCCEEDED": 1,
                  "UNKNOWN": 0
                },
                "rule": "ALL_DESC"
              },
              "spark_pool": "80dcc4b2-bc50-4e81-91e5-397b7f13252e",
              "state": "finished",
              "statement_id": 44
            },
            "text/plain": [
              "StatementMeta(80dcc4b2-bc50-4e81-91e5-397b7f13252e, 24, 44, Finished, Available)"
            ]
          },
          "metadata": {},
          "output_type": "display_data"
        },
        {
          "name": "stdout",
          "output_type": "stream",
          "text": [
            "+----+--------------------+--------------------+\n",
            "|type|               posts|        cleaned_text|\n",
            "+----+--------------------+--------------------+\n",
            "|INFJ|'http://www.youtu...|httpwwwyoutubecom...|\n",
            "|ENTP|'I'm finding the ...|im finding the la...|\n",
            "|INTP|'Good one  _____ ...|good one     http...|\n",
            "|INTJ|'Dear INTP,   I e...|dear intp   i enj...|\n",
            "|ENTJ|'You're fired.|||...|youre firedthats ...|\n",
            "+----+--------------------+--------------------+\n",
            "only showing top 5 rows\n",
            "\n"
          ]
        }
      ],
      "source": [
        "df_cleaned.show(5)"
      ]
    },
    {
      "cell_type": "markdown",
      "metadata": {
        "nteract": {
          "transient": {
            "deleting": false
          }
        }
      },
      "source": [
        "## build ML models to classify the posts"
      ]
    },
    {
      "cell_type": "code",
      "execution_count": 58,
      "metadata": {
        "gather": {
          "logged": 1700862278510
        },
        "jupyter": {
          "outputs_hidden": false,
          "source_hidden": false
        },
        "nteract": {
          "transient": {
            "deleting": false
          }
        }
      },
      "outputs": [
        {
          "data": {
            "application/vnd.livy.statement-meta+json": {
              "execution_finish_time": "2023-11-24T21:44:38.3674654Z",
              "execution_start_time": "2023-11-24T21:44:38.0604328Z",
              "livy_statement_state": "available",
              "parent_msg_id": "93591d3f-bb90-4f39-9fc2-650318c68941",
              "queued_time": "2023-11-24T21:44:37.8893107Z",
              "session_id": "24",
              "session_start_time": null,
              "spark_jobs": {
                "jobs": [],
                "limit": 20,
                "numbers": {
                  "FAILED": 0,
                  "RUNNING": 0,
                  "SUCCEEDED": 0,
                  "UNKNOWN": 0
                },
                "rule": "ALL_DESC"
              },
              "spark_pool": "80dcc4b2-bc50-4e81-91e5-397b7f13252e",
              "state": "finished",
              "statement_id": 63
            },
            "text/plain": [
              "StatementMeta(80dcc4b2-bc50-4e81-91e5-397b7f13252e, 24, 63, Finished, Available)"
            ]
          },
          "metadata": {},
          "output_type": "display_data"
        }
      ],
      "source": [
        "#load all the packages\n",
        "from pyspark.ml.feature import StopWordsRemover\n",
        "from pyspark.ml import Pipeline\n",
        "from pyspark.sql.functions import regexp_replace, col\n",
        "from pyspark.ml.feature import Tokenizer, CountVectorizer\n",
        "from pyspark.ml.classification import RandomForestClassifier, GBTClassifier, LogisticRegression, LinearSVC, OneVsRest\n",
        "from pyspark.ml.evaluation import MulticlassClassificationEvaluator\n",
        "from pyspark.sql import Row"
      ]
    },
    {
      "cell_type": "markdown",
      "metadata": {
        "nteract": {
          "transient": {
            "deleting": false
          }
        }
      },
      "source": [
        "## Build Model Pipeline"
      ]
    },
    {
      "cell_type": "code",
      "execution_count": 43,
      "metadata": {
        "gather": {
          "logged": 1700861060461
        },
        "jupyter": {
          "outputs_hidden": false,
          "source_hidden": false
        },
        "nteract": {
          "transient": {
            "deleting": false
          }
        }
      },
      "outputs": [
        {
          "data": {
            "application/vnd.livy.statement-meta+json": {
              "execution_finish_time": "2023-11-24T21:24:20.3778573Z",
              "execution_start_time": "2023-11-24T21:24:20.0793684Z",
              "livy_statement_state": "available",
              "parent_msg_id": "4bfa5ea5-a981-4237-a26f-baf168729b31",
              "queued_time": "2023-11-24T21:24:19.8844586Z",
              "session_id": "24",
              "session_start_time": null,
              "spark_jobs": {
                "jobs": [],
                "limit": 20,
                "numbers": {
                  "FAILED": 0,
                  "RUNNING": 0,
                  "SUCCEEDED": 0,
                  "UNKNOWN": 0
                },
                "rule": "ALL_DESC"
              },
              "spark_pool": "80dcc4b2-bc50-4e81-91e5-397b7f13252e",
              "state": "finished",
              "statement_id": 48
            },
            "text/plain": [
              "StatementMeta(80dcc4b2-bc50-4e81-91e5-397b7f13252e, 24, 48, Finished, Available)"
            ]
          },
          "metadata": {},
          "output_type": "display_data"
        }
      ],
      "source": [
        "# Tokenize and Vectorize Text\n",
        "tokenizer = Tokenizer(inputCol=\"cleaned_text\", outputCol=\"tokens\")\n",
        "vectorizer = CountVectorizer(inputCol=\"tokens\", outputCol=\"features\")\n",
        "\n",
        "#  Convert the \"type\" column to a numeric type\n",
        "indexer = StringIndexer(inputCol=\"type\", outputCol=\"label\")\n",
        "\n",
        "# Split Data into Train, Test, and Validation Sets\n",
        "# Adjust the ratios based on your preference\n",
        "train_df, test_df, val_df = df_cleaned.randomSplit([0.8, 0.1, 0.1], seed=42)\n"
      ]
    },
    {
      "cell_type": "markdown",
      "metadata": {
        "nteract": {
          "transient": {
            "deleting": false
          }
        }
      },
      "source": [
        "#### Logistic Regression Classifier"
      ]
    },
    {
      "cell_type": "code",
      "execution_count": 56,
      "metadata": {
        "gather": {
          "logged": 1700862191683
        },
        "jupyter": {
          "outputs_hidden": false,
          "source_hidden": false
        },
        "nteract": {
          "transient": {
            "deleting": false
          }
        }
      },
      "outputs": [
        {
          "data": {
            "application/vnd.livy.statement-meta+json": {
              "execution_finish_time": "2023-11-24T21:43:11.4220825Z",
              "execution_start_time": "2023-11-24T21:40:49.2016521Z",
              "livy_statement_state": "available",
              "parent_msg_id": "aa7b9e46-530b-4bc9-89b2-e7c7e521fa7e",
              "queued_time": "2023-11-24T21:40:49.0396478Z",
              "session_id": "24",
              "session_start_time": null,
              "spark_jobs": {
                "jobs": [
                  {
                    "completionTime": "2023-11-24T21:43:03.598GMT",
                    "dataRead": 107448312,
                    "dataWritten": 62768656,
                    "description": "Job group for statement 61:\n# Logistic Regression Classifier\nlr = LogisticRegression(labelCol=\"label\", featuresCol=\"features\")\nlr_pipeline = Pipeline(stages=[tokenizer, vectorizer,indexer, lr])\nlr_model = lr_pipeline.fit(train_df)",
                    "displayName": "treeAggregate at RDDLossFunction.scala:61",
                    "jobGroup": "61",
                    "jobId": 116,
                    "killedTasksSummary": {},
                    "name": "treeAggregate at RDDLossFunction.scala:61",
                    "numActiveStages": 0,
                    "numActiveTasks": 0,
                    "numCompletedIndices": 10,
                    "numCompletedStages": 2,
                    "numCompletedTasks": 10,
                    "numFailedStages": 0,
                    "numFailedTasks": 0,
                    "numKilledTasks": 0,
                    "numSkippedStages": 0,
                    "numSkippedTasks": 0,
                    "numTasks": 10,
                    "rowCount": 64,
                    "stageIds": [
                      216,
                      217
                    ],
                    "status": "SUCCEEDED",
                    "submissionTime": "2023-11-24T21:43:00.513GMT",
                    "usageDescription": ""
                  },
                  {
                    "completionTime": "2023-11-24T21:42:59.498GMT",
                    "dataRead": 107444923,
                    "dataWritten": 62765267,
                    "description": "Job group for statement 61:\n# Logistic Regression Classifier\nlr = LogisticRegression(labelCol=\"label\", featuresCol=\"features\")\nlr_pipeline = Pipeline(stages=[tokenizer, vectorizer,indexer, lr])\nlr_model = lr_pipeline.fit(train_df)",
                    "displayName": "treeAggregate at RDDLossFunction.scala:61",
                    "jobGroup": "61",
                    "jobId": 115,
                    "killedTasksSummary": {},
                    "name": "treeAggregate at RDDLossFunction.scala:61",
                    "numActiveStages": 0,
                    "numActiveTasks": 0,
                    "numCompletedIndices": 10,
                    "numCompletedStages": 2,
                    "numCompletedTasks": 10,
                    "numFailedStages": 0,
                    "numFailedTasks": 0,
                    "numKilledTasks": 0,
                    "numSkippedStages": 0,
                    "numSkippedTasks": 0,
                    "numTasks": 10,
                    "rowCount": 64,
                    "stageIds": [
                      215,
                      214
                    ],
                    "status": "SUCCEEDED",
                    "submissionTime": "2023-11-24T21:42:56.323GMT",
                    "usageDescription": ""
                  },
                  {
                    "completionTime": "2023-11-24T21:42:55.326GMT",
                    "dataRead": 107470048,
                    "dataWritten": 62790392,
                    "description": "Job group for statement 61:\n# Logistic Regression Classifier\nlr = LogisticRegression(labelCol=\"label\", featuresCol=\"features\")\nlr_pipeline = Pipeline(stages=[tokenizer, vectorizer,indexer, lr])\nlr_model = lr_pipeline.fit(train_df)",
                    "displayName": "treeAggregate at RDDLossFunction.scala:61",
                    "jobGroup": "61",
                    "jobId": 114,
                    "killedTasksSummary": {},
                    "name": "treeAggregate at RDDLossFunction.scala:61",
                    "numActiveStages": 0,
                    "numActiveTasks": 0,
                    "numCompletedIndices": 10,
                    "numCompletedStages": 2,
                    "numCompletedTasks": 10,
                    "numFailedStages": 0,
                    "numFailedTasks": 0,
                    "numKilledTasks": 0,
                    "numSkippedStages": 0,
                    "numSkippedTasks": 0,
                    "numTasks": 10,
                    "rowCount": 64,
                    "stageIds": [
                      212,
                      213
                    ],
                    "status": "SUCCEEDED",
                    "submissionTime": "2023-11-24T21:42:52.272GMT",
                    "usageDescription": ""
                  },
                  {
                    "completionTime": "2023-11-24T21:42:51.276GMT",
                    "dataRead": 107479920,
                    "dataWritten": 62800264,
                    "description": "Job group for statement 61:\n# Logistic Regression Classifier\nlr = LogisticRegression(labelCol=\"label\", featuresCol=\"features\")\nlr_pipeline = Pipeline(stages=[tokenizer, vectorizer,indexer, lr])\nlr_model = lr_pipeline.fit(train_df)",
                    "displayName": "treeAggregate at RDDLossFunction.scala:61",
                    "jobGroup": "61",
                    "jobId": 113,
                    "killedTasksSummary": {},
                    "name": "treeAggregate at RDDLossFunction.scala:61",
                    "numActiveStages": 0,
                    "numActiveTasks": 0,
                    "numCompletedIndices": 10,
                    "numCompletedStages": 2,
                    "numCompletedTasks": 10,
                    "numFailedStages": 0,
                    "numFailedTasks": 0,
                    "numKilledTasks": 0,
                    "numSkippedStages": 0,
                    "numSkippedTasks": 0,
                    "numTasks": 10,
                    "rowCount": 64,
                    "stageIds": [
                      210,
                      211
                    ],
                    "status": "SUCCEEDED",
                    "submissionTime": "2023-11-24T21:42:48.101GMT",
                    "usageDescription": ""
                  },
                  {
                    "completionTime": "2023-11-24T21:42:47.091GMT",
                    "dataRead": 107497800,
                    "dataWritten": 62818144,
                    "description": "Job group for statement 61:\n# Logistic Regression Classifier\nlr = LogisticRegression(labelCol=\"label\", featuresCol=\"features\")\nlr_pipeline = Pipeline(stages=[tokenizer, vectorizer,indexer, lr])\nlr_model = lr_pipeline.fit(train_df)",
                    "displayName": "treeAggregate at RDDLossFunction.scala:61",
                    "jobGroup": "61",
                    "jobId": 112,
                    "killedTasksSummary": {},
                    "name": "treeAggregate at RDDLossFunction.scala:61",
                    "numActiveStages": 0,
                    "numActiveTasks": 0,
                    "numCompletedIndices": 10,
                    "numCompletedStages": 2,
                    "numCompletedTasks": 10,
                    "numFailedStages": 0,
                    "numFailedTasks": 0,
                    "numKilledTasks": 0,
                    "numSkippedStages": 0,
                    "numSkippedTasks": 0,
                    "numTasks": 10,
                    "rowCount": 64,
                    "stageIds": [
                      208,
                      209
                    ],
                    "status": "SUCCEEDED",
                    "submissionTime": "2023-11-24T21:42:43.785GMT",
                    "usageDescription": ""
                  },
                  {
                    "completionTime": "2023-11-24T21:42:42.822GMT",
                    "dataRead": 107509657,
                    "dataWritten": 62830001,
                    "description": "Job group for statement 61:\n# Logistic Regression Classifier\nlr = LogisticRegression(labelCol=\"label\", featuresCol=\"features\")\nlr_pipeline = Pipeline(stages=[tokenizer, vectorizer,indexer, lr])\nlr_model = lr_pipeline.fit(train_df)",
                    "displayName": "treeAggregate at RDDLossFunction.scala:61",
                    "jobGroup": "61",
                    "jobId": 111,
                    "killedTasksSummary": {},
                    "name": "treeAggregate at RDDLossFunction.scala:61",
                    "numActiveStages": 0,
                    "numActiveTasks": 0,
                    "numCompletedIndices": 10,
                    "numCompletedStages": 2,
                    "numCompletedTasks": 10,
                    "numFailedStages": 0,
                    "numFailedTasks": 0,
                    "numKilledTasks": 0,
                    "numSkippedStages": 0,
                    "numSkippedTasks": 0,
                    "numTasks": 10,
                    "rowCount": 64,
                    "stageIds": [
                      206,
                      207
                    ],
                    "status": "SUCCEEDED",
                    "submissionTime": "2023-11-24T21:42:39.677GMT",
                    "usageDescription": ""
                  },
                  {
                    "completionTime": "2023-11-24T21:42:38.663GMT",
                    "dataRead": 107508221,
                    "dataWritten": 62828565,
                    "description": "Job group for statement 61:\n# Logistic Regression Classifier\nlr = LogisticRegression(labelCol=\"label\", featuresCol=\"features\")\nlr_pipeline = Pipeline(stages=[tokenizer, vectorizer,indexer, lr])\nlr_model = lr_pipeline.fit(train_df)",
                    "displayName": "treeAggregate at RDDLossFunction.scala:61",
                    "jobGroup": "61",
                    "jobId": 110,
                    "killedTasksSummary": {},
                    "name": "treeAggregate at RDDLossFunction.scala:61",
                    "numActiveStages": 0,
                    "numActiveTasks": 0,
                    "numCompletedIndices": 10,
                    "numCompletedStages": 2,
                    "numCompletedTasks": 10,
                    "numFailedStages": 0,
                    "numFailedTasks": 0,
                    "numKilledTasks": 0,
                    "numSkippedStages": 0,
                    "numSkippedTasks": 0,
                    "numTasks": 10,
                    "rowCount": 64,
                    "stageIds": [
                      204,
                      205
                    ],
                    "status": "SUCCEEDED",
                    "submissionTime": "2023-11-24T21:42:35.558GMT",
                    "usageDescription": ""
                  },
                  {
                    "completionTime": "2023-11-24T21:42:34.460GMT",
                    "dataRead": 107510072,
                    "dataWritten": 62830416,
                    "description": "Job group for statement 61:\n# Logistic Regression Classifier\nlr = LogisticRegression(labelCol=\"label\", featuresCol=\"features\")\nlr_pipeline = Pipeline(stages=[tokenizer, vectorizer,indexer, lr])\nlr_model = lr_pipeline.fit(train_df)",
                    "displayName": "treeAggregate at RDDLossFunction.scala:61",
                    "jobGroup": "61",
                    "jobId": 109,
                    "killedTasksSummary": {},
                    "name": "treeAggregate at RDDLossFunction.scala:61",
                    "numActiveStages": 0,
                    "numActiveTasks": 0,
                    "numCompletedIndices": 10,
                    "numCompletedStages": 2,
                    "numCompletedTasks": 10,
                    "numFailedStages": 0,
                    "numFailedTasks": 0,
                    "numKilledTasks": 0,
                    "numSkippedStages": 0,
                    "numSkippedTasks": 0,
                    "numTasks": 10,
                    "rowCount": 64,
                    "stageIds": [
                      202,
                      203
                    ],
                    "status": "SUCCEEDED",
                    "submissionTime": "2023-11-24T21:42:31.416GMT",
                    "usageDescription": ""
                  },
                  {
                    "completionTime": "2023-11-24T21:42:30.397GMT",
                    "dataRead": 107517421,
                    "dataWritten": 62837765,
                    "description": "Job group for statement 61:\n# Logistic Regression Classifier\nlr = LogisticRegression(labelCol=\"label\", featuresCol=\"features\")\nlr_pipeline = Pipeline(stages=[tokenizer, vectorizer,indexer, lr])\nlr_model = lr_pipeline.fit(train_df)",
                    "displayName": "treeAggregate at RDDLossFunction.scala:61",
                    "jobGroup": "61",
                    "jobId": 108,
                    "killedTasksSummary": {},
                    "name": "treeAggregate at RDDLossFunction.scala:61",
                    "numActiveStages": 0,
                    "numActiveTasks": 0,
                    "numCompletedIndices": 10,
                    "numCompletedStages": 2,
                    "numCompletedTasks": 10,
                    "numFailedStages": 0,
                    "numFailedTasks": 0,
                    "numKilledTasks": 0,
                    "numSkippedStages": 0,
                    "numSkippedTasks": 0,
                    "numTasks": 10,
                    "rowCount": 64,
                    "stageIds": [
                      201,
                      200
                    ],
                    "status": "SUCCEEDED",
                    "submissionTime": "2023-11-24T21:42:27.300GMT",
                    "usageDescription": ""
                  },
                  {
                    "completionTime": "2023-11-24T21:42:26.300GMT",
                    "dataRead": 107510498,
                    "dataWritten": 62830842,
                    "description": "Job group for statement 61:\n# Logistic Regression Classifier\nlr = LogisticRegression(labelCol=\"label\", featuresCol=\"features\")\nlr_pipeline = Pipeline(stages=[tokenizer, vectorizer,indexer, lr])\nlr_model = lr_pipeline.fit(train_df)",
                    "displayName": "treeAggregate at RDDLossFunction.scala:61",
                    "jobGroup": "61",
                    "jobId": 107,
                    "killedTasksSummary": {},
                    "name": "treeAggregate at RDDLossFunction.scala:61",
                    "numActiveStages": 0,
                    "numActiveTasks": 0,
                    "numCompletedIndices": 10,
                    "numCompletedStages": 2,
                    "numCompletedTasks": 10,
                    "numFailedStages": 0,
                    "numFailedTasks": 0,
                    "numKilledTasks": 0,
                    "numSkippedStages": 0,
                    "numSkippedTasks": 0,
                    "numTasks": 10,
                    "rowCount": 64,
                    "stageIds": [
                      198,
                      199
                    ],
                    "status": "SUCCEEDED",
                    "submissionTime": "2023-11-24T21:42:21.211GMT",
                    "usageDescription": ""
                  },
                  {
                    "completionTime": "2023-11-24T21:42:20.184GMT",
                    "dataRead": 107521785,
                    "dataWritten": 62842129,
                    "description": "Job group for statement 61:\n# Logistic Regression Classifier\nlr = LogisticRegression(labelCol=\"label\", featuresCol=\"features\")\nlr_pipeline = Pipeline(stages=[tokenizer, vectorizer,indexer, lr])\nlr_model = lr_pipeline.fit(train_df)",
                    "displayName": "treeAggregate at RDDLossFunction.scala:61",
                    "jobGroup": "61",
                    "jobId": 106,
                    "killedTasksSummary": {},
                    "name": "treeAggregate at RDDLossFunction.scala:61",
                    "numActiveStages": 0,
                    "numActiveTasks": 0,
                    "numCompletedIndices": 10,
                    "numCompletedStages": 2,
                    "numCompletedTasks": 10,
                    "numFailedStages": 0,
                    "numFailedTasks": 0,
                    "numKilledTasks": 0,
                    "numSkippedStages": 0,
                    "numSkippedTasks": 0,
                    "numTasks": 10,
                    "rowCount": 64,
                    "stageIds": [
                      197,
                      196
                    ],
                    "status": "SUCCEEDED",
                    "submissionTime": "2023-11-24T21:42:16.835GMT",
                    "usageDescription": ""
                  },
                  {
                    "completionTime": "2023-11-24T21:42:15.787GMT",
                    "dataRead": 107531580,
                    "dataWritten": 62851924,
                    "description": "Job group for statement 61:\n# Logistic Regression Classifier\nlr = LogisticRegression(labelCol=\"label\", featuresCol=\"features\")\nlr_pipeline = Pipeline(stages=[tokenizer, vectorizer,indexer, lr])\nlr_model = lr_pipeline.fit(train_df)",
                    "displayName": "treeAggregate at RDDLossFunction.scala:61",
                    "jobGroup": "61",
                    "jobId": 105,
                    "killedTasksSummary": {},
                    "name": "treeAggregate at RDDLossFunction.scala:61",
                    "numActiveStages": 0,
                    "numActiveTasks": 0,
                    "numCompletedIndices": 10,
                    "numCompletedStages": 2,
                    "numCompletedTasks": 10,
                    "numFailedStages": 0,
                    "numFailedTasks": 0,
                    "numKilledTasks": 0,
                    "numSkippedStages": 0,
                    "numSkippedTasks": 0,
                    "numTasks": 10,
                    "rowCount": 64,
                    "stageIds": [
                      194,
                      195
                    ],
                    "status": "SUCCEEDED",
                    "submissionTime": "2023-11-24T21:42:12.576GMT",
                    "usageDescription": ""
                  },
                  {
                    "completionTime": "2023-11-24T21:42:11.170GMT",
                    "dataRead": 107652708,
                    "dataWritten": 62973052,
                    "description": "Job group for statement 61:\n# Logistic Regression Classifier\nlr = LogisticRegression(labelCol=\"label\", featuresCol=\"features\")\nlr_pipeline = Pipeline(stages=[tokenizer, vectorizer,indexer, lr])\nlr_model = lr_pipeline.fit(train_df)",
                    "displayName": "treeAggregate at RDDLossFunction.scala:61",
                    "jobGroup": "61",
                    "jobId": 104,
                    "killedTasksSummary": {},
                    "name": "treeAggregate at RDDLossFunction.scala:61",
                    "numActiveStages": 0,
                    "numActiveTasks": 0,
                    "numCompletedIndices": 10,
                    "numCompletedStages": 2,
                    "numCompletedTasks": 10,
                    "numFailedStages": 0,
                    "numFailedTasks": 0,
                    "numKilledTasks": 0,
                    "numSkippedStages": 0,
                    "numSkippedTasks": 0,
                    "numTasks": 10,
                    "rowCount": 64,
                    "stageIds": [
                      192,
                      193
                    ],
                    "status": "SUCCEEDED",
                    "submissionTime": "2023-11-24T21:42:07.912GMT",
                    "usageDescription": ""
                  },
                  {
                    "completionTime": "2023-11-24T21:42:06.901GMT",
                    "dataRead": 107670583,
                    "dataWritten": 62990927,
                    "description": "Job group for statement 61:\n# Logistic Regression Classifier\nlr = LogisticRegression(labelCol=\"label\", featuresCol=\"features\")\nlr_pipeline = Pipeline(stages=[tokenizer, vectorizer,indexer, lr])\nlr_model = lr_pipeline.fit(train_df)",
                    "displayName": "treeAggregate at RDDLossFunction.scala:61",
                    "jobGroup": "61",
                    "jobId": 103,
                    "killedTasksSummary": {},
                    "name": "treeAggregate at RDDLossFunction.scala:61",
                    "numActiveStages": 0,
                    "numActiveTasks": 0,
                    "numCompletedIndices": 10,
                    "numCompletedStages": 2,
                    "numCompletedTasks": 10,
                    "numFailedStages": 0,
                    "numFailedTasks": 0,
                    "numKilledTasks": 0,
                    "numSkippedStages": 0,
                    "numSkippedTasks": 0,
                    "numTasks": 10,
                    "rowCount": 64,
                    "stageIds": [
                      190,
                      191
                    ],
                    "status": "SUCCEEDED",
                    "submissionTime": "2023-11-24T21:42:03.814GMT",
                    "usageDescription": ""
                  },
                  {
                    "completionTime": "2023-11-24T21:42:02.833GMT",
                    "dataRead": 107551946,
                    "dataWritten": 62872290,
                    "description": "Job group for statement 61:\n# Logistic Regression Classifier\nlr = LogisticRegression(labelCol=\"label\", featuresCol=\"features\")\nlr_pipeline = Pipeline(stages=[tokenizer, vectorizer,indexer, lr])\nlr_model = lr_pipeline.fit(train_df)",
                    "displayName": "treeAggregate at RDDLossFunction.scala:61",
                    "jobGroup": "61",
                    "jobId": 102,
                    "killedTasksSummary": {},
                    "name": "treeAggregate at RDDLossFunction.scala:61",
                    "numActiveStages": 0,
                    "numActiveTasks": 0,
                    "numCompletedIndices": 10,
                    "numCompletedStages": 2,
                    "numCompletedTasks": 10,
                    "numFailedStages": 0,
                    "numFailedTasks": 0,
                    "numKilledTasks": 0,
                    "numSkippedStages": 0,
                    "numSkippedTasks": 0,
                    "numTasks": 10,
                    "rowCount": 64,
                    "stageIds": [
                      188,
                      189
                    ],
                    "status": "SUCCEEDED",
                    "submissionTime": "2023-11-24T21:41:59.399GMT",
                    "usageDescription": ""
                  },
                  {
                    "completionTime": "2023-11-24T21:41:58.429GMT",
                    "dataRead": 107546062,
                    "dataWritten": 62866406,
                    "description": "Job group for statement 61:\n# Logistic Regression Classifier\nlr = LogisticRegression(labelCol=\"label\", featuresCol=\"features\")\nlr_pipeline = Pipeline(stages=[tokenizer, vectorizer,indexer, lr])\nlr_model = lr_pipeline.fit(train_df)",
                    "displayName": "treeAggregate at RDDLossFunction.scala:61",
                    "jobGroup": "61",
                    "jobId": 101,
                    "killedTasksSummary": {},
                    "name": "treeAggregate at RDDLossFunction.scala:61",
                    "numActiveStages": 0,
                    "numActiveTasks": 0,
                    "numCompletedIndices": 10,
                    "numCompletedStages": 2,
                    "numCompletedTasks": 10,
                    "numFailedStages": 0,
                    "numFailedTasks": 0,
                    "numKilledTasks": 0,
                    "numSkippedStages": 0,
                    "numSkippedTasks": 0,
                    "numTasks": 10,
                    "rowCount": 64,
                    "stageIds": [
                      186,
                      187
                    ],
                    "status": "SUCCEEDED",
                    "submissionTime": "2023-11-24T21:41:55.000GMT",
                    "usageDescription": ""
                  },
                  {
                    "completionTime": "2023-11-24T21:41:54.012GMT",
                    "dataRead": 107543583,
                    "dataWritten": 62863927,
                    "description": "Job group for statement 61:\n# Logistic Regression Classifier\nlr = LogisticRegression(labelCol=\"label\", featuresCol=\"features\")\nlr_pipeline = Pipeline(stages=[tokenizer, vectorizer,indexer, lr])\nlr_model = lr_pipeline.fit(train_df)",
                    "displayName": "treeAggregate at RDDLossFunction.scala:61",
                    "jobGroup": "61",
                    "jobId": 100,
                    "killedTasksSummary": {},
                    "name": "treeAggregate at RDDLossFunction.scala:61",
                    "numActiveStages": 0,
                    "numActiveTasks": 0,
                    "numCompletedIndices": 10,
                    "numCompletedStages": 2,
                    "numCompletedTasks": 10,
                    "numFailedStages": 0,
                    "numFailedTasks": 0,
                    "numKilledTasks": 0,
                    "numSkippedStages": 0,
                    "numSkippedTasks": 0,
                    "numTasks": 10,
                    "rowCount": 64,
                    "stageIds": [
                      184,
                      185
                    ],
                    "status": "SUCCEEDED",
                    "submissionTime": "2023-11-24T21:41:50.933GMT",
                    "usageDescription": ""
                  },
                  {
                    "completionTime": "2023-11-24T21:41:49.939GMT",
                    "dataRead": 107546333,
                    "dataWritten": 62866677,
                    "description": "Job group for statement 61:\n# Logistic Regression Classifier\nlr = LogisticRegression(labelCol=\"label\", featuresCol=\"features\")\nlr_pipeline = Pipeline(stages=[tokenizer, vectorizer,indexer, lr])\nlr_model = lr_pipeline.fit(train_df)",
                    "displayName": "treeAggregate at RDDLossFunction.scala:61",
                    "jobGroup": "61",
                    "jobId": 99,
                    "killedTasksSummary": {},
                    "name": "treeAggregate at RDDLossFunction.scala:61",
                    "numActiveStages": 0,
                    "numActiveTasks": 0,
                    "numCompletedIndices": 10,
                    "numCompletedStages": 2,
                    "numCompletedTasks": 10,
                    "numFailedStages": 0,
                    "numFailedTasks": 0,
                    "numKilledTasks": 0,
                    "numSkippedStages": 0,
                    "numSkippedTasks": 0,
                    "numTasks": 10,
                    "rowCount": 64,
                    "stageIds": [
                      183,
                      182
                    ],
                    "status": "SUCCEEDED",
                    "submissionTime": "2023-11-24T21:41:46.338GMT",
                    "usageDescription": ""
                  },
                  {
                    "completionTime": "2023-11-24T21:41:45.383GMT",
                    "dataRead": 107557063,
                    "dataWritten": 62877407,
                    "description": "Job group for statement 61:\n# Logistic Regression Classifier\nlr = LogisticRegression(labelCol=\"label\", featuresCol=\"features\")\nlr_pipeline = Pipeline(stages=[tokenizer, vectorizer,indexer, lr])\nlr_model = lr_pipeline.fit(train_df)",
                    "displayName": "treeAggregate at RDDLossFunction.scala:61",
                    "jobGroup": "61",
                    "jobId": 98,
                    "killedTasksSummary": {},
                    "name": "treeAggregate at RDDLossFunction.scala:61",
                    "numActiveStages": 0,
                    "numActiveTasks": 0,
                    "numCompletedIndices": 10,
                    "numCompletedStages": 2,
                    "numCompletedTasks": 10,
                    "numFailedStages": 0,
                    "numFailedTasks": 0,
                    "numKilledTasks": 0,
                    "numSkippedStages": 0,
                    "numSkippedTasks": 0,
                    "numTasks": 10,
                    "rowCount": 64,
                    "stageIds": [
                      180,
                      181
                    ],
                    "status": "SUCCEEDED",
                    "submissionTime": "2023-11-24T21:41:42.256GMT",
                    "usageDescription": ""
                  },
                  {
                    "completionTime": "2023-11-24T21:41:41.328GMT",
                    "dataRead": 107566609,
                    "dataWritten": 62886953,
                    "description": "Job group for statement 61:\n# Logistic Regression Classifier\nlr = LogisticRegression(labelCol=\"label\", featuresCol=\"features\")\nlr_pipeline = Pipeline(stages=[tokenizer, vectorizer,indexer, lr])\nlr_model = lr_pipeline.fit(train_df)",
                    "displayName": "treeAggregate at RDDLossFunction.scala:61",
                    "jobGroup": "61",
                    "jobId": 97,
                    "killedTasksSummary": {},
                    "name": "treeAggregate at RDDLossFunction.scala:61",
                    "numActiveStages": 0,
                    "numActiveTasks": 0,
                    "numCompletedIndices": 10,
                    "numCompletedStages": 2,
                    "numCompletedTasks": 10,
                    "numFailedStages": 0,
                    "numFailedTasks": 0,
                    "numKilledTasks": 0,
                    "numSkippedStages": 0,
                    "numSkippedTasks": 0,
                    "numTasks": 10,
                    "rowCount": 64,
                    "stageIds": [
                      179,
                      178
                    ],
                    "status": "SUCCEEDED",
                    "submissionTime": "2023-11-24T21:41:37.828GMT",
                    "usageDescription": ""
                  }
                ],
                "limit": 20,
                "numbers": {
                  "FAILED": 0,
                  "RUNNING": 0,
                  "SUCCEEDED": 33,
                  "UNKNOWN": 0
                },
                "rule": "ALL_DESC"
              },
              "spark_pool": "80dcc4b2-bc50-4e81-91e5-397b7f13252e",
              "state": "finished",
              "statement_id": 61
            },
            "text/plain": [
              "StatementMeta(80dcc4b2-bc50-4e81-91e5-397b7f13252e, 24, 61, Finished, Available)"
            ]
          },
          "metadata": {},
          "output_type": "display_data"
        }
      ],
      "source": [
        "# Logistic Regression Classifier\n",
        "lr = LogisticRegression(labelCol=\"label\", featuresCol=\"features\")\n",
        "lr_pipeline = Pipeline(stages=[tokenizer, vectorizer,indexer, lr])\n",
        "lr_model = lr_pipeline.fit(train_df)"
      ]
    },
    {
      "cell_type": "markdown",
      "metadata": {
        "nteract": {
          "transient": {
            "deleting": false
          }
        }
      },
      "source": [
        "#### Support Vector Classifier"
      ]
    },
    {
      "cell_type": "code",
      "execution_count": 59,
      "metadata": {
        "gather": {
          "logged": 1700862770658
        },
        "jupyter": {
          "outputs_hidden": false,
          "source_hidden": false
        },
        "nteract": {
          "transient": {
            "deleting": false
          }
        }
      },
      "outputs": [
        {
          "data": {
            "application/vnd.livy.statement-meta+json": {
              "execution_finish_time": "2023-11-24T21:52:50.1392126Z",
              "execution_start_time": "2023-11-24T21:44:41.7074038Z",
              "livy_statement_state": "available",
              "parent_msg_id": "9f4b821e-7744-406a-9657-dd9b23eadd0f",
              "queued_time": "2023-11-24T21:44:41.5400326Z",
              "session_id": "24",
              "session_start_time": null,
              "spark_jobs": {
                "jobs": [
                  {
                    "completionTime": "2023-11-24T21:52:49.001GMT",
                    "dataRead": 0,
                    "dataWritten": 0,
                    "description": "Job group for statement 64:\nlsvc = LinearSVC(maxIter=10)\novr = OneVsRest(classifier=lsvc, labelCol=\"label\", featuresCol=\"features\")\novr_pipeline = Pipeline(stages=[tokenizer, vectorizer, indexer, ovr])\novr_model = ovr_pipeline.fit(train_df)",
                    "displayName": "treeAggregate at RDDLossFunction.scala:61",
                    "jobGroup": "64",
                    "jobId": 444,
                    "killedTasksSummary": {},
                    "name": "treeAggregate at RDDLossFunction.scala:61",
                    "numActiveStages": 0,
                    "numActiveTasks": 0,
                    "numCompletedIndices": 10,
                    "numCompletedStages": 2,
                    "numCompletedTasks": 10,
                    "numFailedStages": 0,
                    "numFailedTasks": 0,
                    "numKilledTasks": 0,
                    "numSkippedStages": 0,
                    "numSkippedTasks": 0,
                    "numTasks": 10,
                    "rowCount": 0,
                    "stageIds": [
                      870,
                      871
                    ],
                    "status": "SUCCEEDED",
                    "submissionTime": "2023-11-24T21:52:48.059GMT",
                    "usageDescription": ""
                  },
                  {
                    "completionTime": "2023-11-24T21:52:47.920GMT",
                    "dataRead": 0,
                    "dataWritten": 0,
                    "description": "Job group for statement 64:\nlsvc = LinearSVC(maxIter=10)\novr = OneVsRest(classifier=lsvc, labelCol=\"label\", featuresCol=\"features\")\novr_pipeline = Pipeline(stages=[tokenizer, vectorizer, indexer, ovr])\novr_model = ovr_pipeline.fit(train_df)",
                    "displayName": "treeAggregate at RDDLossFunction.scala:61",
                    "jobGroup": "64",
                    "jobId": 443,
                    "killedTasksSummary": {},
                    "name": "treeAggregate at RDDLossFunction.scala:61",
                    "numActiveStages": 0,
                    "numActiveTasks": 0,
                    "numCompletedIndices": 10,
                    "numCompletedStages": 2,
                    "numCompletedTasks": 10,
                    "numFailedStages": 0,
                    "numFailedTasks": 0,
                    "numKilledTasks": 0,
                    "numSkippedStages": 0,
                    "numSkippedTasks": 0,
                    "numTasks": 10,
                    "rowCount": 0,
                    "stageIds": [
                      868,
                      869
                    ],
                    "status": "SUCCEEDED",
                    "submissionTime": "2023-11-24T21:52:46.964GMT",
                    "usageDescription": ""
                  },
                  {
                    "completionTime": "2023-11-24T21:52:46.749GMT",
                    "dataRead": 0,
                    "dataWritten": 0,
                    "description": "Job group for statement 64:\nlsvc = LinearSVC(maxIter=10)\novr = OneVsRest(classifier=lsvc, labelCol=\"label\", featuresCol=\"features\")\novr_pipeline = Pipeline(stages=[tokenizer, vectorizer, indexer, ovr])\novr_model = ovr_pipeline.fit(train_df)",
                    "displayName": "treeAggregate at RDDLossFunction.scala:61",
                    "jobGroup": "64",
                    "jobId": 442,
                    "killedTasksSummary": {},
                    "name": "treeAggregate at RDDLossFunction.scala:61",
                    "numActiveStages": 0,
                    "numActiveTasks": 0,
                    "numCompletedIndices": 10,
                    "numCompletedStages": 2,
                    "numCompletedTasks": 10,
                    "numFailedStages": 0,
                    "numFailedTasks": 0,
                    "numKilledTasks": 0,
                    "numSkippedStages": 0,
                    "numSkippedTasks": 0,
                    "numTasks": 10,
                    "rowCount": 0,
                    "stageIds": [
                      866,
                      867
                    ],
                    "status": "SUCCEEDED",
                    "submissionTime": "2023-11-24T21:52:45.820GMT",
                    "usageDescription": ""
                  },
                  {
                    "completionTime": "2023-11-24T21:52:45.671GMT",
                    "dataRead": 0,
                    "dataWritten": 0,
                    "description": "Job group for statement 64:\nlsvc = LinearSVC(maxIter=10)\novr = OneVsRest(classifier=lsvc, labelCol=\"label\", featuresCol=\"features\")\novr_pipeline = Pipeline(stages=[tokenizer, vectorizer, indexer, ovr])\novr_model = ovr_pipeline.fit(train_df)",
                    "displayName": "treeAggregate at RDDLossFunction.scala:61",
                    "jobGroup": "64",
                    "jobId": 441,
                    "killedTasksSummary": {},
                    "name": "treeAggregate at RDDLossFunction.scala:61",
                    "numActiveStages": 0,
                    "numActiveTasks": 0,
                    "numCompletedIndices": 10,
                    "numCompletedStages": 2,
                    "numCompletedTasks": 10,
                    "numFailedStages": 0,
                    "numFailedTasks": 0,
                    "numKilledTasks": 0,
                    "numSkippedStages": 0,
                    "numSkippedTasks": 0,
                    "numTasks": 10,
                    "rowCount": 0,
                    "stageIds": [
                      865,
                      864
                    ],
                    "status": "SUCCEEDED",
                    "submissionTime": "2023-11-24T21:52:44.623GMT",
                    "usageDescription": ""
                  },
                  {
                    "completionTime": "2023-11-24T21:52:44.421GMT",
                    "dataRead": 0,
                    "dataWritten": 0,
                    "description": "Job group for statement 64:\nlsvc = LinearSVC(maxIter=10)\novr = OneVsRest(classifier=lsvc, labelCol=\"label\", featuresCol=\"features\")\novr_pipeline = Pipeline(stages=[tokenizer, vectorizer, indexer, ovr])\novr_model = ovr_pipeline.fit(train_df)",
                    "displayName": "treeAggregate at RDDLossFunction.scala:61",
                    "jobGroup": "64",
                    "jobId": 440,
                    "killedTasksSummary": {},
                    "name": "treeAggregate at RDDLossFunction.scala:61",
                    "numActiveStages": 0,
                    "numActiveTasks": 0,
                    "numCompletedIndices": 10,
                    "numCompletedStages": 2,
                    "numCompletedTasks": 10,
                    "numFailedStages": 0,
                    "numFailedTasks": 0,
                    "numKilledTasks": 0,
                    "numSkippedStages": 0,
                    "numSkippedTasks": 0,
                    "numTasks": 10,
                    "rowCount": 0,
                    "stageIds": [
                      862,
                      863
                    ],
                    "status": "SUCCEEDED",
                    "submissionTime": "2023-11-24T21:52:43.502GMT",
                    "usageDescription": ""
                  },
                  {
                    "completionTime": "2023-11-24T21:52:43.354GMT",
                    "dataRead": 0,
                    "dataWritten": 0,
                    "description": "Job group for statement 64:\nlsvc = LinearSVC(maxIter=10)\novr = OneVsRest(classifier=lsvc, labelCol=\"label\", featuresCol=\"features\")\novr_pipeline = Pipeline(stages=[tokenizer, vectorizer, indexer, ovr])\novr_model = ovr_pipeline.fit(train_df)",
                    "displayName": "treeAggregate at RDDLossFunction.scala:61",
                    "jobGroup": "64",
                    "jobId": 439,
                    "killedTasksSummary": {},
                    "name": "treeAggregate at RDDLossFunction.scala:61",
                    "numActiveStages": 0,
                    "numActiveTasks": 0,
                    "numCompletedIndices": 10,
                    "numCompletedStages": 2,
                    "numCompletedTasks": 10,
                    "numFailedStages": 0,
                    "numFailedTasks": 0,
                    "numKilledTasks": 0,
                    "numSkippedStages": 0,
                    "numSkippedTasks": 0,
                    "numTasks": 10,
                    "rowCount": 0,
                    "stageIds": [
                      861,
                      860
                    ],
                    "status": "SUCCEEDED",
                    "submissionTime": "2023-11-24T21:52:42.379GMT",
                    "usageDescription": ""
                  },
                  {
                    "completionTime": "2023-11-24T21:52:42.241GMT",
                    "dataRead": 0,
                    "dataWritten": 0,
                    "description": "Job group for statement 64:\nlsvc = LinearSVC(maxIter=10)\novr = OneVsRest(classifier=lsvc, labelCol=\"label\", featuresCol=\"features\")\novr_pipeline = Pipeline(stages=[tokenizer, vectorizer, indexer, ovr])\novr_model = ovr_pipeline.fit(train_df)",
                    "displayName": "treeAggregate at RDDLossFunction.scala:61",
                    "jobGroup": "64",
                    "jobId": 438,
                    "killedTasksSummary": {},
                    "name": "treeAggregate at RDDLossFunction.scala:61",
                    "numActiveStages": 0,
                    "numActiveTasks": 0,
                    "numCompletedIndices": 10,
                    "numCompletedStages": 2,
                    "numCompletedTasks": 10,
                    "numFailedStages": 0,
                    "numFailedTasks": 0,
                    "numKilledTasks": 0,
                    "numSkippedStages": 0,
                    "numSkippedTasks": 0,
                    "numTasks": 10,
                    "rowCount": 0,
                    "stageIds": [
                      858,
                      859
                    ],
                    "status": "SUCCEEDED",
                    "submissionTime": "2023-11-24T21:52:41.294GMT",
                    "usageDescription": ""
                  },
                  {
                    "completionTime": "2023-11-24T21:52:41.140GMT",
                    "dataRead": 0,
                    "dataWritten": 0,
                    "description": "Job group for statement 64:\nlsvc = LinearSVC(maxIter=10)\novr = OneVsRest(classifier=lsvc, labelCol=\"label\", featuresCol=\"features\")\novr_pipeline = Pipeline(stages=[tokenizer, vectorizer, indexer, ovr])\novr_model = ovr_pipeline.fit(train_df)",
                    "displayName": "treeAggregate at RDDLossFunction.scala:61",
                    "jobGroup": "64",
                    "jobId": 437,
                    "killedTasksSummary": {},
                    "name": "treeAggregate at RDDLossFunction.scala:61",
                    "numActiveStages": 0,
                    "numActiveTasks": 0,
                    "numCompletedIndices": 10,
                    "numCompletedStages": 2,
                    "numCompletedTasks": 10,
                    "numFailedStages": 0,
                    "numFailedTasks": 0,
                    "numKilledTasks": 0,
                    "numSkippedStages": 0,
                    "numSkippedTasks": 0,
                    "numTasks": 10,
                    "rowCount": 0,
                    "stageIds": [
                      856,
                      857
                    ],
                    "status": "SUCCEEDED",
                    "submissionTime": "2023-11-24T21:52:40.178GMT",
                    "usageDescription": ""
                  },
                  {
                    "completionTime": "2023-11-24T21:52:39.968GMT",
                    "dataRead": 0,
                    "dataWritten": 0,
                    "description": "Job group for statement 64:\nlsvc = LinearSVC(maxIter=10)\novr = OneVsRest(classifier=lsvc, labelCol=\"label\", featuresCol=\"features\")\novr_pipeline = Pipeline(stages=[tokenizer, vectorizer, indexer, ovr])\novr_model = ovr_pipeline.fit(train_df)",
                    "displayName": "treeAggregate at RDDLossFunction.scala:61",
                    "jobGroup": "64",
                    "jobId": 436,
                    "killedTasksSummary": {},
                    "name": "treeAggregate at RDDLossFunction.scala:61",
                    "numActiveStages": 0,
                    "numActiveTasks": 0,
                    "numCompletedIndices": 10,
                    "numCompletedStages": 2,
                    "numCompletedTasks": 10,
                    "numFailedStages": 0,
                    "numFailedTasks": 0,
                    "numKilledTasks": 0,
                    "numSkippedStages": 0,
                    "numSkippedTasks": 0,
                    "numTasks": 10,
                    "rowCount": 0,
                    "stageIds": [
                      854,
                      855
                    ],
                    "status": "SUCCEEDED",
                    "submissionTime": "2023-11-24T21:52:39.023GMT",
                    "usageDescription": ""
                  },
                  {
                    "completionTime": "2023-11-24T21:52:38.877GMT",
                    "dataRead": 0,
                    "dataWritten": 0,
                    "description": "Job group for statement 64:\nlsvc = LinearSVC(maxIter=10)\novr = OneVsRest(classifier=lsvc, labelCol=\"label\", featuresCol=\"features\")\novr_pipeline = Pipeline(stages=[tokenizer, vectorizer, indexer, ovr])\novr_model = ovr_pipeline.fit(train_df)",
                    "displayName": "treeAggregate at RDDLossFunction.scala:61",
                    "jobGroup": "64",
                    "jobId": 435,
                    "killedTasksSummary": {},
                    "name": "treeAggregate at RDDLossFunction.scala:61",
                    "numActiveStages": 0,
                    "numActiveTasks": 0,
                    "numCompletedIndices": 10,
                    "numCompletedStages": 2,
                    "numCompletedTasks": 10,
                    "numFailedStages": 0,
                    "numFailedTasks": 0,
                    "numKilledTasks": 0,
                    "numSkippedStages": 0,
                    "numSkippedTasks": 0,
                    "numTasks": 10,
                    "rowCount": 0,
                    "stageIds": [
                      852,
                      853
                    ],
                    "status": "SUCCEEDED",
                    "submissionTime": "2023-11-24T21:52:37.902GMT",
                    "usageDescription": ""
                  },
                  {
                    "completionTime": "2023-11-24T21:52:37.730GMT",
                    "dataRead": 0,
                    "dataWritten": 0,
                    "description": "Job group for statement 64:\nlsvc = LinearSVC(maxIter=10)\novr = OneVsRest(classifier=lsvc, labelCol=\"label\", featuresCol=\"features\")\novr_pipeline = Pipeline(stages=[tokenizer, vectorizer, indexer, ovr])\novr_model = ovr_pipeline.fit(train_df)",
                    "displayName": "treeAggregate at RDDLossFunction.scala:61",
                    "jobGroup": "64",
                    "jobId": 434,
                    "killedTasksSummary": {},
                    "name": "treeAggregate at RDDLossFunction.scala:61",
                    "numActiveStages": 0,
                    "numActiveTasks": 0,
                    "numCompletedIndices": 10,
                    "numCompletedStages": 2,
                    "numCompletedTasks": 10,
                    "numFailedStages": 0,
                    "numFailedTasks": 0,
                    "numKilledTasks": 0,
                    "numSkippedStages": 0,
                    "numSkippedTasks": 0,
                    "numTasks": 10,
                    "rowCount": 0,
                    "stageIds": [
                      850,
                      851
                    ],
                    "status": "SUCCEEDED",
                    "submissionTime": "2023-11-24T21:52:33.444GMT",
                    "usageDescription": ""
                  },
                  {
                    "completionTime": "2023-11-24T21:52:33.276GMT",
                    "dataRead": 0,
                    "dataWritten": 0,
                    "description": "Job group for statement 64:\nlsvc = LinearSVC(maxIter=10)\novr = OneVsRest(classifier=lsvc, labelCol=\"label\", featuresCol=\"features\")\novr_pipeline = Pipeline(stages=[tokenizer, vectorizer, indexer, ovr])\novr_model = ovr_pipeline.fit(train_df)",
                    "displayName": "treeAggregate at Summarizer.scala:233",
                    "jobGroup": "64",
                    "jobId": 433,
                    "killedTasksSummary": {},
                    "name": "treeAggregate at Summarizer.scala:233",
                    "numActiveStages": 0,
                    "numActiveTasks": 0,
                    "numCompletedIndices": 10,
                    "numCompletedStages": 2,
                    "numCompletedTasks": 10,
                    "numFailedStages": 0,
                    "numFailedTasks": 0,
                    "numKilledTasks": 0,
                    "numSkippedStages": 0,
                    "numSkippedTasks": 0,
                    "numTasks": 10,
                    "rowCount": 0,
                    "stageIds": [
                      848,
                      849
                    ],
                    "status": "SUCCEEDED",
                    "submissionTime": "2023-11-24T21:52:29.309GMT",
                    "usageDescription": ""
                  },
                  {
                    "completionTime": "2023-11-24T21:52:28.445GMT",
                    "dataRead": 0,
                    "dataWritten": 0,
                    "description": "Job group for statement 64:\nlsvc = LinearSVC(maxIter=10)\novr = OneVsRest(classifier=lsvc, labelCol=\"label\", featuresCol=\"features\")\novr_pipeline = Pipeline(stages=[tokenizer, vectorizer, indexer, ovr])\novr_model = ovr_pipeline.fit(train_df)",
                    "displayName": "treeAggregate at RDDLossFunction.scala:61",
                    "jobGroup": "64",
                    "jobId": 432,
                    "killedTasksSummary": {},
                    "name": "treeAggregate at RDDLossFunction.scala:61",
                    "numActiveStages": 0,
                    "numActiveTasks": 0,
                    "numCompletedIndices": 10,
                    "numCompletedStages": 2,
                    "numCompletedTasks": 10,
                    "numFailedStages": 0,
                    "numFailedTasks": 0,
                    "numKilledTasks": 0,
                    "numSkippedStages": 0,
                    "numSkippedTasks": 0,
                    "numTasks": 10,
                    "rowCount": 0,
                    "stageIds": [
                      847,
                      846
                    ],
                    "status": "SUCCEEDED",
                    "submissionTime": "2023-11-24T21:52:27.514GMT",
                    "usageDescription": ""
                  },
                  {
                    "completionTime": "2023-11-24T21:52:27.356GMT",
                    "dataRead": 0,
                    "dataWritten": 0,
                    "description": "Job group for statement 64:\nlsvc = LinearSVC(maxIter=10)\novr = OneVsRest(classifier=lsvc, labelCol=\"label\", featuresCol=\"features\")\novr_pipeline = Pipeline(stages=[tokenizer, vectorizer, indexer, ovr])\novr_model = ovr_pipeline.fit(train_df)",
                    "displayName": "treeAggregate at RDDLossFunction.scala:61",
                    "jobGroup": "64",
                    "jobId": 431,
                    "killedTasksSummary": {},
                    "name": "treeAggregate at RDDLossFunction.scala:61",
                    "numActiveStages": 0,
                    "numActiveTasks": 0,
                    "numCompletedIndices": 10,
                    "numCompletedStages": 2,
                    "numCompletedTasks": 10,
                    "numFailedStages": 0,
                    "numFailedTasks": 0,
                    "numKilledTasks": 0,
                    "numSkippedStages": 0,
                    "numSkippedTasks": 0,
                    "numTasks": 10,
                    "rowCount": 0,
                    "stageIds": [
                      844,
                      845
                    ],
                    "status": "SUCCEEDED",
                    "submissionTime": "2023-11-24T21:52:26.421GMT",
                    "usageDescription": ""
                  },
                  {
                    "completionTime": "2023-11-24T21:52:26.217GMT",
                    "dataRead": 0,
                    "dataWritten": 0,
                    "description": "Job group for statement 64:\nlsvc = LinearSVC(maxIter=10)\novr = OneVsRest(classifier=lsvc, labelCol=\"label\", featuresCol=\"features\")\novr_pipeline = Pipeline(stages=[tokenizer, vectorizer, indexer, ovr])\novr_model = ovr_pipeline.fit(train_df)",
                    "displayName": "treeAggregate at RDDLossFunction.scala:61",
                    "jobGroup": "64",
                    "jobId": 430,
                    "killedTasksSummary": {},
                    "name": "treeAggregate at RDDLossFunction.scala:61",
                    "numActiveStages": 0,
                    "numActiveTasks": 0,
                    "numCompletedIndices": 10,
                    "numCompletedStages": 2,
                    "numCompletedTasks": 10,
                    "numFailedStages": 0,
                    "numFailedTasks": 0,
                    "numKilledTasks": 0,
                    "numSkippedStages": 0,
                    "numSkippedTasks": 0,
                    "numTasks": 10,
                    "rowCount": 0,
                    "stageIds": [
                      843,
                      842
                    ],
                    "status": "SUCCEEDED",
                    "submissionTime": "2023-11-24T21:52:25.272GMT",
                    "usageDescription": ""
                  },
                  {
                    "completionTime": "2023-11-24T21:52:25.131GMT",
                    "dataRead": 0,
                    "dataWritten": 0,
                    "description": "Job group for statement 64:\nlsvc = LinearSVC(maxIter=10)\novr = OneVsRest(classifier=lsvc, labelCol=\"label\", featuresCol=\"features\")\novr_pipeline = Pipeline(stages=[tokenizer, vectorizer, indexer, ovr])\novr_model = ovr_pipeline.fit(train_df)",
                    "displayName": "treeAggregate at RDDLossFunction.scala:61",
                    "jobGroup": "64",
                    "jobId": 429,
                    "killedTasksSummary": {},
                    "name": "treeAggregate at RDDLossFunction.scala:61",
                    "numActiveStages": 0,
                    "numActiveTasks": 0,
                    "numCompletedIndices": 10,
                    "numCompletedStages": 2,
                    "numCompletedTasks": 10,
                    "numFailedStages": 0,
                    "numFailedTasks": 0,
                    "numKilledTasks": 0,
                    "numSkippedStages": 0,
                    "numSkippedTasks": 0,
                    "numTasks": 10,
                    "rowCount": 0,
                    "stageIds": [
                      840,
                      841
                    ],
                    "status": "SUCCEEDED",
                    "submissionTime": "2023-11-24T21:52:24.096GMT",
                    "usageDescription": ""
                  },
                  {
                    "completionTime": "2023-11-24T21:52:23.905GMT",
                    "dataRead": 0,
                    "dataWritten": 0,
                    "description": "Job group for statement 64:\nlsvc = LinearSVC(maxIter=10)\novr = OneVsRest(classifier=lsvc, labelCol=\"label\", featuresCol=\"features\")\novr_pipeline = Pipeline(stages=[tokenizer, vectorizer, indexer, ovr])\novr_model = ovr_pipeline.fit(train_df)",
                    "displayName": "treeAggregate at RDDLossFunction.scala:61",
                    "jobGroup": "64",
                    "jobId": 428,
                    "killedTasksSummary": {},
                    "name": "treeAggregate at RDDLossFunction.scala:61",
                    "numActiveStages": 0,
                    "numActiveTasks": 0,
                    "numCompletedIndices": 10,
                    "numCompletedStages": 2,
                    "numCompletedTasks": 10,
                    "numFailedStages": 0,
                    "numFailedTasks": 0,
                    "numKilledTasks": 0,
                    "numSkippedStages": 0,
                    "numSkippedTasks": 0,
                    "numTasks": 10,
                    "rowCount": 0,
                    "stageIds": [
                      838,
                      839
                    ],
                    "status": "SUCCEEDED",
                    "submissionTime": "2023-11-24T21:52:22.958GMT",
                    "usageDescription": ""
                  },
                  {
                    "completionTime": "2023-11-24T21:52:22.810GMT",
                    "dataRead": 0,
                    "dataWritten": 0,
                    "description": "Job group for statement 64:\nlsvc = LinearSVC(maxIter=10)\novr = OneVsRest(classifier=lsvc, labelCol=\"label\", featuresCol=\"features\")\novr_pipeline = Pipeline(stages=[tokenizer, vectorizer, indexer, ovr])\novr_model = ovr_pipeline.fit(train_df)",
                    "displayName": "treeAggregate at RDDLossFunction.scala:61",
                    "jobGroup": "64",
                    "jobId": 427,
                    "killedTasksSummary": {},
                    "name": "treeAggregate at RDDLossFunction.scala:61",
                    "numActiveStages": 0,
                    "numActiveTasks": 0,
                    "numCompletedIndices": 10,
                    "numCompletedStages": 2,
                    "numCompletedTasks": 10,
                    "numFailedStages": 0,
                    "numFailedTasks": 0,
                    "numKilledTasks": 0,
                    "numSkippedStages": 0,
                    "numSkippedTasks": 0,
                    "numTasks": 10,
                    "rowCount": 0,
                    "stageIds": [
                      836,
                      837
                    ],
                    "status": "SUCCEEDED",
                    "submissionTime": "2023-11-24T21:52:21.845GMT",
                    "usageDescription": ""
                  },
                  {
                    "completionTime": "2023-11-24T21:52:21.677GMT",
                    "dataRead": 0,
                    "dataWritten": 0,
                    "description": "Job group for statement 64:\nlsvc = LinearSVC(maxIter=10)\novr = OneVsRest(classifier=lsvc, labelCol=\"label\", featuresCol=\"features\")\novr_pipeline = Pipeline(stages=[tokenizer, vectorizer, indexer, ovr])\novr_model = ovr_pipeline.fit(train_df)",
                    "displayName": "treeAggregate at RDDLossFunction.scala:61",
                    "jobGroup": "64",
                    "jobId": 426,
                    "killedTasksSummary": {},
                    "name": "treeAggregate at RDDLossFunction.scala:61",
                    "numActiveStages": 0,
                    "numActiveTasks": 0,
                    "numCompletedIndices": 10,
                    "numCompletedStages": 2,
                    "numCompletedTasks": 10,
                    "numFailedStages": 0,
                    "numFailedTasks": 0,
                    "numKilledTasks": 0,
                    "numSkippedStages": 0,
                    "numSkippedTasks": 0,
                    "numTasks": 10,
                    "rowCount": 0,
                    "stageIds": [
                      834,
                      835
                    ],
                    "status": "SUCCEEDED",
                    "submissionTime": "2023-11-24T21:52:20.743GMT",
                    "usageDescription": ""
                  },
                  {
                    "completionTime": "2023-11-24T21:52:20.594GMT",
                    "dataRead": 0,
                    "dataWritten": 0,
                    "description": "Job group for statement 64:\nlsvc = LinearSVC(maxIter=10)\novr = OneVsRest(classifier=lsvc, labelCol=\"label\", featuresCol=\"features\")\novr_pipeline = Pipeline(stages=[tokenizer, vectorizer, indexer, ovr])\novr_model = ovr_pipeline.fit(train_df)",
                    "displayName": "treeAggregate at RDDLossFunction.scala:61",
                    "jobGroup": "64",
                    "jobId": 425,
                    "killedTasksSummary": {},
                    "name": "treeAggregate at RDDLossFunction.scala:61",
                    "numActiveStages": 0,
                    "numActiveTasks": 0,
                    "numCompletedIndices": 10,
                    "numCompletedStages": 2,
                    "numCompletedTasks": 10,
                    "numFailedStages": 0,
                    "numFailedTasks": 0,
                    "numKilledTasks": 0,
                    "numSkippedStages": 0,
                    "numSkippedTasks": 0,
                    "numTasks": 10,
                    "rowCount": 0,
                    "stageIds": [
                      832,
                      833
                    ],
                    "status": "SUCCEEDED",
                    "submissionTime": "2023-11-24T21:52:19.646GMT",
                    "usageDescription": ""
                  }
                ],
                "limit": 20,
                "numbers": {
                  "FAILED": 0,
                  "RUNNING": 0,
                  "SUCCEEDED": 328,
                  "UNKNOWN": 0
                },
                "rule": "ALL_DESC"
              },
              "spark_pool": "80dcc4b2-bc50-4e81-91e5-397b7f13252e",
              "state": "finished",
              "statement_id": 64
            },
            "text/plain": [
              "StatementMeta(80dcc4b2-bc50-4e81-91e5-397b7f13252e, 24, 64, Finished, Available)"
            ]
          },
          "metadata": {},
          "output_type": "display_data"
        }
      ],
      "source": [
        "lsvc = LinearSVC(maxIter=10)\n",
        "ovr = OneVsRest(classifier=lsvc, labelCol=\"label\", featuresCol=\"features\")\n",
        "ovr_pipeline = Pipeline(stages=[tokenizer, vectorizer, indexer, ovr])\n",
        "ovr_model = ovr_pipeline.fit(train_df)"
      ]
    },
    {
      "cell_type": "markdown",
      "metadata": {
        "nteract": {
          "transient": {
            "deleting": false
          }
        }
      },
      "source": [
        "#### Random Forest"
      ]
    },
    {
      "cell_type": "code",
      "execution_count": 50,
      "metadata": {
        "gather": {
          "logged": 1700861580462
        },
        "jupyter": {
          "outputs_hidden": false,
          "source_hidden": false
        },
        "nteract": {
          "transient": {
            "deleting": false
          }
        }
      },
      "outputs": [
        {
          "data": {
            "application/vnd.livy.statement-meta+json": {
              "execution_finish_time": "2023-11-24T21:33:00.3828293Z",
              "execution_start_time": "2023-11-24T21:31:32.8779024Z",
              "livy_statement_state": "available",
              "parent_msg_id": "9f05d8bc-dec7-4dbc-a5f4-55b03e5bd613",
              "queued_time": "2023-11-24T21:31:32.6649329Z",
              "session_id": "24",
              "session_start_time": null,
              "spark_jobs": {
                "jobs": [
                  {
                    "completionTime": "2023-11-24T21:32:58.344GMT",
                    "dataRead": 6830471216,
                    "dataWritten": 13815160,
                    "description": "Job group for statement 55:\nrf = RandomForestClassifier(labelCol=\"label\", featuresCol=\"features\", numTrees=10)\nrf_pipeline = Pipeline(stages=[tokenizer, vectorizer, indexer, rf])\nrf_model = rf_pipeline.fit(train_df)\n",
                    "displayName": "collectAsMap at RandomForest.scala:663",
                    "jobGroup": "55",
                    "jobId": 75,
                    "killedTasksSummary": {},
                    "name": "collectAsMap at RandomForest.scala:663",
                    "numActiveStages": 0,
                    "numActiveTasks": 0,
                    "numCompletedIndices": 16,
                    "numCompletedStages": 2,
                    "numCompletedTasks": 16,
                    "numFailedStages": 0,
                    "numFailedTasks": 0,
                    "numKilledTasks": 0,
                    "numSkippedStages": 0,
                    "numSkippedTasks": 0,
                    "numTasks": 16,
                    "rowCount": 8002,
                    "stageIds": [
                      135,
                      136
                    ],
                    "status": "SUCCEEDED",
                    "submissionTime": "2023-11-24T21:32:56.227GMT",
                    "usageDescription": ""
                  },
                  {
                    "completionTime": "2023-11-24T21:32:55.973GMT",
                    "dataRead": 6826645893,
                    "dataWritten": 9989837,
                    "description": "Job group for statement 55:\nrf = RandomForestClassifier(labelCol=\"label\", featuresCol=\"features\", numTrees=10)\nrf_pipeline = Pipeline(stages=[tokenizer, vectorizer, indexer, rf])\nrf_model = rf_pipeline.fit(train_df)\n",
                    "displayName": "collectAsMap at RandomForest.scala:663",
                    "jobGroup": "55",
                    "jobId": 74,
                    "killedTasksSummary": {},
                    "name": "collectAsMap at RandomForest.scala:663",
                    "numActiveStages": 0,
                    "numActiveTasks": 0,
                    "numCompletedIndices": 16,
                    "numCompletedStages": 2,
                    "numCompletedTasks": 16,
                    "numFailedStages": 0,
                    "numFailedTasks": 0,
                    "numKilledTasks": 0,
                    "numSkippedStages": 0,
                    "numSkippedTasks": 0,
                    "numTasks": 16,
                    "rowCount": 7714,
                    "stageIds": [
                      133,
                      134
                    ],
                    "status": "SUCCEEDED",
                    "submissionTime": "2023-11-24T21:32:53.970GMT",
                    "usageDescription": ""
                  },
                  {
                    "completionTime": "2023-11-24T21:32:53.771GMT",
                    "dataRead": 6823580419,
                    "dataWritten": 6924363,
                    "description": "Job group for statement 55:\nrf = RandomForestClassifier(labelCol=\"label\", featuresCol=\"features\", numTrees=10)\nrf_pipeline = Pipeline(stages=[tokenizer, vectorizer, indexer, rf])\nrf_model = rf_pipeline.fit(train_df)\n",
                    "displayName": "collectAsMap at RandomForest.scala:663",
                    "jobGroup": "55",
                    "jobId": 73,
                    "killedTasksSummary": {},
                    "name": "collectAsMap at RandomForest.scala:663",
                    "numActiveStages": 0,
                    "numActiveTasks": 0,
                    "numCompletedIndices": 16,
                    "numCompletedStages": 2,
                    "numCompletedTasks": 16,
                    "numFailedStages": 0,
                    "numFailedTasks": 0,
                    "numKilledTasks": 0,
                    "numSkippedStages": 0,
                    "numSkippedTasks": 0,
                    "numTasks": 16,
                    "rowCount": 7490,
                    "stageIds": [
                      132,
                      131
                    ],
                    "status": "SUCCEEDED",
                    "submissionTime": "2023-11-24T21:32:51.915GMT",
                    "usageDescription": ""
                  },
                  {
                    "completionTime": "2023-11-24T21:32:51.720GMT",
                    "dataRead": 6821073857,
                    "dataWritten": 4417801,
                    "description": "Job group for statement 55:\nrf = RandomForestClassifier(labelCol=\"label\", featuresCol=\"features\", numTrees=10)\nrf_pipeline = Pipeline(stages=[tokenizer, vectorizer, indexer, rf])\nrf_model = rf_pipeline.fit(train_df)\n",
                    "displayName": "collectAsMap at RandomForest.scala:663",
                    "jobGroup": "55",
                    "jobId": 72,
                    "killedTasksSummary": {},
                    "name": "collectAsMap at RandomForest.scala:663",
                    "numActiveStages": 0,
                    "numActiveTasks": 0,
                    "numCompletedIndices": 16,
                    "numCompletedStages": 2,
                    "numCompletedTasks": 16,
                    "numFailedStages": 0,
                    "numFailedTasks": 0,
                    "numKilledTasks": 0,
                    "numSkippedStages": 0,
                    "numSkippedTasks": 0,
                    "numTasks": 16,
                    "rowCount": 7298,
                    "stageIds": [
                      129,
                      130
                    ],
                    "status": "SUCCEEDED",
                    "submissionTime": "2023-11-24T21:32:50.072GMT",
                    "usageDescription": ""
                  },
                  {
                    "completionTime": "2023-11-24T21:32:49.945GMT",
                    "dataRead": 2311600,
                    "dataWritten": 2311600,
                    "description": "Job group for statement 55:\nrf = RandomForestClassifier(labelCol=\"label\", featuresCol=\"features\", numTrees=10)\nrf_pipeline = Pipeline(stages=[tokenizer, vectorizer, indexer, rf])\nrf_model = rf_pipeline.fit(train_df)\n",
                    "displayName": "collectAsMap at RandomForest.scala:663",
                    "jobGroup": "55",
                    "jobId": 71,
                    "killedTasksSummary": {},
                    "name": "collectAsMap at RandomForest.scala:663",
                    "numActiveStages": 0,
                    "numActiveTasks": 0,
                    "numCompletedIndices": 16,
                    "numCompletedStages": 2,
                    "numCompletedTasks": 16,
                    "numFailedStages": 0,
                    "numFailedTasks": 0,
                    "numKilledTasks": 0,
                    "numSkippedStages": 0,
                    "numSkippedTasks": 0,
                    "numTasks": 16,
                    "rowCount": 160,
                    "stageIds": [
                      127,
                      128
                    ],
                    "status": "SUCCEEDED",
                    "submissionTime": "2023-11-24T21:32:32.752GMT",
                    "usageDescription": ""
                  },
                  {
                    "completionTime": "2023-11-24T21:32:31.745GMT",
                    "dataRead": 11895957,
                    "dataWritten": 11895957,
                    "description": "Job group for statement 55:\nrf = RandomForestClassifier(labelCol=\"label\", featuresCol=\"features\", numTrees=10)\nrf_pipeline = Pipeline(stages=[tokenizer, vectorizer, indexer, rf])\nrf_model = rf_pipeline.fit(train_df)\n",
                    "displayName": "collectAsMap at RandomForest.scala:1054",
                    "jobGroup": "55",
                    "jobId": 70,
                    "killedTasksSummary": {},
                    "name": "collectAsMap at RandomForest.scala:1054",
                    "numActiveStages": 0,
                    "numActiveTasks": 0,
                    "numCompletedIndices": 16,
                    "numCompletedStages": 2,
                    "numCompletedTasks": 16,
                    "numFailedStages": 0,
                    "numFailedTasks": 0,
                    "numKilledTasks": 0,
                    "numSkippedStages": 0,
                    "numSkippedTasks": 0,
                    "numTasks": 16,
                    "rowCount": 970038,
                    "stageIds": [
                      125,
                      126
                    ],
                    "status": "SUCCEEDED",
                    "submissionTime": "2023-11-24T21:31:49.321GMT",
                    "usageDescription": ""
                  },
                  {
                    "completionTime": "2023-11-24T21:31:49.090GMT",
                    "dataRead": 0,
                    "dataWritten": 0,
                    "description": "Job group for statement 55:\nrf = RandomForestClassifier(labelCol=\"label\", featuresCol=\"features\", numTrees=10)\nrf_pipeline = Pipeline(stages=[tokenizer, vectorizer, indexer, rf])\nrf_model = rf_pipeline.fit(train_df)\n",
                    "displayName": "aggregate at DecisionTreeMetadata.scala:125",
                    "jobGroup": "55",
                    "jobId": 69,
                    "killedTasksSummary": {},
                    "name": "aggregate at DecisionTreeMetadata.scala:125",
                    "numActiveStages": 0,
                    "numActiveTasks": 0,
                    "numCompletedIndices": 8,
                    "numCompletedStages": 1,
                    "numCompletedTasks": 8,
                    "numFailedStages": 0,
                    "numFailedTasks": 0,
                    "numKilledTasks": 0,
                    "numSkippedStages": 0,
                    "numSkippedTasks": 0,
                    "numTasks": 8,
                    "rowCount": 0,
                    "stageIds": [
                      124
                    ],
                    "status": "SUCCEEDED",
                    "submissionTime": "2023-11-24T21:31:43.496GMT",
                    "usageDescription": ""
                  },
                  {
                    "completionTime": "2023-11-24T21:31:43.484GMT",
                    "dataRead": 0,
                    "dataWritten": 0,
                    "description": "Job group for statement 55:\nrf = RandomForestClassifier(labelCol=\"label\", featuresCol=\"features\", numTrees=10)\nrf_pipeline = Pipeline(stages=[tokenizer, vectorizer, indexer, rf])\nrf_model = rf_pipeline.fit(train_df)\n",
                    "displayName": "take at DecisionTreeMetadata.scala:119",
                    "jobGroup": "55",
                    "jobId": 68,
                    "killedTasksSummary": {},
                    "name": "take at DecisionTreeMetadata.scala:119",
                    "numActiveStages": 0,
                    "numActiveTasks": 0,
                    "numCompletedIndices": 1,
                    "numCompletedStages": 1,
                    "numCompletedTasks": 1,
                    "numFailedStages": 0,
                    "numFailedTasks": 0,
                    "numKilledTasks": 0,
                    "numSkippedStages": 0,
                    "numSkippedTasks": 0,
                    "numTasks": 1,
                    "rowCount": 0,
                    "stageIds": [
                      123
                    ],
                    "status": "SUCCEEDED",
                    "submissionTime": "2023-11-24T21:31:40.966GMT",
                    "usageDescription": ""
                  },
                  {
                    "completionTime": "2023-11-24T21:31:40.285GMT",
                    "dataRead": 4995,
                    "dataWritten": 0,
                    "description": "Job group for statement 55:\nrf = RandomForestClassifier(labelCol=\"label\", featuresCol=\"features\", numTrees=10)\nrf_pipeline = Pipeline(stages=[tokenizer, vectorizer, indexer, rf])\nrf_model = rf_pipeline.fit(train_df)\n",
                    "displayName": "collect at StringIndexer.scala:204",
                    "jobGroup": "55",
                    "jobId": 67,
                    "killedTasksSummary": {},
                    "name": "collect at StringIndexer.scala:204",
                    "numActiveStages": 0,
                    "numActiveTasks": 0,
                    "numCompletedIndices": 1,
                    "numCompletedStages": 1,
                    "numCompletedTasks": 1,
                    "numFailedStages": 0,
                    "numFailedTasks": 0,
                    "numKilledTasks": 0,
                    "numSkippedStages": 1,
                    "numSkippedTasks": 8,
                    "numTasks": 9,
                    "rowCount": 8,
                    "stageIds": [
                      121,
                      122
                    ],
                    "status": "SUCCEEDED",
                    "submissionTime": "2023-11-24T21:31:40.239GMT",
                    "usageDescription": ""
                  },
                  {
                    "completionTime": "2023-11-24T21:31:40.217GMT",
                    "dataRead": 0,
                    "dataWritten": 4995,
                    "description": "Job group for statement 55:\nrf = RandomForestClassifier(labelCol=\"label\", featuresCol=\"features\", numTrees=10)\nrf_pipeline = Pipeline(stages=[tokenizer, vectorizer, indexer, rf])\nrf_model = rf_pipeline.fit(train_df)\n",
                    "displayName": "collect at StringIndexer.scala:204",
                    "jobGroup": "55",
                    "jobId": 66,
                    "killedTasksSummary": {},
                    "name": "collect at StringIndexer.scala:204",
                    "numActiveStages": 0,
                    "numActiveTasks": 0,
                    "numCompletedIndices": 8,
                    "numCompletedStages": 1,
                    "numCompletedTasks": 8,
                    "numFailedStages": 0,
                    "numFailedTasks": 0,
                    "numKilledTasks": 0,
                    "numSkippedStages": 0,
                    "numSkippedTasks": 0,
                    "numTasks": 8,
                    "rowCount": 8,
                    "stageIds": [
                      120
                    ],
                    "status": "SUCCEEDED",
                    "submissionTime": "2023-11-24T21:31:38.533GMT",
                    "usageDescription": ""
                  },
                  {
                    "completionTime": "2023-11-24T21:31:36.794GMT",
                    "dataRead": 28518856,
                    "dataWritten": 0,
                    "description": "Job group for statement 55:\nrf = RandomForestClassifier(labelCol=\"label\", featuresCol=\"features\", numTrees=10)\nrf_pipeline = Pipeline(stages=[tokenizer, vectorizer, indexer, rf])\nrf_model = rf_pipeline.fit(train_df)\n",
                    "displayName": "top at CountVectorizer.scala:236",
                    "jobGroup": "55",
                    "jobId": 65,
                    "killedTasksSummary": {},
                    "name": "top at CountVectorizer.scala:236",
                    "numActiveStages": 0,
                    "numActiveTasks": 0,
                    "numCompletedIndices": 8,
                    "numCompletedStages": 1,
                    "numCompletedTasks": 8,
                    "numFailedStages": 0,
                    "numFailedTasks": 0,
                    "numKilledTasks": 0,
                    "numSkippedStages": 1,
                    "numSkippedTasks": 8,
                    "numTasks": 16,
                    "rowCount": 296061,
                    "stageIds": [
                      118,
                      119
                    ],
                    "status": "SUCCEEDED",
                    "submissionTime": "2023-11-24T21:31:36.634GMT",
                    "usageDescription": ""
                  },
                  {
                    "completionTime": "2023-11-24T21:31:36.623GMT",
                    "dataRead": 5927816,
                    "dataWritten": 5927816,
                    "description": "Job group for statement 55:\nrf = RandomForestClassifier(labelCol=\"label\", featuresCol=\"features\", numTrees=10)\nrf_pipeline = Pipeline(stages=[tokenizer, vectorizer, indexer, rf])\nrf_model = rf_pipeline.fit(train_df)\n",
                    "displayName": "count at CountVectorizer.scala:233",
                    "jobGroup": "55",
                    "jobId": 64,
                    "killedTasksSummary": {},
                    "name": "count at CountVectorizer.scala:233",
                    "numActiveStages": 0,
                    "numActiveTasks": 0,
                    "numCompletedIndices": 16,
                    "numCompletedStages": 2,
                    "numCompletedTasks": 16,
                    "numFailedStages": 0,
                    "numFailedTasks": 0,
                    "numKilledTasks": 0,
                    "numSkippedStages": 0,
                    "numSkippedTasks": 0,
                    "numTasks": 16,
                    "rowCount": 1037872,
                    "stageIds": [
                      117,
                      116
                    ],
                    "status": "SUCCEEDED",
                    "submissionTime": "2023-11-24T21:31:32.983GMT",
                    "usageDescription": ""
                  }
                ],
                "limit": 20,
                "numbers": {
                  "FAILED": 0,
                  "RUNNING": 0,
                  "SUCCEEDED": 12,
                  "UNKNOWN": 0
                },
                "rule": "ALL_DESC"
              },
              "spark_pool": "80dcc4b2-bc50-4e81-91e5-397b7f13252e",
              "state": "finished",
              "statement_id": 55
            },
            "text/plain": [
              "StatementMeta(80dcc4b2-bc50-4e81-91e5-397b7f13252e, 24, 55, Finished, Available)"
            ]
          },
          "metadata": {},
          "output_type": "display_data"
        }
      ],
      "source": [
        "rf = RandomForestClassifier(labelCol=\"label\", featuresCol=\"features\", numTrees=10)\n",
        "rf_pipeline = Pipeline(stages=[tokenizer, vectorizer, indexer, rf])\n",
        "rf_model = rf_pipeline.fit(train_df)\n"
      ]
    },
    {
      "cell_type": "markdown",
      "metadata": {
        "nteract": {
          "transient": {
            "deleting": false
          }
        }
      },
      "source": [
        "#### evaluate the model"
      ]
    },
    {
      "cell_type": "code",
      "execution_count": 47,
      "metadata": {
        "gather": {
          "logged": 1700861316928
        },
        "jupyter": {
          "outputs_hidden": false,
          "source_hidden": false
        },
        "nteract": {
          "transient": {
            "deleting": false
          }
        }
      },
      "outputs": [
        {
          "data": {
            "application/vnd.livy.statement-meta+json": {
              "execution_finish_time": "2023-11-24T21:28:36.871184Z",
              "execution_start_time": "2023-11-24T21:28:36.5686196Z",
              "livy_statement_state": "available",
              "parent_msg_id": "75e4d10a-9076-429f-9f2c-ae6424248751",
              "queued_time": "2023-11-24T21:28:36.4245708Z",
              "session_id": "24",
              "session_start_time": null,
              "spark_jobs": {
                "jobs": [],
                "limit": 20,
                "numbers": {
                  "FAILED": 0,
                  "RUNNING": 0,
                  "SUCCEEDED": 0,
                  "UNKNOWN": 0
                },
                "rule": "ALL_DESC"
              },
              "spark_pool": "80dcc4b2-bc50-4e81-91e5-397b7f13252e",
              "state": "finished",
              "statement_id": 52
            },
            "text/plain": [
              "StatementMeta(80dcc4b2-bc50-4e81-91e5-397b7f13252e, 24, 52, Finished, Available)"
            ]
          },
          "metadata": {},
          "output_type": "display_data"
        }
      ],
      "source": [
        "# Evaluate the Models\n",
        "evaluator = MulticlassClassificationEvaluator(labelCol=\"label\", predictionCol=\"prediction\", metricName=\"accuracy\")\n",
        "f1_evaluator = MulticlassClassificationEvaluator(labelCol=\"label\", predictionCol=\"prediction\", metricName=\"f1\")\n",
        "precision_evaluator = MulticlassClassificationEvaluator(labelCol=\"label\", predictionCol=\"prediction\", metricName=\"weightedPrecision\")\n",
        "recall_evaluator = MulticlassClassificationEvaluator(labelCol=\"label\", predictionCol=\"prediction\", metricName=\"weightedRecall\")\n"
      ]
    },
    {
      "cell_type": "code",
      "execution_count": 60,
      "metadata": {
        "gather": {
          "logged": 1700862794006
        },
        "jupyter": {
          "outputs_hidden": false,
          "source_hidden": false
        },
        "nteract": {
          "transient": {
            "deleting": false
          }
        }
      },
      "outputs": [
        {
          "data": {
            "application/vnd.livy.statement-meta+json": {
              "execution_finish_time": "2023-11-24T21:53:13.8448125Z",
              "execution_start_time": "2023-11-24T21:52:50.276848Z",
              "livy_statement_state": "available",
              "parent_msg_id": "7b9ab612-10b7-4ce6-86e6-d3c3e19683f6",
              "queued_time": "2023-11-24T21:51:03.0143744Z",
              "session_id": "24",
              "session_start_time": null,
              "spark_jobs": {
                "jobs": [
                  {
                    "completionTime": "2023-11-24T21:53:12.945GMT",
                    "dataRead": 0,
                    "dataWritten": 0,
                    "description": "Job group for statement 65:\n# Evaluate Logistic Regression model\nlr_test_predictions = lr_model.transform(test_df)\nlr_val_predictions = lr_model.transform(val_df)\nlr_test_accuracy = evaluator.evaluate(lr_test_predictions)\nlr_test_f1_score = f1_evaluator.evaluate(lr_test_predictions)\nlr_test_precision = precision_evaluator.evaluate(lr_test_predictions)\nlr_test_recall = recall_evaluator.evaluate(lr_test_predictions)\n\nlr_val_accuracy = evaluator.evaluate(lr_val_predictions)\nlr_val_f1_score = f1_evaluator.evaluate(lr_val_predictions)\nlr_val_precision = precision_evaluator.evaluate(lr_val_predictions)\nlr_val_recall = recall_evaluator.evaluate(lr_val_predictions)\n",
                    "displayName": "collectAsMap at MulticlassMetrics.scala:61",
                    "jobGroup": "65",
                    "jobId": 452,
                    "killedTasksSummary": {},
                    "name": "collectAsMap at MulticlassMetrics.scala:61",
                    "numActiveStages": 0,
                    "numActiveTasks": 0,
                    "numCompletedIndices": 16,
                    "numCompletedStages": 2,
                    "numCompletedTasks": 16,
                    "numFailedStages": 0,
                    "numFailedTasks": 0,
                    "numKilledTasks": 0,
                    "numSkippedStages": 0,
                    "numSkippedTasks": 0,
                    "numTasks": 16,
                    "rowCount": 0,
                    "stageIds": [
                      887,
                      886
                    ],
                    "status": "SUCCEEDED",
                    "submissionTime": "2023-11-24T21:53:10.296GMT",
                    "usageDescription": ""
                  },
                  {
                    "completionTime": "2023-11-24T21:53:10.114GMT",
                    "dataRead": 0,
                    "dataWritten": 0,
                    "description": "Job group for statement 65:\n# Evaluate Logistic Regression model\nlr_test_predictions = lr_model.transform(test_df)\nlr_val_predictions = lr_model.transform(val_df)\nlr_test_accuracy = evaluator.evaluate(lr_test_predictions)\nlr_test_f1_score = f1_evaluator.evaluate(lr_test_predictions)\nlr_test_precision = precision_evaluator.evaluate(lr_test_predictions)\nlr_test_recall = recall_evaluator.evaluate(lr_test_predictions)\n\nlr_val_accuracy = evaluator.evaluate(lr_val_predictions)\nlr_val_f1_score = f1_evaluator.evaluate(lr_val_predictions)\nlr_val_precision = precision_evaluator.evaluate(lr_val_predictions)\nlr_val_recall = recall_evaluator.evaluate(lr_val_predictions)\n",
                    "displayName": "collectAsMap at MulticlassMetrics.scala:61",
                    "jobGroup": "65",
                    "jobId": 451,
                    "killedTasksSummary": {},
                    "name": "collectAsMap at MulticlassMetrics.scala:61",
                    "numActiveStages": 0,
                    "numActiveTasks": 0,
                    "numCompletedIndices": 16,
                    "numCompletedStages": 2,
                    "numCompletedTasks": 16,
                    "numFailedStages": 0,
                    "numFailedTasks": 0,
                    "numKilledTasks": 0,
                    "numSkippedStages": 0,
                    "numSkippedTasks": 0,
                    "numTasks": 16,
                    "rowCount": 0,
                    "stageIds": [
                      884,
                      885
                    ],
                    "status": "SUCCEEDED",
                    "submissionTime": "2023-11-24T21:53:07.525GMT",
                    "usageDescription": ""
                  },
                  {
                    "completionTime": "2023-11-24T21:53:07.340GMT",
                    "dataRead": 0,
                    "dataWritten": 0,
                    "description": "Job group for statement 65:\n# Evaluate Logistic Regression model\nlr_test_predictions = lr_model.transform(test_df)\nlr_val_predictions = lr_model.transform(val_df)\nlr_test_accuracy = evaluator.evaluate(lr_test_predictions)\nlr_test_f1_score = f1_evaluator.evaluate(lr_test_predictions)\nlr_test_precision = precision_evaluator.evaluate(lr_test_predictions)\nlr_test_recall = recall_evaluator.evaluate(lr_test_predictions)\n\nlr_val_accuracy = evaluator.evaluate(lr_val_predictions)\nlr_val_f1_score = f1_evaluator.evaluate(lr_val_predictions)\nlr_val_precision = precision_evaluator.evaluate(lr_val_predictions)\nlr_val_recall = recall_evaluator.evaluate(lr_val_predictions)\n",
                    "displayName": "collectAsMap at MulticlassMetrics.scala:61",
                    "jobGroup": "65",
                    "jobId": 450,
                    "killedTasksSummary": {},
                    "name": "collectAsMap at MulticlassMetrics.scala:61",
                    "numActiveStages": 0,
                    "numActiveTasks": 0,
                    "numCompletedIndices": 16,
                    "numCompletedStages": 2,
                    "numCompletedTasks": 16,
                    "numFailedStages": 0,
                    "numFailedTasks": 0,
                    "numKilledTasks": 0,
                    "numSkippedStages": 0,
                    "numSkippedTasks": 0,
                    "numTasks": 16,
                    "rowCount": 0,
                    "stageIds": [
                      883,
                      882
                    ],
                    "status": "SUCCEEDED",
                    "submissionTime": "2023-11-24T21:53:04.749GMT",
                    "usageDescription": ""
                  },
                  {
                    "completionTime": "2023-11-24T21:53:04.555GMT",
                    "dataRead": 0,
                    "dataWritten": 0,
                    "description": "Job group for statement 65:\n# Evaluate Logistic Regression model\nlr_test_predictions = lr_model.transform(test_df)\nlr_val_predictions = lr_model.transform(val_df)\nlr_test_accuracy = evaluator.evaluate(lr_test_predictions)\nlr_test_f1_score = f1_evaluator.evaluate(lr_test_predictions)\nlr_test_precision = precision_evaluator.evaluate(lr_test_predictions)\nlr_test_recall = recall_evaluator.evaluate(lr_test_predictions)\n\nlr_val_accuracy = evaluator.evaluate(lr_val_predictions)\nlr_val_f1_score = f1_evaluator.evaluate(lr_val_predictions)\nlr_val_precision = precision_evaluator.evaluate(lr_val_predictions)\nlr_val_recall = recall_evaluator.evaluate(lr_val_predictions)\n",
                    "displayName": "collectAsMap at MulticlassMetrics.scala:61",
                    "jobGroup": "65",
                    "jobId": 449,
                    "killedTasksSummary": {},
                    "name": "collectAsMap at MulticlassMetrics.scala:61",
                    "numActiveStages": 0,
                    "numActiveTasks": 0,
                    "numCompletedIndices": 16,
                    "numCompletedStages": 2,
                    "numCompletedTasks": 16,
                    "numFailedStages": 0,
                    "numFailedTasks": 0,
                    "numKilledTasks": 0,
                    "numSkippedStages": 0,
                    "numSkippedTasks": 0,
                    "numTasks": 16,
                    "rowCount": 0,
                    "stageIds": [
                      880,
                      881
                    ],
                    "status": "SUCCEEDED",
                    "submissionTime": "2023-11-24T21:53:02.010GMT",
                    "usageDescription": ""
                  },
                  {
                    "completionTime": "2023-11-24T21:53:01.817GMT",
                    "dataRead": 0,
                    "dataWritten": 0,
                    "description": "Job group for statement 65:\n# Evaluate Logistic Regression model\nlr_test_predictions = lr_model.transform(test_df)\nlr_val_predictions = lr_model.transform(val_df)\nlr_test_accuracy = evaluator.evaluate(lr_test_predictions)\nlr_test_f1_score = f1_evaluator.evaluate(lr_test_predictions)\nlr_test_precision = precision_evaluator.evaluate(lr_test_predictions)\nlr_test_recall = recall_evaluator.evaluate(lr_test_predictions)\n\nlr_val_accuracy = evaluator.evaluate(lr_val_predictions)\nlr_val_f1_score = f1_evaluator.evaluate(lr_val_predictions)\nlr_val_precision = precision_evaluator.evaluate(lr_val_predictions)\nlr_val_recall = recall_evaluator.evaluate(lr_val_predictions)\n",
                    "displayName": "collectAsMap at MulticlassMetrics.scala:61",
                    "jobGroup": "65",
                    "jobId": 448,
                    "killedTasksSummary": {},
                    "name": "collectAsMap at MulticlassMetrics.scala:61",
                    "numActiveStages": 0,
                    "numActiveTasks": 0,
                    "numCompletedIndices": 16,
                    "numCompletedStages": 2,
                    "numCompletedTasks": 16,
                    "numFailedStages": 0,
                    "numFailedTasks": 0,
                    "numKilledTasks": 0,
                    "numSkippedStages": 0,
                    "numSkippedTasks": 0,
                    "numTasks": 16,
                    "rowCount": 0,
                    "stageIds": [
                      879,
                      878
                    ],
                    "status": "SUCCEEDED",
                    "submissionTime": "2023-11-24T21:52:59.212GMT",
                    "usageDescription": ""
                  },
                  {
                    "completionTime": "2023-11-24T21:52:58.972GMT",
                    "dataRead": 0,
                    "dataWritten": 0,
                    "description": "Job group for statement 65:\n# Evaluate Logistic Regression model\nlr_test_predictions = lr_model.transform(test_df)\nlr_val_predictions = lr_model.transform(val_df)\nlr_test_accuracy = evaluator.evaluate(lr_test_predictions)\nlr_test_f1_score = f1_evaluator.evaluate(lr_test_predictions)\nlr_test_precision = precision_evaluator.evaluate(lr_test_predictions)\nlr_test_recall = recall_evaluator.evaluate(lr_test_predictions)\n\nlr_val_accuracy = evaluator.evaluate(lr_val_predictions)\nlr_val_f1_score = f1_evaluator.evaluate(lr_val_predictions)\nlr_val_precision = precision_evaluator.evaluate(lr_val_predictions)\nlr_val_recall = recall_evaluator.evaluate(lr_val_predictions)\n",
                    "displayName": "collectAsMap at MulticlassMetrics.scala:61",
                    "jobGroup": "65",
                    "jobId": 447,
                    "killedTasksSummary": {},
                    "name": "collectAsMap at MulticlassMetrics.scala:61",
                    "numActiveStages": 0,
                    "numActiveTasks": 0,
                    "numCompletedIndices": 16,
                    "numCompletedStages": 2,
                    "numCompletedTasks": 16,
                    "numFailedStages": 0,
                    "numFailedTasks": 0,
                    "numKilledTasks": 0,
                    "numSkippedStages": 0,
                    "numSkippedTasks": 0,
                    "numTasks": 16,
                    "rowCount": 0,
                    "stageIds": [
                      876,
                      877
                    ],
                    "status": "SUCCEEDED",
                    "submissionTime": "2023-11-24T21:52:56.356GMT",
                    "usageDescription": ""
                  },
                  {
                    "completionTime": "2023-11-24T21:52:56.166GMT",
                    "dataRead": 0,
                    "dataWritten": 0,
                    "description": "Job group for statement 65:\n# Evaluate Logistic Regression model\nlr_test_predictions = lr_model.transform(test_df)\nlr_val_predictions = lr_model.transform(val_df)\nlr_test_accuracy = evaluator.evaluate(lr_test_predictions)\nlr_test_f1_score = f1_evaluator.evaluate(lr_test_predictions)\nlr_test_precision = precision_evaluator.evaluate(lr_test_predictions)\nlr_test_recall = recall_evaluator.evaluate(lr_test_predictions)\n\nlr_val_accuracy = evaluator.evaluate(lr_val_predictions)\nlr_val_f1_score = f1_evaluator.evaluate(lr_val_predictions)\nlr_val_precision = precision_evaluator.evaluate(lr_val_predictions)\nlr_val_recall = recall_evaluator.evaluate(lr_val_predictions)\n",
                    "displayName": "collectAsMap at MulticlassMetrics.scala:61",
                    "jobGroup": "65",
                    "jobId": 446,
                    "killedTasksSummary": {},
                    "name": "collectAsMap at MulticlassMetrics.scala:61",
                    "numActiveStages": 0,
                    "numActiveTasks": 0,
                    "numCompletedIndices": 16,
                    "numCompletedStages": 2,
                    "numCompletedTasks": 16,
                    "numFailedStages": 0,
                    "numFailedTasks": 0,
                    "numKilledTasks": 0,
                    "numSkippedStages": 0,
                    "numSkippedTasks": 0,
                    "numTasks": 16,
                    "rowCount": 0,
                    "stageIds": [
                      874,
                      875
                    ],
                    "status": "SUCCEEDED",
                    "submissionTime": "2023-11-24T21:52:53.657GMT",
                    "usageDescription": ""
                  },
                  {
                    "completionTime": "2023-11-24T21:52:53.469GMT",
                    "dataRead": 0,
                    "dataWritten": 0,
                    "description": "Job group for statement 65:\n# Evaluate Logistic Regression model\nlr_test_predictions = lr_model.transform(test_df)\nlr_val_predictions = lr_model.transform(val_df)\nlr_test_accuracy = evaluator.evaluate(lr_test_predictions)\nlr_test_f1_score = f1_evaluator.evaluate(lr_test_predictions)\nlr_test_precision = precision_evaluator.evaluate(lr_test_predictions)\nlr_test_recall = recall_evaluator.evaluate(lr_test_predictions)\n\nlr_val_accuracy = evaluator.evaluate(lr_val_predictions)\nlr_val_f1_score = f1_evaluator.evaluate(lr_val_predictions)\nlr_val_precision = precision_evaluator.evaluate(lr_val_predictions)\nlr_val_recall = recall_evaluator.evaluate(lr_val_predictions)\n",
                    "displayName": "collectAsMap at MulticlassMetrics.scala:61",
                    "jobGroup": "65",
                    "jobId": 445,
                    "killedTasksSummary": {},
                    "name": "collectAsMap at MulticlassMetrics.scala:61",
                    "numActiveStages": 0,
                    "numActiveTasks": 0,
                    "numCompletedIndices": 16,
                    "numCompletedStages": 2,
                    "numCompletedTasks": 16,
                    "numFailedStages": 0,
                    "numFailedTasks": 0,
                    "numKilledTasks": 0,
                    "numSkippedStages": 0,
                    "numSkippedTasks": 0,
                    "numTasks": 16,
                    "rowCount": 0,
                    "stageIds": [
                      873,
                      872
                    ],
                    "status": "SUCCEEDED",
                    "submissionTime": "2023-11-24T21:52:50.822GMT",
                    "usageDescription": ""
                  }
                ],
                "limit": 20,
                "numbers": {
                  "FAILED": 0,
                  "RUNNING": 0,
                  "SUCCEEDED": 8,
                  "UNKNOWN": 0
                },
                "rule": "ALL_DESC"
              },
              "spark_pool": "80dcc4b2-bc50-4e81-91e5-397b7f13252e",
              "state": "finished",
              "statement_id": 65
            },
            "text/plain": [
              "StatementMeta(80dcc4b2-bc50-4e81-91e5-397b7f13252e, 24, 65, Finished, Available)"
            ]
          },
          "metadata": {},
          "output_type": "display_data"
        }
      ],
      "source": [
        "# Evaluate Logistic Regression model\n",
        "lr_test_predictions = lr_model.transform(test_df)\n",
        "lr_val_predictions = lr_model.transform(val_df)\n",
        "lr_test_accuracy = evaluator.evaluate(lr_test_predictions)\n",
        "lr_test_f1_score = f1_evaluator.evaluate(lr_test_predictions)\n",
        "lr_test_precision = precision_evaluator.evaluate(lr_test_predictions)\n",
        "lr_test_recall = recall_evaluator.evaluate(lr_test_predictions)\n",
        "\n",
        "lr_val_accuracy = evaluator.evaluate(lr_val_predictions)\n",
        "lr_val_f1_score = f1_evaluator.evaluate(lr_val_predictions)\n",
        "lr_val_precision = precision_evaluator.evaluate(lr_val_predictions)\n",
        "lr_val_recall = recall_evaluator.evaluate(lr_val_predictions)\n"
      ]
    },
    {
      "cell_type": "code",
      "execution_count": 61,
      "metadata": {
        "gather": {
          "logged": 1700862860543
        },
        "jupyter": {
          "outputs_hidden": false,
          "source_hidden": false
        },
        "nteract": {
          "transient": {
            "deleting": false
          }
        }
      },
      "outputs": [
        {
          "data": {
            "application/vnd.livy.statement-meta+json": {
              "execution_finish_time": "2023-11-24T21:54:20.4285358Z",
              "execution_start_time": "2023-11-24T21:53:13.9503339Z",
              "livy_statement_state": "available",
              "parent_msg_id": "1a5d9d5f-bda2-4a39-b774-f5bbfbaeb059",
              "queued_time": "2023-11-24T21:51:07.5494402Z",
              "session_id": "24",
              "session_start_time": null,
              "spark_jobs": {
                "jobs": [
                  {
                    "completionTime": "2023-11-24T21:54:17.933GMT",
                    "dataRead": 0,
                    "dataWritten": 0,
                    "description": "Job group for statement 66:\n# Evaluate Support Vector model\novr_test_predictions = ovr_model.transform(test_df)\novr_val_predictions = ovr_model.transform(val_df)\novr_test_accuracy = evaluator.evaluate(ovr_test_predictions)\novr_test_f1_score = f1_evaluator.evaluate(ovr_test_predictions)\novr_test_precision = precision_evaluator.evaluate(ovr_test_predictions)\novr_test_recall = recall_evaluator.evaluate(ovr_test_predictions)\n\novr_val_accuracy = evaluator.evaluate(ovr_val_predictions)\novr_val_f1_score = f1_evaluator.evaluate(ovr_val_predictions)\novr_val_precision = precision_evaluator.evaluate(ovr_val_predictions)\novr_val_recall = recall_evaluator.evaluate(ovr_val_predictions)",
                    "displayName": "collectAsMap at MulticlassMetrics.scala:61",
                    "jobGroup": "66",
                    "jobId": 460,
                    "killedTasksSummary": {},
                    "name": "collectAsMap at MulticlassMetrics.scala:61",
                    "numActiveStages": 0,
                    "numActiveTasks": 0,
                    "numCompletedIndices": 16,
                    "numCompletedStages": 2,
                    "numCompletedTasks": 16,
                    "numFailedStages": 0,
                    "numFailedTasks": 0,
                    "numKilledTasks": 0,
                    "numSkippedStages": 0,
                    "numSkippedTasks": 0,
                    "numTasks": 16,
                    "rowCount": 0,
                    "stageIds": [
                      902,
                      903
                    ],
                    "status": "SUCCEEDED",
                    "submissionTime": "2023-11-24T21:54:14.779GMT",
                    "usageDescription": ""
                  },
                  {
                    "completionTime": "2023-11-24T21:54:12.479GMT",
                    "dataRead": 0,
                    "dataWritten": 0,
                    "description": "Job group for statement 66:\n# Evaluate Support Vector model\novr_test_predictions = ovr_model.transform(test_df)\novr_val_predictions = ovr_model.transform(val_df)\novr_test_accuracy = evaluator.evaluate(ovr_test_predictions)\novr_test_f1_score = f1_evaluator.evaluate(ovr_test_predictions)\novr_test_precision = precision_evaluator.evaluate(ovr_test_predictions)\novr_test_recall = recall_evaluator.evaluate(ovr_test_predictions)\n\novr_val_accuracy = evaluator.evaluate(ovr_val_predictions)\novr_val_f1_score = f1_evaluator.evaluate(ovr_val_predictions)\novr_val_precision = precision_evaluator.evaluate(ovr_val_predictions)\novr_val_recall = recall_evaluator.evaluate(ovr_val_predictions)",
                    "displayName": "collectAsMap at MulticlassMetrics.scala:61",
                    "jobGroup": "66",
                    "jobId": 459,
                    "killedTasksSummary": {},
                    "name": "collectAsMap at MulticlassMetrics.scala:61",
                    "numActiveStages": 0,
                    "numActiveTasks": 0,
                    "numCompletedIndices": 16,
                    "numCompletedStages": 2,
                    "numCompletedTasks": 16,
                    "numFailedStages": 0,
                    "numFailedTasks": 0,
                    "numKilledTasks": 0,
                    "numSkippedStages": 0,
                    "numSkippedTasks": 0,
                    "numTasks": 16,
                    "rowCount": 0,
                    "stageIds": [
                      901,
                      900
                    ],
                    "status": "SUCCEEDED",
                    "submissionTime": "2023-11-24T21:54:09.037GMT",
                    "usageDescription": ""
                  },
                  {
                    "completionTime": "2023-11-24T21:54:06.852GMT",
                    "dataRead": 0,
                    "dataWritten": 0,
                    "description": "Job group for statement 66:\n# Evaluate Support Vector model\novr_test_predictions = ovr_model.transform(test_df)\novr_val_predictions = ovr_model.transform(val_df)\novr_test_accuracy = evaluator.evaluate(ovr_test_predictions)\novr_test_f1_score = f1_evaluator.evaluate(ovr_test_predictions)\novr_test_precision = precision_evaluator.evaluate(ovr_test_predictions)\novr_test_recall = recall_evaluator.evaluate(ovr_test_predictions)\n\novr_val_accuracy = evaluator.evaluate(ovr_val_predictions)\novr_val_f1_score = f1_evaluator.evaluate(ovr_val_predictions)\novr_val_precision = precision_evaluator.evaluate(ovr_val_predictions)\novr_val_recall = recall_evaluator.evaluate(ovr_val_predictions)",
                    "displayName": "collectAsMap at MulticlassMetrics.scala:61",
                    "jobGroup": "66",
                    "jobId": 458,
                    "killedTasksSummary": {},
                    "name": "collectAsMap at MulticlassMetrics.scala:61",
                    "numActiveStages": 0,
                    "numActiveTasks": 0,
                    "numCompletedIndices": 16,
                    "numCompletedStages": 2,
                    "numCompletedTasks": 16,
                    "numFailedStages": 0,
                    "numFailedTasks": 0,
                    "numKilledTasks": 0,
                    "numSkippedStages": 0,
                    "numSkippedTasks": 0,
                    "numTasks": 16,
                    "rowCount": 0,
                    "stageIds": [
                      898,
                      899
                    ],
                    "status": "SUCCEEDED",
                    "submissionTime": "2023-11-24T21:54:03.310GMT",
                    "usageDescription": ""
                  },
                  {
                    "completionTime": "2023-11-24T21:54:00.984GMT",
                    "dataRead": 0,
                    "dataWritten": 0,
                    "description": "Job group for statement 66:\n# Evaluate Support Vector model\novr_test_predictions = ovr_model.transform(test_df)\novr_val_predictions = ovr_model.transform(val_df)\novr_test_accuracy = evaluator.evaluate(ovr_test_predictions)\novr_test_f1_score = f1_evaluator.evaluate(ovr_test_predictions)\novr_test_precision = precision_evaluator.evaluate(ovr_test_predictions)\novr_test_recall = recall_evaluator.evaluate(ovr_test_predictions)\n\novr_val_accuracy = evaluator.evaluate(ovr_val_predictions)\novr_val_f1_score = f1_evaluator.evaluate(ovr_val_predictions)\novr_val_precision = precision_evaluator.evaluate(ovr_val_predictions)\novr_val_recall = recall_evaluator.evaluate(ovr_val_predictions)",
                    "displayName": "collectAsMap at MulticlassMetrics.scala:61",
                    "jobGroup": "66",
                    "jobId": 457,
                    "killedTasksSummary": {},
                    "name": "collectAsMap at MulticlassMetrics.scala:61",
                    "numActiveStages": 0,
                    "numActiveTasks": 0,
                    "numCompletedIndices": 16,
                    "numCompletedStages": 2,
                    "numCompletedTasks": 16,
                    "numFailedStages": 0,
                    "numFailedTasks": 0,
                    "numKilledTasks": 0,
                    "numSkippedStages": 0,
                    "numSkippedTasks": 0,
                    "numTasks": 16,
                    "rowCount": 0,
                    "stageIds": [
                      897,
                      896
                    ],
                    "status": "SUCCEEDED",
                    "submissionTime": "2023-11-24T21:53:56.968GMT",
                    "usageDescription": ""
                  },
                  {
                    "completionTime": "2023-11-24T21:53:54.752GMT",
                    "dataRead": 0,
                    "dataWritten": 0,
                    "description": "Job group for statement 66:\n# Evaluate Support Vector model\novr_test_predictions = ovr_model.transform(test_df)\novr_val_predictions = ovr_model.transform(val_df)\novr_test_accuracy = evaluator.evaluate(ovr_test_predictions)\novr_test_f1_score = f1_evaluator.evaluate(ovr_test_predictions)\novr_test_precision = precision_evaluator.evaluate(ovr_test_predictions)\novr_test_recall = recall_evaluator.evaluate(ovr_test_predictions)\n\novr_val_accuracy = evaluator.evaluate(ovr_val_predictions)\novr_val_f1_score = f1_evaluator.evaluate(ovr_val_predictions)\novr_val_precision = precision_evaluator.evaluate(ovr_val_predictions)\novr_val_recall = recall_evaluator.evaluate(ovr_val_predictions)",
                    "displayName": "collectAsMap at MulticlassMetrics.scala:61",
                    "jobGroup": "66",
                    "jobId": 456,
                    "killedTasksSummary": {},
                    "name": "collectAsMap at MulticlassMetrics.scala:61",
                    "numActiveStages": 0,
                    "numActiveTasks": 0,
                    "numCompletedIndices": 16,
                    "numCompletedStages": 2,
                    "numCompletedTasks": 16,
                    "numFailedStages": 0,
                    "numFailedTasks": 0,
                    "numKilledTasks": 0,
                    "numSkippedStages": 0,
                    "numSkippedTasks": 0,
                    "numTasks": 16,
                    "rowCount": 0,
                    "stageIds": [
                      894,
                      895
                    ],
                    "status": "SUCCEEDED",
                    "submissionTime": "2023-11-24T21:53:51.227GMT",
                    "usageDescription": ""
                  },
                  {
                    "completionTime": "2023-11-24T21:53:48.827GMT",
                    "dataRead": 0,
                    "dataWritten": 0,
                    "description": "Job group for statement 66:\n# Evaluate Support Vector model\novr_test_predictions = ovr_model.transform(test_df)\novr_val_predictions = ovr_model.transform(val_df)\novr_test_accuracy = evaluator.evaluate(ovr_test_predictions)\novr_test_f1_score = f1_evaluator.evaluate(ovr_test_predictions)\novr_test_precision = precision_evaluator.evaluate(ovr_test_predictions)\novr_test_recall = recall_evaluator.evaluate(ovr_test_predictions)\n\novr_val_accuracy = evaluator.evaluate(ovr_val_predictions)\novr_val_f1_score = f1_evaluator.evaluate(ovr_val_predictions)\novr_val_precision = precision_evaluator.evaluate(ovr_val_predictions)\novr_val_recall = recall_evaluator.evaluate(ovr_val_predictions)",
                    "displayName": "collectAsMap at MulticlassMetrics.scala:61",
                    "jobGroup": "66",
                    "jobId": 455,
                    "killedTasksSummary": {},
                    "name": "collectAsMap at MulticlassMetrics.scala:61",
                    "numActiveStages": 0,
                    "numActiveTasks": 0,
                    "numCompletedIndices": 16,
                    "numCompletedStages": 2,
                    "numCompletedTasks": 16,
                    "numFailedStages": 0,
                    "numFailedTasks": 0,
                    "numKilledTasks": 0,
                    "numSkippedStages": 0,
                    "numSkippedTasks": 0,
                    "numTasks": 16,
                    "rowCount": 0,
                    "stageIds": [
                      892,
                      893
                    ],
                    "status": "SUCCEEDED",
                    "submissionTime": "2023-11-24T21:53:42.734GMT",
                    "usageDescription": ""
                  },
                  {
                    "completionTime": "2023-11-24T21:53:40.352GMT",
                    "dataRead": 0,
                    "dataWritten": 0,
                    "description": "Job group for statement 66:\n# Evaluate Support Vector model\novr_test_predictions = ovr_model.transform(test_df)\novr_val_predictions = ovr_model.transform(val_df)\novr_test_accuracy = evaluator.evaluate(ovr_test_predictions)\novr_test_f1_score = f1_evaluator.evaluate(ovr_test_predictions)\novr_test_precision = precision_evaluator.evaluate(ovr_test_predictions)\novr_test_recall = recall_evaluator.evaluate(ovr_test_predictions)\n\novr_val_accuracy = evaluator.evaluate(ovr_val_predictions)\novr_val_f1_score = f1_evaluator.evaluate(ovr_val_predictions)\novr_val_precision = precision_evaluator.evaluate(ovr_val_predictions)\novr_val_recall = recall_evaluator.evaluate(ovr_val_predictions)",
                    "displayName": "collectAsMap at MulticlassMetrics.scala:61",
                    "jobGroup": "66",
                    "jobId": 454,
                    "killedTasksSummary": {},
                    "name": "collectAsMap at MulticlassMetrics.scala:61",
                    "numActiveStages": 0,
                    "numActiveTasks": 0,
                    "numCompletedIndices": 16,
                    "numCompletedStages": 2,
                    "numCompletedTasks": 16,
                    "numFailedStages": 0,
                    "numFailedTasks": 0,
                    "numKilledTasks": 0,
                    "numSkippedStages": 0,
                    "numSkippedTasks": 0,
                    "numTasks": 16,
                    "rowCount": 0,
                    "stageIds": [
                      891,
                      890
                    ],
                    "status": "SUCCEEDED",
                    "submissionTime": "2023-11-24T21:53:35.788GMT",
                    "usageDescription": ""
                  },
                  {
                    "completionTime": "2023-11-24T21:53:33.525GMT",
                    "dataRead": 0,
                    "dataWritten": 0,
                    "description": "Job group for statement 66:\n# Evaluate Support Vector model\novr_test_predictions = ovr_model.transform(test_df)\novr_val_predictions = ovr_model.transform(val_df)\novr_test_accuracy = evaluator.evaluate(ovr_test_predictions)\novr_test_f1_score = f1_evaluator.evaluate(ovr_test_predictions)\novr_test_precision = precision_evaluator.evaluate(ovr_test_predictions)\novr_test_recall = recall_evaluator.evaluate(ovr_test_predictions)\n\novr_val_accuracy = evaluator.evaluate(ovr_val_predictions)\novr_val_f1_score = f1_evaluator.evaluate(ovr_val_predictions)\novr_val_precision = precision_evaluator.evaluate(ovr_val_predictions)\novr_val_recall = recall_evaluator.evaluate(ovr_val_predictions)",
                    "displayName": "collectAsMap at MulticlassMetrics.scala:61",
                    "jobGroup": "66",
                    "jobId": 453,
                    "killedTasksSummary": {},
                    "name": "collectAsMap at MulticlassMetrics.scala:61",
                    "numActiveStages": 0,
                    "numActiveTasks": 0,
                    "numCompletedIndices": 16,
                    "numCompletedStages": 2,
                    "numCompletedTasks": 16,
                    "numFailedStages": 0,
                    "numFailedTasks": 0,
                    "numKilledTasks": 0,
                    "numSkippedStages": 0,
                    "numSkippedTasks": 0,
                    "numTasks": 16,
                    "rowCount": 0,
                    "stageIds": [
                      888,
                      889
                    ],
                    "status": "SUCCEEDED",
                    "submissionTime": "2023-11-24T21:53:21.232GMT",
                    "usageDescription": ""
                  }
                ],
                "limit": 20,
                "numbers": {
                  "FAILED": 0,
                  "RUNNING": 0,
                  "SUCCEEDED": 8,
                  "UNKNOWN": 0
                },
                "rule": "ALL_DESC"
              },
              "spark_pool": "80dcc4b2-bc50-4e81-91e5-397b7f13252e",
              "state": "finished",
              "statement_id": 66
            },
            "text/plain": [
              "StatementMeta(80dcc4b2-bc50-4e81-91e5-397b7f13252e, 24, 66, Finished, Available)"
            ]
          },
          "metadata": {},
          "output_type": "display_data"
        }
      ],
      "source": [
        "# Evaluate Support Vector model\n",
        "ovr_test_predictions = ovr_model.transform(test_df)\n",
        "ovr_val_predictions = ovr_model.transform(val_df)\n",
        "ovr_test_accuracy = evaluator.evaluate(ovr_test_predictions)\n",
        "ovr_test_f1_score = f1_evaluator.evaluate(ovr_test_predictions)\n",
        "ovr_test_precision = precision_evaluator.evaluate(ovr_test_predictions)\n",
        "ovr_test_recall = recall_evaluator.evaluate(ovr_test_predictions)\n",
        "\n",
        "ovr_val_accuracy = evaluator.evaluate(ovr_val_predictions)\n",
        "ovr_val_f1_score = f1_evaluator.evaluate(ovr_val_predictions)\n",
        "ovr_val_precision = precision_evaluator.evaluate(ovr_val_predictions)\n",
        "ovr_val_recall = recall_evaluator.evaluate(ovr_val_predictions)"
      ]
    },
    {
      "cell_type": "code",
      "execution_count": 62,
      "metadata": {
        "gather": {
          "logged": 1700862882067
        },
        "jupyter": {
          "outputs_hidden": false,
          "source_hidden": false
        },
        "nteract": {
          "transient": {
            "deleting": false
          }
        }
      },
      "outputs": [
        {
          "data": {
            "application/vnd.livy.statement-meta+json": {
              "execution_finish_time": "2023-11-24T21:54:41.9024989Z",
              "execution_start_time": "2023-11-24T21:54:20.5380924Z",
              "livy_statement_state": "available",
              "parent_msg_id": "3687503c-9420-41a8-b5bf-e0ae8dd3b9da",
              "queued_time": "2023-11-24T21:51:09.748868Z",
              "session_id": "24",
              "session_start_time": null,
              "spark_jobs": {
                "jobs": [
                  {
                    "completionTime": "2023-11-24T21:54:40.148GMT",
                    "dataRead": 0,
                    "dataWritten": 0,
                    "description": "Job group for statement 67:\n# Evaluate RF model\nrf_test_predictions = rf_model.transform(test_df)\nrf_val_predictions = rf_model.transform(val_df)\nrf_test_accuracy = evaluator.evaluate(rf_test_predictions)\nrf_test_f1_score = f1_evaluator.evaluate(rf_test_predictions)\nrf_test_precision = precision_evaluator.evaluate(rf_test_predictions)\nrf_test_recall = recall_evaluator.evaluate(rf_test_predictions)\n\nrf_val_accuracy = evaluator.evaluate(rf_val_predictions)\nrf_val_f1_score = f1_evaluator.evaluate(rf_val_predictions)\nrf_val_precision = precision_evaluator.evaluate(rf_val_predictions)\nrf_val_recall = recall_evaluator.evaluate(rf_val_predictions)\n\n",
                    "displayName": "collectAsMap at MulticlassMetrics.scala:61",
                    "jobGroup": "67",
                    "jobId": 468,
                    "killedTasksSummary": {},
                    "name": "collectAsMap at MulticlassMetrics.scala:61",
                    "numActiveStages": 0,
                    "numActiveTasks": 0,
                    "numCompletedIndices": 16,
                    "numCompletedStages": 2,
                    "numCompletedTasks": 16,
                    "numFailedStages": 0,
                    "numFailedTasks": 0,
                    "numKilledTasks": 0,
                    "numSkippedStages": 0,
                    "numSkippedTasks": 0,
                    "numTasks": 16,
                    "rowCount": 0,
                    "stageIds": [
                      919,
                      918
                    ],
                    "status": "SUCCEEDED",
                    "submissionTime": "2023-11-24T21:54:37.898GMT",
                    "usageDescription": ""
                  },
                  {
                    "completionTime": "2023-11-24T21:54:37.751GMT",
                    "dataRead": 0,
                    "dataWritten": 0,
                    "description": "Job group for statement 67:\n# Evaluate RF model\nrf_test_predictions = rf_model.transform(test_df)\nrf_val_predictions = rf_model.transform(val_df)\nrf_test_accuracy = evaluator.evaluate(rf_test_predictions)\nrf_test_f1_score = f1_evaluator.evaluate(rf_test_predictions)\nrf_test_precision = precision_evaluator.evaluate(rf_test_predictions)\nrf_test_recall = recall_evaluator.evaluate(rf_test_predictions)\n\nrf_val_accuracy = evaluator.evaluate(rf_val_predictions)\nrf_val_f1_score = f1_evaluator.evaluate(rf_val_predictions)\nrf_val_precision = precision_evaluator.evaluate(rf_val_predictions)\nrf_val_recall = recall_evaluator.evaluate(rf_val_predictions)\n\n",
                    "displayName": "collectAsMap at MulticlassMetrics.scala:61",
                    "jobGroup": "67",
                    "jobId": 467,
                    "killedTasksSummary": {},
                    "name": "collectAsMap at MulticlassMetrics.scala:61",
                    "numActiveStages": 0,
                    "numActiveTasks": 0,
                    "numCompletedIndices": 16,
                    "numCompletedStages": 2,
                    "numCompletedTasks": 16,
                    "numFailedStages": 0,
                    "numFailedTasks": 0,
                    "numKilledTasks": 0,
                    "numSkippedStages": 0,
                    "numSkippedTasks": 0,
                    "numTasks": 16,
                    "rowCount": 0,
                    "stageIds": [
                      916,
                      917
                    ],
                    "status": "SUCCEEDED",
                    "submissionTime": "2023-11-24T21:54:35.363GMT",
                    "usageDescription": ""
                  },
                  {
                    "completionTime": "2023-11-24T21:54:35.205GMT",
                    "dataRead": 0,
                    "dataWritten": 0,
                    "description": "Job group for statement 67:\n# Evaluate RF model\nrf_test_predictions = rf_model.transform(test_df)\nrf_val_predictions = rf_model.transform(val_df)\nrf_test_accuracy = evaluator.evaluate(rf_test_predictions)\nrf_test_f1_score = f1_evaluator.evaluate(rf_test_predictions)\nrf_test_precision = precision_evaluator.evaluate(rf_test_predictions)\nrf_test_recall = recall_evaluator.evaluate(rf_test_predictions)\n\nrf_val_accuracy = evaluator.evaluate(rf_val_predictions)\nrf_val_f1_score = f1_evaluator.evaluate(rf_val_predictions)\nrf_val_precision = precision_evaluator.evaluate(rf_val_predictions)\nrf_val_recall = recall_evaluator.evaluate(rf_val_predictions)\n\n",
                    "displayName": "collectAsMap at MulticlassMetrics.scala:61",
                    "jobGroup": "67",
                    "jobId": 466,
                    "killedTasksSummary": {},
                    "name": "collectAsMap at MulticlassMetrics.scala:61",
                    "numActiveStages": 0,
                    "numActiveTasks": 0,
                    "numCompletedIndices": 16,
                    "numCompletedStages": 2,
                    "numCompletedTasks": 16,
                    "numFailedStages": 0,
                    "numFailedTasks": 0,
                    "numKilledTasks": 0,
                    "numSkippedStages": 0,
                    "numSkippedTasks": 0,
                    "numTasks": 16,
                    "rowCount": 0,
                    "stageIds": [
                      915,
                      914
                    ],
                    "status": "SUCCEEDED",
                    "submissionTime": "2023-11-24T21:54:32.820GMT",
                    "usageDescription": ""
                  },
                  {
                    "completionTime": "2023-11-24T21:54:32.672GMT",
                    "dataRead": 0,
                    "dataWritten": 0,
                    "description": "Job group for statement 67:\n# Evaluate RF model\nrf_test_predictions = rf_model.transform(test_df)\nrf_val_predictions = rf_model.transform(val_df)\nrf_test_accuracy = evaluator.evaluate(rf_test_predictions)\nrf_test_f1_score = f1_evaluator.evaluate(rf_test_predictions)\nrf_test_precision = precision_evaluator.evaluate(rf_test_predictions)\nrf_test_recall = recall_evaluator.evaluate(rf_test_predictions)\n\nrf_val_accuracy = evaluator.evaluate(rf_val_predictions)\nrf_val_f1_score = f1_evaluator.evaluate(rf_val_predictions)\nrf_val_precision = precision_evaluator.evaluate(rf_val_predictions)\nrf_val_recall = recall_evaluator.evaluate(rf_val_predictions)\n\n",
                    "displayName": "collectAsMap at MulticlassMetrics.scala:61",
                    "jobGroup": "67",
                    "jobId": 465,
                    "killedTasksSummary": {},
                    "name": "collectAsMap at MulticlassMetrics.scala:61",
                    "numActiveStages": 0,
                    "numActiveTasks": 0,
                    "numCompletedIndices": 16,
                    "numCompletedStages": 2,
                    "numCompletedTasks": 16,
                    "numFailedStages": 0,
                    "numFailedTasks": 0,
                    "numKilledTasks": 0,
                    "numSkippedStages": 0,
                    "numSkippedTasks": 0,
                    "numTasks": 16,
                    "rowCount": 0,
                    "stageIds": [
                      912,
                      913
                    ],
                    "status": "SUCCEEDED",
                    "submissionTime": "2023-11-24T21:54:30.470GMT",
                    "usageDescription": ""
                  },
                  {
                    "completionTime": "2023-11-24T21:54:30.328GMT",
                    "dataRead": 0,
                    "dataWritten": 0,
                    "description": "Job group for statement 67:\n# Evaluate RF model\nrf_test_predictions = rf_model.transform(test_df)\nrf_val_predictions = rf_model.transform(val_df)\nrf_test_accuracy = evaluator.evaluate(rf_test_predictions)\nrf_test_f1_score = f1_evaluator.evaluate(rf_test_predictions)\nrf_test_precision = precision_evaluator.evaluate(rf_test_predictions)\nrf_test_recall = recall_evaluator.evaluate(rf_test_predictions)\n\nrf_val_accuracy = evaluator.evaluate(rf_val_predictions)\nrf_val_f1_score = f1_evaluator.evaluate(rf_val_predictions)\nrf_val_precision = precision_evaluator.evaluate(rf_val_predictions)\nrf_val_recall = recall_evaluator.evaluate(rf_val_predictions)\n\n",
                    "displayName": "collectAsMap at MulticlassMetrics.scala:61",
                    "jobGroup": "67",
                    "jobId": 464,
                    "killedTasksSummary": {},
                    "name": "collectAsMap at MulticlassMetrics.scala:61",
                    "numActiveStages": 0,
                    "numActiveTasks": 0,
                    "numCompletedIndices": 16,
                    "numCompletedStages": 2,
                    "numCompletedTasks": 16,
                    "numFailedStages": 0,
                    "numFailedTasks": 0,
                    "numKilledTasks": 0,
                    "numSkippedStages": 0,
                    "numSkippedTasks": 0,
                    "numTasks": 16,
                    "rowCount": 0,
                    "stageIds": [
                      910,
                      911
                    ],
                    "status": "SUCCEEDED",
                    "submissionTime": "2023-11-24T21:54:28.043GMT",
                    "usageDescription": ""
                  },
                  {
                    "completionTime": "2023-11-24T21:54:27.905GMT",
                    "dataRead": 0,
                    "dataWritten": 0,
                    "description": "Job group for statement 67:\n# Evaluate RF model\nrf_test_predictions = rf_model.transform(test_df)\nrf_val_predictions = rf_model.transform(val_df)\nrf_test_accuracy = evaluator.evaluate(rf_test_predictions)\nrf_test_f1_score = f1_evaluator.evaluate(rf_test_predictions)\nrf_test_precision = precision_evaluator.evaluate(rf_test_predictions)\nrf_test_recall = recall_evaluator.evaluate(rf_test_predictions)\n\nrf_val_accuracy = evaluator.evaluate(rf_val_predictions)\nrf_val_f1_score = f1_evaluator.evaluate(rf_val_predictions)\nrf_val_precision = precision_evaluator.evaluate(rf_val_predictions)\nrf_val_recall = recall_evaluator.evaluate(rf_val_predictions)\n\n",
                    "displayName": "collectAsMap at MulticlassMetrics.scala:61",
                    "jobGroup": "67",
                    "jobId": 463,
                    "killedTasksSummary": {},
                    "name": "collectAsMap at MulticlassMetrics.scala:61",
                    "numActiveStages": 0,
                    "numActiveTasks": 0,
                    "numCompletedIndices": 16,
                    "numCompletedStages": 2,
                    "numCompletedTasks": 16,
                    "numFailedStages": 0,
                    "numFailedTasks": 0,
                    "numKilledTasks": 0,
                    "numSkippedStages": 0,
                    "numSkippedTasks": 0,
                    "numTasks": 16,
                    "rowCount": 0,
                    "stageIds": [
                      909,
                      908
                    ],
                    "status": "SUCCEEDED",
                    "submissionTime": "2023-11-24T21:54:25.667GMT",
                    "usageDescription": ""
                  },
                  {
                    "completionTime": "2023-11-24T21:54:25.526GMT",
                    "dataRead": 0,
                    "dataWritten": 0,
                    "description": "Job group for statement 67:\n# Evaluate RF model\nrf_test_predictions = rf_model.transform(test_df)\nrf_val_predictions = rf_model.transform(val_df)\nrf_test_accuracy = evaluator.evaluate(rf_test_predictions)\nrf_test_f1_score = f1_evaluator.evaluate(rf_test_predictions)\nrf_test_precision = precision_evaluator.evaluate(rf_test_predictions)\nrf_test_recall = recall_evaluator.evaluate(rf_test_predictions)\n\nrf_val_accuracy = evaluator.evaluate(rf_val_predictions)\nrf_val_f1_score = f1_evaluator.evaluate(rf_val_predictions)\nrf_val_precision = precision_evaluator.evaluate(rf_val_predictions)\nrf_val_recall = recall_evaluator.evaluate(rf_val_predictions)\n\n",
                    "displayName": "collectAsMap at MulticlassMetrics.scala:61",
                    "jobGroup": "67",
                    "jobId": 462,
                    "killedTasksSummary": {},
                    "name": "collectAsMap at MulticlassMetrics.scala:61",
                    "numActiveStages": 0,
                    "numActiveTasks": 0,
                    "numCompletedIndices": 16,
                    "numCompletedStages": 2,
                    "numCompletedTasks": 16,
                    "numFailedStages": 0,
                    "numFailedTasks": 0,
                    "numKilledTasks": 0,
                    "numSkippedStages": 0,
                    "numSkippedTasks": 0,
                    "numTasks": 16,
                    "rowCount": 0,
                    "stageIds": [
                      906,
                      907
                    ],
                    "status": "SUCCEEDED",
                    "submissionTime": "2023-11-24T21:54:23.413GMT",
                    "usageDescription": ""
                  },
                  {
                    "completionTime": "2023-11-24T21:54:23.255GMT",
                    "dataRead": 0,
                    "dataWritten": 0,
                    "description": "Job group for statement 67:\n# Evaluate RF model\nrf_test_predictions = rf_model.transform(test_df)\nrf_val_predictions = rf_model.transform(val_df)\nrf_test_accuracy = evaluator.evaluate(rf_test_predictions)\nrf_test_f1_score = f1_evaluator.evaluate(rf_test_predictions)\nrf_test_precision = precision_evaluator.evaluate(rf_test_predictions)\nrf_test_recall = recall_evaluator.evaluate(rf_test_predictions)\n\nrf_val_accuracy = evaluator.evaluate(rf_val_predictions)\nrf_val_f1_score = f1_evaluator.evaluate(rf_val_predictions)\nrf_val_precision = precision_evaluator.evaluate(rf_val_predictions)\nrf_val_recall = recall_evaluator.evaluate(rf_val_predictions)\n\n",
                    "displayName": "collectAsMap at MulticlassMetrics.scala:61",
                    "jobGroup": "67",
                    "jobId": 461,
                    "killedTasksSummary": {},
                    "name": "collectAsMap at MulticlassMetrics.scala:61",
                    "numActiveStages": 0,
                    "numActiveTasks": 0,
                    "numCompletedIndices": 16,
                    "numCompletedStages": 2,
                    "numCompletedTasks": 16,
                    "numFailedStages": 0,
                    "numFailedTasks": 0,
                    "numKilledTasks": 0,
                    "numSkippedStages": 0,
                    "numSkippedTasks": 0,
                    "numTasks": 16,
                    "rowCount": 0,
                    "stageIds": [
                      905,
                      904
                    ],
                    "status": "SUCCEEDED",
                    "submissionTime": "2023-11-24T21:54:20.983GMT",
                    "usageDescription": ""
                  }
                ],
                "limit": 20,
                "numbers": {
                  "FAILED": 0,
                  "RUNNING": 0,
                  "SUCCEEDED": 8,
                  "UNKNOWN": 0
                },
                "rule": "ALL_DESC"
              },
              "spark_pool": "80dcc4b2-bc50-4e81-91e5-397b7f13252e",
              "state": "finished",
              "statement_id": 67
            },
            "text/plain": [
              "StatementMeta(80dcc4b2-bc50-4e81-91e5-397b7f13252e, 24, 67, Finished, Available)"
            ]
          },
          "metadata": {},
          "output_type": "display_data"
        }
      ],
      "source": [
        "# Evaluate RF model\n",
        "rf_test_predictions = rf_model.transform(test_df)\n",
        "rf_val_predictions = rf_model.transform(val_df)\n",
        "rf_test_accuracy = evaluator.evaluate(rf_test_predictions)\n",
        "rf_test_f1_score = f1_evaluator.evaluate(rf_test_predictions)\n",
        "rf_test_precision = precision_evaluator.evaluate(rf_test_predictions)\n",
        "rf_test_recall = recall_evaluator.evaluate(rf_test_predictions)\n",
        "\n",
        "rf_val_accuracy = evaluator.evaluate(rf_val_predictions)\n",
        "rf_val_f1_score = f1_evaluator.evaluate(rf_val_predictions)\n",
        "rf_val_precision = precision_evaluator.evaluate(rf_val_predictions)\n",
        "rf_val_recall = recall_evaluator.evaluate(rf_val_predictions)\n",
        "\n"
      ]
    },
    {
      "cell_type": "markdown",
      "metadata": {
        "nteract": {
          "transient": {
            "deleting": false
          }
        }
      },
      "source": [
        "#### confusion matrix"
      ]
    },
    {
      "cell_type": "code",
      "execution_count": 73,
      "metadata": {
        "gather": {
          "logged": 1700863774259
        },
        "jupyter": {
          "outputs_hidden": false,
          "source_hidden": false
        },
        "nteract": {
          "transient": {
            "deleting": false
          }
        }
      },
      "outputs": [
        {
          "data": {
            "application/vnd.livy.statement-meta+json": {
              "execution_finish_time": "2023-11-24T22:09:34.0293437Z",
              "execution_start_time": "2023-11-24T22:08:54.7609277Z",
              "livy_statement_state": "available",
              "parent_msg_id": "13b6c969-9f4b-4d61-85c6-a2da424d5de5",
              "queued_time": "2023-11-24T22:08:54.6205781Z",
              "session_id": "24",
              "session_start_time": null,
              "spark_jobs": {
                "jobs": [
                  {
                    "completionTime": "2023-11-24T22:09:31.696GMT",
                    "dataRead": 0,
                    "dataWritten": 0,
                    "description": "Job group for statement 78:\nlr_test_confusion_matrix = lr_test_predictions.groupby(\"label\", \"prediction\").count().toPandas()\nlr_val_confusion_matrix = lr_val_predictions.groupby(\"label\", \"prediction\").count().toPandas()\novr_test_confusion_matrix = ovr_test_predictions.groupby(\"label\", \"prediction\").count().toPandas()\novr_val_confusion_matrix = ovr_val_predictions.groupby(\"label\", \"prediction\").count().toPandas()\nrf_test_confusion_matrix = rf_test_predictions.groupby(\"label\", \"prediction\").count().toPandas()\nrf_val_confusion_matrix = rf_val_predictions.groupby(\"label\", \"prediction\").count().toPandas()",
                    "displayName": "toPandas at /tmp/ipykernel_8122/469864594.py:6",
                    "jobGroup": "78",
                    "jobId": 484,
                    "killedTasksSummary": {},
                    "name": "toPandas at /tmp/ipykernel_8122/469864594.py:6",
                    "numActiveStages": 0,
                    "numActiveTasks": 0,
                    "numCompletedIndices": 1,
                    "numCompletedStages": 1,
                    "numCompletedTasks": 1,
                    "numFailedStages": 0,
                    "numFailedTasks": 0,
                    "numKilledTasks": 0,
                    "numSkippedStages": 1,
                    "numSkippedTasks": 8,
                    "numTasks": 9,
                    "rowCount": 0,
                    "stageIds": [
                      940,
                      941
                    ],
                    "status": "SUCCEEDED",
                    "submissionTime": "2023-11-24T22:09:31.453GMT",
                    "usageDescription": ""
                  },
                  {
                    "completionTime": "2023-11-24T22:09:31.346GMT",
                    "dataRead": 0,
                    "dataWritten": 0,
                    "description": "Job group for statement 78:\nlr_test_confusion_matrix = lr_test_predictions.groupby(\"label\", \"prediction\").count().toPandas()\nlr_val_confusion_matrix = lr_val_predictions.groupby(\"label\", \"prediction\").count().toPandas()\novr_test_confusion_matrix = ovr_test_predictions.groupby(\"label\", \"prediction\").count().toPandas()\novr_val_confusion_matrix = ovr_val_predictions.groupby(\"label\", \"prediction\").count().toPandas()\nrf_test_confusion_matrix = rf_test_predictions.groupby(\"label\", \"prediction\").count().toPandas()\nrf_val_confusion_matrix = rf_val_predictions.groupby(\"label\", \"prediction\").count().toPandas()",
                    "displayName": "toPandas at /tmp/ipykernel_8122/469864594.py:6",
                    "jobGroup": "78",
                    "jobId": 483,
                    "killedTasksSummary": {},
                    "name": "toPandas at /tmp/ipykernel_8122/469864594.py:6",
                    "numActiveStages": 0,
                    "numActiveTasks": 0,
                    "numCompletedIndices": 8,
                    "numCompletedStages": 1,
                    "numCompletedTasks": 8,
                    "numFailedStages": 0,
                    "numFailedTasks": 0,
                    "numKilledTasks": 0,
                    "numSkippedStages": 0,
                    "numSkippedTasks": 0,
                    "numTasks": 8,
                    "rowCount": 0,
                    "stageIds": [
                      939
                    ],
                    "status": "SUCCEEDED",
                    "submissionTime": "2023-11-24T22:09:28.915GMT",
                    "usageDescription": ""
                  },
                  {
                    "completionTime": "2023-11-24T22:09:28.740GMT",
                    "dataRead": 0,
                    "dataWritten": 0,
                    "description": "Job group for statement 78:\nlr_test_confusion_matrix = lr_test_predictions.groupby(\"label\", \"prediction\").count().toPandas()\nlr_val_confusion_matrix = lr_val_predictions.groupby(\"label\", \"prediction\").count().toPandas()\novr_test_confusion_matrix = ovr_test_predictions.groupby(\"label\", \"prediction\").count().toPandas()\novr_val_confusion_matrix = ovr_val_predictions.groupby(\"label\", \"prediction\").count().toPandas()\nrf_test_confusion_matrix = rf_test_predictions.groupby(\"label\", \"prediction\").count().toPandas()\nrf_val_confusion_matrix = rf_val_predictions.groupby(\"label\", \"prediction\").count().toPandas()",
                    "displayName": "toPandas at /tmp/ipykernel_8122/469864594.py:5",
                    "jobGroup": "78",
                    "jobId": 482,
                    "killedTasksSummary": {},
                    "name": "toPandas at /tmp/ipykernel_8122/469864594.py:5",
                    "numActiveStages": 0,
                    "numActiveTasks": 0,
                    "numCompletedIndices": 1,
                    "numCompletedStages": 1,
                    "numCompletedTasks": 1,
                    "numFailedStages": 0,
                    "numFailedTasks": 0,
                    "numKilledTasks": 0,
                    "numSkippedStages": 1,
                    "numSkippedTasks": 8,
                    "numTasks": 9,
                    "rowCount": 0,
                    "stageIds": [
                      938,
                      937
                    ],
                    "status": "SUCCEEDED",
                    "submissionTime": "2023-11-24T22:09:28.377GMT",
                    "usageDescription": ""
                  },
                  {
                    "completionTime": "2023-11-24T22:09:28.252GMT",
                    "dataRead": 0,
                    "dataWritten": 0,
                    "description": "Job group for statement 78:\nlr_test_confusion_matrix = lr_test_predictions.groupby(\"label\", \"prediction\").count().toPandas()\nlr_val_confusion_matrix = lr_val_predictions.groupby(\"label\", \"prediction\").count().toPandas()\novr_test_confusion_matrix = ovr_test_predictions.groupby(\"label\", \"prediction\").count().toPandas()\novr_val_confusion_matrix = ovr_val_predictions.groupby(\"label\", \"prediction\").count().toPandas()\nrf_test_confusion_matrix = rf_test_predictions.groupby(\"label\", \"prediction\").count().toPandas()\nrf_val_confusion_matrix = rf_val_predictions.groupby(\"label\", \"prediction\").count().toPandas()",
                    "displayName": "toPandas at /tmp/ipykernel_8122/469864594.py:5",
                    "jobGroup": "78",
                    "jobId": 481,
                    "killedTasksSummary": {},
                    "name": "toPandas at /tmp/ipykernel_8122/469864594.py:5",
                    "numActiveStages": 0,
                    "numActiveTasks": 0,
                    "numCompletedIndices": 8,
                    "numCompletedStages": 1,
                    "numCompletedTasks": 8,
                    "numFailedStages": 0,
                    "numFailedTasks": 0,
                    "numKilledTasks": 0,
                    "numSkippedStages": 0,
                    "numSkippedTasks": 0,
                    "numTasks": 8,
                    "rowCount": 0,
                    "stageIds": [
                      936
                    ],
                    "status": "SUCCEEDED",
                    "submissionTime": "2023-11-24T22:09:25.929GMT",
                    "usageDescription": ""
                  },
                  {
                    "completionTime": "2023-11-24T22:09:25.743GMT",
                    "dataRead": 0,
                    "dataWritten": 0,
                    "description": "Job group for statement 78:\nlr_test_confusion_matrix = lr_test_predictions.groupby(\"label\", \"prediction\").count().toPandas()\nlr_val_confusion_matrix = lr_val_predictions.groupby(\"label\", \"prediction\").count().toPandas()\novr_test_confusion_matrix = ovr_test_predictions.groupby(\"label\", \"prediction\").count().toPandas()\novr_val_confusion_matrix = ovr_val_predictions.groupby(\"label\", \"prediction\").count().toPandas()\nrf_test_confusion_matrix = rf_test_predictions.groupby(\"label\", \"prediction\").count().toPandas()\nrf_val_confusion_matrix = rf_val_predictions.groupby(\"label\", \"prediction\").count().toPandas()",
                    "displayName": "toPandas at /tmp/ipykernel_8122/469864594.py:4",
                    "jobGroup": "78",
                    "jobId": 480,
                    "killedTasksSummary": {},
                    "name": "toPandas at /tmp/ipykernel_8122/469864594.py:4",
                    "numActiveStages": 0,
                    "numActiveTasks": 0,
                    "numCompletedIndices": 1,
                    "numCompletedStages": 1,
                    "numCompletedTasks": 1,
                    "numFailedStages": 0,
                    "numFailedTasks": 0,
                    "numKilledTasks": 0,
                    "numSkippedStages": 1,
                    "numSkippedTasks": 8,
                    "numTasks": 9,
                    "rowCount": 0,
                    "stageIds": [
                      934,
                      935
                    ],
                    "status": "SUCCEEDED",
                    "submissionTime": "2023-11-24T22:09:25.174GMT",
                    "usageDescription": ""
                  },
                  {
                    "completionTime": "2023-11-24T22:09:24.997GMT",
                    "dataRead": 0,
                    "dataWritten": 0,
                    "description": "Job group for statement 78:\nlr_test_confusion_matrix = lr_test_predictions.groupby(\"label\", \"prediction\").count().toPandas()\nlr_val_confusion_matrix = lr_val_predictions.groupby(\"label\", \"prediction\").count().toPandas()\novr_test_confusion_matrix = ovr_test_predictions.groupby(\"label\", \"prediction\").count().toPandas()\novr_val_confusion_matrix = ovr_val_predictions.groupby(\"label\", \"prediction\").count().toPandas()\nrf_test_confusion_matrix = rf_test_predictions.groupby(\"label\", \"prediction\").count().toPandas()\nrf_val_confusion_matrix = rf_val_predictions.groupby(\"label\", \"prediction\").count().toPandas()",
                    "displayName": "toPandas at /tmp/ipykernel_8122/469864594.py:4",
                    "jobGroup": "78",
                    "jobId": 479,
                    "killedTasksSummary": {},
                    "name": "toPandas at /tmp/ipykernel_8122/469864594.py:4",
                    "numActiveStages": 0,
                    "numActiveTasks": 0,
                    "numCompletedIndices": 8,
                    "numCompletedStages": 1,
                    "numCompletedTasks": 8,
                    "numFailedStages": 0,
                    "numFailedTasks": 0,
                    "numKilledTasks": 0,
                    "numSkippedStages": 0,
                    "numSkippedTasks": 0,
                    "numTasks": 8,
                    "rowCount": 0,
                    "stageIds": [
                      933
                    ],
                    "status": "SUCCEEDED",
                    "submissionTime": "2023-11-24T22:09:20.962GMT",
                    "usageDescription": ""
                  },
                  {
                    "completionTime": "2023-11-24T22:09:18.564GMT",
                    "dataRead": 0,
                    "dataWritten": 0,
                    "description": "Job group for statement 78:\nlr_test_confusion_matrix = lr_test_predictions.groupby(\"label\", \"prediction\").count().toPandas()\nlr_val_confusion_matrix = lr_val_predictions.groupby(\"label\", \"prediction\").count().toPandas()\novr_test_confusion_matrix = ovr_test_predictions.groupby(\"label\", \"prediction\").count().toPandas()\novr_val_confusion_matrix = ovr_val_predictions.groupby(\"label\", \"prediction\").count().toPandas()\nrf_test_confusion_matrix = rf_test_predictions.groupby(\"label\", \"prediction\").count().toPandas()\nrf_val_confusion_matrix = rf_val_predictions.groupby(\"label\", \"prediction\").count().toPandas()",
                    "displayName": "toPandas at /tmp/ipykernel_8122/469864594.py:3",
                    "jobGroup": "78",
                    "jobId": 478,
                    "killedTasksSummary": {},
                    "name": "toPandas at /tmp/ipykernel_8122/469864594.py:3",
                    "numActiveStages": 0,
                    "numActiveTasks": 0,
                    "numCompletedIndices": 1,
                    "numCompletedStages": 1,
                    "numCompletedTasks": 1,
                    "numFailedStages": 0,
                    "numFailedTasks": 0,
                    "numKilledTasks": 0,
                    "numSkippedStages": 1,
                    "numSkippedTasks": 8,
                    "numTasks": 9,
                    "rowCount": 0,
                    "stageIds": [
                      931,
                      932
                    ],
                    "status": "SUCCEEDED",
                    "submissionTime": "2023-11-24T22:09:17.976GMT",
                    "usageDescription": ""
                  },
                  {
                    "completionTime": "2023-11-24T22:09:17.764GMT",
                    "dataRead": 0,
                    "dataWritten": 0,
                    "description": "Job group for statement 78:\nlr_test_confusion_matrix = lr_test_predictions.groupby(\"label\", \"prediction\").count().toPandas()\nlr_val_confusion_matrix = lr_val_predictions.groupby(\"label\", \"prediction\").count().toPandas()\novr_test_confusion_matrix = ovr_test_predictions.groupby(\"label\", \"prediction\").count().toPandas()\novr_val_confusion_matrix = ovr_val_predictions.groupby(\"label\", \"prediction\").count().toPandas()\nrf_test_confusion_matrix = rf_test_predictions.groupby(\"label\", \"prediction\").count().toPandas()\nrf_val_confusion_matrix = rf_val_predictions.groupby(\"label\", \"prediction\").count().toPandas()",
                    "displayName": "toPandas at /tmp/ipykernel_8122/469864594.py:3",
                    "jobGroup": "78",
                    "jobId": 477,
                    "killedTasksSummary": {},
                    "name": "toPandas at /tmp/ipykernel_8122/469864594.py:3",
                    "numActiveStages": 0,
                    "numActiveTasks": 0,
                    "numCompletedIndices": 8,
                    "numCompletedStages": 1,
                    "numCompletedTasks": 8,
                    "numFailedStages": 0,
                    "numFailedTasks": 0,
                    "numKilledTasks": 0,
                    "numSkippedStages": 0,
                    "numSkippedTasks": 0,
                    "numTasks": 8,
                    "rowCount": 0,
                    "stageIds": [
                      930
                    ],
                    "status": "SUCCEEDED",
                    "submissionTime": "2023-11-24T22:09:06.832GMT",
                    "usageDescription": ""
                  },
                  {
                    "completionTime": "2023-11-24T22:09:04.359GMT",
                    "dataRead": 0,
                    "dataWritten": 0,
                    "description": "Job group for statement 78:\nlr_test_confusion_matrix = lr_test_predictions.groupby(\"label\", \"prediction\").count().toPandas()\nlr_val_confusion_matrix = lr_val_predictions.groupby(\"label\", \"prediction\").count().toPandas()\novr_test_confusion_matrix = ovr_test_predictions.groupby(\"label\", \"prediction\").count().toPandas()\novr_val_confusion_matrix = ovr_val_predictions.groupby(\"label\", \"prediction\").count().toPandas()\nrf_test_confusion_matrix = rf_test_predictions.groupby(\"label\", \"prediction\").count().toPandas()\nrf_val_confusion_matrix = rf_val_predictions.groupby(\"label\", \"prediction\").count().toPandas()",
                    "displayName": "toPandas at /tmp/ipykernel_8122/469864594.py:2",
                    "jobGroup": "78",
                    "jobId": 476,
                    "killedTasksSummary": {},
                    "name": "toPandas at /tmp/ipykernel_8122/469864594.py:2",
                    "numActiveStages": 0,
                    "numActiveTasks": 0,
                    "numCompletedIndices": 1,
                    "numCompletedStages": 1,
                    "numCompletedTasks": 1,
                    "numFailedStages": 0,
                    "numFailedTasks": 0,
                    "numKilledTasks": 0,
                    "numSkippedStages": 1,
                    "numSkippedTasks": 8,
                    "numTasks": 9,
                    "rowCount": 0,
                    "stageIds": [
                      928,
                      929
                    ],
                    "status": "SUCCEEDED",
                    "submissionTime": "2023-11-24T22:09:03.722GMT",
                    "usageDescription": ""
                  },
                  {
                    "completionTime": "2023-11-24T22:09:03.560GMT",
                    "dataRead": 0,
                    "dataWritten": 0,
                    "description": "Job group for statement 78:\nlr_test_confusion_matrix = lr_test_predictions.groupby(\"label\", \"prediction\").count().toPandas()\nlr_val_confusion_matrix = lr_val_predictions.groupby(\"label\", \"prediction\").count().toPandas()\novr_test_confusion_matrix = ovr_test_predictions.groupby(\"label\", \"prediction\").count().toPandas()\novr_val_confusion_matrix = ovr_val_predictions.groupby(\"label\", \"prediction\").count().toPandas()\nrf_test_confusion_matrix = rf_test_predictions.groupby(\"label\", \"prediction\").count().toPandas()\nrf_val_confusion_matrix = rf_val_predictions.groupby(\"label\", \"prediction\").count().toPandas()",
                    "displayName": "toPandas at /tmp/ipykernel_8122/469864594.py:2",
                    "jobGroup": "78",
                    "jobId": 475,
                    "killedTasksSummary": {},
                    "name": "toPandas at /tmp/ipykernel_8122/469864594.py:2",
                    "numActiveStages": 0,
                    "numActiveTasks": 0,
                    "numCompletedIndices": 8,
                    "numCompletedStages": 1,
                    "numCompletedTasks": 8,
                    "numFailedStages": 0,
                    "numFailedTasks": 0,
                    "numKilledTasks": 0,
                    "numSkippedStages": 0,
                    "numSkippedTasks": 0,
                    "numTasks": 8,
                    "rowCount": 0,
                    "stageIds": [
                      927
                    ],
                    "status": "SUCCEEDED",
                    "submissionTime": "2023-11-24T22:09:00.433GMT",
                    "usageDescription": ""
                  },
                  {
                    "completionTime": "2023-11-24T22:08:59.964GMT",
                    "dataRead": 0,
                    "dataWritten": 0,
                    "description": "Job group for statement 78:\nlr_test_confusion_matrix = lr_test_predictions.groupby(\"label\", \"prediction\").count().toPandas()\nlr_val_confusion_matrix = lr_val_predictions.groupby(\"label\", \"prediction\").count().toPandas()\novr_test_confusion_matrix = ovr_test_predictions.groupby(\"label\", \"prediction\").count().toPandas()\novr_val_confusion_matrix = ovr_val_predictions.groupby(\"label\", \"prediction\").count().toPandas()\nrf_test_confusion_matrix = rf_test_predictions.groupby(\"label\", \"prediction\").count().toPandas()\nrf_val_confusion_matrix = rf_val_predictions.groupby(\"label\", \"prediction\").count().toPandas()",
                    "displayName": "toPandas at /tmp/ipykernel_8122/469864594.py:1",
                    "jobGroup": "78",
                    "jobId": 474,
                    "killedTasksSummary": {},
                    "name": "toPandas at /tmp/ipykernel_8122/469864594.py:1",
                    "numActiveStages": 0,
                    "numActiveTasks": 0,
                    "numCompletedIndices": 1,
                    "numCompletedStages": 1,
                    "numCompletedTasks": 1,
                    "numFailedStages": 0,
                    "numFailedTasks": 0,
                    "numKilledTasks": 0,
                    "numSkippedStages": 1,
                    "numSkippedTasks": 8,
                    "numTasks": 9,
                    "rowCount": 0,
                    "stageIds": [
                      925,
                      926
                    ],
                    "status": "SUCCEEDED",
                    "submissionTime": "2023-11-24T22:08:59.210GMT",
                    "usageDescription": ""
                  },
                  {
                    "completionTime": "2023-11-24T22:08:58.945GMT",
                    "dataRead": 0,
                    "dataWritten": 0,
                    "description": "Job group for statement 78:\nlr_test_confusion_matrix = lr_test_predictions.groupby(\"label\", \"prediction\").count().toPandas()\nlr_val_confusion_matrix = lr_val_predictions.groupby(\"label\", \"prediction\").count().toPandas()\novr_test_confusion_matrix = ovr_test_predictions.groupby(\"label\", \"prediction\").count().toPandas()\novr_val_confusion_matrix = ovr_val_predictions.groupby(\"label\", \"prediction\").count().toPandas()\nrf_test_confusion_matrix = rf_test_predictions.groupby(\"label\", \"prediction\").count().toPandas()\nrf_val_confusion_matrix = rf_val_predictions.groupby(\"label\", \"prediction\").count().toPandas()",
                    "displayName": "toPandas at /tmp/ipykernel_8122/469864594.py:1",
                    "jobGroup": "78",
                    "jobId": 473,
                    "killedTasksSummary": {},
                    "name": "toPandas at /tmp/ipykernel_8122/469864594.py:1",
                    "numActiveStages": 0,
                    "numActiveTasks": 0,
                    "numCompletedIndices": 8,
                    "numCompletedStages": 1,
                    "numCompletedTasks": 8,
                    "numFailedStages": 0,
                    "numFailedTasks": 0,
                    "numKilledTasks": 0,
                    "numSkippedStages": 0,
                    "numSkippedTasks": 0,
                    "numTasks": 8,
                    "rowCount": 0,
                    "stageIds": [
                      924
                    ],
                    "status": "SUCCEEDED",
                    "submissionTime": "2023-11-24T22:08:55.227GMT",
                    "usageDescription": ""
                  }
                ],
                "limit": 20,
                "numbers": {
                  "FAILED": 0,
                  "RUNNING": 0,
                  "SUCCEEDED": 12,
                  "UNKNOWN": 0
                },
                "rule": "ALL_DESC"
              },
              "spark_pool": "80dcc4b2-bc50-4e81-91e5-397b7f13252e",
              "state": "finished",
              "statement_id": 78
            },
            "text/plain": [
              "StatementMeta(80dcc4b2-bc50-4e81-91e5-397b7f13252e, 24, 78, Finished, Available)"
            ]
          },
          "metadata": {},
          "output_type": "display_data"
        }
      ],
      "source": [
        "lr_test_confusion_matrix = lr_test_predictions.groupby(\"label\", \"prediction\").count().toPandas()\n",
        "lr_val_confusion_matrix = lr_val_predictions.groupby(\"label\", \"prediction\").count().toPandas()\n",
        "ovr_test_confusion_matrix = ovr_test_predictions.groupby(\"label\", \"prediction\").count().toPandas()\n",
        "ovr_val_confusion_matrix = ovr_val_predictions.groupby(\"label\", \"prediction\").count().toPandas()\n",
        "rf_test_confusion_matrix = rf_test_predictions.groupby(\"label\", \"prediction\").count().toPandas()\n",
        "rf_val_confusion_matrix = rf_val_predictions.groupby(\"label\", \"prediction\").count().toPandas()"
      ]
    },
    {
      "cell_type": "code",
      "execution_count": 75,
      "metadata": {
        "gather": {
          "logged": 1700863941645
        },
        "jupyter": {
          "outputs_hidden": false,
          "source_hidden": false
        },
        "nteract": {
          "transient": {
            "deleting": false
          }
        }
      },
      "outputs": [
        {
          "data": {
            "application/vnd.livy.statement-meta+json": {
              "execution_finish_time": "2023-11-24T22:12:21.4524257Z",
              "execution_start_time": "2023-11-24T22:12:18.2188812Z",
              "livy_statement_state": "available",
              "parent_msg_id": "4de38442-0747-4625-83bb-81df0c5ae261",
              "queued_time": "2023-11-24T22:12:18.0895782Z",
              "session_id": "24",
              "session_start_time": null,
              "spark_jobs": {
                "jobs": [],
                "limit": 20,
                "numbers": {
                  "FAILED": 0,
                  "RUNNING": 0,
                  "SUCCEEDED": 0,
                  "UNKNOWN": 0
                },
                "rule": "ALL_DESC"
              },
              "spark_pool": "80dcc4b2-bc50-4e81-91e5-397b7f13252e",
              "state": "finished",
              "statement_id": 80
            },
            "text/plain": [
              "StatementMeta(80dcc4b2-bc50-4e81-91e5-397b7f13252e, 24, 80, Finished, Available)"
            ]
          },
          "metadata": {},
          "output_type": "display_data"
        }
      ],
      "source": [
        "# write the confusion matrices to csv\n",
        "lr_test_confusion_matrix.to_csv('Users/xl659/fall-2023-reddit-project-team-10/data/csv/lr_test_confusion_matrix.csv')\n",
        "lr_val_confusion_matrix.to_csv('Users/xl659/fall-2023-reddit-project-team-10/data/csv/lr_val_confusion_matrix.csv')\n",
        "ovr_test_confusion_matrix.to_csv('Users/xl659/fall-2023-reddit-project-team-10/data/csv/ovr_test_confusion_matrix.csv')\n",
        "ovr_val_confusion_matrix.to_csv('Users/xl659/fall-2023-reddit-project-team-10/data/csv/ovr_val_confusion_matrix.csv')\n",
        "rf_test_confusion_matrix.to_csv('Users/xl659/fall-2023-reddit-project-team-10/data/csv/rf_test_confusion_matrix.csv')\n",
        "rf_val_confusion_matrix.to_csv('Users/xl659/fall-2023-reddit-project-team-10/data/csv/rf_val_confusion_matrix.csv')\n"
      ]
    },
    {
      "cell_type": "code",
      "execution_count": 63,
      "metadata": {
        "gather": {
          "logged": 1700862882431
        },
        "jupyter": {
          "outputs_hidden": false,
          "source_hidden": false
        },
        "nteract": {
          "transient": {
            "deleting": false
          }
        }
      },
      "outputs": [
        {
          "data": {
            "application/vnd.livy.statement-meta+json": {
              "execution_finish_time": "2023-11-24T21:54:42.3286333Z",
              "execution_start_time": "2023-11-24T21:54:42.0170265Z",
              "livy_statement_state": "available",
              "parent_msg_id": "7070f4b2-7212-4c68-9eec-60f6c69e3071",
              "queued_time": "2023-11-24T21:53:51.3666984Z",
              "session_id": "24",
              "session_start_time": null,
              "spark_jobs": {
                "jobs": [],
                "limit": 20,
                "numbers": {
                  "FAILED": 0,
                  "RUNNING": 0,
                  "SUCCEEDED": 0,
                  "UNKNOWN": 0
                },
                "rule": "ALL_DESC"
              },
              "spark_pool": "80dcc4b2-bc50-4e81-91e5-397b7f13252e",
              "state": "finished",
              "statement_id": 68
            },
            "text/plain": [
              "StatementMeta(80dcc4b2-bc50-4e81-91e5-397b7f13252e, 24, 68, Finished, Available)"
            ]
          },
          "metadata": {},
          "output_type": "display_data"
        }
      ],
      "source": [
        "# Store the Results in a DataFrame\n",
        "# Step 8: Store the Results in a DataFrame\n",
        "results = spark.createDataFrame([\n",
        "    Row(model=\"Logistic Regression\", dataset=\"Test\", accuracy=lr_test_accuracy, f1_score=lr_test_f1_score, precision=lr_test_precision, recall=lr_test_recall),\n",
        "    Row(model=\"Logistic Regression\", dataset=\"Validation\", accuracy=lr_val_accuracy, f1_score=lr_val_f1_score, precision=lr_val_precision, recall=lr_val_recall),\n",
        "    Row(model=\"SVM\", dataset=\"Test\", accuracy=ovr_test_accuracy, f1_score=ovr_test_f1_score, precision=ovr_test_precision, recall=ovr_test_recall),\n",
        "    Row(model=\"SVM\", dataset=\"Validation\", accuracy=ovr_val_accuracy, f1_score=ovr_val_f1_score, precision=ovr_val_precision, recall=ovr_val_recall),\n",
        "    Row(model=\"Random Forest\", dataset=\"Test\",accuracy= rf_test_accuracy, f1_score=rf_test_f1_score, precision=rf_test_precision, recall=rf_test_recall),\n",
        "    Row(model=\"Random Forest\", dataset=\"Validation\", accuracy=rf_val_accuracy, f1_score=rf_val_f1_score, precision=rf_val_precision, recall=rf_val_recall),\n",
        "])"
      ]
    },
    {
      "cell_type": "code",
      "execution_count": 65,
      "metadata": {
        "gather": {
          "logged": 1700862943387
        },
        "jupyter": {
          "outputs_hidden": false,
          "source_hidden": false
        },
        "nteract": {
          "transient": {
            "deleting": false
          }
        }
      },
      "outputs": [
        {
          "data": {
            "application/vnd.livy.statement-meta+json": {
              "execution_finish_time": "2023-11-24T21:55:43.2590372Z",
              "execution_start_time": "2023-11-24T21:55:40.803734Z",
              "livy_statement_state": "available",
              "parent_msg_id": "6a3e443c-1395-4acb-96b1-6206cc3f171b",
              "queued_time": "2023-11-24T21:55:40.6863739Z",
              "session_id": "24",
              "session_start_time": null,
              "spark_jobs": {
                "jobs": [
                  {
                    "completionTime": "2023-11-24T21:55:42.242GMT",
                    "dataRead": 0,
                    "dataWritten": 0,
                    "description": "Job group for statement 70:\nresults.show()",
                    "displayName": "showString at NativeMethodAccessorImpl.java:0",
                    "jobGroup": "70",
                    "jobId": 471,
                    "killedTasksSummary": {},
                    "name": "showString at NativeMethodAccessorImpl.java:0",
                    "numActiveStages": 0,
                    "numActiveTasks": 0,
                    "numCompletedIndices": 3,
                    "numCompletedStages": 1,
                    "numCompletedTasks": 3,
                    "numFailedStages": 0,
                    "numFailedTasks": 0,
                    "numKilledTasks": 0,
                    "numSkippedStages": 0,
                    "numSkippedTasks": 0,
                    "numTasks": 3,
                    "rowCount": 0,
                    "stageIds": [
                      922
                    ],
                    "status": "SUCCEEDED",
                    "submissionTime": "2023-11-24T21:55:42.221GMT",
                    "usageDescription": ""
                  },
                  {
                    "completionTime": "2023-11-24T21:55:42.212GMT",
                    "dataRead": 0,
                    "dataWritten": 0,
                    "description": "Job group for statement 70:\nresults.show()",
                    "displayName": "showString at NativeMethodAccessorImpl.java:0",
                    "jobGroup": "70",
                    "jobId": 470,
                    "killedTasksSummary": {},
                    "name": "showString at NativeMethodAccessorImpl.java:0",
                    "numActiveStages": 0,
                    "numActiveTasks": 0,
                    "numCompletedIndices": 4,
                    "numCompletedStages": 1,
                    "numCompletedTasks": 4,
                    "numFailedStages": 0,
                    "numFailedTasks": 0,
                    "numKilledTasks": 0,
                    "numSkippedStages": 0,
                    "numSkippedTasks": 0,
                    "numTasks": 4,
                    "rowCount": 0,
                    "stageIds": [
                      921
                    ],
                    "status": "SUCCEEDED",
                    "submissionTime": "2023-11-24T21:55:41.383GMT",
                    "usageDescription": ""
                  },
                  {
                    "completionTime": "2023-11-24T21:55:41.369GMT",
                    "dataRead": 0,
                    "dataWritten": 0,
                    "description": "Job group for statement 70:\nresults.show()",
                    "displayName": "showString at NativeMethodAccessorImpl.java:0",
                    "jobGroup": "70",
                    "jobId": 469,
                    "killedTasksSummary": {},
                    "name": "showString at NativeMethodAccessorImpl.java:0",
                    "numActiveStages": 0,
                    "numActiveTasks": 0,
                    "numCompletedIndices": 1,
                    "numCompletedStages": 1,
                    "numCompletedTasks": 1,
                    "numFailedStages": 0,
                    "numFailedTasks": 0,
                    "numKilledTasks": 0,
                    "numSkippedStages": 0,
                    "numSkippedTasks": 0,
                    "numTasks": 1,
                    "rowCount": 0,
                    "stageIds": [
                      920
                    ],
                    "status": "SUCCEEDED",
                    "submissionTime": "2023-11-24T21:55:40.836GMT",
                    "usageDescription": ""
                  }
                ],
                "limit": 20,
                "numbers": {
                  "FAILED": 0,
                  "RUNNING": 0,
                  "SUCCEEDED": 3,
                  "UNKNOWN": 0
                },
                "rule": "ALL_DESC"
              },
              "spark_pool": "80dcc4b2-bc50-4e81-91e5-397b7f13252e",
              "state": "finished",
              "statement_id": 70
            },
            "text/plain": [
              "StatementMeta(80dcc4b2-bc50-4e81-91e5-397b7f13252e, 24, 70, Finished, Available)"
            ]
          },
          "metadata": {},
          "output_type": "display_data"
        },
        {
          "name": "stdout",
          "output_type": "stream",
          "text": [
            "+-------------------+----------+-------------------+-------------------+-------------------+-------------------+\n",
            "|              model|   dataset|           accuracy|           f1_score|          precision|             recall|\n",
            "+-------------------+----------+-------------------+-------------------+-------------------+-------------------+\n",
            "|Logistic Regression|      Test| 0.3742478941034898|0.33422349053900147|0.35817681862449735| 0.3742478941034898|\n",
            "|Logistic Regression|Validation| 0.3695150115473441|0.32770042051167386| 0.3349027738326067| 0.3695150115473441|\n",
            "|                SVM|      Test|0.36341756919374246| 0.3657907123873978|0.37745118243043746| 0.3634175691937424|\n",
            "|                SVM|Validation|  0.384526558891455|0.38580619405067584| 0.3900061142186233| 0.3845265588914549|\n",
            "|      Random Forest|      Test|0.24067388688327315|0.12061611047768003|0.22101819882255436|0.24067388688327315|\n",
            "|      Random Forest|Validation|0.22632794457274827|0.10416525729664226|0.19741022864336344|0.22632794457274827|\n",
            "+-------------------+----------+-------------------+-------------------+-------------------+-------------------+\n",
            "\n"
          ]
        }
      ],
      "source": [
        "results.show()"
      ]
    },
    {
      "cell_type": "code",
      "execution_count": 66,
      "metadata": {
        "gather": {
          "logged": 1700863070003
        },
        "jupyter": {
          "outputs_hidden": false,
          "source_hidden": false
        },
        "nteract": {
          "transient": {
            "deleting": false
          }
        }
      },
      "outputs": [
        {
          "data": {
            "application/vnd.livy.statement-meta+json": {
              "execution_finish_time": "2023-11-24T21:57:49.831229Z",
              "execution_start_time": "2023-11-24T21:57:48.1693503Z",
              "livy_statement_state": "available",
              "parent_msg_id": "59b67eb9-310c-44cb-9f1e-8c0947813fdc",
              "queued_time": "2023-11-24T21:57:48.0395519Z",
              "session_id": "24",
              "session_start_time": null,
              "spark_jobs": {
                "jobs": [
                  {
                    "completionTime": "2023-11-24T21:57:48.530GMT",
                    "dataRead": 0,
                    "dataWritten": 0,
                    "description": "Job group for statement 71:\nresults_df = results.toPandas()",
                    "displayName": "toPandas at /tmp/ipykernel_8122/804964199.py:1",
                    "jobGroup": "71",
                    "jobId": 472,
                    "killedTasksSummary": {},
                    "name": "toPandas at /tmp/ipykernel_8122/804964199.py:1",
                    "numActiveStages": 0,
                    "numActiveTasks": 0,
                    "numCompletedIndices": 8,
                    "numCompletedStages": 1,
                    "numCompletedTasks": 8,
                    "numFailedStages": 0,
                    "numFailedTasks": 0,
                    "numKilledTasks": 0,
                    "numSkippedStages": 0,
                    "numSkippedTasks": 0,
                    "numTasks": 8,
                    "rowCount": 0,
                    "stageIds": [
                      923
                    ],
                    "status": "SUCCEEDED",
                    "submissionTime": "2023-11-24T21:57:48.388GMT",
                    "usageDescription": ""
                  }
                ],
                "limit": 20,
                "numbers": {
                  "FAILED": 0,
                  "RUNNING": 0,
                  "SUCCEEDED": 1,
                  "UNKNOWN": 0
                },
                "rule": "ALL_DESC"
              },
              "spark_pool": "80dcc4b2-bc50-4e81-91e5-397b7f13252e",
              "state": "finished",
              "statement_id": 71
            },
            "text/plain": [
              "StatementMeta(80dcc4b2-bc50-4e81-91e5-397b7f13252e, 24, 71, Finished, Available)"
            ]
          },
          "metadata": {},
          "output_type": "display_data"
        }
      ],
      "source": [
        "# save the results\n",
        "results_df = results.toPandas()"
      ]
    },
    {
      "cell_type": "code",
      "execution_count": 67,
      "metadata": {
        "gather": {
          "logged": 1700863121601
        },
        "jupyter": {
          "outputs_hidden": false,
          "source_hidden": false
        },
        "nteract": {
          "transient": {
            "deleting": false
          }
        }
      },
      "outputs": [
        {
          "data": {
            "application/vnd.livy.statement-meta+json": {
              "execution_finish_time": "2023-11-24T21:58:41.4647808Z",
              "execution_start_time": "2023-11-24T21:58:40.6382707Z",
              "livy_statement_state": "available",
              "parent_msg_id": "031e0ba0-7759-410a-82eb-69ca988e3a61",
              "queued_time": "2023-11-24T21:58:40.5255703Z",
              "session_id": "24",
              "session_start_time": null,
              "spark_jobs": {
                "jobs": [],
                "limit": 20,
                "numbers": {
                  "FAILED": 0,
                  "RUNNING": 0,
                  "SUCCEEDED": 0,
                  "UNKNOWN": 0
                },
                "rule": "ALL_DESC"
              },
              "spark_pool": "80dcc4b2-bc50-4e81-91e5-397b7f13252e",
              "state": "finished",
              "statement_id": 72
            },
            "text/plain": [
              "StatementMeta(80dcc4b2-bc50-4e81-91e5-397b7f13252e, 24, 72, Finished, Available)"
            ]
          },
          "metadata": {},
          "output_type": "display_data"
        }
      ],
      "source": [
        "results_df.to_csv(\"Users/xl659/fall-2023-reddit-project-team-10/data/csv/ML_predict_results.csv\")"
      ]
    },
    {
      "cell_type": "markdown",
      "metadata": {},
      "source": [
        "### Test confusion matrix to get a heatmap"
      ]
    },
    {
      "cell_type": "code",
      "execution_count": 28,
      "metadata": {},
      "outputs": [],
      "source": [
        "import pandas as pd\n",
        "lr = pd.read_csv(\"../data/csv/lr_test_confusion_matrix.csv\",index_col=0)\n",
        "ovr = pd.read_csv(\"../data/csv/ovr_test_confusion_matrix.csv\",index_col=0)\n",
        "rf = pd.read_csv(\"../data/csv/rf_test_confusion_matrix.csv\",index_col=0)"
      ]
    },
    {
      "cell_type": "code",
      "execution_count": 22,
      "metadata": {},
      "outputs": [],
      "source": [
        "label_map = {0:'ENFJ',1:'ENFP',2:'ENTJ',3:'ENTP',4:'ESFJ',5:'ESFP',6:'ESTJ',7:'ESTP',8:'INFJ',9:'INFP',10:'INTJ',11:'INTP',12:'ISFJ',13:'ISFP',14:'ISTJ',15:'ISTP'}"
      ]
    },
    {
      "cell_type": "code",
      "execution_count": 37,
      "metadata": {},
      "outputs": [
        {
          "data": {
            "image/png": "[encoded data removed]",
            "text/plain": [
              "<Figure size 800x600 with 2 Axes>"
            ]
          },
          "metadata": {},
          "output_type": "display_data"
        }
      ],
      "source": [
        "import matplotlib.pyplot as plt\n",
        "import seaborn as sns\n",
        "confusion_matrix = pd.pivot_table(lr, values='count', index='label', columns='prediction', fill_value=0)\n",
        "color_list=['#ffffd9', '#f5fbc4', '#eaf7b1', '#d6efb3', '#bde5b5', '#97d6b9', '#73c8bd', '#52bcc2', '#37acc3', '#2498c1', '#1f80b8', '#2165ab', '#234da0', '#253795', '#172978', '#081d58']\n",
        "# Create a heatmap using seaborn\n",
        "plt.figure(figsize=(8, 6))\n",
        "heatmap = sns.heatmap(confusion_matrix, annot=True, cmap=sns.color_palette(color_list), fmt='g', cbar=True)\n",
        "plt.xlabel('Predicted Label')\n",
        "plt.ylabel('True Label')\n",
        "heatmap.set_yticklabels([label_map[label] for label in confusion_matrix.index], rotation=0)\n",
        "heatmap.set_xticklabels([label_map[label] for label in confusion_matrix.columns], rotation=0)\n",
        "plt.title('Logitstic Regression Confusion Matrix Heatmap')\n",
        "plt.savefig(\"../data/plots/LR_confusion_matrix.png\")\n",
        "plt.show()"
      ]
    },
    {
      "cell_type": "code",
      "execution_count": 38,
      "metadata": {},
      "outputs": [
        {
          "data": {
            "image/png": "[encoded data removed]",
            "text/plain": [
              "<Figure size 800x600 with 2 Axes>"
            ]
          },
          "metadata": {},
          "output_type": "display_data"
        }
      ],
      "source": [
        "import matplotlib.pyplot as plt\n",
        "import seaborn as sns\n",
        "confusion_matrix = pd.pivot_table(ovr, values='count', index='label', columns='prediction', fill_value=0)\n",
        "\n",
        "color_list=['#ffffd9', '#f5fbc4', '#eaf7b1', '#d6efb3', '#bde5b5', '#97d6b9', '#73c8bd', '#52bcc2', '#37acc3', '#2498c1', '#1f80b8', '#2165ab', '#234da0', '#253795', '#172978', '#081d58']\n",
        "# Create a heatmap using seaborn\n",
        "plt.figure(figsize=(8, 6))\n",
        "heatmap = sns.heatmap(confusion_matrix, annot=True, cmap=sns.color_palette(color_list), fmt='g', cbar=True)\n",
        "plt.xlabel('Predicted Label')\n",
        "plt.ylabel('True Label')\n",
        "heatmap.set_yticklabels([label_map[label] for label in confusion_matrix.index], rotation=0)\n",
        "heatmap.set_xticklabels([label_map[label] for label in confusion_matrix.columns], rotation=30)\n",
        "plt.title('SVM Confusion Matrix Heatmap')\n",
        "plt.savefig(\"../data/plots/SVM_confusion_matrix.png\")\n",
        "plt.show()"
      ]
    },
    {
      "cell_type": "code",
      "execution_count": 39,
      "metadata": {},
      "outputs": [
        {
          "data": {
            "image/png": "[encoded data removed]",
            "text/plain": [
              "<Figure size 800x600 with 2 Axes>"
            ]
          },
          "metadata": {},
          "output_type": "display_data"
        }
      ],
      "source": [
        "import matplotlib.pyplot as plt\n",
        "import seaborn as sns\n",
        "confusion_matrix = pd.pivot_table(rf, values='count', index='label', columns='prediction', fill_value=0)\n",
        "#deine a color list\n",
        "color_list=['#ffffd9', '#f5fbc4', '#eaf7b1', '#d6efb3', '#bde5b5', '#97d6b9', '#73c8bd', '#52bcc2', '#37acc3', '#2498c1', '#1f80b8', '#2165ab', '#234da0', '#253795', '#172978', '#081d58']\n",
        "# Create a heatmap using seaborn\n",
        "plt.figure(figsize=(8, 6))\n",
        "heatmap = sns.heatmap(confusion_matrix, annot=True, cmap=sns.color_palette(color_list), fmt='g', cbar=True)\n",
        "plt.xlabel('Predicted Label')\n",
        "plt.ylabel('True Label')\n",
        "heatmap.set_yticklabels([label_map[label] for label in confusion_matrix.index], rotation=0)\n",
        "heatmap.set_xticklabels([label_map[label] for label in confusion_matrix.columns], rotation=0)\n",
        "plt.title('Random Forest Confusion Matrix Heatmap')\n",
        "plt.savefig(\"../data/plots/RF_confusion_matrix.png\")\n",
        "plt.show()"
      ]
    }
  ],
  "metadata": {
    "kernel_info": {
      "name": "synapse_pyspark"
    },
    "kernelspec": {
      "display_name": "anly503",
      "language": "python",
      "name": "python3"
    },
    "language_info": {
      "codemirror_mode": {
        "name": "ipython",
        "version": 3
      },
      "file_extension": ".py",
      "mimetype": "text/x-python",
      "name": "python",
      "nbconvert_exporter": "python",
      "pygments_lexer": "ipython3",
      "version": "3.10.8"
    },
    "microsoft": {
      "host": {
        "AzureML": {
          "notebookHasBeenCompleted": true
        }
      },
      "ms_spell_check": {
        "ms_spell_check_language": "en"
      }
    },
    "nteract": {
      "version": "nteract-front-end@1.0.0"
    }
  },
  "nbformat": 4,
  "nbformat_minor": 2
}
